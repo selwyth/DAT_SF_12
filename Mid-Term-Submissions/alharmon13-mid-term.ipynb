{
 "cells": [
  {
   "cell_type": "markdown",
   "metadata": {},
   "source": [
    "## DAT_12_SF Midterm\n",
    "____________________--"
   ]
  },
  {
   "cell_type": "markdown",
   "metadata": {},
   "source": [
    "### About the data\n",
    "For this midterm, you'll be working with a dataset related to classifying emails as spam. The dataset was built by researchers at the UCI Machine Learning Institute\n",
    "\n",
    "Data Set Information:\n",
    "\n",
    "The \"spam\" concept is diverse: advertisements for products/web sites, make money fast schemes, chain letters, pornography... \n",
    "\n",
    "\n",
    "\n",
    "Attribute Information:\n",
    "\n",
    "The last column of 'spambase.data' denotes whether the e-mail was considered spam (1) or not (0), i.e. unsolicited commercial e-mail. Most of the attributes indicate whether a particular word or character was frequently occuring in the e-mail. The run-length attributes (55-57) measure the length of sequences of consecutive capital letters. \n",
    "\n",
    "###Definitions of the attributes: \n",
    "_______________-\n",
    "\n",
    "####48 continuous real [0,100] attributes of type word_freq_WORD \n",
    "= percentage of words in the e-mail that match WORD, i.e. 100 * (number of times the WORD appears in the e-mail) / total number of words in e-mail. A \"word\" in this case is any string of alphanumeric characters bounded by non-alphanumeric characters or end-of-string. \n",
    "\n",
    "####6 continuous real [0,100] attributes of type char_freq_CHAR] \n",
    "= percentage of characters in the e-mail that match CHAR, i.e. 100 * (number of CHAR occurences) / total characters in e-mail \n",
    "\n",
    "####1 continuous real [1,...] attribute of type capital_run_length_average \n",
    "= average length of uninterrupted sequences of capital letters \n",
    "\n",
    "####1 continuous integer [1,...] attribute of type capital_run_length_longest \n",
    "= length of longest uninterrupted sequence of capital letters \n",
    "\n",
    "####1 continuous integer [1,...] attribute of type capital_run_length_total \n",
    "= sum of length of uninterrupted sequences of capital letters \n",
    "= total number of capital letters in the e-mail \n",
    "\n",
    "####1 nominal {0,1} class attribute of type spam \n",
    "= denotes whether the e-mail was considered spam (1) or not (0), i.e. unsolicited commercial e-mail. "
   ]
  },
  {
   "cell_type": "code",
   "execution_count": 71,
   "metadata": {
    "collapsed": false
   },
   "outputs": [],
   "source": [
    "import numpy as np\n",
    "import pandas as pd\n",
    "import matplotlib.pyplot as plt\n",
    "import seaborn as sns\n",
    "pd.set_option('display.max_rows',100)\n",
    "pd.set_option('display.max_columns',60)\n",
    "from __future__ import division\n",
    "import scipy.stats as stats\n",
    "import statsmodels.formula.api as smf\n",
    "from seaborn import plt\n",
    "import matplotlib as mpl\n",
    "from numpy.random import randn"
   ]
  },
  {
   "cell_type": "code",
   "execution_count": 72,
   "metadata": {
    "collapsed": false
   },
   "outputs": [],
   "source": [
    "# Load the spambase.csv as a pandas DataFrame (last column of data contains Target Data - is_spam)\n",
    "spam_data = pd.read_csv(\"spambase.csv\")"
   ]
  },
  {
   "cell_type": "markdown",
   "metadata": {},
   "source": [
    "###Exercise 1: Explore the dataset and display some visualizations showing how the variables relate to each other\n"
   ]
  },
  {
   "cell_type": "code",
   "execution_count": 73,
   "metadata": {
    "collapsed": false
   },
   "outputs": [
    {
     "data": {
      "text/html": [
       "<div style=\"max-height:1000px;max-width:1500px;overflow:auto;\">\n",
       "<table border=\"1\" class=\"dataframe\">\n",
       "  <thead>\n",
       "    <tr style=\"text-align: right;\">\n",
       "      <th></th>\n",
       "      <th>word_freq_make</th>\n",
       "      <th>word_freq_address</th>\n",
       "      <th>word_freq_all</th>\n",
       "      <th>word_freq_3d</th>\n",
       "      <th>word_freq_our</th>\n",
       "      <th>word_freq_over</th>\n",
       "      <th>word_freq_remove</th>\n",
       "      <th>word_freq_internet</th>\n",
       "      <th>word_freq_order</th>\n",
       "      <th>word_freq_mail</th>\n",
       "      <th>word_freq_receive</th>\n",
       "      <th>word_freq_will</th>\n",
       "      <th>word_freq_people</th>\n",
       "      <th>word_freq_report</th>\n",
       "      <th>word_freq_addresses</th>\n",
       "      <th>word_freq_free</th>\n",
       "      <th>word_freq_business</th>\n",
       "      <th>word_freq_email</th>\n",
       "      <th>word_freq_you</th>\n",
       "      <th>word_freq_credit</th>\n",
       "      <th>word_freq_your</th>\n",
       "      <th>word_freq_font</th>\n",
       "      <th>word_freq_000</th>\n",
       "      <th>word_freq_money</th>\n",
       "      <th>word_freq_hp</th>\n",
       "      <th>word_freq_hpl</th>\n",
       "      <th>word_freq_george</th>\n",
       "      <th>word_freq_650</th>\n",
       "      <th>word_freq_lab</th>\n",
       "      <th>word_freq_labs</th>\n",
       "      <th>word_freq_telnet</th>\n",
       "      <th>word_freq_857</th>\n",
       "      <th>word_freq_data</th>\n",
       "      <th>word_freq_415</th>\n",
       "      <th>word_freq_85</th>\n",
       "      <th>word_freq_technology</th>\n",
       "      <th>word_freq_1999</th>\n",
       "      <th>word_freq_parts</th>\n",
       "      <th>word_freq_pm</th>\n",
       "      <th>word_freq_direct</th>\n",
       "      <th>word_freq_cs</th>\n",
       "      <th>word_freq_meeting</th>\n",
       "      <th>word_freq_original</th>\n",
       "      <th>word_freq_project</th>\n",
       "      <th>word_freq_re</th>\n",
       "      <th>word_freq_edu</th>\n",
       "      <th>word_freq_table</th>\n",
       "      <th>word_freq_conference</th>\n",
       "      <th>char_freq_;</th>\n",
       "      <th>char_freq_(</th>\n",
       "      <th>char_freq_[</th>\n",
       "      <th>char_freq_!</th>\n",
       "      <th>char_freq_$</th>\n",
       "      <th>char_freq_#</th>\n",
       "      <th>capital_run_length_average</th>\n",
       "      <th>capital_run_length_longest</th>\n",
       "      <th>capital_run_length_total</th>\n",
       "      <th>is_spam</th>\n",
       "    </tr>\n",
       "  </thead>\n",
       "  <tbody>\n",
       "    <tr>\n",
       "      <th>0</th>\n",
       "      <td> 0.00</td>\n",
       "      <td> 0.64</td>\n",
       "      <td> 0.64</td>\n",
       "      <td> 0</td>\n",
       "      <td> 0.32</td>\n",
       "      <td> 0.00</td>\n",
       "      <td> 0.00</td>\n",
       "      <td> 0.00</td>\n",
       "      <td> 0.00</td>\n",
       "      <td> 0.00</td>\n",
       "      <td> 0.00</td>\n",
       "      <td> 0.64</td>\n",
       "      <td> 0.00</td>\n",
       "      <td> 0.00</td>\n",
       "      <td> 0.00</td>\n",
       "      <td> 0.32</td>\n",
       "      <td> 0.00</td>\n",
       "      <td> 1.29</td>\n",
       "      <td> 1.93</td>\n",
       "      <td> 0.00</td>\n",
       "      <td> 0.96</td>\n",
       "      <td> 0</td>\n",
       "      <td> 0.00</td>\n",
       "      <td> 0.00</td>\n",
       "      <td> 0</td>\n",
       "      <td> 0</td>\n",
       "      <td> 0</td>\n",
       "      <td> 0</td>\n",
       "      <td> 0</td>\n",
       "      <td> 0</td>\n",
       "      <td> 0</td>\n",
       "      <td> 0</td>\n",
       "      <td> 0</td>\n",
       "      <td> 0</td>\n",
       "      <td> 0</td>\n",
       "      <td> 0</td>\n",
       "      <td> 0.00</td>\n",
       "      <td> 0</td>\n",
       "      <td> 0</td>\n",
       "      <td> 0.00</td>\n",
       "      <td> 0</td>\n",
       "      <td> 0</td>\n",
       "      <td> 0.00</td>\n",
       "      <td> 0</td>\n",
       "      <td> 0.00</td>\n",
       "      <td> 0.00</td>\n",
       "      <td> 0</td>\n",
       "      <td> 0</td>\n",
       "      <td> 0.00</td>\n",
       "      <td> 0.000</td>\n",
       "      <td> 0</td>\n",
       "      <td> 0.778</td>\n",
       "      <td> 0.000</td>\n",
       "      <td> 0.000</td>\n",
       "      <td> 3.756</td>\n",
       "      <td>  61</td>\n",
       "      <td>  278</td>\n",
       "      <td> 1</td>\n",
       "    </tr>\n",
       "    <tr>\n",
       "      <th>1</th>\n",
       "      <td> 0.21</td>\n",
       "      <td> 0.28</td>\n",
       "      <td> 0.50</td>\n",
       "      <td> 0</td>\n",
       "      <td> 0.14</td>\n",
       "      <td> 0.28</td>\n",
       "      <td> 0.21</td>\n",
       "      <td> 0.07</td>\n",
       "      <td> 0.00</td>\n",
       "      <td> 0.94</td>\n",
       "      <td> 0.21</td>\n",
       "      <td> 0.79</td>\n",
       "      <td> 0.65</td>\n",
       "      <td> 0.21</td>\n",
       "      <td> 0.14</td>\n",
       "      <td> 0.14</td>\n",
       "      <td> 0.07</td>\n",
       "      <td> 0.28</td>\n",
       "      <td> 3.47</td>\n",
       "      <td> 0.00</td>\n",
       "      <td> 1.59</td>\n",
       "      <td> 0</td>\n",
       "      <td> 0.43</td>\n",
       "      <td> 0.43</td>\n",
       "      <td> 0</td>\n",
       "      <td> 0</td>\n",
       "      <td> 0</td>\n",
       "      <td> 0</td>\n",
       "      <td> 0</td>\n",
       "      <td> 0</td>\n",
       "      <td> 0</td>\n",
       "      <td> 0</td>\n",
       "      <td> 0</td>\n",
       "      <td> 0</td>\n",
       "      <td> 0</td>\n",
       "      <td> 0</td>\n",
       "      <td> 0.07</td>\n",
       "      <td> 0</td>\n",
       "      <td> 0</td>\n",
       "      <td> 0.00</td>\n",
       "      <td> 0</td>\n",
       "      <td> 0</td>\n",
       "      <td> 0.00</td>\n",
       "      <td> 0</td>\n",
       "      <td> 0.00</td>\n",
       "      <td> 0.00</td>\n",
       "      <td> 0</td>\n",
       "      <td> 0</td>\n",
       "      <td> 0.00</td>\n",
       "      <td> 0.132</td>\n",
       "      <td> 0</td>\n",
       "      <td> 0.372</td>\n",
       "      <td> 0.180</td>\n",
       "      <td> 0.048</td>\n",
       "      <td> 5.114</td>\n",
       "      <td> 101</td>\n",
       "      <td> 1028</td>\n",
       "      <td> 1</td>\n",
       "    </tr>\n",
       "    <tr>\n",
       "      <th>2</th>\n",
       "      <td> 0.06</td>\n",
       "      <td> 0.00</td>\n",
       "      <td> 0.71</td>\n",
       "      <td> 0</td>\n",
       "      <td> 1.23</td>\n",
       "      <td> 0.19</td>\n",
       "      <td> 0.19</td>\n",
       "      <td> 0.12</td>\n",
       "      <td> 0.64</td>\n",
       "      <td> 0.25</td>\n",
       "      <td> 0.38</td>\n",
       "      <td> 0.45</td>\n",
       "      <td> 0.12</td>\n",
       "      <td> 0.00</td>\n",
       "      <td> 1.75</td>\n",
       "      <td> 0.06</td>\n",
       "      <td> 0.06</td>\n",
       "      <td> 1.03</td>\n",
       "      <td> 1.36</td>\n",
       "      <td> 0.32</td>\n",
       "      <td> 0.51</td>\n",
       "      <td> 0</td>\n",
       "      <td> 1.16</td>\n",
       "      <td> 0.06</td>\n",
       "      <td> 0</td>\n",
       "      <td> 0</td>\n",
       "      <td> 0</td>\n",
       "      <td> 0</td>\n",
       "      <td> 0</td>\n",
       "      <td> 0</td>\n",
       "      <td> 0</td>\n",
       "      <td> 0</td>\n",
       "      <td> 0</td>\n",
       "      <td> 0</td>\n",
       "      <td> 0</td>\n",
       "      <td> 0</td>\n",
       "      <td> 0.00</td>\n",
       "      <td> 0</td>\n",
       "      <td> 0</td>\n",
       "      <td> 0.06</td>\n",
       "      <td> 0</td>\n",
       "      <td> 0</td>\n",
       "      <td> 0.12</td>\n",
       "      <td> 0</td>\n",
       "      <td> 0.06</td>\n",
       "      <td> 0.06</td>\n",
       "      <td> 0</td>\n",
       "      <td> 0</td>\n",
       "      <td> 0.01</td>\n",
       "      <td> 0.143</td>\n",
       "      <td> 0</td>\n",
       "      <td> 0.276</td>\n",
       "      <td> 0.184</td>\n",
       "      <td> 0.010</td>\n",
       "      <td> 9.821</td>\n",
       "      <td> 485</td>\n",
       "      <td> 2259</td>\n",
       "      <td> 1</td>\n",
       "    </tr>\n",
       "    <tr>\n",
       "      <th>3</th>\n",
       "      <td> 0.00</td>\n",
       "      <td> 0.00</td>\n",
       "      <td> 0.00</td>\n",
       "      <td> 0</td>\n",
       "      <td> 0.63</td>\n",
       "      <td> 0.00</td>\n",
       "      <td> 0.31</td>\n",
       "      <td> 0.63</td>\n",
       "      <td> 0.31</td>\n",
       "      <td> 0.63</td>\n",
       "      <td> 0.31</td>\n",
       "      <td> 0.31</td>\n",
       "      <td> 0.31</td>\n",
       "      <td> 0.00</td>\n",
       "      <td> 0.00</td>\n",
       "      <td> 0.31</td>\n",
       "      <td> 0.00</td>\n",
       "      <td> 0.00</td>\n",
       "      <td> 3.18</td>\n",
       "      <td> 0.00</td>\n",
       "      <td> 0.31</td>\n",
       "      <td> 0</td>\n",
       "      <td> 0.00</td>\n",
       "      <td> 0.00</td>\n",
       "      <td> 0</td>\n",
       "      <td> 0</td>\n",
       "      <td> 0</td>\n",
       "      <td> 0</td>\n",
       "      <td> 0</td>\n",
       "      <td> 0</td>\n",
       "      <td> 0</td>\n",
       "      <td> 0</td>\n",
       "      <td> 0</td>\n",
       "      <td> 0</td>\n",
       "      <td> 0</td>\n",
       "      <td> 0</td>\n",
       "      <td> 0.00</td>\n",
       "      <td> 0</td>\n",
       "      <td> 0</td>\n",
       "      <td> 0.00</td>\n",
       "      <td> 0</td>\n",
       "      <td> 0</td>\n",
       "      <td> 0.00</td>\n",
       "      <td> 0</td>\n",
       "      <td> 0.00</td>\n",
       "      <td> 0.00</td>\n",
       "      <td> 0</td>\n",
       "      <td> 0</td>\n",
       "      <td> 0.00</td>\n",
       "      <td> 0.137</td>\n",
       "      <td> 0</td>\n",
       "      <td> 0.137</td>\n",
       "      <td> 0.000</td>\n",
       "      <td> 0.000</td>\n",
       "      <td> 3.537</td>\n",
       "      <td>  40</td>\n",
       "      <td>  191</td>\n",
       "      <td> 1</td>\n",
       "    </tr>\n",
       "    <tr>\n",
       "      <th>4</th>\n",
       "      <td> 0.00</td>\n",
       "      <td> 0.00</td>\n",
       "      <td> 0.00</td>\n",
       "      <td> 0</td>\n",
       "      <td> 0.63</td>\n",
       "      <td> 0.00</td>\n",
       "      <td> 0.31</td>\n",
       "      <td> 0.63</td>\n",
       "      <td> 0.31</td>\n",
       "      <td> 0.63</td>\n",
       "      <td> 0.31</td>\n",
       "      <td> 0.31</td>\n",
       "      <td> 0.31</td>\n",
       "      <td> 0.00</td>\n",
       "      <td> 0.00</td>\n",
       "      <td> 0.31</td>\n",
       "      <td> 0.00</td>\n",
       "      <td> 0.00</td>\n",
       "      <td> 3.18</td>\n",
       "      <td> 0.00</td>\n",
       "      <td> 0.31</td>\n",
       "      <td> 0</td>\n",
       "      <td> 0.00</td>\n",
       "      <td> 0.00</td>\n",
       "      <td> 0</td>\n",
       "      <td> 0</td>\n",
       "      <td> 0</td>\n",
       "      <td> 0</td>\n",
       "      <td> 0</td>\n",
       "      <td> 0</td>\n",
       "      <td> 0</td>\n",
       "      <td> 0</td>\n",
       "      <td> 0</td>\n",
       "      <td> 0</td>\n",
       "      <td> 0</td>\n",
       "      <td> 0</td>\n",
       "      <td> 0.00</td>\n",
       "      <td> 0</td>\n",
       "      <td> 0</td>\n",
       "      <td> 0.00</td>\n",
       "      <td> 0</td>\n",
       "      <td> 0</td>\n",
       "      <td> 0.00</td>\n",
       "      <td> 0</td>\n",
       "      <td> 0.00</td>\n",
       "      <td> 0.00</td>\n",
       "      <td> 0</td>\n",
       "      <td> 0</td>\n",
       "      <td> 0.00</td>\n",
       "      <td> 0.135</td>\n",
       "      <td> 0</td>\n",
       "      <td> 0.135</td>\n",
       "      <td> 0.000</td>\n",
       "      <td> 0.000</td>\n",
       "      <td> 3.537</td>\n",
       "      <td>  40</td>\n",
       "      <td>  191</td>\n",
       "      <td> 1</td>\n",
       "    </tr>\n",
       "  </tbody>\n",
       "</table>\n",
       "</div>"
      ],
      "text/plain": [
       "   word_freq_make  word_freq_address  word_freq_all  word_freq_3d  \\\n",
       "0            0.00               0.64           0.64             0   \n",
       "1            0.21               0.28           0.50             0   \n",
       "2            0.06               0.00           0.71             0   \n",
       "3            0.00               0.00           0.00             0   \n",
       "4            0.00               0.00           0.00             0   \n",
       "\n",
       "   word_freq_our  word_freq_over  word_freq_remove  word_freq_internet  \\\n",
       "0           0.32            0.00              0.00                0.00   \n",
       "1           0.14            0.28              0.21                0.07   \n",
       "2           1.23            0.19              0.19                0.12   \n",
       "3           0.63            0.00              0.31                0.63   \n",
       "4           0.63            0.00              0.31                0.63   \n",
       "\n",
       "   word_freq_order  word_freq_mail  word_freq_receive  word_freq_will  \\\n",
       "0             0.00            0.00               0.00            0.64   \n",
       "1             0.00            0.94               0.21            0.79   \n",
       "2             0.64            0.25               0.38            0.45   \n",
       "3             0.31            0.63               0.31            0.31   \n",
       "4             0.31            0.63               0.31            0.31   \n",
       "\n",
       "   word_freq_people  word_freq_report  word_freq_addresses  word_freq_free  \\\n",
       "0              0.00              0.00                 0.00            0.32   \n",
       "1              0.65              0.21                 0.14            0.14   \n",
       "2              0.12              0.00                 1.75            0.06   \n",
       "3              0.31              0.00                 0.00            0.31   \n",
       "4              0.31              0.00                 0.00            0.31   \n",
       "\n",
       "   word_freq_business  word_freq_email  word_freq_you  word_freq_credit  \\\n",
       "0                0.00             1.29           1.93              0.00   \n",
       "1                0.07             0.28           3.47              0.00   \n",
       "2                0.06             1.03           1.36              0.32   \n",
       "3                0.00             0.00           3.18              0.00   \n",
       "4                0.00             0.00           3.18              0.00   \n",
       "\n",
       "   word_freq_your  word_freq_font  word_freq_000  word_freq_money  \\\n",
       "0            0.96               0           0.00             0.00   \n",
       "1            1.59               0           0.43             0.43   \n",
       "2            0.51               0           1.16             0.06   \n",
       "3            0.31               0           0.00             0.00   \n",
       "4            0.31               0           0.00             0.00   \n",
       "\n",
       "   word_freq_hp  word_freq_hpl  word_freq_george  word_freq_650  \\\n",
       "0             0              0                 0              0   \n",
       "1             0              0                 0              0   \n",
       "2             0              0                 0              0   \n",
       "3             0              0                 0              0   \n",
       "4             0              0                 0              0   \n",
       "\n",
       "   word_freq_lab  word_freq_labs  word_freq_telnet  word_freq_857  \\\n",
       "0              0               0                 0              0   \n",
       "1              0               0                 0              0   \n",
       "2              0               0                 0              0   \n",
       "3              0               0                 0              0   \n",
       "4              0               0                 0              0   \n",
       "\n",
       "   word_freq_data  word_freq_415  word_freq_85  word_freq_technology  \\\n",
       "0               0              0             0                     0   \n",
       "1               0              0             0                     0   \n",
       "2               0              0             0                     0   \n",
       "3               0              0             0                     0   \n",
       "4               0              0             0                     0   \n",
       "\n",
       "   word_freq_1999  word_freq_parts  word_freq_pm  word_freq_direct  \\\n",
       "0            0.00                0             0              0.00   \n",
       "1            0.07                0             0              0.00   \n",
       "2            0.00                0             0              0.06   \n",
       "3            0.00                0             0              0.00   \n",
       "4            0.00                0             0              0.00   \n",
       "\n",
       "   word_freq_cs  word_freq_meeting  word_freq_original  word_freq_project  \\\n",
       "0             0                  0                0.00                  0   \n",
       "1             0                  0                0.00                  0   \n",
       "2             0                  0                0.12                  0   \n",
       "3             0                  0                0.00                  0   \n",
       "4             0                  0                0.00                  0   \n",
       "\n",
       "   word_freq_re  word_freq_edu  word_freq_table  word_freq_conference  \\\n",
       "0          0.00           0.00                0                     0   \n",
       "1          0.00           0.00                0                     0   \n",
       "2          0.06           0.06                0                     0   \n",
       "3          0.00           0.00                0                     0   \n",
       "4          0.00           0.00                0                     0   \n",
       "\n",
       "   char_freq_;  char_freq_(  char_freq_[  char_freq_!  char_freq_$  \\\n",
       "0         0.00        0.000            0        0.778        0.000   \n",
       "1         0.00        0.132            0        0.372        0.180   \n",
       "2         0.01        0.143            0        0.276        0.184   \n",
       "3         0.00        0.137            0        0.137        0.000   \n",
       "4         0.00        0.135            0        0.135        0.000   \n",
       "\n",
       "   char_freq_#  capital_run_length_average  capital_run_length_longest  \\\n",
       "0        0.000                       3.756                          61   \n",
       "1        0.048                       5.114                         101   \n",
       "2        0.010                       9.821                         485   \n",
       "3        0.000                       3.537                          40   \n",
       "4        0.000                       3.537                          40   \n",
       "\n",
       "   capital_run_length_total  is_spam  \n",
       "0                       278        1  \n",
       "1                      1028        1  \n",
       "2                      2259        1  \n",
       "3                       191        1  \n",
       "4                       191        1  "
      ]
     },
     "execution_count": 73,
     "metadata": {},
     "output_type": "execute_result"
    }
   ],
   "source": [
    "spam_data.head()"
   ]
  },
  {
   "cell_type": "code",
   "execution_count": 74,
   "metadata": {
    "collapsed": false
   },
   "outputs": [
    {
     "data": {
      "text/html": [
       "<div style=\"max-height:1000px;max-width:1500px;overflow:auto;\">\n",
       "<table border=\"1\" class=\"dataframe\">\n",
       "  <thead>\n",
       "    <tr style=\"text-align: right;\">\n",
       "      <th></th>\n",
       "      <th>word_freq_make</th>\n",
       "      <th>word_freq_address</th>\n",
       "      <th>word_freq_all</th>\n",
       "      <th>word_freq_3d</th>\n",
       "      <th>word_freq_our</th>\n",
       "      <th>word_freq_over</th>\n",
       "      <th>word_freq_remove</th>\n",
       "      <th>word_freq_internet</th>\n",
       "      <th>word_freq_order</th>\n",
       "      <th>word_freq_mail</th>\n",
       "      <th>word_freq_receive</th>\n",
       "      <th>word_freq_will</th>\n",
       "      <th>word_freq_people</th>\n",
       "      <th>word_freq_report</th>\n",
       "      <th>word_freq_addresses</th>\n",
       "      <th>word_freq_free</th>\n",
       "      <th>word_freq_business</th>\n",
       "      <th>word_freq_email</th>\n",
       "      <th>word_freq_you</th>\n",
       "      <th>word_freq_credit</th>\n",
       "      <th>word_freq_your</th>\n",
       "      <th>word_freq_font</th>\n",
       "      <th>word_freq_000</th>\n",
       "      <th>word_freq_money</th>\n",
       "      <th>word_freq_hp</th>\n",
       "      <th>word_freq_hpl</th>\n",
       "      <th>word_freq_george</th>\n",
       "      <th>word_freq_650</th>\n",
       "      <th>word_freq_lab</th>\n",
       "      <th>word_freq_labs</th>\n",
       "      <th>word_freq_telnet</th>\n",
       "      <th>word_freq_857</th>\n",
       "      <th>word_freq_data</th>\n",
       "      <th>word_freq_415</th>\n",
       "      <th>word_freq_85</th>\n",
       "      <th>word_freq_technology</th>\n",
       "      <th>word_freq_1999</th>\n",
       "      <th>word_freq_parts</th>\n",
       "      <th>word_freq_pm</th>\n",
       "      <th>word_freq_direct</th>\n",
       "      <th>word_freq_cs</th>\n",
       "      <th>word_freq_meeting</th>\n",
       "      <th>word_freq_original</th>\n",
       "      <th>word_freq_project</th>\n",
       "      <th>word_freq_re</th>\n",
       "      <th>word_freq_edu</th>\n",
       "      <th>word_freq_table</th>\n",
       "      <th>word_freq_conference</th>\n",
       "      <th>char_freq_;</th>\n",
       "      <th>char_freq_(</th>\n",
       "      <th>char_freq_[</th>\n",
       "      <th>char_freq_!</th>\n",
       "      <th>char_freq_$</th>\n",
       "      <th>char_freq_#</th>\n",
       "      <th>capital_run_length_average</th>\n",
       "      <th>capital_run_length_longest</th>\n",
       "      <th>capital_run_length_total</th>\n",
       "      <th>is_spam</th>\n",
       "    </tr>\n",
       "  </thead>\n",
       "  <tbody>\n",
       "    <tr>\n",
       "      <th>count</th>\n",
       "      <td> 4601.000000</td>\n",
       "      <td> 4601.000000</td>\n",
       "      <td> 4601.000000</td>\n",
       "      <td> 4601.000000</td>\n",
       "      <td> 4601.000000</td>\n",
       "      <td> 4601.000000</td>\n",
       "      <td> 4601.000000</td>\n",
       "      <td> 4601.000000</td>\n",
       "      <td> 4601.000000</td>\n",
       "      <td> 4601.000000</td>\n",
       "      <td> 4601.000000</td>\n",
       "      <td> 4601.000000</td>\n",
       "      <td> 4601.000000</td>\n",
       "      <td> 4601.000000</td>\n",
       "      <td> 4601.000000</td>\n",
       "      <td> 4601.000000</td>\n",
       "      <td> 4601.000000</td>\n",
       "      <td> 4601.000000</td>\n",
       "      <td> 4601.000000</td>\n",
       "      <td> 4601.000000</td>\n",
       "      <td> 4601.000000</td>\n",
       "      <td> 4601.000000</td>\n",
       "      <td> 4601.000000</td>\n",
       "      <td> 4601.000000</td>\n",
       "      <td> 4601.000000</td>\n",
       "      <td> 4601.000000</td>\n",
       "      <td> 4601.000000</td>\n",
       "      <td> 4601.000000</td>\n",
       "      <td> 4601.000000</td>\n",
       "      <td> 4601.000000</td>\n",
       "      <td> 4601.000000</td>\n",
       "      <td> 4601.000000</td>\n",
       "      <td> 4601.000000</td>\n",
       "      <td> 4601.000000</td>\n",
       "      <td> 4601.000000</td>\n",
       "      <td> 4601.000000</td>\n",
       "      <td> 4601.000000</td>\n",
       "      <td> 4601.000000</td>\n",
       "      <td> 4601.000000</td>\n",
       "      <td> 4601.000000</td>\n",
       "      <td> 4601.000000</td>\n",
       "      <td> 4601.000000</td>\n",
       "      <td> 4601.000000</td>\n",
       "      <td> 4601.000000</td>\n",
       "      <td> 4601.000000</td>\n",
       "      <td> 4601.000000</td>\n",
       "      <td> 4601.000000</td>\n",
       "      <td> 4601.000000</td>\n",
       "      <td> 4601.000000</td>\n",
       "      <td> 4601.000000</td>\n",
       "      <td> 4601.000000</td>\n",
       "      <td> 4601.000000</td>\n",
       "      <td> 4601.000000</td>\n",
       "      <td> 4601.000000</td>\n",
       "      <td> 4601.000000</td>\n",
       "      <td> 4601.000000</td>\n",
       "      <td>  4601.000000</td>\n",
       "      <td> 4601.000000</td>\n",
       "    </tr>\n",
       "    <tr>\n",
       "      <th>mean</th>\n",
       "      <td>    0.104553</td>\n",
       "      <td>    0.213015</td>\n",
       "      <td>    0.280656</td>\n",
       "      <td>    0.065425</td>\n",
       "      <td>    0.312223</td>\n",
       "      <td>    0.095901</td>\n",
       "      <td>    0.114208</td>\n",
       "      <td>    0.105295</td>\n",
       "      <td>    0.090067</td>\n",
       "      <td>    0.239413</td>\n",
       "      <td>    0.059824</td>\n",
       "      <td>    0.541702</td>\n",
       "      <td>    0.093930</td>\n",
       "      <td>    0.058626</td>\n",
       "      <td>    0.049205</td>\n",
       "      <td>    0.248848</td>\n",
       "      <td>    0.142586</td>\n",
       "      <td>    0.184745</td>\n",
       "      <td>    1.662100</td>\n",
       "      <td>    0.085577</td>\n",
       "      <td>    0.809761</td>\n",
       "      <td>    0.121202</td>\n",
       "      <td>    0.101645</td>\n",
       "      <td>    0.094269</td>\n",
       "      <td>    0.549504</td>\n",
       "      <td>    0.265384</td>\n",
       "      <td>    0.767305</td>\n",
       "      <td>    0.124845</td>\n",
       "      <td>    0.098915</td>\n",
       "      <td>    0.102852</td>\n",
       "      <td>    0.064753</td>\n",
       "      <td>    0.047048</td>\n",
       "      <td>    0.097229</td>\n",
       "      <td>    0.047835</td>\n",
       "      <td>    0.105412</td>\n",
       "      <td>    0.097477</td>\n",
       "      <td>    0.136953</td>\n",
       "      <td>    0.013201</td>\n",
       "      <td>    0.078629</td>\n",
       "      <td>    0.064834</td>\n",
       "      <td>    0.043667</td>\n",
       "      <td>    0.132339</td>\n",
       "      <td>    0.046099</td>\n",
       "      <td>    0.079196</td>\n",
       "      <td>    0.301224</td>\n",
       "      <td>    0.179824</td>\n",
       "      <td>    0.005444</td>\n",
       "      <td>    0.031869</td>\n",
       "      <td>    0.038575</td>\n",
       "      <td>    0.139030</td>\n",
       "      <td>    0.016976</td>\n",
       "      <td>    0.269071</td>\n",
       "      <td>    0.075811</td>\n",
       "      <td>    0.044238</td>\n",
       "      <td>    5.191515</td>\n",
       "      <td>   52.172789</td>\n",
       "      <td>   283.289285</td>\n",
       "      <td>    0.394045</td>\n",
       "    </tr>\n",
       "    <tr>\n",
       "      <th>std</th>\n",
       "      <td>    0.305358</td>\n",
       "      <td>    1.290575</td>\n",
       "      <td>    0.504143</td>\n",
       "      <td>    1.395151</td>\n",
       "      <td>    0.672513</td>\n",
       "      <td>    0.273824</td>\n",
       "      <td>    0.391441</td>\n",
       "      <td>    0.401071</td>\n",
       "      <td>    0.278616</td>\n",
       "      <td>    0.644755</td>\n",
       "      <td>    0.201545</td>\n",
       "      <td>    0.861698</td>\n",
       "      <td>    0.301036</td>\n",
       "      <td>    0.335184</td>\n",
       "      <td>    0.258843</td>\n",
       "      <td>    0.825792</td>\n",
       "      <td>    0.444055</td>\n",
       "      <td>    0.531122</td>\n",
       "      <td>    1.775481</td>\n",
       "      <td>    0.509767</td>\n",
       "      <td>    1.200810</td>\n",
       "      <td>    1.025756</td>\n",
       "      <td>    0.350286</td>\n",
       "      <td>    0.442636</td>\n",
       "      <td>    1.671349</td>\n",
       "      <td>    0.886955</td>\n",
       "      <td>    3.367292</td>\n",
       "      <td>    0.538576</td>\n",
       "      <td>    0.593327</td>\n",
       "      <td>    0.456682</td>\n",
       "      <td>    0.403393</td>\n",
       "      <td>    0.328559</td>\n",
       "      <td>    0.555907</td>\n",
       "      <td>    0.329445</td>\n",
       "      <td>    0.532260</td>\n",
       "      <td>    0.402623</td>\n",
       "      <td>    0.423451</td>\n",
       "      <td>    0.220651</td>\n",
       "      <td>    0.434672</td>\n",
       "      <td>    0.349916</td>\n",
       "      <td>    0.361205</td>\n",
       "      <td>    0.766819</td>\n",
       "      <td>    0.223812</td>\n",
       "      <td>    0.621976</td>\n",
       "      <td>    1.011687</td>\n",
       "      <td>    0.911119</td>\n",
       "      <td>    0.076274</td>\n",
       "      <td>    0.285735</td>\n",
       "      <td>    0.243471</td>\n",
       "      <td>    0.270355</td>\n",
       "      <td>    0.109394</td>\n",
       "      <td>    0.815672</td>\n",
       "      <td>    0.245882</td>\n",
       "      <td>    0.429342</td>\n",
       "      <td>   31.729449</td>\n",
       "      <td>  194.891310</td>\n",
       "      <td>   606.347851</td>\n",
       "      <td>    0.488698</td>\n",
       "    </tr>\n",
       "    <tr>\n",
       "      <th>min</th>\n",
       "      <td>    0.000000</td>\n",
       "      <td>    0.000000</td>\n",
       "      <td>    0.000000</td>\n",
       "      <td>    0.000000</td>\n",
       "      <td>    0.000000</td>\n",
       "      <td>    0.000000</td>\n",
       "      <td>    0.000000</td>\n",
       "      <td>    0.000000</td>\n",
       "      <td>    0.000000</td>\n",
       "      <td>    0.000000</td>\n",
       "      <td>    0.000000</td>\n",
       "      <td>    0.000000</td>\n",
       "      <td>    0.000000</td>\n",
       "      <td>    0.000000</td>\n",
       "      <td>    0.000000</td>\n",
       "      <td>    0.000000</td>\n",
       "      <td>    0.000000</td>\n",
       "      <td>    0.000000</td>\n",
       "      <td>    0.000000</td>\n",
       "      <td>    0.000000</td>\n",
       "      <td>    0.000000</td>\n",
       "      <td>    0.000000</td>\n",
       "      <td>    0.000000</td>\n",
       "      <td>    0.000000</td>\n",
       "      <td>    0.000000</td>\n",
       "      <td>    0.000000</td>\n",
       "      <td>    0.000000</td>\n",
       "      <td>    0.000000</td>\n",
       "      <td>    0.000000</td>\n",
       "      <td>    0.000000</td>\n",
       "      <td>    0.000000</td>\n",
       "      <td>    0.000000</td>\n",
       "      <td>    0.000000</td>\n",
       "      <td>    0.000000</td>\n",
       "      <td>    0.000000</td>\n",
       "      <td>    0.000000</td>\n",
       "      <td>    0.000000</td>\n",
       "      <td>    0.000000</td>\n",
       "      <td>    0.000000</td>\n",
       "      <td>    0.000000</td>\n",
       "      <td>    0.000000</td>\n",
       "      <td>    0.000000</td>\n",
       "      <td>    0.000000</td>\n",
       "      <td>    0.000000</td>\n",
       "      <td>    0.000000</td>\n",
       "      <td>    0.000000</td>\n",
       "      <td>    0.000000</td>\n",
       "      <td>    0.000000</td>\n",
       "      <td>    0.000000</td>\n",
       "      <td>    0.000000</td>\n",
       "      <td>    0.000000</td>\n",
       "      <td>    0.000000</td>\n",
       "      <td>    0.000000</td>\n",
       "      <td>    0.000000</td>\n",
       "      <td>    1.000000</td>\n",
       "      <td>    1.000000</td>\n",
       "      <td>     1.000000</td>\n",
       "      <td>    0.000000</td>\n",
       "    </tr>\n",
       "    <tr>\n",
       "      <th>25%</th>\n",
       "      <td>    0.000000</td>\n",
       "      <td>    0.000000</td>\n",
       "      <td>    0.000000</td>\n",
       "      <td>    0.000000</td>\n",
       "      <td>    0.000000</td>\n",
       "      <td>    0.000000</td>\n",
       "      <td>    0.000000</td>\n",
       "      <td>    0.000000</td>\n",
       "      <td>    0.000000</td>\n",
       "      <td>    0.000000</td>\n",
       "      <td>    0.000000</td>\n",
       "      <td>    0.000000</td>\n",
       "      <td>    0.000000</td>\n",
       "      <td>    0.000000</td>\n",
       "      <td>    0.000000</td>\n",
       "      <td>    0.000000</td>\n",
       "      <td>    0.000000</td>\n",
       "      <td>    0.000000</td>\n",
       "      <td>    0.000000</td>\n",
       "      <td>    0.000000</td>\n",
       "      <td>    0.000000</td>\n",
       "      <td>    0.000000</td>\n",
       "      <td>    0.000000</td>\n",
       "      <td>    0.000000</td>\n",
       "      <td>    0.000000</td>\n",
       "      <td>    0.000000</td>\n",
       "      <td>    0.000000</td>\n",
       "      <td>    0.000000</td>\n",
       "      <td>    0.000000</td>\n",
       "      <td>    0.000000</td>\n",
       "      <td>    0.000000</td>\n",
       "      <td>    0.000000</td>\n",
       "      <td>    0.000000</td>\n",
       "      <td>    0.000000</td>\n",
       "      <td>    0.000000</td>\n",
       "      <td>    0.000000</td>\n",
       "      <td>    0.000000</td>\n",
       "      <td>    0.000000</td>\n",
       "      <td>    0.000000</td>\n",
       "      <td>    0.000000</td>\n",
       "      <td>    0.000000</td>\n",
       "      <td>    0.000000</td>\n",
       "      <td>    0.000000</td>\n",
       "      <td>    0.000000</td>\n",
       "      <td>    0.000000</td>\n",
       "      <td>    0.000000</td>\n",
       "      <td>    0.000000</td>\n",
       "      <td>    0.000000</td>\n",
       "      <td>    0.000000</td>\n",
       "      <td>    0.000000</td>\n",
       "      <td>    0.000000</td>\n",
       "      <td>    0.000000</td>\n",
       "      <td>    0.000000</td>\n",
       "      <td>    0.000000</td>\n",
       "      <td>    1.588000</td>\n",
       "      <td>    6.000000</td>\n",
       "      <td>    35.000000</td>\n",
       "      <td>    0.000000</td>\n",
       "    </tr>\n",
       "    <tr>\n",
       "      <th>50%</th>\n",
       "      <td>    0.000000</td>\n",
       "      <td>    0.000000</td>\n",
       "      <td>    0.000000</td>\n",
       "      <td>    0.000000</td>\n",
       "      <td>    0.000000</td>\n",
       "      <td>    0.000000</td>\n",
       "      <td>    0.000000</td>\n",
       "      <td>    0.000000</td>\n",
       "      <td>    0.000000</td>\n",
       "      <td>    0.000000</td>\n",
       "      <td>    0.000000</td>\n",
       "      <td>    0.100000</td>\n",
       "      <td>    0.000000</td>\n",
       "      <td>    0.000000</td>\n",
       "      <td>    0.000000</td>\n",
       "      <td>    0.000000</td>\n",
       "      <td>    0.000000</td>\n",
       "      <td>    0.000000</td>\n",
       "      <td>    1.310000</td>\n",
       "      <td>    0.000000</td>\n",
       "      <td>    0.220000</td>\n",
       "      <td>    0.000000</td>\n",
       "      <td>    0.000000</td>\n",
       "      <td>    0.000000</td>\n",
       "      <td>    0.000000</td>\n",
       "      <td>    0.000000</td>\n",
       "      <td>    0.000000</td>\n",
       "      <td>    0.000000</td>\n",
       "      <td>    0.000000</td>\n",
       "      <td>    0.000000</td>\n",
       "      <td>    0.000000</td>\n",
       "      <td>    0.000000</td>\n",
       "      <td>    0.000000</td>\n",
       "      <td>    0.000000</td>\n",
       "      <td>    0.000000</td>\n",
       "      <td>    0.000000</td>\n",
       "      <td>    0.000000</td>\n",
       "      <td>    0.000000</td>\n",
       "      <td>    0.000000</td>\n",
       "      <td>    0.000000</td>\n",
       "      <td>    0.000000</td>\n",
       "      <td>    0.000000</td>\n",
       "      <td>    0.000000</td>\n",
       "      <td>    0.000000</td>\n",
       "      <td>    0.000000</td>\n",
       "      <td>    0.000000</td>\n",
       "      <td>    0.000000</td>\n",
       "      <td>    0.000000</td>\n",
       "      <td>    0.000000</td>\n",
       "      <td>    0.065000</td>\n",
       "      <td>    0.000000</td>\n",
       "      <td>    0.000000</td>\n",
       "      <td>    0.000000</td>\n",
       "      <td>    0.000000</td>\n",
       "      <td>    2.276000</td>\n",
       "      <td>   15.000000</td>\n",
       "      <td>    95.000000</td>\n",
       "      <td>    0.000000</td>\n",
       "    </tr>\n",
       "    <tr>\n",
       "      <th>75%</th>\n",
       "      <td>    0.000000</td>\n",
       "      <td>    0.000000</td>\n",
       "      <td>    0.420000</td>\n",
       "      <td>    0.000000</td>\n",
       "      <td>    0.380000</td>\n",
       "      <td>    0.000000</td>\n",
       "      <td>    0.000000</td>\n",
       "      <td>    0.000000</td>\n",
       "      <td>    0.000000</td>\n",
       "      <td>    0.160000</td>\n",
       "      <td>    0.000000</td>\n",
       "      <td>    0.800000</td>\n",
       "      <td>    0.000000</td>\n",
       "      <td>    0.000000</td>\n",
       "      <td>    0.000000</td>\n",
       "      <td>    0.100000</td>\n",
       "      <td>    0.000000</td>\n",
       "      <td>    0.000000</td>\n",
       "      <td>    2.640000</td>\n",
       "      <td>    0.000000</td>\n",
       "      <td>    1.270000</td>\n",
       "      <td>    0.000000</td>\n",
       "      <td>    0.000000</td>\n",
       "      <td>    0.000000</td>\n",
       "      <td>    0.000000</td>\n",
       "      <td>    0.000000</td>\n",
       "      <td>    0.000000</td>\n",
       "      <td>    0.000000</td>\n",
       "      <td>    0.000000</td>\n",
       "      <td>    0.000000</td>\n",
       "      <td>    0.000000</td>\n",
       "      <td>    0.000000</td>\n",
       "      <td>    0.000000</td>\n",
       "      <td>    0.000000</td>\n",
       "      <td>    0.000000</td>\n",
       "      <td>    0.000000</td>\n",
       "      <td>    0.000000</td>\n",
       "      <td>    0.000000</td>\n",
       "      <td>    0.000000</td>\n",
       "      <td>    0.000000</td>\n",
       "      <td>    0.000000</td>\n",
       "      <td>    0.000000</td>\n",
       "      <td>    0.000000</td>\n",
       "      <td>    0.000000</td>\n",
       "      <td>    0.110000</td>\n",
       "      <td>    0.000000</td>\n",
       "      <td>    0.000000</td>\n",
       "      <td>    0.000000</td>\n",
       "      <td>    0.000000</td>\n",
       "      <td>    0.188000</td>\n",
       "      <td>    0.000000</td>\n",
       "      <td>    0.315000</td>\n",
       "      <td>    0.052000</td>\n",
       "      <td>    0.000000</td>\n",
       "      <td>    3.706000</td>\n",
       "      <td>   43.000000</td>\n",
       "      <td>   266.000000</td>\n",
       "      <td>    1.000000</td>\n",
       "    </tr>\n",
       "    <tr>\n",
       "      <th>max</th>\n",
       "      <td>    4.540000</td>\n",
       "      <td>   14.280000</td>\n",
       "      <td>    5.100000</td>\n",
       "      <td>   42.810000</td>\n",
       "      <td>   10.000000</td>\n",
       "      <td>    5.880000</td>\n",
       "      <td>    7.270000</td>\n",
       "      <td>   11.110000</td>\n",
       "      <td>    5.260000</td>\n",
       "      <td>   18.180000</td>\n",
       "      <td>    2.610000</td>\n",
       "      <td>    9.670000</td>\n",
       "      <td>    5.550000</td>\n",
       "      <td>   10.000000</td>\n",
       "      <td>    4.410000</td>\n",
       "      <td>   20.000000</td>\n",
       "      <td>    7.140000</td>\n",
       "      <td>    9.090000</td>\n",
       "      <td>   18.750000</td>\n",
       "      <td>   18.180000</td>\n",
       "      <td>   11.110000</td>\n",
       "      <td>   17.100000</td>\n",
       "      <td>    5.450000</td>\n",
       "      <td>   12.500000</td>\n",
       "      <td>   20.830000</td>\n",
       "      <td>   16.660000</td>\n",
       "      <td>   33.330000</td>\n",
       "      <td>    9.090000</td>\n",
       "      <td>   14.280000</td>\n",
       "      <td>    5.880000</td>\n",
       "      <td>   12.500000</td>\n",
       "      <td>    4.760000</td>\n",
       "      <td>   18.180000</td>\n",
       "      <td>    4.760000</td>\n",
       "      <td>   20.000000</td>\n",
       "      <td>    7.690000</td>\n",
       "      <td>    6.890000</td>\n",
       "      <td>    8.330000</td>\n",
       "      <td>   11.110000</td>\n",
       "      <td>    4.760000</td>\n",
       "      <td>    7.140000</td>\n",
       "      <td>   14.280000</td>\n",
       "      <td>    3.570000</td>\n",
       "      <td>   20.000000</td>\n",
       "      <td>   21.420000</td>\n",
       "      <td>   22.050000</td>\n",
       "      <td>    2.170000</td>\n",
       "      <td>   10.000000</td>\n",
       "      <td>    4.385000</td>\n",
       "      <td>    9.752000</td>\n",
       "      <td>    4.081000</td>\n",
       "      <td>   32.478000</td>\n",
       "      <td>    6.003000</td>\n",
       "      <td>   19.829000</td>\n",
       "      <td> 1102.500000</td>\n",
       "      <td> 9989.000000</td>\n",
       "      <td> 15841.000000</td>\n",
       "      <td>    1.000000</td>\n",
       "    </tr>\n",
       "  </tbody>\n",
       "</table>\n",
       "</div>"
      ],
      "text/plain": [
       "       word_freq_make  word_freq_address  word_freq_all  word_freq_3d  \\\n",
       "count     4601.000000        4601.000000    4601.000000   4601.000000   \n",
       "mean         0.104553           0.213015       0.280656      0.065425   \n",
       "std          0.305358           1.290575       0.504143      1.395151   \n",
       "min          0.000000           0.000000       0.000000      0.000000   \n",
       "25%          0.000000           0.000000       0.000000      0.000000   \n",
       "50%          0.000000           0.000000       0.000000      0.000000   \n",
       "75%          0.000000           0.000000       0.420000      0.000000   \n",
       "max          4.540000          14.280000       5.100000     42.810000   \n",
       "\n",
       "       word_freq_our  word_freq_over  word_freq_remove  word_freq_internet  \\\n",
       "count    4601.000000     4601.000000       4601.000000         4601.000000   \n",
       "mean        0.312223        0.095901          0.114208            0.105295   \n",
       "std         0.672513        0.273824          0.391441            0.401071   \n",
       "min         0.000000        0.000000          0.000000            0.000000   \n",
       "25%         0.000000        0.000000          0.000000            0.000000   \n",
       "50%         0.000000        0.000000          0.000000            0.000000   \n",
       "75%         0.380000        0.000000          0.000000            0.000000   \n",
       "max        10.000000        5.880000          7.270000           11.110000   \n",
       "\n",
       "       word_freq_order  word_freq_mail  word_freq_receive  word_freq_will  \\\n",
       "count      4601.000000     4601.000000        4601.000000     4601.000000   \n",
       "mean          0.090067        0.239413           0.059824        0.541702   \n",
       "std           0.278616        0.644755           0.201545        0.861698   \n",
       "min           0.000000        0.000000           0.000000        0.000000   \n",
       "25%           0.000000        0.000000           0.000000        0.000000   \n",
       "50%           0.000000        0.000000           0.000000        0.100000   \n",
       "75%           0.000000        0.160000           0.000000        0.800000   \n",
       "max           5.260000       18.180000           2.610000        9.670000   \n",
       "\n",
       "       word_freq_people  word_freq_report  word_freq_addresses  \\\n",
       "count       4601.000000       4601.000000          4601.000000   \n",
       "mean           0.093930          0.058626             0.049205   \n",
       "std            0.301036          0.335184             0.258843   \n",
       "min            0.000000          0.000000             0.000000   \n",
       "25%            0.000000          0.000000             0.000000   \n",
       "50%            0.000000          0.000000             0.000000   \n",
       "75%            0.000000          0.000000             0.000000   \n",
       "max            5.550000         10.000000             4.410000   \n",
       "\n",
       "       word_freq_free  word_freq_business  word_freq_email  word_freq_you  \\\n",
       "count     4601.000000         4601.000000      4601.000000    4601.000000   \n",
       "mean         0.248848            0.142586         0.184745       1.662100   \n",
       "std          0.825792            0.444055         0.531122       1.775481   \n",
       "min          0.000000            0.000000         0.000000       0.000000   \n",
       "25%          0.000000            0.000000         0.000000       0.000000   \n",
       "50%          0.000000            0.000000         0.000000       1.310000   \n",
       "75%          0.100000            0.000000         0.000000       2.640000   \n",
       "max         20.000000            7.140000         9.090000      18.750000   \n",
       "\n",
       "       word_freq_credit  word_freq_your  word_freq_font  word_freq_000  \\\n",
       "count       4601.000000     4601.000000     4601.000000    4601.000000   \n",
       "mean           0.085577        0.809761        0.121202       0.101645   \n",
       "std            0.509767        1.200810        1.025756       0.350286   \n",
       "min            0.000000        0.000000        0.000000       0.000000   \n",
       "25%            0.000000        0.000000        0.000000       0.000000   \n",
       "50%            0.000000        0.220000        0.000000       0.000000   \n",
       "75%            0.000000        1.270000        0.000000       0.000000   \n",
       "max           18.180000       11.110000       17.100000       5.450000   \n",
       "\n",
       "       word_freq_money  word_freq_hp  word_freq_hpl  word_freq_george  \\\n",
       "count      4601.000000   4601.000000    4601.000000       4601.000000   \n",
       "mean          0.094269      0.549504       0.265384          0.767305   \n",
       "std           0.442636      1.671349       0.886955          3.367292   \n",
       "min           0.000000      0.000000       0.000000          0.000000   \n",
       "25%           0.000000      0.000000       0.000000          0.000000   \n",
       "50%           0.000000      0.000000       0.000000          0.000000   \n",
       "75%           0.000000      0.000000       0.000000          0.000000   \n",
       "max          12.500000     20.830000      16.660000         33.330000   \n",
       "\n",
       "       word_freq_650  word_freq_lab  word_freq_labs  word_freq_telnet  \\\n",
       "count    4601.000000    4601.000000     4601.000000       4601.000000   \n",
       "mean        0.124845       0.098915        0.102852          0.064753   \n",
       "std         0.538576       0.593327        0.456682          0.403393   \n",
       "min         0.000000       0.000000        0.000000          0.000000   \n",
       "25%         0.000000       0.000000        0.000000          0.000000   \n",
       "50%         0.000000       0.000000        0.000000          0.000000   \n",
       "75%         0.000000       0.000000        0.000000          0.000000   \n",
       "max         9.090000      14.280000        5.880000         12.500000   \n",
       "\n",
       "       word_freq_857  word_freq_data  word_freq_415  word_freq_85  \\\n",
       "count    4601.000000     4601.000000    4601.000000   4601.000000   \n",
       "mean        0.047048        0.097229       0.047835      0.105412   \n",
       "std         0.328559        0.555907       0.329445      0.532260   \n",
       "min         0.000000        0.000000       0.000000      0.000000   \n",
       "25%         0.000000        0.000000       0.000000      0.000000   \n",
       "50%         0.000000        0.000000       0.000000      0.000000   \n",
       "75%         0.000000        0.000000       0.000000      0.000000   \n",
       "max         4.760000       18.180000       4.760000     20.000000   \n",
       "\n",
       "       word_freq_technology  word_freq_1999  word_freq_parts  word_freq_pm  \\\n",
       "count           4601.000000     4601.000000      4601.000000   4601.000000   \n",
       "mean               0.097477        0.136953         0.013201      0.078629   \n",
       "std                0.402623        0.423451         0.220651      0.434672   \n",
       "min                0.000000        0.000000         0.000000      0.000000   \n",
       "25%                0.000000        0.000000         0.000000      0.000000   \n",
       "50%                0.000000        0.000000         0.000000      0.000000   \n",
       "75%                0.000000        0.000000         0.000000      0.000000   \n",
       "max                7.690000        6.890000         8.330000     11.110000   \n",
       "\n",
       "       word_freq_direct  word_freq_cs  word_freq_meeting  word_freq_original  \\\n",
       "count       4601.000000   4601.000000        4601.000000         4601.000000   \n",
       "mean           0.064834      0.043667           0.132339            0.046099   \n",
       "std            0.349916      0.361205           0.766819            0.223812   \n",
       "min            0.000000      0.000000           0.000000            0.000000   \n",
       "25%            0.000000      0.000000           0.000000            0.000000   \n",
       "50%            0.000000      0.000000           0.000000            0.000000   \n",
       "75%            0.000000      0.000000           0.000000            0.000000   \n",
       "max            4.760000      7.140000          14.280000            3.570000   \n",
       "\n",
       "       word_freq_project  word_freq_re  word_freq_edu  word_freq_table  \\\n",
       "count        4601.000000   4601.000000    4601.000000      4601.000000   \n",
       "mean            0.079196      0.301224       0.179824         0.005444   \n",
       "std             0.621976      1.011687       0.911119         0.076274   \n",
       "min             0.000000      0.000000       0.000000         0.000000   \n",
       "25%             0.000000      0.000000       0.000000         0.000000   \n",
       "50%             0.000000      0.000000       0.000000         0.000000   \n",
       "75%             0.000000      0.110000       0.000000         0.000000   \n",
       "max            20.000000     21.420000      22.050000         2.170000   \n",
       "\n",
       "       word_freq_conference  char_freq_;  char_freq_(  char_freq_[  \\\n",
       "count           4601.000000  4601.000000  4601.000000  4601.000000   \n",
       "mean               0.031869     0.038575     0.139030     0.016976   \n",
       "std                0.285735     0.243471     0.270355     0.109394   \n",
       "min                0.000000     0.000000     0.000000     0.000000   \n",
       "25%                0.000000     0.000000     0.000000     0.000000   \n",
       "50%                0.000000     0.000000     0.065000     0.000000   \n",
       "75%                0.000000     0.000000     0.188000     0.000000   \n",
       "max               10.000000     4.385000     9.752000     4.081000   \n",
       "\n",
       "       char_freq_!  char_freq_$  char_freq_#  capital_run_length_average  \\\n",
       "count  4601.000000  4601.000000  4601.000000                 4601.000000   \n",
       "mean      0.269071     0.075811     0.044238                    5.191515   \n",
       "std       0.815672     0.245882     0.429342                   31.729449   \n",
       "min       0.000000     0.000000     0.000000                    1.000000   \n",
       "25%       0.000000     0.000000     0.000000                    1.588000   \n",
       "50%       0.000000     0.000000     0.000000                    2.276000   \n",
       "75%       0.315000     0.052000     0.000000                    3.706000   \n",
       "max      32.478000     6.003000    19.829000                 1102.500000   \n",
       "\n",
       "       capital_run_length_longest  capital_run_length_total      is_spam  \n",
       "count                 4601.000000               4601.000000  4601.000000  \n",
       "mean                    52.172789                283.289285     0.394045  \n",
       "std                    194.891310                606.347851     0.488698  \n",
       "min                      1.000000                  1.000000     0.000000  \n",
       "25%                      6.000000                 35.000000     0.000000  \n",
       "50%                     15.000000                 95.000000     0.000000  \n",
       "75%                     43.000000                266.000000     1.000000  \n",
       "max                   9989.000000              15841.000000     1.000000  "
      ]
     },
     "execution_count": 74,
     "metadata": {},
     "output_type": "execute_result"
    }
   ],
   "source": [
    "spam_data.describe()"
   ]
  },
  {
   "cell_type": "code",
   "execution_count": 75,
   "metadata": {
    "collapsed": false
   },
   "outputs": [
    {
     "name": "stdout",
     "output_type": "stream",
     "text": [
      "<class 'pandas.core.frame.DataFrame'>\n",
      "Int64Index: 4601 entries, 0 to 4600\n",
      "Data columns (total 58 columns):\n",
      "word_freq_make                4601 non-null float64\n",
      "word_freq_address             4601 non-null float64\n",
      "word_freq_all                 4601 non-null float64\n",
      "word_freq_3d                  4601 non-null float64\n",
      "word_freq_our                 4601 non-null float64\n",
      "word_freq_over                4601 non-null float64\n",
      "word_freq_remove              4601 non-null float64\n",
      "word_freq_internet            4601 non-null float64\n",
      "word_freq_order               4601 non-null float64\n",
      "word_freq_mail                4601 non-null float64\n",
      "word_freq_receive             4601 non-null float64\n",
      "word_freq_will                4601 non-null float64\n",
      "word_freq_people              4601 non-null float64\n",
      "word_freq_report              4601 non-null float64\n",
      "word_freq_addresses           4601 non-null float64\n",
      "word_freq_free                4601 non-null float64\n",
      "word_freq_business            4601 non-null float64\n",
      "word_freq_email               4601 non-null float64\n",
      "word_freq_you                 4601 non-null float64\n",
      "word_freq_credit              4601 non-null float64\n",
      "word_freq_your                4601 non-null float64\n",
      "word_freq_font                4601 non-null float64\n",
      "word_freq_000                 4601 non-null float64\n",
      "word_freq_money               4601 non-null float64\n",
      "word_freq_hp                  4601 non-null float64\n",
      "word_freq_hpl                 4601 non-null float64\n",
      "word_freq_george              4601 non-null float64\n",
      "word_freq_650                 4601 non-null float64\n",
      "word_freq_lab                 4601 non-null float64\n",
      "word_freq_labs                4601 non-null float64\n",
      "word_freq_telnet              4601 non-null float64\n",
      "word_freq_857                 4601 non-null float64\n",
      "word_freq_data                4601 non-null float64\n",
      "word_freq_415                 4601 non-null float64\n",
      "word_freq_85                  4601 non-null float64\n",
      "word_freq_technology          4601 non-null float64\n",
      "word_freq_1999                4601 non-null float64\n",
      "word_freq_parts               4601 non-null float64\n",
      "word_freq_pm                  4601 non-null float64\n",
      "word_freq_direct              4601 non-null float64\n",
      "word_freq_cs                  4601 non-null float64\n",
      "word_freq_meeting             4601 non-null float64\n",
      "word_freq_original            4601 non-null float64\n",
      "word_freq_project             4601 non-null float64\n",
      "word_freq_re                  4601 non-null float64\n",
      "word_freq_edu                 4601 non-null float64\n",
      "word_freq_table               4601 non-null float64\n",
      "word_freq_conference          4601 non-null float64\n",
      "char_freq_;                   4601 non-null float64\n",
      "char_freq_(                   4601 non-null float64\n",
      "char_freq_[                   4601 non-null float64\n",
      "char_freq_!                   4601 non-null float64\n",
      "char_freq_$                   4601 non-null float64\n",
      "char_freq_#                   4601 non-null float64\n",
      "capital_run_length_average    4601 non-null float64\n",
      "capital_run_length_longest    4601 non-null int64\n",
      "capital_run_length_total      4601 non-null int64\n",
      "is_spam                       4601 non-null int64\n",
      "dtypes: float64(55), int64(3)\n",
      "memory usage: 2.1 MB\n"
     ]
    }
   ],
   "source": [
    "spam_data.info()"
   ]
  },
  {
   "cell_type": "code",
   "execution_count": 76,
   "metadata": {
    "collapsed": false
   },
   "outputs": [
    {
     "data": {
      "text/plain": [
       "Index([u'word_freq_make', u'word_freq_address', u'word_freq_all', u'word_freq_3d', u'word_freq_our', u'word_freq_over', u'word_freq_remove', u'word_freq_internet', u'word_freq_order', u'word_freq_mail', u'word_freq_receive', u'word_freq_will', u'word_freq_people', u'word_freq_report', u'word_freq_addresses', u'word_freq_free', u'word_freq_business', u'word_freq_email', u'word_freq_you', u'word_freq_credit', u'word_freq_your', u'word_freq_font', u'word_freq_000', u'word_freq_money', u'word_freq_hp', u'word_freq_hpl', u'word_freq_george', u'word_freq_650', u'word_freq_lab', u'word_freq_labs', u'word_freq_telnet', u'word_freq_857', u'word_freq_data', u'word_freq_415', u'word_freq_85', u'word_freq_technology', u'word_freq_1999', u'word_freq_parts', u'word_freq_pm', u'word_freq_direct', u'word_freq_cs', u'word_freq_meeting', u'word_freq_original', u'word_freq_project', u'word_freq_re', u'word_freq_edu', u'word_freq_table', u'word_freq_conference', u'char_freq_;', u'char_freq_(', u'char_freq_[', u'char_freq_!', u'char_freq_$', u'char_freq_#', u'capital_run_length_average', u'capital_run_length_longest', u'capital_run_length_total', u'is_spam'], dtype='object')"
      ]
     },
     "execution_count": 76,
     "metadata": {},
     "output_type": "execute_result"
    }
   ],
   "source": [
    "spam_data.columns"
   ]
  },
  {
   "cell_type": "code",
   "execution_count": 77,
   "metadata": {
    "collapsed": false
   },
   "outputs": [
    {
     "data": {
      "text/plain": [
       "58"
      ]
     },
     "execution_count": 77,
     "metadata": {},
     "output_type": "execute_result"
    }
   ],
   "source": [
    "len(spam_data.columns)"
   ]
  },
  {
   "cell_type": "code",
   "execution_count": 78,
   "metadata": {
    "collapsed": false
   },
   "outputs": [
    {
     "data": {
      "text/plain": [
       "array([[<matplotlib.axes._subplots.AxesSubplot object at 0x11e286790>,\n",
       "        <matplotlib.axes._subplots.AxesSubplot object at 0x118e11250>,\n",
       "        <matplotlib.axes._subplots.AxesSubplot object at 0x11e313710>,\n",
       "        <matplotlib.axes._subplots.AxesSubplot object at 0x11e99a950>,\n",
       "        <matplotlib.axes._subplots.AxesSubplot object at 0x11e9feb90>,\n",
       "        <matplotlib.axes._subplots.AxesSubplot object at 0x11ef4df90>,\n",
       "        <matplotlib.axes._subplots.AxesSubplot object at 0x11e932890>,\n",
       "        <matplotlib.axes._subplots.AxesSubplot object at 0x11f0347d0>],\n",
       "       [<matplotlib.axes._subplots.AxesSubplot object at 0x11f0b5b10>,\n",
       "        <matplotlib.axes._subplots.AxesSubplot object at 0x11f234410>,\n",
       "        <matplotlib.axes._subplots.AxesSubplot object at 0x11f2b6750>,\n",
       "        <matplotlib.axes._subplots.AxesSubplot object at 0x11f31d090>,\n",
       "        <matplotlib.axes._subplots.AxesSubplot object at 0x11f39b450>,\n",
       "        <matplotlib.axes._subplots.AxesSubplot object at 0x11f3b3c90>,\n",
       "        <matplotlib.axes._subplots.AxesSubplot object at 0x11f57ff90>,\n",
       "        <matplotlib.axes._subplots.AxesSubplot object at 0x11f60c310>],\n",
       "       [<matplotlib.axes._subplots.AxesSubplot object at 0x11f6712d0>,\n",
       "        <matplotlib.axes._subplots.AxesSubplot object at 0x11f6f26d0>,\n",
       "        <matplotlib.axes._subplots.AxesSubplot object at 0x11f625a50>,\n",
       "        <matplotlib.axes._subplots.AxesSubplot object at 0x11f7caed0>,\n",
       "        <matplotlib.axes._subplots.AxesSubplot object at 0x11f95a250>,\n",
       "        <matplotlib.axes._subplots.AxesSubplot object at 0x11f9bbb10>,\n",
       "        <matplotlib.axes._subplots.AxesSubplot object at 0x11fa3de50>,\n",
       "        <matplotlib.axes._subplots.AxesSubplot object at 0x11faa2790>],\n",
       "       [<matplotlib.axes._subplots.AxesSubplot object at 0x11fc23b50>,\n",
       "        <matplotlib.axes._subplots.AxesSubplot object at 0x11fc3c190>,\n",
       "        <matplotlib.axes._subplots.AxesSubplot object at 0x11fcc5e50>,\n",
       "        <matplotlib.axes._subplots.AxesSubplot object at 0x11fd43d50>,\n",
       "        <matplotlib.axes._subplots.AxesSubplot object at 0x11fda9690>,\n",
       "        <matplotlib.axes._subplots.AxesSubplot object at 0x11fe299d0>,\n",
       "        <matplotlib.axes._subplots.AxesSubplot object at 0x11fde3450>,\n",
       "        <matplotlib.axes._subplots.AxesSubplot object at 0x12001c350>],\n",
       "       [<matplotlib.axes._subplots.AxesSubplot object at 0x1200a04d0>,\n",
       "        <matplotlib.axes._subplots.AxesSubplot object at 0x120104810>,\n",
       "        <matplotlib.axes._subplots.AxesSubplot object at 0x120185b50>,\n",
       "        <matplotlib.axes._subplots.AxesSubplot object at 0x1201de2d0>,\n",
       "        <matplotlib.axes._subplots.AxesSubplot object at 0x12036e410>,\n",
       "        <matplotlib.axes._subplots.AxesSubplot object at 0x1203f0250>,\n",
       "        <matplotlib.axes._subplots.AxesSubplot object at 0x120460050>,\n",
       "        <matplotlib.axes._subplots.AxesSubplot object at 0x1204e01d0>],\n",
       "       [<matplotlib.axes._subplots.AxesSubplot object at 0x120638c90>,\n",
       "        <matplotlib.axes._subplots.AxesSubplot object at 0x1206b9fd0>,\n",
       "        <matplotlib.axes._subplots.AxesSubplot object at 0x120672c10>,\n",
       "        <matplotlib.axes._subplots.AxesSubplot object at 0x1207ac950>,\n",
       "        <matplotlib.axes._subplots.AxesSubplot object at 0x12082fad0>,\n",
       "        <matplotlib.axes._subplots.AxesSubplot object at 0x120891e10>,\n",
       "        <matplotlib.axes._subplots.AxesSubplot object at 0x120a22190>,\n",
       "        <matplotlib.axes._subplots.AxesSubplot object at 0x120a6e8d0>],\n",
       "       [<matplotlib.axes._subplots.AxesSubplot object at 0x120afca10>,\n",
       "        <matplotlib.axes._subplots.AxesSubplot object at 0x120b7f850>,\n",
       "        <matplotlib.axes._subplots.AxesSubplot object at 0x120bed650>,\n",
       "        <matplotlib.axes._subplots.AxesSubplot object at 0x120d717d0>,\n",
       "        <matplotlib.axes._subplots.AxesSubplot object at 0x120dd62d0>,\n",
       "        <matplotlib.axes._subplots.AxesSubplot object at 0x120e58610>,\n",
       "        <matplotlib.axes._subplots.AxesSubplot object at 0x120e0f090>,\n",
       "        <matplotlib.axes._subplots.AxesSubplot object at 0x120f3cf50>],\n",
       "       [<matplotlib.axes._subplots.AxesSubplot object at 0x120fcc110>,\n",
       "        <matplotlib.axes._subplots.AxesSubplot object at 0x121930450>,\n",
       "        <matplotlib.axes._subplots.AxesSubplot object at 0x1219b1790>,\n",
       "        <matplotlib.axes._subplots.AxesSubplot object at 0x1219ffed0>,\n",
       "        <matplotlib.axes._subplots.AxesSubplot object at 0x121a9b050>,\n",
       "        <matplotlib.axes._subplots.AxesSubplot object at 0x121c0ee50>,\n",
       "        <matplotlib.axes._subplots.AxesSubplot object at 0x121c7ead0>,\n",
       "        <matplotlib.axes._subplots.AxesSubplot object at 0x121d01d10>]], dtype=object)"
      ]
     },
     "execution_count": 78,
     "metadata": {},
     "output_type": "execute_result"
    }
   ],
   "source": [
    "spam_data.hist()"
   ]
  },
  {
   "cell_type": "markdown",
   "metadata": {},
   "source": [
    "###Exercise 2: Build a simple logistic regression and visualize it\n",
    "\n",
    "use the variable \"capital_run_length_longest\" to predict \"is_spam\"\n",
    "How accurate is this single feature?"
   ]
  },
  {
   "cell_type": "markdown",
   "metadata": {},
   "source": [
    "# Linear Regression (just to see how it fits) "
   ]
  },
  {
   "cell_type": "code",
   "execution_count": 81,
   "metadata": {
    "collapsed": false
   },
   "outputs": [
    {
     "data": {
      "text/plain": [
       "<matplotlib.axes._subplots.AxesSubplot at 0x121d01d10>"
      ]
     },
     "execution_count": 81,
     "metadata": {},
     "output_type": "execute_result"
    }
   ],
   "source": [
    "spam_data.capital_run_length_longest.hist()"
   ]
  },
  {
   "cell_type": "code",
   "execution_count": 82,
   "metadata": {
    "collapsed": false
   },
   "outputs": [
    {
     "name": "stdout",
     "output_type": "stream",
     "text": [
      "                            OLS Regression Results                            \n",
      "==============================================================================\n",
      "Dep. Variable:                is_spam   R-squared:                       0.047\n",
      "Model:                            OLS   Adj. R-squared:                  0.046\n",
      "Method:                 Least Squares   F-statistic:                     225.3\n",
      "Date:                Sun, 15 Mar 2015   Prob (F-statistic):           9.44e-50\n",
      "Time:                        22:19:47   Log-Likelihood:                -3123.7\n",
      "No. Observations:                4601   AIC:                             6251.\n",
      "Df Residuals:                    4599   BIC:                             6264.\n",
      "Df Model:                           1                                         \n",
      "==============================================================================================\n",
      "                                 coef    std err          t      P>|t|      [95.0% Conf. Int.]\n",
      "----------------------------------------------------------------------------------------------\n",
      "Intercept                      0.3658      0.007     50.223      0.000         0.351     0.380\n",
      "capital_run_length_longest     0.0005   3.61e-05     15.009      0.000         0.000     0.001\n",
      "==============================================================================\n",
      "Omnibus:                       65.075   Durbin-Watson:                   0.091\n",
      "Prob(Omnibus):                  0.000   Jarque-Bera (JB):               74.413\n",
      "Skew:                           0.241   Prob(JB):                     6.94e-17\n",
      "Kurtosis:                       3.396   Cond. No.                         209.\n",
      "==============================================================================\n"
     ]
    }
   ],
   "source": [
    "lm = smf.ols('is_spam ~ capital_run_length_longest', data=spam_data)\n",
    "fit = lm.fit()\n",
    "print fit.summary()\n",
    "# R squared = percent variance (in y) accounted for "
   ]
  },
  {
   "cell_type": "markdown",
   "metadata": {},
   "source": [
    "# Logistic Regression (10-LogitLab-work)"
   ]
  },
  {
   "cell_type": "code",
   "execution_count": 83,
   "metadata": {
    "collapsed": false
   },
   "outputs": [
    {
     "name": "stdout",
     "output_type": "stream",
     "text": [
      "Optimization terminated successfully.\n",
      "         Current function value: 0.562963\n",
      "         Iterations 8\n"
     ]
    },
    {
     "data": {
      "text/html": [
       "<table class=\"simpletable\">\n",
       "<caption>Logit Regression Results</caption>\n",
       "<tr>\n",
       "  <th>Dep. Variable:</th>      <td>is_spam</td>     <th>  No. Observations:  </th>   <td>  4601</td>  \n",
       "</tr>\n",
       "<tr>\n",
       "  <th>Model:</th>               <td>Logit</td>      <th>  Df Residuals:      </th>   <td>  4599</td>  \n",
       "</tr>\n",
       "<tr>\n",
       "  <th>Method:</th>               <td>MLE</td>       <th>  Df Model:          </th>   <td>     1</td>  \n",
       "</tr>\n",
       "<tr>\n",
       "  <th>Date:</th>          <td>Sun, 15 Mar 2015</td> <th>  Pseudo R-squ.:     </th>   <td>0.1604</td>  \n",
       "</tr>\n",
       "<tr>\n",
       "  <th>Time:</th>              <td>22:19:48</td>     <th>  Log-Likelihood:    </th>  <td> -2590.2</td> \n",
       "</tr>\n",
       "<tr>\n",
       "  <th>converged:</th>           <td>True</td>       <th>  LL-Null:           </th>  <td> -3085.1</td> \n",
       "</tr>\n",
       "<tr>\n",
       "  <th> </th>                      <td> </td>        <th>  LLR p-value:       </th> <td>3.003e-217</td>\n",
       "</tr>\n",
       "</table>\n",
       "<table class=\"simpletable\">\n",
       "<tr>\n",
       "               <td></td>                 <th>coef</th>     <th>std err</th>      <th>z</th>      <th>P>|z|</th> <th>[95.0% Conf. Int.]</th> \n",
       "</tr>\n",
       "<tr>\n",
       "  <th>Intercept</th>                  <td>   -1.2531</td> <td>    0.046</td> <td>  -27.416</td> <td> 0.000</td> <td>   -1.343    -1.163</td>\n",
       "</tr>\n",
       "<tr>\n",
       "  <th>capital_run_length_longest</th> <td>    0.0252</td> <td>    0.001</td> <td>   21.189</td> <td> 0.000</td> <td>    0.023     0.028</td>\n",
       "</tr>\n",
       "</table>"
      ],
      "text/plain": [
       "<class 'statsmodels.iolib.summary.Summary'>\n",
       "\"\"\"\n",
       "                           Logit Regression Results                           \n",
       "==============================================================================\n",
       "Dep. Variable:                is_spam   No. Observations:                 4601\n",
       "Model:                          Logit   Df Residuals:                     4599\n",
       "Method:                           MLE   Df Model:                            1\n",
       "Date:                Sun, 15 Mar 2015   Pseudo R-squ.:                  0.1604\n",
       "Time:                        22:19:48   Log-Likelihood:                -2590.2\n",
       "converged:                       True   LL-Null:                       -3085.1\n",
       "                                        LLR p-value:                3.003e-217\n",
       "==============================================================================================\n",
       "                                 coef    std err          z      P>|z|      [95.0% Conf. Int.]\n",
       "----------------------------------------------------------------------------------------------\n",
       "Intercept                     -1.2531      0.046    -27.416      0.000        -1.343    -1.163\n",
       "capital_run_length_longest     0.0252      0.001     21.189      0.000         0.023     0.028\n",
       "==============================================================================================\n",
       "\"\"\""
      ]
     },
     "execution_count": 83,
     "metadata": {},
     "output_type": "execute_result"
    }
   ],
   "source": [
    "lgt = smf.logit('is_spam ~ capital_run_length_longest', spam_data)\n",
    "logit_fit = lgt.fit()\n",
    "logit_fit.summary()"
   ]
  },
  {
   "cell_type": "markdown",
   "metadata": {},
   "source": [
    "\"One easy way to answer this is to check if the p-value (P>|z|) is less than 0.05.\"\n",
    "\n",
    "P>|z| = 0 ==> This single feature, capital_run_length_longest, is accurate?"
   ]
  },
  {
   "cell_type": "markdown",
   "metadata": {},
   "source": [
    "### Exercise 3: Use train-test spit to split your data at a 30% mark and run another logistic regression using all variables\n",
    "use random state = 12 so that we can compare results"
   ]
  },
  {
   "cell_type": "code",
   "execution_count": 87,
   "metadata": {
    "collapsed": false
   },
   "outputs": [],
   "source": [
    "from sklearn.cross_validation import train_test_split\n",
    "\n",
    "train, test = train_test_split(spam_data, test_size=0.3, random_state=12)"
   ]
  },
  {
   "cell_type": "code",
   "execution_count": 88,
   "metadata": {
    "collapsed": false
   },
   "outputs": [],
   "source": [
    "cols = spam_data.columns[:57]"
   ]
  },
  {
   "cell_type": "code",
   "execution_count": 89,
   "metadata": {
    "collapsed": false
   },
   "outputs": [
    {
     "data": {
      "text/plain": [
       "Index([u'word_freq_make', u'word_freq_address', u'word_freq_all', u'word_freq_3d', u'word_freq_our', u'word_freq_over', u'word_freq_remove', u'word_freq_internet', u'word_freq_order', u'word_freq_mail', u'word_freq_receive', u'word_freq_will', u'word_freq_people', u'word_freq_report', u'word_freq_addresses', u'word_freq_free', u'word_freq_business', u'word_freq_email', u'word_freq_you', u'word_freq_credit', u'word_freq_your', u'word_freq_font', u'word_freq_000', u'word_freq_money', u'word_freq_hp', u'word_freq_hpl', u'word_freq_george', u'word_freq_650', u'word_freq_lab', u'word_freq_labs', u'word_freq_telnet', u'word_freq_857', u'word_freq_data', u'word_freq_415', u'word_freq_85', u'word_freq_technology', u'word_freq_1999', u'word_freq_parts', u'word_freq_pm', u'word_freq_direct', u'word_freq_cs', u'word_freq_meeting', u'word_freq_original', u'word_freq_project', u'word_freq_re', u'word_freq_edu', u'word_freq_table', u'word_freq_conference', u'char_freq_;', u'char_freq_(', u'char_freq_[', u'char_freq_!', u'char_freq_$', u'char_freq_#', u'capital_run_length_average', u'capital_run_length_longest', u'capital_run_length_total'], dtype='object')"
      ]
     },
     "execution_count": 89,
     "metadata": {},
     "output_type": "execute_result"
    }
   ],
   "source": [
    "cols"
   ]
  },
  {
   "cell_type": "code",
   "execution_count": 90,
   "metadata": {
    "collapsed": true
   },
   "outputs": [],
   "source": [
    "all_variables = 'word_freq_make + word_freq_address + word_freq_all + word_freq_3d + word_freq_our + word_freq_over + word_freq_remove + word_freq_internet + word_freq_order + word_freq_mail + word_freq_receive + word_freq_will + word_freq_people + word_freq_report + word_freq_addresses + word_freq_free + word_freq_business + word_freq_email + word_freq_you + word_freq_credit + word_freq_your + word_freq_font + word_freq_000 + word_freq_money + word_freq_hp + word_freq_hpl + word_freq_george + word_freq_650 + word_freq_lab + word_freq_labs + word_freq_telnet + word_freq_857 + word_freq_data + word_freq_415 + word_freq_85 + word_freq_technology + word_freq_1999 + word_freq_parts + word_freq_pm + word_freq_direct + word_freq_cs + word_freq_meeting + word_freq_original + word_freq_project + word_freq_re + word_freq_edu + word_freq_table + word_freq_conference + char_freq_; + char_freq_( + char_freq_[ + char_freq_! + char_freq_$ + char_freq_# + capital_run_length_average + capital_run_length_longest + capital_run_length_total'"
   ]
  },
  {
   "cell_type": "code",
   "execution_count": 91,
   "metadata": {
    "collapsed": false
   },
   "outputs": [],
   "source": [
    "train = pd.DataFrame(data=train, columns=spam_data.columns)\n",
    "test = pd.DataFrame(data=test, columns=spam_data.columns)"
   ]
  },
  {
   "cell_type": "code",
   "execution_count": 92,
   "metadata": {
    "collapsed": false
   },
   "outputs": [],
   "source": [
    "logit = smf.Logit(train[\"is_spam\"], train[cols])"
   ]
  },
  {
   "cell_type": "code",
   "execution_count": 93,
   "metadata": {
    "collapsed": false
   },
   "outputs": [
    {
     "name": "stdout",
     "output_type": "stream",
     "text": [
      "Optimization terminated successfully.\n",
      "         Current function value: 0.206731\n",
      "         Iterations 15\n"
     ]
    },
    {
     "data": {
      "text/html": [
       "<table class=\"simpletable\">\n",
       "<caption>Logit Regression Results</caption>\n",
       "<tr>\n",
       "  <th>Dep. Variable:</th>      <td>is_spam</td>     <th>  No. Observations:  </th>  <td>  3220</td> \n",
       "</tr>\n",
       "<tr>\n",
       "  <th>Model:</th>               <td>Logit</td>      <th>  Df Residuals:      </th>  <td>  3163</td> \n",
       "</tr>\n",
       "<tr>\n",
       "  <th>Method:</th>               <td>MLE</td>       <th>  Df Model:          </th>  <td>    56</td> \n",
       "</tr>\n",
       "<tr>\n",
       "  <th>Date:</th>          <td>Sun, 15 Mar 2015</td> <th>  Pseudo R-squ.:     </th>  <td>0.6928</td> \n",
       "</tr>\n",
       "<tr>\n",
       "  <th>Time:</th>              <td>22:20:07</td>     <th>  Log-Likelihood:    </th> <td> -665.67</td>\n",
       "</tr>\n",
       "<tr>\n",
       "  <th>converged:</th>           <td>True</td>       <th>  LL-Null:           </th> <td> -2166.7</td>\n",
       "</tr>\n",
       "<tr>\n",
       "  <th> </th>                      <td> </td>        <th>  LLR p-value:       </th>  <td> 0.000</td> \n",
       "</tr>\n",
       "</table>\n",
       "<table class=\"simpletable\">\n",
       "<tr>\n",
       "               <td></td>                 <th>coef</th>     <th>std err</th>      <th>z</th>      <th>P>|z|</th> <th>[95.0% Conf. Int.]</th> \n",
       "</tr>\n",
       "<tr>\n",
       "  <th>word_freq_make</th>             <td>   -0.6916</td> <td>    0.275</td> <td>   -2.511</td> <td> 0.012</td> <td>   -1.231    -0.152</td>\n",
       "</tr>\n",
       "<tr>\n",
       "  <th>word_freq_address</th>          <td>   -0.2482</td> <td>    0.081</td> <td>   -3.056</td> <td> 0.002</td> <td>   -0.407    -0.089</td>\n",
       "</tr>\n",
       "<tr>\n",
       "  <th>word_freq_all</th>              <td>   -0.1582</td> <td>    0.131</td> <td>   -1.212</td> <td> 0.226</td> <td>   -0.414     0.098</td>\n",
       "</tr>\n",
       "<tr>\n",
       "  <th>word_freq_3d</th>               <td>    2.1381</td> <td>    1.382</td> <td>    1.547</td> <td> 0.122</td> <td>   -0.571     4.847</td>\n",
       "</tr>\n",
       "<tr>\n",
       "  <th>word_freq_our</th>              <td>    0.6320</td> <td>    0.137</td> <td>    4.610</td> <td> 0.000</td> <td>    0.363     0.901</td>\n",
       "</tr>\n",
       "<tr>\n",
       "  <th>word_freq_over</th>             <td>    0.4819</td> <td>    0.270</td> <td>    1.787</td> <td> 0.074</td> <td>   -0.047     1.010</td>\n",
       "</tr>\n",
       "<tr>\n",
       "  <th>word_freq_remove</th>           <td>    1.8561</td> <td>    0.359</td> <td>    5.163</td> <td> 0.000</td> <td>    1.152     2.561</td>\n",
       "</tr>\n",
       "<tr>\n",
       "  <th>word_freq_internet</th>         <td>    0.1306</td> <td>    0.178</td> <td>    0.734</td> <td> 0.463</td> <td>   -0.218     0.479</td>\n",
       "</tr>\n",
       "<tr>\n",
       "  <th>word_freq_order</th>            <td>    0.3066</td> <td>    0.316</td> <td>    0.970</td> <td> 0.332</td> <td>   -0.313     0.926</td>\n",
       "</tr>\n",
       "<tr>\n",
       "  <th>word_freq_mail</th>             <td>    0.2851</td> <td>    0.121</td> <td>    2.353</td> <td> 0.019</td> <td>    0.048     0.523</td>\n",
       "</tr>\n",
       "<tr>\n",
       "  <th>word_freq_receive</th>          <td>    0.1376</td> <td>    0.357</td> <td>    0.386</td> <td> 0.700</td> <td>   -0.562     0.837</td>\n",
       "</tr>\n",
       "<tr>\n",
       "  <th>word_freq_will</th>             <td>   -0.4118</td> <td>    0.089</td> <td>   -4.652</td> <td> 0.000</td> <td>   -0.585    -0.238</td>\n",
       "</tr>\n",
       "<tr>\n",
       "  <th>word_freq_people</th>           <td>   -0.3343</td> <td>    0.269</td> <td>   -1.244</td> <td> 0.213</td> <td>   -0.861     0.192</td>\n",
       "</tr>\n",
       "<tr>\n",
       "  <th>word_freq_report</th>           <td>   -0.0309</td> <td>    0.215</td> <td>   -0.144</td> <td> 0.886</td> <td>   -0.453     0.391</td>\n",
       "</tr>\n",
       "<tr>\n",
       "  <th>word_freq_addresses</th>        <td>    0.8323</td> <td>    0.729</td> <td>    1.141</td> <td> 0.254</td> <td>   -0.597     2.262</td>\n",
       "</tr>\n",
       "<tr>\n",
       "  <th>word_freq_free</th>             <td>    0.7546</td> <td>    0.166</td> <td>    4.544</td> <td> 0.000</td> <td>    0.429     1.080</td>\n",
       "</tr>\n",
       "<tr>\n",
       "  <th>word_freq_business</th>         <td>    0.8077</td> <td>    0.276</td> <td>    2.925</td> <td> 0.003</td> <td>    0.266     1.349</td>\n",
       "</tr>\n",
       "<tr>\n",
       "  <th>word_freq_email</th>            <td>   -0.0139</td> <td>    0.124</td> <td>   -0.113</td> <td> 0.910</td> <td>   -0.256     0.228</td>\n",
       "</tr>\n",
       "<tr>\n",
       "  <th>word_freq_you</th>              <td>   -0.0846</td> <td>    0.039</td> <td>   -2.152</td> <td> 0.031</td> <td>   -0.162    -0.008</td>\n",
       "</tr>\n",
       "<tr>\n",
       "  <th>word_freq_credit</th>           <td>    0.7856</td> <td>    0.538</td> <td>    1.461</td> <td> 0.144</td> <td>   -0.268     1.840</td>\n",
       "</tr>\n",
       "<tr>\n",
       "  <th>word_freq_your</th>             <td>    0.2016</td> <td>    0.065</td> <td>    3.089</td> <td> 0.002</td> <td>    0.074     0.330</td>\n",
       "</tr>\n",
       "<tr>\n",
       "  <th>word_freq_font</th>             <td>    0.3534</td> <td>    0.298</td> <td>    1.185</td> <td> 0.236</td> <td>   -0.231     0.938</td>\n",
       "</tr>\n",
       "<tr>\n",
       "  <th>word_freq_000</th>              <td>    2.1372</td> <td>    0.557</td> <td>    3.836</td> <td> 0.000</td> <td>    1.045     3.229</td>\n",
       "</tr>\n",
       "<tr>\n",
       "  <th>word_freq_money</th>            <td>    0.2140</td> <td>    0.151</td> <td>    1.416</td> <td> 0.157</td> <td>   -0.082     0.510</td>\n",
       "</tr>\n",
       "<tr>\n",
       "  <th>word_freq_hp</th>               <td>   -2.8178</td> <td>    0.480</td> <td>   -5.865</td> <td> 0.000</td> <td>   -3.759    -1.876</td>\n",
       "</tr>\n",
       "<tr>\n",
       "  <th>word_freq_hpl</th>              <td>   -0.9252</td> <td>    0.553</td> <td>   -1.673</td> <td> 0.094</td> <td>   -2.009     0.159</td>\n",
       "</tr>\n",
       "<tr>\n",
       "  <th>word_freq_george</th>           <td>   -7.7470</td> <td>    1.735</td> <td>   -4.465</td> <td> 0.000</td> <td>  -11.148    -4.346</td>\n",
       "</tr>\n",
       "<tr>\n",
       "  <th>word_freq_650</th>              <td>    0.3064</td> <td>    0.232</td> <td>    1.321</td> <td> 0.186</td> <td>   -0.148     0.761</td>\n",
       "</tr>\n",
       "<tr>\n",
       "  <th>word_freq_lab</th>              <td>   -7.6650</td> <td>    4.723</td> <td>   -1.623</td> <td> 0.105</td> <td>  -16.921     1.591</td>\n",
       "</tr>\n",
       "<tr>\n",
       "  <th>word_freq_labs</th>             <td>   -0.9011</td> <td>    0.516</td> <td>   -1.746</td> <td> 0.081</td> <td>   -1.913     0.110</td>\n",
       "</tr>\n",
       "<tr>\n",
       "  <th>word_freq_telnet</th>           <td>   -0.3275</td> <td>    0.593</td> <td>   -0.552</td> <td> 0.581</td> <td>   -1.489     0.834</td>\n",
       "</tr>\n",
       "<tr>\n",
       "  <th>word_freq_857</th>              <td>    3.3566</td> <td>    4.660</td> <td>    0.720</td> <td> 0.471</td> <td>   -5.777    12.490</td>\n",
       "</tr>\n",
       "<tr>\n",
       "  <th>word_freq_data</th>             <td>   -0.8888</td> <td>    0.333</td> <td>   -2.667</td> <td> 0.008</td> <td>   -1.542    -0.236</td>\n",
       "</tr>\n",
       "<tr>\n",
       "  <th>word_freq_415</th>              <td>   -1.6268</td> <td>    5.623</td> <td>   -0.289</td> <td> 0.772</td> <td>  -12.649     9.395</td>\n",
       "</tr>\n",
       "<tr>\n",
       "  <th>word_freq_85</th>               <td>   -1.9594</td> <td>    1.185</td> <td>   -1.654</td> <td> 0.098</td> <td>   -4.281     0.362</td>\n",
       "</tr>\n",
       "<tr>\n",
       "  <th>word_freq_technology</th>       <td>    0.4831</td> <td>    0.380</td> <td>    1.271</td> <td> 0.204</td> <td>   -0.262     1.228</td>\n",
       "</tr>\n",
       "<tr>\n",
       "  <th>word_freq_1999</th>             <td>   -0.0752</td> <td>    0.214</td> <td>   -0.351</td> <td> 0.726</td> <td>   -0.495     0.345</td>\n",
       "</tr>\n",
       "<tr>\n",
       "  <th>word_freq_parts</th>            <td>   -0.8269</td> <td>    0.675</td> <td>   -1.225</td> <td> 0.221</td> <td>   -2.150     0.496</td>\n",
       "</tr>\n",
       "<tr>\n",
       "  <th>word_freq_pm</th>               <td>   -0.7768</td> <td>    0.419</td> <td>   -1.854</td> <td> 0.064</td> <td>   -1.598     0.045</td>\n",
       "</tr>\n",
       "<tr>\n",
       "  <th>word_freq_direct</th>           <td>    0.4157</td> <td>    0.869</td> <td>    0.478</td> <td> 0.632</td> <td>   -1.287     2.119</td>\n",
       "</tr>\n",
       "<tr>\n",
       "  <th>word_freq_cs</th>               <td>  -29.5946</td> <td>   24.982</td> <td>   -1.185</td> <td> 0.236</td> <td>  -78.558    19.369</td>\n",
       "</tr>\n",
       "<tr>\n",
       "  <th>word_freq_meeting</th>          <td>   -3.3327</td> <td>    1.147</td> <td>   -2.906</td> <td> 0.004</td> <td>   -5.580    -1.085</td>\n",
       "</tr>\n",
       "<tr>\n",
       "  <th>word_freq_original</th>         <td>   -1.3705</td> <td>    0.848</td> <td>   -1.615</td> <td> 0.106</td> <td>   -3.033     0.292</td>\n",
       "</tr>\n",
       "<tr>\n",
       "  <th>word_freq_project</th>          <td>   -2.2198</td> <td>    0.645</td> <td>   -3.439</td> <td> 0.001</td> <td>   -3.485    -0.955</td>\n",
       "</tr>\n",
       "<tr>\n",
       "  <th>word_freq_re</th>               <td>   -1.0228</td> <td>    0.176</td> <td>   -5.795</td> <td> 0.000</td> <td>   -1.369    -0.677</td>\n",
       "</tr>\n",
       "<tr>\n",
       "  <th>word_freq_edu</th>              <td>   -2.5682</td> <td>    0.441</td> <td>   -5.817</td> <td> 0.000</td> <td>   -3.433    -1.703</td>\n",
       "</tr>\n",
       "<tr>\n",
       "  <th>word_freq_table</th>            <td>   -2.6019</td> <td>    1.919</td> <td>   -1.356</td> <td> 0.175</td> <td>   -6.363     1.159</td>\n",
       "</tr>\n",
       "<tr>\n",
       "  <th>word_freq_conference</th>       <td>   -4.9416</td> <td>    1.908</td> <td>   -2.590</td> <td> 0.010</td> <td>   -8.681    -1.202</td>\n",
       "</tr>\n",
       "<tr>\n",
       "  <th>char_freq_;</th>                <td>   -2.1246</td> <td>    0.764</td> <td>   -2.780</td> <td> 0.005</td> <td>   -3.622    -0.627</td>\n",
       "</tr>\n",
       "<tr>\n",
       "  <th>char_freq_(</th>                <td>   -1.0750</td> <td>    0.389</td> <td>   -2.766</td> <td> 0.006</td> <td>   -1.837    -0.313</td>\n",
       "</tr>\n",
       "<tr>\n",
       "  <th>char_freq_[</th>                <td>   -1.3056</td> <td>    0.977</td> <td>   -1.336</td> <td> 0.182</td> <td>   -3.221     0.610</td>\n",
       "</tr>\n",
       "<tr>\n",
       "  <th>char_freq_!</th>                <td>    0.2048</td> <td>    0.062</td> <td>    3.321</td> <td> 0.001</td> <td>    0.084     0.326</td>\n",
       "</tr>\n",
       "<tr>\n",
       "  <th>char_freq_$</th>                <td>    6.3255</td> <td>    0.950</td> <td>    6.662</td> <td> 0.000</td> <td>    4.464     8.187</td>\n",
       "</tr>\n",
       "<tr>\n",
       "  <th>char_freq_#</th>                <td>    2.8197</td> <td>    1.375</td> <td>    2.051</td> <td> 0.040</td> <td>    0.125     5.514</td>\n",
       "</tr>\n",
       "<tr>\n",
       "  <th>capital_run_length_average</th> <td>   -0.0126</td> <td>    0.009</td> <td>   -1.475</td> <td> 0.140</td> <td>   -0.029     0.004</td>\n",
       "</tr>\n",
       "<tr>\n",
       "  <th>capital_run_length_longest</th> <td>    0.0078</td> <td>    0.002</td> <td>    3.151</td> <td> 0.002</td> <td>    0.003     0.013</td>\n",
       "</tr>\n",
       "<tr>\n",
       "  <th>capital_run_length_total</th>   <td>    0.0005</td> <td>    0.000</td> <td>    2.018</td> <td> 0.044</td> <td> 1.55e-05     0.001</td>\n",
       "</tr>\n",
       "</table>"
      ],
      "text/plain": [
       "<class 'statsmodels.iolib.summary.Summary'>\n",
       "\"\"\"\n",
       "                           Logit Regression Results                           \n",
       "==============================================================================\n",
       "Dep. Variable:                is_spam   No. Observations:                 3220\n",
       "Model:                          Logit   Df Residuals:                     3163\n",
       "Method:                           MLE   Df Model:                           56\n",
       "Date:                Sun, 15 Mar 2015   Pseudo R-squ.:                  0.6928\n",
       "Time:                        22:20:07   Log-Likelihood:                -665.67\n",
       "converged:                       True   LL-Null:                       -2166.7\n",
       "                                        LLR p-value:                     0.000\n",
       "==============================================================================================\n",
       "                                 coef    std err          z      P>|z|      [95.0% Conf. Int.]\n",
       "----------------------------------------------------------------------------------------------\n",
       "word_freq_make                -0.6916      0.275     -2.511      0.012        -1.231    -0.152\n",
       "word_freq_address             -0.2482      0.081     -3.056      0.002        -0.407    -0.089\n",
       "word_freq_all                 -0.1582      0.131     -1.212      0.226        -0.414     0.098\n",
       "word_freq_3d                   2.1381      1.382      1.547      0.122        -0.571     4.847\n",
       "word_freq_our                  0.6320      0.137      4.610      0.000         0.363     0.901\n",
       "word_freq_over                 0.4819      0.270      1.787      0.074        -0.047     1.010\n",
       "word_freq_remove               1.8561      0.359      5.163      0.000         1.152     2.561\n",
       "word_freq_internet             0.1306      0.178      0.734      0.463        -0.218     0.479\n",
       "word_freq_order                0.3066      0.316      0.970      0.332        -0.313     0.926\n",
       "word_freq_mail                 0.2851      0.121      2.353      0.019         0.048     0.523\n",
       "word_freq_receive              0.1376      0.357      0.386      0.700        -0.562     0.837\n",
       "word_freq_will                -0.4118      0.089     -4.652      0.000        -0.585    -0.238\n",
       "word_freq_people              -0.3343      0.269     -1.244      0.213        -0.861     0.192\n",
       "word_freq_report              -0.0309      0.215     -0.144      0.886        -0.453     0.391\n",
       "word_freq_addresses            0.8323      0.729      1.141      0.254        -0.597     2.262\n",
       "word_freq_free                 0.7546      0.166      4.544      0.000         0.429     1.080\n",
       "word_freq_business             0.8077      0.276      2.925      0.003         0.266     1.349\n",
       "word_freq_email               -0.0139      0.124     -0.113      0.910        -0.256     0.228\n",
       "word_freq_you                 -0.0846      0.039     -2.152      0.031        -0.162    -0.008\n",
       "word_freq_credit               0.7856      0.538      1.461      0.144        -0.268     1.840\n",
       "word_freq_your                 0.2016      0.065      3.089      0.002         0.074     0.330\n",
       "word_freq_font                 0.3534      0.298      1.185      0.236        -0.231     0.938\n",
       "word_freq_000                  2.1372      0.557      3.836      0.000         1.045     3.229\n",
       "word_freq_money                0.2140      0.151      1.416      0.157        -0.082     0.510\n",
       "word_freq_hp                  -2.8178      0.480     -5.865      0.000        -3.759    -1.876\n",
       "word_freq_hpl                 -0.9252      0.553     -1.673      0.094        -2.009     0.159\n",
       "word_freq_george              -7.7470      1.735     -4.465      0.000       -11.148    -4.346\n",
       "word_freq_650                  0.3064      0.232      1.321      0.186        -0.148     0.761\n",
       "word_freq_lab                 -7.6650      4.723     -1.623      0.105       -16.921     1.591\n",
       "word_freq_labs                -0.9011      0.516     -1.746      0.081        -1.913     0.110\n",
       "word_freq_telnet              -0.3275      0.593     -0.552      0.581        -1.489     0.834\n",
       "word_freq_857                  3.3566      4.660      0.720      0.471        -5.777    12.490\n",
       "word_freq_data                -0.8888      0.333     -2.667      0.008        -1.542    -0.236\n",
       "word_freq_415                 -1.6268      5.623     -0.289      0.772       -12.649     9.395\n",
       "word_freq_85                  -1.9594      1.185     -1.654      0.098        -4.281     0.362\n",
       "word_freq_technology           0.4831      0.380      1.271      0.204        -0.262     1.228\n",
       "word_freq_1999                -0.0752      0.214     -0.351      0.726        -0.495     0.345\n",
       "word_freq_parts               -0.8269      0.675     -1.225      0.221        -2.150     0.496\n",
       "word_freq_pm                  -0.7768      0.419     -1.854      0.064        -1.598     0.045\n",
       "word_freq_direct               0.4157      0.869      0.478      0.632        -1.287     2.119\n",
       "word_freq_cs                 -29.5946     24.982     -1.185      0.236       -78.558    19.369\n",
       "word_freq_meeting             -3.3327      1.147     -2.906      0.004        -5.580    -1.085\n",
       "word_freq_original            -1.3705      0.848     -1.615      0.106        -3.033     0.292\n",
       "word_freq_project             -2.2198      0.645     -3.439      0.001        -3.485    -0.955\n",
       "word_freq_re                  -1.0228      0.176     -5.795      0.000        -1.369    -0.677\n",
       "word_freq_edu                 -2.5682      0.441     -5.817      0.000        -3.433    -1.703\n",
       "word_freq_table               -2.6019      1.919     -1.356      0.175        -6.363     1.159\n",
       "word_freq_conference          -4.9416      1.908     -2.590      0.010        -8.681    -1.202\n",
       "char_freq_;                   -2.1246      0.764     -2.780      0.005        -3.622    -0.627\n",
       "char_freq_(                   -1.0750      0.389     -2.766      0.006        -1.837    -0.313\n",
       "char_freq_[                   -1.3056      0.977     -1.336      0.182        -3.221     0.610\n",
       "char_freq_!                    0.2048      0.062      3.321      0.001         0.084     0.326\n",
       "char_freq_$                    6.3255      0.950      6.662      0.000         4.464     8.187\n",
       "char_freq_#                    2.8197      1.375      2.051      0.040         0.125     5.514\n",
       "capital_run_length_average    -0.0126      0.009     -1.475      0.140        -0.029     0.004\n",
       "capital_run_length_longest     0.0078      0.002      3.151      0.002         0.003     0.013\n",
       "capital_run_length_total       0.0005      0.000      2.018      0.044      1.55e-05     0.001\n",
       "==============================================================================================\n",
       "\"\"\""
      ]
     },
     "execution_count": 93,
     "metadata": {},
     "output_type": "execute_result"
    }
   ],
   "source": [
    "results=logit.fit()\n",
    "results.summary()"
   ]
  },
  {
   "cell_type": "code",
   "execution_count": 94,
   "metadata": {
    "collapsed": false
   },
   "outputs": [
    {
     "data": {
      "text/plain": [
       "Intercept                     0.285631\n",
       "capital_run_length_longest    1.025544\n",
       "dtype: float64"
      ]
     },
     "execution_count": 94,
     "metadata": {},
     "output_type": "execute_result"
    }
   ],
   "source": [
    "logit_fit.params.map(np.exp)"
   ]
  },
  {
   "cell_type": "code",
   "execution_count": 95,
   "metadata": {
    "collapsed": false
   },
   "outputs": [
    {
     "data": {
      "text/plain": [
       "array([ 0.99999998,  0.31565528,  0.27376611, ...,  0.55851164,\n",
       "        0.45798677,  0.22656115])"
      ]
     },
     "execution_count": 95,
     "metadata": {},
     "output_type": "execute_result"
    }
   ],
   "source": [
    "logit_fit.predict(test)"
   ]
  },
  {
   "cell_type": "markdown",
   "metadata": {},
   "source": [
    "# New split"
   ]
  },
  {
   "cell_type": "code",
   "execution_count": 106,
   "metadata": {
    "collapsed": true
   },
   "outputs": [],
   "source": [
    "X = pd.read_csv(\"X.csv\")\n",
    "y = pd.read_csv(\"y.csv\")"
   ]
  },
  {
   "cell_type": "code",
   "execution_count": 107,
   "metadata": {
    "collapsed": true
   },
   "outputs": [],
   "source": [
    "X_train, X_test, y_train, y_test = train_test_split(X, y, test_size=0.3, random_state=12)"
   ]
  },
  {
   "cell_type": "code",
   "execution_count": 110,
   "metadata": {
    "collapsed": false
   },
   "outputs": [
    {
     "data": {
      "text/plain": [
       "(3220, 57)"
      ]
     },
     "execution_count": 110,
     "metadata": {},
     "output_type": "execute_result"
    }
   ],
   "source": [
    "X_train.shape"
   ]
  },
  {
   "cell_type": "code",
   "execution_count": 112,
   "metadata": {
    "collapsed": false
   },
   "outputs": [
    {
     "data": {
      "text/plain": [
       "(3220, 1)"
      ]
     },
     "execution_count": 112,
     "metadata": {},
     "output_type": "execute_result"
    }
   ],
   "source": [
    "y_train.shape"
   ]
  },
  {
   "cell_type": "code",
   "execution_count": 113,
   "metadata": {
    "collapsed": true
   },
   "outputs": [],
   "source": [
    "y_train = y_train.reshape((3220 ,))"
   ]
  },
  {
   "cell_type": "code",
   "execution_count": 114,
   "metadata": {
    "collapsed": false
   },
   "outputs": [
    {
     "data": {
      "text/plain": [
       "(3220,)"
      ]
     },
     "execution_count": 114,
     "metadata": {},
     "output_type": "execute_result"
    }
   ],
   "source": [
    "y_train.shape"
   ]
  },
  {
   "cell_type": "code",
   "execution_count": 115,
   "metadata": {
    "collapsed": true
   },
   "outputs": [],
   "source": [
    "LR = LogisticRegression()"
   ]
  },
  {
   "cell_type": "code",
   "execution_count": 117,
   "metadata": {
    "collapsed": false
   },
   "outputs": [
    {
     "data": {
      "text/plain": [
       "LogisticRegression(C=1.0, class_weight=None, dual=False, fit_intercept=True,\n",
       "          intercept_scaling=1, penalty='l2', random_state=None, tol=0.0001)"
      ]
     },
     "execution_count": 117,
     "metadata": {},
     "output_type": "execute_result"
    }
   ],
   "source": [
    "LR.fit(X_train, y_train)"
   ]
  },
  {
   "cell_type": "code",
   "execution_count": 133,
   "metadata": {
    "collapsed": true
   },
   "outputs": [],
   "source": [
    "is_spam =['1 - is_spam', 'is_spam']"
   ]
  },
  {
   "cell_type": "code",
   "execution_count": 134,
   "metadata": {
    "collapsed": false
   },
   "outputs": [
    {
     "data": {
      "text/plain": [
       "0.92958052597261465"
      ]
     },
     "execution_count": 134,
     "metadata": {},
     "output_type": "execute_result"
    }
   ],
   "source": [
    "LR.score(X, y)"
   ]
  },
  {
   "cell_type": "code",
   "execution_count": 135,
   "metadata": {
    "collapsed": false
   },
   "outputs": [
    {
     "data": {
      "text/plain": [
       "array([1, 0, 0, ..., 1, 1, 0])"
      ]
     },
     "execution_count": 135,
     "metadata": {},
     "output_type": "execute_result"
    }
   ],
   "source": [
    "pred = LR.predict(X_test)\n",
    "pred"
   ]
  },
  {
   "cell_type": "markdown",
   "metadata": {},
   "source": [
    "###Exercise 4: Apply Crossvalidation to see how the model fares across different splits of your date"
   ]
  },
  {
   "cell_type": "code",
   "execution_count": 136,
   "metadata": {
    "collapsed": false
   },
   "outputs": [
    {
     "name": "stdout",
     "output_type": "stream",
     "text": [
      "[ 0.92260062  0.93188854  0.93498452  0.91304348  0.89440994  0.95031056\n",
      "  0.94720497  0.91900312  0.90965732  0.92211838]\n",
      "0.924522144451\n"
     ]
    }
   ],
   "source": [
    "from sklearn.cross_validation import cross_val_score\n",
    "from sklearn.linear_model import LogisticRegression\n",
    "\n",
    "scores = cross_val_score(LogisticRegression(), X_train, y_train, scoring='accuracy', cv=10)\n",
    "print scores\n",
    "print scores.mean()"
   ]
  },
  {
   "cell_type": "markdown",
   "metadata": {},
   "source": [
    "### Exercise 5: Compare Performance of Logistic Regression to KNN with 3 neighbors\n",
    "-Which model is more accurate?"
   ]
  },
  {
   "cell_type": "code",
   "execution_count": 137,
   "metadata": {
    "collapsed": true
   },
   "outputs": [],
   "source": [
    "from matplotlib.colors import ListedColormap\n",
    "from sklearn import neighbors, datasets, feature_selection\n",
    "from sklearn.cross_validation import train_test_split, cross_val_score"
   ]
  },
  {
   "cell_type": "code",
   "execution_count": 138,
   "metadata": {
    "collapsed": false
   },
   "outputs": [
    {
     "name": "stdout",
     "output_type": "stream",
     "text": [
      "[0.78276611151339603]\n"
     ]
    }
   ],
   "source": [
    "n_neighbors = [3]\n",
    "scores = []\n",
    "for n in n_neighbors:\n",
    "    clf = neighbors.KNeighborsClassifier(3) #number of neighbors\n",
    "    clf.fit(X_train, y_train) #try to fit train (70%) \n",
    "    scores.append(clf.score(X_test, y_test)) #test to see how good of a generalization it is (on 30%)\n",
    "    \n",
    "print scores"
   ]
  },
  {
   "cell_type": "markdown",
   "metadata": {},
   "source": [
    "Logistic Regression > KNN with 3 neighbors based on scores"
   ]
  },
  {
   "cell_type": "markdown",
   "metadata": {},
   "source": [
    "### Exercise 6: Evaluate Feature Importance\n",
    "Which features are the most influential in this model?"
   ]
  },
  {
   "cell_type": "markdown",
   "metadata": {
    "collapsed": true
   },
   "source": [
    "\"One easy way to answer this is to check if the p-value (P>|z|) is less than 0.05.\"\n",
    "\n",
    "From results.summary() in Ex. #3, those are: \n",
    "word_freq_make\n",
    "word_freq_address\n",
    "word_freq_our\n",
    "word_freq_remove\n",
    "word_freq_mail\n",
    "word_freq_will\n",
    "word_freq_free\n",
    "word_freq_business\n",
    "word_freq_you\n",
    "word_freq_your\n",
    "word_freq_000\n",
    "word_freq_hp\n",
    "word_freq_george\n",
    "word_freq_data\n",
    "word_freq_meeting\n",
    "word_freq_project\n",
    "word_freq_re\n",
    "word_freq_edu\n",
    "word_freq_conference\n",
    "char_freq_;\n",
    "char_freq_(\n",
    "char_freq_!\n",
    "char_freq_$\n",
    "char_freq_#\n",
    "capital_run_length_longest\n"
   ]
  },
  {
   "cell_type": "markdown",
   "metadata": {},
   "source": [
    "### Exercise 7: Plot the ROC Curve for the logistic regression you chose"
   ]
  },
  {
   "cell_type": "code",
   "execution_count": 139,
   "metadata": {
    "collapsed": false
   },
   "outputs": [
    {
     "name": "stdout",
     "output_type": "stream",
     "text": [
      "[[  2.24209490e-05   9.99977579e-01]\n",
      " [  9.98119076e-01   1.88092422e-03]\n",
      " [  1.00000000e+00   1.36553039e-23]\n",
      " ..., \n",
      " [  3.97663127e-03   9.96023369e-01]\n",
      " [  4.88142809e-03   9.95118572e-01]\n",
      " [  9.99958791e-01   4.12087549e-05]]\n"
     ]
    }
   ],
   "source": [
    "target_predicted_proba = LR.predict_proba(X_test)\n",
    "print target_predicted_proba"
   ]
  },
  {
   "cell_type": "code",
   "execution_count": 140,
   "metadata": {
    "collapsed": true
   },
   "outputs": [],
   "source": [
    "def plot_roc_curve(y_test, target_predicted_proba, is_spam):\n",
    "    from sklearn.metrics import roc_curve\n",
    "    from sklearn.metrics import auc\n",
    "    \n",
    "    for pos_label, category in enumerate(is_spam):\n",
    "        fpr, tpr, thresholds = roc_curve(y_test, target_predicted_proba[:, pos_label], pos_label)\n",
    "        roc_auc = auc(fpr, tpr)\n",
    "        plt.plot(fpr, tpr, label='{} ROC curve (area = {:.3f})'.format(category, roc_auc))\n",
    "    \n",
    "    plt.plot([0, 1], [0, 1], 'k--')  # random predictions curve\n",
    "    plt.xlim([0.0, 1.0])\n",
    "    plt.ylim([0.0, 1.0])\n",
    "    plt.xlabel('False Positive Rate or (1 - Specifity)')\n",
    "    plt.ylabel('True Positive Rate or (Sensitivity)')\n",
    "    plt.title('Receiver Operating Characteristic')\n",
    "    plt.legend(loc=\"lower right\")\n",
    "    "
   ]
  },
  {
   "cell_type": "code",
   "execution_count": 141,
   "metadata": {
    "collapsed": false
   },
   "outputs": [],
   "source": [
    "plot_roc_curve(y_test, target_predicted_proba, is_spam)"
   ]
  },
  {
   "cell_type": "markdown",
   "metadata": {},
   "source": [
    "### Exercise 8: Demonstrate how the accurary of your predictions changes when you set your threshold to levels other than 50%"
   ]
  },
  {
   "cell_type": "code",
   "execution_count": null,
   "metadata": {
    "collapsed": false
   },
   "outputs": [],
   "source": [
    "#Your code here"
   ]
  },
  {
   "cell_type": "markdown",
   "metadata": {},
   "source": [
    "###Exercise 9: Discuss the pro's/con's of moving the threshold away from 50%, why is/isn't this a good idea? "
   ]
  },
  {
   "cell_type": "code",
   "execution_count": null,
   "metadata": {
    "collapsed": true
   },
   "outputs": [],
   "source": [
    "#your discussion here"
   ]
  },
  {
   "cell_type": "markdown",
   "metadata": {},
   "source": [
    "###Bonus: Apply PCA to the features and visualize the data in two dimensions: "
   ]
  },
  {
   "cell_type": "code",
   "execution_count": 29,
   "metadata": {
    "collapsed": false
   },
   "outputs": [
    {
     "data": {
      "text/plain": [
       "<matplotlib.figure.Figure at 0x113f60090>"
      ]
     },
     "metadata": {},
     "output_type": "display_data"
    }
   ],
   "source": [
    "%matplotlib inline\n",
    "import numpy as np\n",
    "from itertools import cycle\n",
    "from seaborn import plt\n",
    "from sklearn.datasets import load_files\n",
    "\n",
    "# Some nice default configuration for plots\n",
    "plt.rcParams['figure.figsize'] = 10, 7.5\n",
    "plt.rcParams['axes.grid'] = True\n",
    "plt.gray()"
   ]
  },
  {
   "cell_type": "code",
   "execution_count": 30,
   "metadata": {
    "collapsed": false
   },
   "outputs": [
    {
     "data": {
      "text/plain": [
       "PCA(copy=True, n_components=2, whiten=True)"
      ]
     },
     "execution_count": 30,
     "metadata": {},
     "output_type": "execute_result"
    }
   ],
   "source": [
    "from sklearn.decomposition import PCA\n",
    "pca = PCA(n_components=2, whiten=True)\n",
    "pca.fit(X)"
   ]
  },
  {
   "cell_type": "code",
   "execution_count": 31,
   "metadata": {
    "collapsed": true
   },
   "outputs": [],
   "source": [
    "pca.components_X_pca = pca.transform(X)"
   ]
  },
  {
   "cell_type": "code",
   "execution_count": 32,
   "metadata": {
    "collapsed": false
   },
   "outputs": [
    {
     "data": {
      "text/plain": [
       "array([ 0.92702701,  0.07104297])"
      ]
     },
     "execution_count": 32,
     "metadata": {},
     "output_type": "execute_result"
    }
   ],
   "source": [
    "pca.explained_variance_ratio_"
   ]
  },
  {
   "cell_type": "code",
   "execution_count": 33,
   "metadata": {
    "collapsed": false
   },
   "outputs": [
    {
     "data": {
      "text/plain": [
       "0.99806998468921959"
      ]
     },
     "execution_count": 33,
     "metadata": {},
     "output_type": "execute_result"
    }
   ],
   "source": [
    "pca.explained_variance_ratio_.sum()"
   ]
  },
  {
   "cell_type": "code",
   "execution_count": 34,
   "metadata": {
    "collapsed": true
   },
   "outputs": [],
   "source": [
    "X_pca = pca.transform(X)"
   ]
  },
  {
   "cell_type": "code",
   "execution_count": 35,
   "metadata": {
    "collapsed": false
   },
   "outputs": [
    {
     "data": {
      "text/plain": [
       "array([-0.,  0.])"
      ]
     },
     "execution_count": 35,
     "metadata": {},
     "output_type": "execute_result"
    }
   ],
   "source": [
    "import numpy as np\n",
    "np.round(X_pca.mean(axis=0), decimals=5)"
   ]
  },
  {
   "cell_type": "code",
   "execution_count": 36,
   "metadata": {
    "collapsed": false
   },
   "outputs": [
    {
     "data": {
      "text/plain": [
       "array([ 1.,  1.])"
      ]
     },
     "execution_count": 36,
     "metadata": {},
     "output_type": "execute_result"
    }
   ],
   "source": [
    "np.round(X_pca.std(axis=0), decimals=5)"
   ]
  },
  {
   "cell_type": "code",
   "execution_count": 37,
   "metadata": {
    "collapsed": false
   },
   "outputs": [
    {
     "data": {
      "text/plain": [
       "array([[  1.00000000e+00,   4.34726755e-16],\n",
       "       [  4.34726755e-16,   1.00000000e+00]])"
      ]
     },
     "execution_count": 37,
     "metadata": {},
     "output_type": "execute_result"
    }
   ],
   "source": [
    "np.corrcoef(X_pca.T)"
   ]
  },
  {
   "cell_type": "code",
   "execution_count": 40,
   "metadata": {
    "collapsed": true
   },
   "outputs": [],
   "source": [
    "from itertools import cycle\n",
    "\n",
    "def plot_PCA_2D(X, y, is_spam):\n",
    "    colors = cycle('rgbcmykw')\n",
    "    target_ids = range(len(is_spam))\n",
    "    plt.figure()\n",
    "    for i, c, label in zip(target_ids, colors, target_names):\n",
    "        plt.scatter(data[target == i, 0], data[target == i, 1],\n",
    "                   c=c, label=label)\n",
    "    plt.legend()"
   ]
  },
  {
   "cell_type": "code",
   "execution_count": null,
   "metadata": {
    "collapsed": false
   },
   "outputs": [],
   "source": []
  },
  {
   "cell_type": "code",
   "execution_count": null,
   "metadata": {
    "collapsed": true
   },
   "outputs": [],
   "source": []
  }
 ],
 "metadata": {
  "kernelspec": {
   "display_name": "Python 2",
   "language": "python",
   "name": "python2"
  },
  "language_info": {
   "codemirror_mode": {
    "name": "ipython",
    "version": 2
   },
   "file_extension": ".py",
   "mimetype": "text/x-python",
   "name": "python",
   "nbconvert_exporter": "python",
   "pygments_lexer": "ipython2",
   "version": "2.7.9"
  }
 },
 "nbformat": 4,
 "nbformat_minor": 0
}
