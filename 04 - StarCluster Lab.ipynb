{
 "cells": [
  {
   "cell_type": "markdown",
   "metadata": {},
   "source": [
    "Lab\n",
    "==========================================\n",
    "Big Data I: StarCluster & IPython.parallel\n",
    "------------------------------------------\n",
    "Alessandro D. Gagliardi"
   ]
  },
  {
   "cell_type": "markdown",
   "metadata": {},
   "source": [
    "# Acquire Valued Shoppers Challenge\n",
    "\n",
    "<p><em>transactions<br></em><strong>id</strong>&nbsp;- A unique id representing a customer<br><strong>chain</strong> - An integer representing a store chain<br><strong>dept</strong>&nbsp;- An aggregate grouping of the Category (e.g. water)<br><strong>category</strong> - The product category (e.g. sparkling water)<br><strong>company</strong> - An id of the company&nbsp;that sells the item<br><strong>brand</strong> - An id of the brand to which the item belongs<br><strong>date</strong>&nbsp;- The date of purchase<br><strong>productsize</strong> - The amount of the product purchase (e.g. 16 oz of water)<br><strong>productmeasure</strong> - The units of the product purchase (e.g. ounces)<br><strong>purchasequantity</strong> - The number of units purchased<br><strong>purchaseamount</strong> - The dollar amount of the purchase</p>\n",
    "\n",
    "A negative value in productquantity and purchaseamount indicates a return.\n",
    "\n",
    "*see [kaggle.com/c/acquire-valued-shoppers-challenge](https://www.kaggle.com/c/acquire-valued-shoppers-challenge/data) for more details*"
   ]
  },
  {
   "cell_type": "code",
   "execution_count": 10,
   "metadata": {
    "collapsed": false
   },
   "outputs": [],
   "source": [
    "%matplotlib inline\n",
    "import os\n",
    "\n",
    "import pandas as pd\n",
    "\n",
    "from seaborn import plt\n",
    "from boto.s3.connection import S3Connection\n",
    "from IPython.parallel import Client"
   ]
  },
  {
   "cell_type": "code",
   "execution_count": 17,
   "metadata": {
    "collapsed": false
   },
   "outputs": [],
   "source": [
    "credentials = pd.read_csv('C:\\Users\\David\\Downloads\\credentials.csv')"
   ]
  },
  {
   "cell_type": "code",
   "execution_count": 20,
   "metadata": {
    "collapsed": false
   },
   "outputs": [
    {
     "data": {
      "text/plain": [
       "'kOQV1Hz7oZ5IJpFXtK+pFENr+I1bQDqD4ZBNdI7F'"
      ]
     },
     "execution_count": 20,
     "metadata": {},
     "output_type": "execute_result"
    }
   ],
   "source": [
    "credentials['Secret Access Key'][0]"
   ]
  },
  {
   "cell_type": "code",
   "execution_count": 21,
   "metadata": {
    "collapsed": false
   },
   "outputs": [],
   "source": [
    "s3conn = S3Connection(credentials['Access Key Id'][0], credentials['Secret Access Key'][0])\n",
    "transactions = s3conn.get_bucket('dat-sf-12')"
   ]
  },
  {
   "cell_type": "code",
   "execution_count": 7,
   "metadata": {
    "collapsed": false
   },
   "outputs": [
    {
     "data": {
      "text/plain": [
       "350"
      ]
     },
     "execution_count": 7,
     "metadata": {},
     "output_type": "execute_result"
    }
   ],
   "source": [
    "transaction_keys = transactions.get_all_keys(prefix='transactions')\n",
    "len(transaction_keys)"
   ]
  },
  {
   "cell_type": "code",
   "execution_count": 8,
   "metadata": {
    "collapsed": false
   },
   "outputs": [
    {
     "name": "stdout",
     "output_type": "stream",
     "text": [
      "CPU times: user 1.44 s, sys: 1.34 s, total: 2.78 s\n",
      "Wall time: 4min 50s\n"
     ]
    }
   ],
   "source": [
    "%%time\n",
    "# N.B. This takes a couple minutes...\n",
    "transaction_keys[0].get_contents_to_filename('trans-aa.csv')"
   ]
  },
  {
   "cell_type": "code",
   "execution_count": 19,
   "metadata": {
    "collapsed": false
   },
   "outputs": [],
   "source": [
    "pd.read_csv?"
   ]
  },
  {
   "cell_type": "code",
   "execution_count": null,
   "metadata": {
    "collapsed": false
   },
   "outputs": [],
   "source": [
    "transactions_df = pd.read_csv('trans-aa.csv')"
   ]
  },
  {
   "cell_type": "code",
   "execution_count": null,
   "metadata": {
    "collapsed": false
   },
   "outputs": [],
   "source": [
    "transactions_df"
   ]
  },
  {
   "cell_type": "code",
   "execution_count": 21,
   "metadata": {
    "collapsed": false
   },
   "outputs": [
    {
     "data": {
      "text/html": [
       "<div style=\"max-height:1000px;max-width:1500px;overflow:auto;\">\n",
       "<table border=\"1\" class=\"dataframe\">\n",
       "  <thead>\n",
       "    <tr style=\"text-align: right;\">\n",
       "      <th></th>\n",
       "      <th>id</th>\n",
       "      <th>chain</th>\n",
       "      <th>dept</th>\n",
       "      <th>category</th>\n",
       "      <th>company</th>\n",
       "      <th>brand</th>\n",
       "      <th>date</th>\n",
       "      <th>productsize</th>\n",
       "      <th>productmeasure</th>\n",
       "      <th>purchasequantity</th>\n",
       "      <th>purchaseamount</th>\n",
       "    </tr>\n",
       "  </thead>\n",
       "  <tbody>\n",
       "    <tr>\n",
       "      <th>0</th>\n",
       "      <td> 86246</td>\n",
       "      <td> 205</td>\n",
       "      <td>  7</td>\n",
       "      <td>  707</td>\n",
       "      <td> 1078778070</td>\n",
       "      <td> 12564</td>\n",
       "      <td> 2012-03-02</td>\n",
       "      <td> 12</td>\n",
       "      <td> OZ</td>\n",
       "      <td> 1</td>\n",
       "      <td>  7.59</td>\n",
       "    </tr>\n",
       "    <tr>\n",
       "      <th>1</th>\n",
       "      <td> 86246</td>\n",
       "      <td> 205</td>\n",
       "      <td> 63</td>\n",
       "      <td> 6319</td>\n",
       "      <td>  107654575</td>\n",
       "      <td> 17876</td>\n",
       "      <td> 2012-03-02</td>\n",
       "      <td> 64</td>\n",
       "      <td> OZ</td>\n",
       "      <td> 1</td>\n",
       "      <td>  1.59</td>\n",
       "    </tr>\n",
       "    <tr>\n",
       "      <th>2</th>\n",
       "      <td> 86246</td>\n",
       "      <td> 205</td>\n",
       "      <td> 97</td>\n",
       "      <td> 9753</td>\n",
       "      <td> 1022027929</td>\n",
       "      <td>     0</td>\n",
       "      <td> 2012-03-02</td>\n",
       "      <td>  1</td>\n",
       "      <td> CT</td>\n",
       "      <td> 1</td>\n",
       "      <td>  5.99</td>\n",
       "    </tr>\n",
       "    <tr>\n",
       "      <th>3</th>\n",
       "      <td> 86246</td>\n",
       "      <td> 205</td>\n",
       "      <td> 25</td>\n",
       "      <td> 2509</td>\n",
       "      <td>  107996777</td>\n",
       "      <td> 31373</td>\n",
       "      <td> 2012-03-02</td>\n",
       "      <td> 16</td>\n",
       "      <td> OZ</td>\n",
       "      <td> 1</td>\n",
       "      <td>  1.99</td>\n",
       "    </tr>\n",
       "    <tr>\n",
       "      <th>4</th>\n",
       "      <td> 86246</td>\n",
       "      <td> 205</td>\n",
       "      <td> 55</td>\n",
       "      <td> 5555</td>\n",
       "      <td>  107684070</td>\n",
       "      <td> 32094</td>\n",
       "      <td> 2012-03-02</td>\n",
       "      <td> 16</td>\n",
       "      <td> OZ</td>\n",
       "      <td> 2</td>\n",
       "      <td> 10.38</td>\n",
       "    </tr>\n",
       "  </tbody>\n",
       "</table>\n",
       "</div>"
      ],
      "text/plain": [
       "      id  chain  dept  category     company  brand        date  productsize  \\\n",
       "0  86246    205     7       707  1078778070  12564  2012-03-02           12   \n",
       "1  86246    205    63      6319   107654575  17876  2012-03-02           64   \n",
       "2  86246    205    97      9753  1022027929      0  2012-03-02            1   \n",
       "3  86246    205    25      2509   107996777  31373  2012-03-02           16   \n",
       "4  86246    205    55      5555   107684070  32094  2012-03-02           16   \n",
       "\n",
       "  productmeasure  purchasequantity  purchaseamount  \n",
       "0             OZ                 1            7.59  \n",
       "1             OZ                 1            1.59  \n",
       "2             CT                 1            5.99  \n",
       "3             OZ                 1            1.99  \n",
       "4             OZ                 2           10.38  "
      ]
     },
     "execution_count": 21,
     "metadata": {},
     "output_type": "execute_result"
    }
   ],
   "source": [
    "transactions_df.head()"
   ]
  },
  {
   "cell_type": "code",
   "execution_count": 247,
   "metadata": {
    "collapsed": false
   },
   "outputs": [
    {
     "data": {
      "text/html": [
       "<div style=\"max-height:1000px;max-width:1500px;overflow:auto;\">\n",
       "<table border=\"1\" class=\"dataframe\">\n",
       "  <thead>\n",
       "    <tr style=\"text-align: right;\">\n",
       "      <th></th>\n",
       "      <th>id</th>\n",
       "      <th>chain</th>\n",
       "      <th>dept</th>\n",
       "      <th>category</th>\n",
       "      <th>company</th>\n",
       "      <th>brand</th>\n",
       "      <th>productsize</th>\n",
       "      <th>purchasequantity</th>\n",
       "      <th>purchaseamount</th>\n",
       "    </tr>\n",
       "  </thead>\n",
       "  <tbody>\n",
       "    <tr>\n",
       "      <th>count</th>\n",
       "      <td>   999999.000000</td>\n",
       "      <td> 999999.00000</td>\n",
       "      <td> 999999.000000</td>\n",
       "      <td> 999999.000000</td>\n",
       "      <td> 9.999990e+05</td>\n",
       "      <td> 999999.000000</td>\n",
       "      <td> 999999.000000</td>\n",
       "      <td> 999999.000000</td>\n",
       "      <td> 999999.000000</td>\n",
       "    </tr>\n",
       "    <tr>\n",
       "      <th>mean</th>\n",
       "      <td> 63364052.944063</td>\n",
       "      <td>     31.86412</td>\n",
       "      <td>     41.416083</td>\n",
       "      <td>   4155.292498</td>\n",
       "      <td> 2.180884e+08</td>\n",
       "      <td>  16031.482528</td>\n",
       "      <td>     28.686506</td>\n",
       "      <td>      1.377621</td>\n",
       "      <td>      4.463513</td>\n",
       "    </tr>\n",
       "    <tr>\n",
       "      <th>std</th>\n",
       "      <td> 24870195.303575</td>\n",
       "      <td>     41.15973</td>\n",
       "      <td>     27.773127</td>\n",
       "      <td>   2779.941544</td>\n",
       "      <td> 4.451214e+08</td>\n",
       "      <td>  15418.426484</td>\n",
       "      <td>     51.462686</td>\n",
       "      <td>      1.086097</td>\n",
       "      <td>      6.617972</td>\n",
       "    </tr>\n",
       "    <tr>\n",
       "      <th>min</th>\n",
       "      <td>    86246.000000</td>\n",
       "      <td>      2.00000</td>\n",
       "      <td>      0.000000</td>\n",
       "      <td>      0.000000</td>\n",
       "      <td> 1.000000e+04</td>\n",
       "      <td>      0.000000</td>\n",
       "      <td>      0.000000</td>\n",
       "      <td>    -18.000000</td>\n",
       "      <td>   -163.490000</td>\n",
       "    </tr>\n",
       "    <tr>\n",
       "      <th>25%</th>\n",
       "      <td> 54001770.000000</td>\n",
       "      <td>     14.00000</td>\n",
       "      <td>     18.000000</td>\n",
       "      <td>   1850.000000</td>\n",
       "      <td> 1.021130e+08</td>\n",
       "      <td>   7755.000000</td>\n",
       "      <td>      7.500000</td>\n",
       "      <td>      1.000000</td>\n",
       "      <td>      2.190000</td>\n",
       "    </tr>\n",
       "    <tr>\n",
       "      <th>50%</th>\n",
       "      <td> 68382868.000000</td>\n",
       "      <td>     17.00000</td>\n",
       "      <td>     36.000000</td>\n",
       "      <td>   3628.000000</td>\n",
       "      <td> 1.039978e+08</td>\n",
       "      <td>  13291.000000</td>\n",
       "      <td>     14.500000</td>\n",
       "      <td>      1.000000</td>\n",
       "      <td>      3.490000</td>\n",
       "    </tr>\n",
       "    <tr>\n",
       "      <th>75%</th>\n",
       "      <td> 82704044.000000</td>\n",
       "      <td>     20.00000</td>\n",
       "      <td>     60.000000</td>\n",
       "      <td>   6001.000000</td>\n",
       "      <td> 1.072891e+08</td>\n",
       "      <td>  17090.000000</td>\n",
       "      <td>     24.000000</td>\n",
       "      <td>      1.000000</td>\n",
       "      <td>      5.290000</td>\n",
       "    </tr>\n",
       "    <tr>\n",
       "      <th>max</th>\n",
       "      <td> 96849591.000000</td>\n",
       "      <td>    205.00000</td>\n",
       "      <td>     99.000000</td>\n",
       "      <td>   9999.000000</td>\n",
       "      <td> 1.099753e+10</td>\n",
       "      <td> 108338.000000</td>\n",
       "      <td>   4000.000000</td>\n",
       "      <td>    124.000000</td>\n",
       "      <td>   1600.000000</td>\n",
       "    </tr>\n",
       "  </tbody>\n",
       "</table>\n",
       "</div>"
      ],
      "text/plain": [
       "                    id         chain           dept       category  \\\n",
       "count    999999.000000  999999.00000  999999.000000  999999.000000   \n",
       "mean   63364052.944063      31.86412      41.416083    4155.292498   \n",
       "std    24870195.303575      41.15973      27.773127    2779.941544   \n",
       "min       86246.000000       2.00000       0.000000       0.000000   \n",
       "25%    54001770.000000      14.00000      18.000000    1850.000000   \n",
       "50%    68382868.000000      17.00000      36.000000    3628.000000   \n",
       "75%    82704044.000000      20.00000      60.000000    6001.000000   \n",
       "max    96849591.000000     205.00000      99.000000    9999.000000   \n",
       "\n",
       "            company          brand    productsize  purchasequantity  \\\n",
       "count  9.999990e+05  999999.000000  999999.000000     999999.000000   \n",
       "mean   2.180884e+08   16031.482528      28.686506          1.377621   \n",
       "std    4.451214e+08   15418.426484      51.462686          1.086097   \n",
       "min    1.000000e+04       0.000000       0.000000        -18.000000   \n",
       "25%    1.021130e+08    7755.000000       7.500000          1.000000   \n",
       "50%    1.039978e+08   13291.000000      14.500000          1.000000   \n",
       "75%    1.072891e+08   17090.000000      24.000000          1.000000   \n",
       "max    1.099753e+10  108338.000000    4000.000000        124.000000   \n",
       "\n",
       "       purchaseamount  \n",
       "count   999999.000000  \n",
       "mean         4.463513  \n",
       "std          6.617972  \n",
       "min       -163.490000  \n",
       "25%          2.190000  \n",
       "50%          3.490000  \n",
       "75%          5.290000  \n",
       "max       1600.000000  "
      ]
     },
     "execution_count": 247,
     "metadata": {},
     "output_type": "execute_result"
    }
   ],
   "source": [
    "transactions_df.describe()"
   ]
  },
  {
   "cell_type": "code",
   "execution_count": 248,
   "metadata": {
    "collapsed": false
   },
   "outputs": [
    {
     "data": {
      "text/plain": [
       "id             \n",
       "86246     count    12609.000000\n",
       "          mean         1.374653\n",
       "          std          1.018240\n",
       "          min          0.000000\n",
       "          25%          1.000000\n",
       "          50%          1.000000\n",
       "          75%          1.000000\n",
       "          max         22.000000\n",
       "86252     count    12087.000000\n",
       "          mean         1.456441\n",
       "          std          1.224941\n",
       "          min         -1.000000\n",
       "          25%          1.000000\n",
       "          50%          1.000000\n",
       "          75%          2.000000\n",
       "          max         39.000000\n",
       "12262064  count     1101.000000\n",
       "          mean         1.146231\n",
       "          std          0.511199\n",
       "          min          0.000000\n",
       "          25%          1.000000\n",
       "          50%          1.000000\n",
       "          75%          1.000000\n",
       "          max          8.000000\n",
       "dtype: float64"
      ]
     },
     "execution_count": 248,
     "metadata": {},
     "output_type": "execute_result"
    }
   ],
   "source": [
    "transactions_df.groupby('id').purchasequantity.describe().head(24)"
   ]
  },
  {
   "cell_type": "code",
   "execution_count": 45,
   "metadata": {
    "collapsed": false
   },
   "outputs": [
    {
     "data": {
      "text/html": [
       "<div style=\"max-height:1000px;max-width:1500px;overflow:auto;\">\n",
       "<table border=\"1\" class=\"dataframe\">\n",
       "  <thead>\n",
       "    <tr style=\"text-align: right;\">\n",
       "      <th></th>\n",
       "      <th>count</th>\n",
       "      <th>mean</th>\n",
       "      <th>std</th>\n",
       "      <th>min</th>\n",
       "      <th>25%</th>\n",
       "      <th>50%</th>\n",
       "      <th>75%</th>\n",
       "      <th>max</th>\n",
       "    </tr>\n",
       "    <tr>\n",
       "      <th>id</th>\n",
       "      <th></th>\n",
       "      <th></th>\n",
       "      <th></th>\n",
       "      <th></th>\n",
       "      <th></th>\n",
       "      <th></th>\n",
       "      <th></th>\n",
       "      <th></th>\n",
       "    </tr>\n",
       "  </thead>\n",
       "  <tbody>\n",
       "    <tr>\n",
       "      <th>86246   </th>\n",
       "      <td> 12609</td>\n",
       "      <td> 1.374653</td>\n",
       "      <td> 1.018240</td>\n",
       "      <td> 0</td>\n",
       "      <td> 1</td>\n",
       "      <td> 1</td>\n",
       "      <td> 1</td>\n",
       "      <td> 22</td>\n",
       "    </tr>\n",
       "    <tr>\n",
       "      <th>86252   </th>\n",
       "      <td> 12087</td>\n",
       "      <td> 1.456441</td>\n",
       "      <td> 1.224941</td>\n",
       "      <td>-1</td>\n",
       "      <td> 1</td>\n",
       "      <td> 1</td>\n",
       "      <td> 2</td>\n",
       "      <td> 39</td>\n",
       "    </tr>\n",
       "    <tr>\n",
       "      <th>12262064</th>\n",
       "      <td>  1101</td>\n",
       "      <td> 1.146231</td>\n",
       "      <td> 0.511199</td>\n",
       "      <td> 0</td>\n",
       "      <td> 1</td>\n",
       "      <td> 1</td>\n",
       "      <td> 1</td>\n",
       "      <td>  8</td>\n",
       "    </tr>\n",
       "    <tr>\n",
       "      <th>12277270</th>\n",
       "      <td>  1361</td>\n",
       "      <td> 1.203527</td>\n",
       "      <td> 0.605504</td>\n",
       "      <td> 0</td>\n",
       "      <td> 1</td>\n",
       "      <td> 1</td>\n",
       "      <td> 1</td>\n",
       "      <td>  6</td>\n",
       "    </tr>\n",
       "    <tr>\n",
       "      <th>12332190</th>\n",
       "      <td>   684</td>\n",
       "      <td> 1.302632</td>\n",
       "      <td> 1.059265</td>\n",
       "      <td> 1</td>\n",
       "      <td> 1</td>\n",
       "      <td> 1</td>\n",
       "      <td> 1</td>\n",
       "      <td> 16</td>\n",
       "    </tr>\n",
       "    <tr>\n",
       "      <th>12524696</th>\n",
       "      <td>   985</td>\n",
       "      <td> 1.291371</td>\n",
       "      <td> 0.850261</td>\n",
       "      <td>-3</td>\n",
       "      <td> 1</td>\n",
       "      <td> 1</td>\n",
       "      <td> 1</td>\n",
       "      <td> 10</td>\n",
       "    </tr>\n",
       "    <tr>\n",
       "      <th>12682470</th>\n",
       "      <td>   806</td>\n",
       "      <td> 1.217122</td>\n",
       "      <td> 0.586604</td>\n",
       "      <td> 1</td>\n",
       "      <td> 1</td>\n",
       "      <td> 1</td>\n",
       "      <td> 1</td>\n",
       "      <td>  7</td>\n",
       "    </tr>\n",
       "    <tr>\n",
       "      <th>12996040</th>\n",
       "      <td>   326</td>\n",
       "      <td> 1.233129</td>\n",
       "      <td> 0.603279</td>\n",
       "      <td> 1</td>\n",
       "      <td> 1</td>\n",
       "      <td> 1</td>\n",
       "      <td> 1</td>\n",
       "      <td>  5</td>\n",
       "    </tr>\n",
       "    <tr>\n",
       "      <th>13074629</th>\n",
       "      <td>  1374</td>\n",
       "      <td> 1.425764</td>\n",
       "      <td> 1.482092</td>\n",
       "      <td>-1</td>\n",
       "      <td> 1</td>\n",
       "      <td> 1</td>\n",
       "      <td> 1</td>\n",
       "      <td> 36</td>\n",
       "    </tr>\n",
       "    <tr>\n",
       "      <th>13089312</th>\n",
       "      <td>  1218</td>\n",
       "      <td> 1.206076</td>\n",
       "      <td> 0.485852</td>\n",
       "      <td> 1</td>\n",
       "      <td> 1</td>\n",
       "      <td> 1</td>\n",
       "      <td> 1</td>\n",
       "      <td>  4</td>\n",
       "    </tr>\n",
       "  </tbody>\n",
       "</table>\n",
       "</div>"
      ],
      "text/plain": [
       "          count      mean       std  min  25%  50%  75%  max\n",
       "id                                                          \n",
       "86246     12609  1.374653  1.018240    0    1    1    1   22\n",
       "86252     12087  1.456441  1.224941   -1    1    1    2   39\n",
       "12262064   1101  1.146231  0.511199    0    1    1    1    8\n",
       "12277270   1361  1.203527  0.605504    0    1    1    1    6\n",
       "12332190    684  1.302632  1.059265    1    1    1    1   16\n",
       "12524696    985  1.291371  0.850261   -3    1    1    1   10\n",
       "12682470    806  1.217122  0.586604    1    1    1    1    7\n",
       "12996040    326  1.233129  0.603279    1    1    1    1    5\n",
       "13074629   1374  1.425764  1.482092   -1    1    1    1   36\n",
       "13089312   1218  1.206076  0.485852    1    1    1    1    4"
      ]
     },
     "execution_count": 45,
     "metadata": {},
     "output_type": "execute_result"
    }
   ],
   "source": [
    "transactions_df.groupby('id').purchasequantity.describe().unstack().head(10)"
   ]
  },
  {
   "cell_type": "code",
   "execution_count": 249,
   "metadata": {
    "collapsed": false
   },
   "outputs": [
    {
     "data": {
      "text/plain": [
       "<matplotlib.axes._subplots.AxesSubplot at 0x11a19e850>"
      ]
     },
     "execution_count": 249,
     "metadata": {},
     "output_type": "execute_result"
    },
    {
     "data": {
      "image/png": "[encoded data removed]",
      "text/plain": [
       "<matplotlib.figure.Figure at 0x107e8eb10>"
      ]
     },
     "metadata": {},
     "output_type": "display_data"
    }
   ],
   "source": [
    "transactions_df.groupby('id').purchasequantity.count().hist()"
   ]
  },
  {
   "cell_type": "code",
   "execution_count": 250,
   "metadata": {
    "collapsed": false
   },
   "outputs": [
    {
     "data": {
      "text/plain": [
       "<matplotlib.axes._subplots.AxesSubplot at 0x1093ad510>"
      ]
     },
     "execution_count": 250,
     "metadata": {},
     "output_type": "execute_result"
    },
    {
     "data": {
      "image/png": "[encoded data removed]",
      "text/plain": [
       "<matplotlib.figure.Figure at 0x1097e5610>"
      ]
     },
     "metadata": {},
     "output_type": "display_data"
    }
   ],
   "source": [
    "transactions_df.groupby('id').purchasequantity.sum().hist()"
   ]
  },
  {
   "cell_type": "code",
   "execution_count": 50,
   "metadata": {
    "collapsed": false
   },
   "outputs": [
    {
     "data": {
      "text/plain": [
       "<matplotlib.axes._subplots.AxesSubplot at 0x111efcf90>"
      ]
     },
     "execution_count": 50,
     "metadata": {},
     "output_type": "execute_result"
    },
    {
     "data": {
      "image/png": "[encoded data removed]",
      "text/plain": [
       "<matplotlib.figure.Figure at 0x111f1b5d0>"
      ]
     },
     "metadata": {},
     "output_type": "display_data"
    }
   ],
   "source": [
    "transactions_df.groupby('id').purchasequantity.sum().hist(log='x')"
   ]
  },
  {
   "cell_type": "code",
   "execution_count": 51,
   "metadata": {
    "collapsed": false
   },
   "outputs": [
    {
     "data": {
      "text/plain": [
       "<matplotlib.axes._subplots.AxesSubplot at 0x1123d9c10>"
      ]
     },
     "execution_count": 51,
     "metadata": {},
     "output_type": "execute_result"
    },
    {
     "data": {
      "image/png": "[encoded data removed]",
      "text/plain": [
       "<matplotlib.figure.Figure at 0x10bc9f750>"
      ]
     },
     "metadata": {},
     "output_type": "display_data"
    }
   ],
   "source": [
    "transactions_df.groupby('id').purchaseamount.sum().hist(log='x')"
   ]
  },
  {
   "cell_type": "code",
   "execution_count": 238,
   "metadata": {
    "collapsed": false
   },
   "outputs": [
    {
     "data": {
      "text/plain": [
       "<matplotlib.axes._subplots.AxesSubplot at 0x1242cdb10>"
      ]
     },
     "execution_count": 238,
     "metadata": {},
     "output_type": "execute_result"
    },
    {
     "data": {
      "image/png": "[encoded data removed]",
      "text/plain": [
       "<matplotlib.figure.Figure at 0x1092006d0>"
      ]
     },
     "metadata": {},
     "output_type": "display_data"
    }
   ],
   "source": [
    "transactions_df.groupby('date').purchaseamount.sum().plot()"
   ]
  },
  {
   "cell_type": "markdown",
   "metadata": {},
   "source": [
    "------------------------------------------\n",
    "Part 2\n",
    "==========================================\n",
    "Moving to StarCluster\n",
    "------------------------------------------"
   ]
  },
  {
   "cell_type": "markdown",
   "metadata": {},
   "source": [
    "Add the `ipcluster` plugin if you haven't already."
   ]
  },
  {
   "cell_type": "markdown",
   "metadata": {},
   "source": [
    "Near the bottom of `.starcluster/config`:\n",
    "```bash\n",
    "######################\n",
    "## Built-in Plugins ##\n",
    "######################\n",
    "# The following plugins ship with StarCluster and should work out-of-the-box.\n",
    "# Uncomment as needed. Don't forget to update your PLUGINS list!\n",
    "# See http://star.mit.edu/cluster/docs/latest/plugins for plugin details.\n",
    "# .\n",
    "# .\n",
    "# .\n",
    "[plugin ipcluster]\n",
    "SETUP_CLASS = starcluster.plugins.ipcluster.IPCluster\n",
    "# Enable the IPython notebook server (optional)\n",
    "ENABLE_NOTEBOOK = True\n",
    "# Set a password for the notebook for increased security\n",
    "# This is optional but *highly* recommended\n",
    "NOTEBOOK_PASSWD = a-secret-password\n",
    "```"
   ]
  },
  {
   "cell_type": "markdown",
   "metadata": {},
   "source": [
    "Set `CLUSTER_SIZE` to `3` for more memory *(see [aws.amazon.com/ec2/instance-types](http://aws.amazon.com/ec2/instance-types/) for details)*:\n",
    "```bash\n",
    "[cluster smallcluster]\n",
    "# number of ec2 instances to launch\n",
    "CLUSTER_SIZE = 3\n",
    "NODE_IMAGE_ID = ami-6b211202\n",
    "PLUGINS = ipcluster\n",
    "SPOT_BID = 0.10\n",
    "```\n",
    "Also set `SPOT_BID` to `0.10` (or less?) to save $$$ *(see [aws.amazon.com/ec2/purchasing-options/spot-instances](http://aws.amazon.com/ec2/purchasing-options/spot-instances/) for details)*"
   ]
  },
  {
   "cell_type": "markdown",
   "metadata": {},
   "source": [
    "Start your new cluster:"
   ]
  },
  {
   "cell_type": "markdown",
   "metadata": {},
   "source": [
    "`$ starcluster start my_cluster`"
   ]
  },
  {
   "cell_type": "markdown",
   "metadata": {},
   "source": [
    "Copy your credentials to your cluster:"
   ]
  },
  {
   "cell_type": "markdown",
   "metadata": {},
   "source": [
    "`$ starcluster put my_cluster --user sgeadmin ~/Downloads/credentials.csv /home/sgeadmin/`"
   ]
  },
  {
   "cell_type": "markdown",
   "metadata": {},
   "source": [
    "This should, as a side effect, add your cluster to the list of known hosts on your machine. \n",
    "In my experience, it often doesn't, however. \n",
    "Therefore, **you will want to:**\n",
    "\n",
    "```bash\n",
    "starcluster sshmaster my_cluster\n",
    "```\n",
    "**before you do the following (or `Client` will hang forever):**"
   ]
  },
  {
   "cell_type": "code",
   "execution_count": 23,
   "metadata": {
    "collapsed": false
   },
   "outputs": [
    {
     "ename": "TimeoutError",
     "evalue": "Hub connection request timed out",
     "output_type": "error",
     "traceback": [
      "\u001b[1;31m---------------------------------------------------------------------------\u001b[0m",
      "\u001b[1;31mTimeoutError\u001b[0m                              Traceback (most recent call last)",
      "\u001b[1;32m<ipython-input-23-6f026fddea92>\u001b[0m in \u001b[0;36m<module>\u001b[1;34m()\u001b[0m\n\u001b[0;32m      1\u001b[0m \u001b[0murl_file\u001b[0m \u001b[1;33m=\u001b[0m \u001b[0mos\u001b[0m\u001b[1;33m.\u001b[0m\u001b[0mpath\u001b[0m\u001b[1;33m.\u001b[0m\u001b[0mexpanduser\u001b[0m\u001b[1;33m(\u001b[0m\u001b[1;34m'~/.starcluster/ipcluster/SecurityGroup:@sc-mycluster-us-east-1.json'\u001b[0m\u001b[1;33m)\u001b[0m\u001b[1;33m\u001b[0m\u001b[0m\n\u001b[0;32m      2\u001b[0m \u001b[0msshkey\u001b[0m \u001b[1;33m=\u001b[0m \u001b[0mos\u001b[0m\u001b[1;33m.\u001b[0m\u001b[0mpath\u001b[0m\u001b[1;33m.\u001b[0m\u001b[0mexpanduser\u001b[0m\u001b[1;33m(\u001b[0m\u001b[1;34m'~/.ssh/mykey.rsa'\u001b[0m\u001b[1;33m)\u001b[0m  \u001b[1;31m# replace with your pem\u001b[0m\u001b[1;33m\u001b[0m\u001b[0m\n\u001b[1;32m----> 3\u001b[1;33m \u001b[0mclient\u001b[0m \u001b[1;33m=\u001b[0m \u001b[0mClient\u001b[0m\u001b[1;33m(\u001b[0m\u001b[0murl_file\u001b[0m\u001b[1;33m,\u001b[0m \u001b[0msshkey\u001b[0m \u001b[1;33m=\u001b[0m \u001b[0msshkey\u001b[0m\u001b[1;33m)\u001b[0m\u001b[1;33m\u001b[0m\u001b[0m\n\u001b[0m",
      "\u001b[1;32mC:\\Users\\David\\Anaconda\\lib\\site-packages\\IPython\\parallel\\client\\client.pyc\u001b[0m in \u001b[0;36m__init__\u001b[1;34m(self, url_file, profile, profile_dir, ipython_dir, context, debug, sshserver, sshkey, password, paramiko, timeout, cluster_id, **extra_args)\u001b[0m\n\u001b[0;32m    502\u001b[0m \u001b[1;33m\u001b[0m\u001b[0m\n\u001b[0;32m    503\u001b[0m         \u001b[1;32mtry\u001b[0m\u001b[1;33m:\u001b[0m\u001b[1;33m\u001b[0m\u001b[0m\n\u001b[1;32m--> 504\u001b[1;33m             \u001b[0mself\u001b[0m\u001b[1;33m.\u001b[0m\u001b[0m_connect\u001b[0m\u001b[1;33m(\u001b[0m\u001b[0msshserver\u001b[0m\u001b[1;33m,\u001b[0m \u001b[0mssh_kwargs\u001b[0m\u001b[1;33m,\u001b[0m \u001b[0mtimeout\u001b[0m\u001b[1;33m)\u001b[0m\u001b[1;33m\u001b[0m\u001b[0m\n\u001b[0m\u001b[0;32m    505\u001b[0m         \u001b[1;32mexcept\u001b[0m\u001b[1;33m:\u001b[0m\u001b[1;33m\u001b[0m\u001b[0m\n\u001b[0;32m    506\u001b[0m             \u001b[0mself\u001b[0m\u001b[1;33m.\u001b[0m\u001b[0mclose\u001b[0m\u001b[1;33m(\u001b[0m\u001b[0mlinger\u001b[0m\u001b[1;33m=\u001b[0m\u001b[1;36m0\u001b[0m\u001b[1;33m)\u001b[0m\u001b[1;33m\u001b[0m\u001b[0m\n",
      "\u001b[1;32mC:\\Users\\David\\Anaconda\\lib\\site-packages\\IPython\\parallel\\client\\client.pyc\u001b[0m in \u001b[0;36m_connect\u001b[1;34m(self, sshserver, ssh_kwargs, timeout)\u001b[0m\n\u001b[0;32m    622\u001b[0m         \u001b[0mevts\u001b[0m \u001b[1;33m=\u001b[0m \u001b[0mpoller\u001b[0m\u001b[1;33m.\u001b[0m\u001b[0mpoll\u001b[0m\u001b[1;33m(\u001b[0m\u001b[0mtimeout\u001b[0m\u001b[1;33m*\u001b[0m\u001b[1;36m1000\u001b[0m\u001b[1;33m)\u001b[0m\u001b[1;33m\u001b[0m\u001b[0m\n\u001b[0;32m    623\u001b[0m         \u001b[1;32mif\u001b[0m \u001b[1;32mnot\u001b[0m \u001b[0mevts\u001b[0m\u001b[1;33m:\u001b[0m\u001b[1;33m\u001b[0m\u001b[0m\n\u001b[1;32m--> 624\u001b[1;33m             \u001b[1;32mraise\u001b[0m \u001b[0merror\u001b[0m\u001b[1;33m.\u001b[0m\u001b[0mTimeoutError\u001b[0m\u001b[1;33m(\u001b[0m\u001b[1;34m\"Hub connection request timed out\"\u001b[0m\u001b[1;33m)\u001b[0m\u001b[1;33m\u001b[0m\u001b[0m\n\u001b[0m\u001b[0;32m    625\u001b[0m         \u001b[0midents\u001b[0m\u001b[1;33m,\u001b[0m\u001b[0mmsg\u001b[0m \u001b[1;33m=\u001b[0m \u001b[0mself\u001b[0m\u001b[1;33m.\u001b[0m\u001b[0msession\u001b[0m\u001b[1;33m.\u001b[0m\u001b[0mrecv\u001b[0m\u001b[1;33m(\u001b[0m\u001b[0mself\u001b[0m\u001b[1;33m.\u001b[0m\u001b[0m_query_socket\u001b[0m\u001b[1;33m,\u001b[0m\u001b[0mmode\u001b[0m\u001b[1;33m=\u001b[0m\u001b[1;36m0\u001b[0m\u001b[1;33m)\u001b[0m\u001b[1;33m\u001b[0m\u001b[0m\n\u001b[0;32m    626\u001b[0m         \u001b[1;32mif\u001b[0m \u001b[0mself\u001b[0m\u001b[1;33m.\u001b[0m\u001b[0mdebug\u001b[0m\u001b[1;33m:\u001b[0m\u001b[1;33m\u001b[0m\u001b[0m\n",
      "\u001b[1;31mTimeoutError\u001b[0m: Hub connection request timed out"
     ]
    }
   ],
   "source": [
    "url_file = os.path.expanduser('~/.starcluster/ipcluster/SecurityGroup:@sc-mycluster-us-east-1.json')\n",
    "sshkey = os.path.expanduser('~/.ssh/mykey.rsa')  # replace with your pem\n",
    "client = Client(url_file, sshkey = sshkey)"
   ]
  },
  {
   "cell_type": "markdown",
   "metadata": {},
   "source": [
    "Check to see how many engines you have running:"
   ]
  },
  {
   "cell_type": "code",
   "execution_count": 24,
   "metadata": {
    "collapsed": false
   },
   "outputs": [
    {
     "ename": "NameError",
     "evalue": "name 'client' is not defined",
     "output_type": "error",
     "traceback": [
      "\u001b[1;31m---------------------------------------------------------------------------\u001b[0m",
      "\u001b[1;31mNameError\u001b[0m                                 Traceback (most recent call last)",
      "\u001b[1;32m<ipython-input-24-22bdfbe4ea34>\u001b[0m in \u001b[0;36m<module>\u001b[1;34m()\u001b[0m\n\u001b[1;32m----> 1\u001b[1;33m \u001b[0mdview\u001b[0m \u001b[1;33m=\u001b[0m \u001b[0mclient\u001b[0m\u001b[1;33m.\u001b[0m\u001b[0mdirect_view\u001b[0m\u001b[1;33m(\u001b[0m\u001b[1;33m)\u001b[0m\u001b[1;33m\u001b[0m\u001b[0m\n\u001b[0m\u001b[0;32m      2\u001b[0m \u001b[0mlen\u001b[0m\u001b[1;33m(\u001b[0m\u001b[0mclient\u001b[0m\u001b[1;33m.\u001b[0m\u001b[0mids\u001b[0m\u001b[1;33m)\u001b[0m\u001b[1;33m\u001b[0m\u001b[0m\n",
      "\u001b[1;31mNameError\u001b[0m: name 'client' is not defined"
     ]
    }
   ],
   "source": [
    "dview = client.direct_view()\n",
    "len(client.ids)"
   ]
  },
  {
   "cell_type": "markdown",
   "metadata": {},
   "source": [
    "If there are fewer engines running than expected, that's probably because they didn't start on some of the instances. We can use the following to see which instances have engines:"
   ]
  },
  {
   "cell_type": "code",
   "execution_count": 8,
   "metadata": {
    "collapsed": false
   },
   "outputs": [
    {
     "name": "stdout",
     "output_type": "stream",
     "text": [
      "[stdout:0] 10.81.200.119\n",
      "[stdout:1] 10.81.200.119\n",
      "[stdout:2] 10.81.200.119\n",
      "[stdout:3] 10.81.200.119\n",
      "[stdout:4] 10.81.200.119\n",
      "[stdout:5] 10.81.200.119\n",
      "[stdout:6] 10.81.200.119\n",
      "[stdout:7] 10.153.214.91\n",
      "[stdout:8] 10.153.214.91\n",
      "[stdout:9] 10.143.218.57\n",
      "[stdout:10] 10.153.214.91\n",
      "[stdout:11] 10.143.218.57\n",
      "[stdout:12] 10.153.214.91\n",
      "[stdout:13] 10.169.71.165\n",
      "[stdout:14] 10.153.214.91\n",
      "[stdout:15] 10.143.218.57\n",
      "[stdout:16] 10.169.71.165\n",
      "[stdout:17] 10.143.218.57\n",
      "[stdout:18] 10.153.214.91\n",
      "[stdout:19] 10.153.214.91\n",
      "[stdout:20] 10.153.214.91\n",
      "[stdout:21] 10.143.218.57\n",
      "[stdout:22] 10.169.71.165\n",
      "[stdout:23] 10.143.218.57\n",
      "[stdout:24] 10.169.71.165\n",
      "[stdout:25] 10.143.218.57\n",
      "[stdout:26] 10.143.218.57\n",
      "[stdout:27] 10.169.71.165\n",
      "[stdout:28] 10.169.71.165\n",
      "[stdout:29] 10.169.71.165\n",
      "[stdout:30] 10.169.71.165\n",
      "[stdout:31] 10.140.151.151\n",
      "[stdout:32] 10.140.151.151\n",
      "[stdout:33] 10.140.151.151\n",
      "[stdout:34] 10.140.151.151\n",
      "[stdout:35] 10.140.151.151\n",
      "[stdout:36] 10.140.151.151\n",
      "[stdout:37] 10.13.201.9\n",
      "[stdout:38] 10.13.201.9\n",
      "[stdout:39] 10.140.151.151\n",
      "[stdout:40] 10.140.151.151\n",
      "[stdout:41] 10.13.201.9\n",
      "[stdout:42] 10.13.201.9\n",
      "[stdout:43] 10.13.201.9\n",
      "[stdout:44] 10.13.201.9\n",
      "[stdout:45] 10.13.201.9\n",
      "[stdout:46] 10.13.201.9\n"
     ]
    }
   ],
   "source": [
    "%%px\n",
    "%%bash\n",
    "ec2metadata --local-ipv4"
   ]
  },
  {
   "cell_type": "markdown",
   "metadata": {},
   "source": [
    "We need to set up each of our engines individually. We can do this quickly with the `%%px` magic:"
   ]
  },
  {
   "cell_type": "code",
   "execution_count": 13,
   "metadata": {
    "collapsed": false
   },
   "outputs": [],
   "source": [
    "%%px\n",
    "import pandas as pd\n",
    "from boto.s3.connection import S3Connection\n",
    "from collections import defaultdict\n",
    "\n",
    "credentials = pd.read_csv('credentials.csv')\n",
    "\n",
    "s3conn = S3Connection(credentials['Access Key Id'][0], credentials['Secret Access Key'][0])\n",
    "transactions = s3conn.get_bucket('dat-sf-12')"
   ]
  },
  {
   "cell_type": "markdown",
   "metadata": {},
   "source": [
    "We then scatter the keys to our S3 files across our cluster:"
   ]
  },
  {
   "cell_type": "code",
   "execution_count": 14,
   "metadata": {
    "collapsed": false
   },
   "outputs": [
    {
     "data": {
      "text/plain": [
       "<AsyncResult: scatter>"
      ]
     },
     "execution_count": 14,
     "metadata": {},
     "output_type": "execute_result"
    }
   ],
   "source": [
    "dview.scatter('transaction_keys', [key.name for key in transaction_keys], dist='r')"
   ]
  },
  {
   "cell_type": "markdown",
   "metadata": {},
   "source": [
    "Since all but the first file are missing a header, we will want to use the column names from the first file and push that to our engines:"
   ]
  },
  {
   "cell_type": "code",
   "execution_count": 33,
   "metadata": {
    "collapsed": false
   },
   "outputs": [
    {
     "data": {
      "text/plain": [
       "<AsyncResult: _push>"
      ]
     },
     "execution_count": 33,
     "metadata": {},
     "output_type": "execute_result"
    }
   ],
   "source": [
    "dview.push({'transaction_columns': list(transactions_df.columns)})"
   ]
  },
  {
   "cell_type": "code",
   "execution_count": 34,
   "metadata": {
    "collapsed": false
   },
   "outputs": [
    {
     "data": {
      "text/plain": [
       "\u001b[0;31mOut[0:12]: \u001b[0m\n",
       "['id',\n",
       " 'chain',\n",
       " 'dept',\n",
       " 'category',\n",
       " 'company',\n",
       " 'brand',\n",
       " 'date',\n",
       " 'productsize',\n",
       " 'productmeasure',\n",
       " 'purchasequantity',\n",
       " 'purchaseamount']"
      ]
     },
     "metadata": {},
     "output_type": "display_data"
    }
   ],
   "source": [
    "%%px -t 0\n",
    "transaction_columns"
   ]
  },
  {
   "cell_type": "markdown",
   "metadata": {},
   "source": [
    "If we were unable to investigate our data locally (perhaps the download failed) we can do so on engine zero by specifying the `target` thus:  \n",
    "*(only do this if the above attempt at running `get_contents_as_string` failed)* "
   ]
  },
  {
   "cell_type": "code",
   "execution_count": 35,
   "metadata": {
    "collapsed": false
   },
   "outputs": [
    {
     "data": {
      "text/plain": [
       "\u001b[0;31mOut[0:13]: \u001b[0m8"
      ]
     },
     "metadata": {},
     "output_type": "display_data"
    },
    {
     "data": {
      "text/plain": [
       "\u001b[0;31mOut[1:9]: \u001b[0m8"
      ]
     },
     "metadata": {},
     "output_type": "display_data"
    },
    {
     "data": {
      "text/plain": [
       "\u001b[0;31mOut[2:9]: \u001b[0m8"
      ]
     },
     "metadata": {},
     "output_type": "display_data"
    },
    {
     "data": {
      "text/plain": [
       "\u001b[0;31mOut[3:8]: \u001b[0m8"
      ]
     },
     "metadata": {},
     "output_type": "display_data"
    },
    {
     "data": {
      "text/plain": [
       "\u001b[0;31mOut[4:7]: \u001b[0m8"
      ]
     },
     "metadata": {},
     "output_type": "display_data"
    },
    {
     "data": {
      "text/plain": [
       "\u001b[0;31mOut[5:7]: \u001b[0m8"
      ]
     },
     "metadata": {},
     "output_type": "display_data"
    },
    {
     "data": {
      "text/plain": [
       "\u001b[0;31mOut[6:7]: \u001b[0m8"
      ]
     },
     "metadata": {},
     "output_type": "display_data"
    },
    {
     "data": {
      "text/plain": [
       "\u001b[0;31mOut[7:7]: \u001b[0m8"
      ]
     },
     "metadata": {},
     "output_type": "display_data"
    },
    {
     "data": {
      "text/plain": [
       "\u001b[0;31mOut[8:7]: \u001b[0m8"
      ]
     },
     "metadata": {},
     "output_type": "display_data"
    },
    {
     "data": {
      "text/plain": [
       "\u001b[0;31mOut[9:7]: \u001b[0m8"
      ]
     },
     "metadata": {},
     "output_type": "display_data"
    },
    {
     "data": {
      "text/plain": [
       "\u001b[0;31mOut[10:7]: \u001b[0m8"
      ]
     },
     "metadata": {},
     "output_type": "display_data"
    },
    {
     "data": {
      "text/plain": [
       "\u001b[0;31mOut[11:7]: \u001b[0m8"
      ]
     },
     "metadata": {},
     "output_type": "display_data"
    },
    {
     "data": {
      "text/plain": [
       "\u001b[0;31mOut[12:7]: \u001b[0m8"
      ]
     },
     "metadata": {},
     "output_type": "display_data"
    },
    {
     "data": {
      "text/plain": [
       "\u001b[0;31mOut[13:7]: \u001b[0m8"
      ]
     },
     "metadata": {},
     "output_type": "display_data"
    },
    {
     "data": {
      "text/plain": [
       "\u001b[0;31mOut[14:7]: \u001b[0m8"
      ]
     },
     "metadata": {},
     "output_type": "display_data"
    },
    {
     "data": {
      "text/plain": [
       "\u001b[0;31mOut[15:7]: \u001b[0m8"
      ]
     },
     "metadata": {},
     "output_type": "display_data"
    },
    {
     "data": {
      "text/plain": [
       "\u001b[0;31mOut[16:7]: \u001b[0m8"
      ]
     },
     "metadata": {},
     "output_type": "display_data"
    },
    {
     "data": {
      "text/plain": [
       "\u001b[0;31mOut[17:7]: \u001b[0m8"
      ]
     },
     "metadata": {},
     "output_type": "display_data"
    },
    {
     "data": {
      "text/plain": [
       "\u001b[0;31mOut[18:7]: \u001b[0m8"
      ]
     },
     "metadata": {},
     "output_type": "display_data"
    },
    {
     "data": {
      "text/plain": [
       "\u001b[0;31mOut[19:7]: \u001b[0m8"
      ]
     },
     "metadata": {},
     "output_type": "display_data"
    },
    {
     "data": {
      "text/plain": [
       "\u001b[0;31mOut[20:7]: \u001b[0m8"
      ]
     },
     "metadata": {},
     "output_type": "display_data"
    },
    {
     "data": {
      "text/plain": [
       "\u001b[0;31mOut[21:7]: \u001b[0m7"
      ]
     },
     "metadata": {},
     "output_type": "display_data"
    },
    {
     "data": {
      "text/plain": [
       "\u001b[0;31mOut[22:7]: \u001b[0m7"
      ]
     },
     "metadata": {},
     "output_type": "display_data"
    },
    {
     "data": {
      "text/plain": [
       "\u001b[0;31mOut[23:7]: \u001b[0m7"
      ]
     },
     "metadata": {},
     "output_type": "display_data"
    },
    {
     "data": {
      "text/plain": [
       "\u001b[0;31mOut[24:7]: \u001b[0m7"
      ]
     },
     "metadata": {},
     "output_type": "display_data"
    },
    {
     "data": {
      "text/plain": [
       "\u001b[0;31mOut[25:7]: \u001b[0m7"
      ]
     },
     "metadata": {},
     "output_type": "display_data"
    },
    {
     "data": {
      "text/plain": [
       "\u001b[0;31mOut[26:7]: \u001b[0m7"
      ]
     },
     "metadata": {},
     "output_type": "display_data"
    },
    {
     "data": {
      "text/plain": [
       "\u001b[0;31mOut[27:7]: \u001b[0m7"
      ]
     },
     "metadata": {},
     "output_type": "display_data"
    },
    {
     "data": {
      "text/plain": [
       "\u001b[0;31mOut[28:7]: \u001b[0m7"
      ]
     },
     "metadata": {},
     "output_type": "display_data"
    },
    {
     "data": {
      "text/plain": [
       "\u001b[0;31mOut[29:7]: \u001b[0m7"
      ]
     },
     "metadata": {},
     "output_type": "display_data"
    },
    {
     "data": {
      "text/plain": [
       "\u001b[0;31mOut[30:7]: \u001b[0m7"
      ]
     },
     "metadata": {},
     "output_type": "display_data"
    },
    {
     "data": {
      "text/plain": [
       "\u001b[0;31mOut[31:8]: \u001b[0m7"
      ]
     },
     "metadata": {},
     "output_type": "display_data"
    },
    {
     "data": {
      "text/plain": [
       "\u001b[0;31mOut[32:7]: \u001b[0m7"
      ]
     },
     "metadata": {},
     "output_type": "display_data"
    },
    {
     "data": {
      "text/plain": [
       "\u001b[0;31mOut[33:9]: \u001b[0m7"
      ]
     },
     "metadata": {},
     "output_type": "display_data"
    },
    {
     "data": {
      "text/plain": [
       "\u001b[0;31mOut[34:7]: \u001b[0m7"
      ]
     },
     "metadata": {},
     "output_type": "display_data"
    },
    {
     "data": {
      "text/plain": [
       "\u001b[0;31mOut[35:7]: \u001b[0m7"
      ]
     },
     "metadata": {},
     "output_type": "display_data"
    },
    {
     "data": {
      "text/plain": [
       "\u001b[0;31mOut[36:7]: \u001b[0m7"
      ]
     },
     "metadata": {},
     "output_type": "display_data"
    },
    {
     "data": {
      "text/plain": [
       "\u001b[0;31mOut[37:7]: \u001b[0m7"
      ]
     },
     "metadata": {},
     "output_type": "display_data"
    },
    {
     "data": {
      "text/plain": [
       "\u001b[0;31mOut[38:7]: \u001b[0m7"
      ]
     },
     "metadata": {},
     "output_type": "display_data"
    },
    {
     "data": {
      "text/plain": [
       "\u001b[0;31mOut[39:7]: \u001b[0m7"
      ]
     },
     "metadata": {},
     "output_type": "display_data"
    },
    {
     "data": {
      "text/plain": [
       "\u001b[0;31mOut[40:7]: \u001b[0m7"
      ]
     },
     "metadata": {},
     "output_type": "display_data"
    },
    {
     "data": {
      "text/plain": [
       "\u001b[0;31mOut[41:7]: \u001b[0m7"
      ]
     },
     "metadata": {},
     "output_type": "display_data"
    },
    {
     "data": {
      "text/plain": [
       "\u001b[0;31mOut[42:7]: \u001b[0m7"
      ]
     },
     "metadata": {},
     "output_type": "display_data"
    },
    {
     "data": {
      "text/plain": [
       "\u001b[0;31mOut[43:7]: \u001b[0m7"
      ]
     },
     "metadata": {},
     "output_type": "display_data"
    },
    {
     "data": {
      "text/plain": [
       "\u001b[0;31mOut[44:7]: \u001b[0m7"
      ]
     },
     "metadata": {},
     "output_type": "display_data"
    },
    {
     "data": {
      "text/plain": [
       "\u001b[0;31mOut[45:7]: \u001b[0m7"
      ]
     },
     "metadata": {},
     "output_type": "display_data"
    },
    {
     "data": {
      "text/plain": [
       "\u001b[0;31mOut[46:7]: \u001b[0m7"
      ]
     },
     "metadata": {},
     "output_type": "display_data"
    }
   ],
   "source": [
    "%%px\n",
    "len(transaction_keys)"
   ]
  },
  {
   "cell_type": "code",
   "execution_count": 36,
   "metadata": {
    "collapsed": false
   },
   "outputs": [
    {
     "data": {
      "text/plain": [
       "\u001b[0;31mOut[0:14]: \u001b[0m[u'transactions/trans-aa', u'transactions/trans-bv']"
      ]
     },
     "metadata": {},
     "output_type": "display_data"
    }
   ],
   "source": [
    "%%px --targets 0\n",
    "twokeys = transaction_keys[:2]\n",
    "twokeys"
   ]
  },
  {
   "cell_type": "code",
   "execution_count": 37,
   "metadata": {
    "collapsed": false
   },
   "outputs": [],
   "source": [
    "%%px -t0\n",
    "transactions_df = pd.DataFrame(columns=transaction_columns)\n",
    "for key_name in twokeys:    \n",
    "    filename = '/mnt/sgeadmin/{}.csv'.format(key_name.split('/')[-1])\n",
    "    transaction_key = transactions.get_key(key_name)\n",
    "    transaction_key.get_contents_to_filename(filename)\n",
    "    if 'trans-aa' in filename:\n",
    "        skiprows = 1\n",
    "    else:\n",
    "        skiprows = 0\n",
    "    transactions_df = transactions_df.append(pd.read_csv(filename, names = transaction_columns, skiprows = skiprows))"
   ]
  },
  {
   "cell_type": "markdown",
   "metadata": {},
   "source": [
    "Why `/mnt/sgeadmin/`? EC2 instances don't put very much storage capacity in the `/home/` directory. Instead, the large storage volume is mounted at `/mnt/`. `/mnt/` is owned by `root` so IPython can't write there (since IPython is run by `sgeadmin`) but `/mnt/sgeadmin/` is owned by `sgeadmin` and so that is where we will write our files."
   ]
  },
  {
   "cell_type": "code",
   "execution_count": 41,
   "metadata": {
    "collapsed": false
   },
   "outputs": [
    {
     "data": {
      "text/plain": [
       "\u001b[0;31mOut[1:11]: \u001b[0m(8000000, 11)"
      ]
     },
     "metadata": {},
     "output_type": "display_data"
    }
   ],
   "source": [
    "%%px -t1\n",
    "transactions_df.shape"
   ]
  },
  {
   "cell_type": "code",
   "execution_count": 39,
   "metadata": {
    "collapsed": false
   },
   "outputs": [],
   "source": [
    "%%px\n",
    "transactions_df = pd.DataFrame(columns=transaction_columns)\n",
    "for key_name in transaction_keys:\n",
    "    filename = '/mnt/sgeadmin/{}.csv'.format(key_name.split('/')[-1])\n",
    "    transaction_key = transactions.get_key(key_name)\n",
    "    transaction_key.get_contents_to_filename(filename)\n",
    "    if 'trans-aa' in filename:\n",
    "        skiprows = 1\n",
    "    else:\n",
    "        skiprows = 0\n",
    "    transactions_df = transactions_df.append(pd.read_csv(filename, names = transaction_columns, skiprows = skiprows))"
   ]
  },
  {
   "cell_type": "markdown",
   "metadata": {},
   "source": [
    "------------------------------------------\n",
    "Intermission\n",
    "------------------------------------------\n",
    "------------------------------------------\n",
    "While you're waiting...\n",
    "```bash\n",
    "starcluster sshmaster my_medium_cluster\n",
    "htop\n",
    "```\n",
    "------------------------------------------"
   ]
  },
  {
   "cell_type": "code",
   "execution_count": 42,
   "metadata": {
    "collapsed": false
   },
   "outputs": [],
   "source": [
    "%%px\n",
    "user_id_counts = transactions_df.groupby('id').purchasequantity.count()"
   ]
  },
  {
   "cell_type": "code",
   "execution_count": 45,
   "metadata": {
    "collapsed": false
   },
   "outputs": [
    {
     "data": {
      "text/plain": [
       "\u001b[0;31mOut[0:21]: \u001b[0m6271"
      ]
     },
     "metadata": {},
     "output_type": "display_data"
    },
    {
     "data": {
      "text/plain": [
       "\u001b[0;31mOut[3:12]: \u001b[0m7746"
      ]
     },
     "metadata": {},
     "output_type": "display_data"
    },
    {
     "data": {
      "text/plain": [
       "\u001b[0;31mOut[6:11]: \u001b[0m7028"
      ]
     },
     "metadata": {},
     "output_type": "display_data"
    },
    {
     "data": {
      "text/plain": [
       "\u001b[0;31mOut[9:11]: \u001b[0m7458"
      ]
     },
     "metadata": {},
     "output_type": "display_data"
    }
   ],
   "source": [
    "%%px -t 0:10:3\n",
    "len(user_id_counts)"
   ]
  },
  {
   "cell_type": "code",
   "execution_count": 43,
   "metadata": {
    "collapsed": false
   },
   "outputs": [],
   "source": [
    "%%px\n",
    "user_id_counts_dict = user_id_counts.to_dict()"
   ]
  },
  {
   "cell_type": "code",
   "execution_count": 44,
   "metadata": {
    "collapsed": false
   },
   "outputs": [],
   "source": [
    "user_id_counts_list = dview.gather('user_id_counts_dict').get()"
   ]
  },
  {
   "cell_type": "code",
   "execution_count": 51,
   "metadata": {
    "collapsed": false
   },
   "outputs": [],
   "source": [
    "user_id_counts_series = pd.DataFrame(map(pd.Series, user_id_counts_list)).sum()"
   ]
  },
  {
   "cell_type": "code",
   "execution_count": 52,
   "metadata": {
    "collapsed": false
   },
   "outputs": [
    {
     "data": {
      "text/plain": [
       "<matplotlib.axes._subplots.AxesSubplot at 0x10f02c850>"
      ]
     },
     "execution_count": 52,
     "metadata": {},
     "output_type": "execute_result"
    },
    {
     "data": {
      "image/png": "[encoded data removed]",
      "text/plain": [
       "<matplotlib.figure.Figure at 0x109ccd910>"
      ]
     },
     "metadata": {},
     "output_type": "display_data"
    }
   ],
   "source": [
    "user_id_counts_series.hist(log='x')"
   ]
  },
  {
   "cell_type": "markdown",
   "metadata": {},
   "source": [
    "Lab\n",
    "---------\n",
    "In pairs:\n",
    "=========\n",
    "Plot the sum of the purchase amount by date using all of the data"
   ]
  },
  {
   "cell_type": "code",
   "execution_count": null,
   "metadata": {
    "collapsed": false
   },
   "outputs": [],
   "source": []
  },
  {
   "cell_type": "code",
   "execution_count": null,
   "metadata": {
    "collapsed": false
   },
   "outputs": [],
   "source": []
  },
  {
   "cell_type": "code",
   "execution_count": null,
   "metadata": {
    "collapsed": false
   },
   "outputs": [],
   "source": []
  },
  {
   "cell_type": "code",
   "execution_count": null,
   "metadata": {
    "collapsed": false
   },
   "outputs": [],
   "source": []
  },
  {
   "cell_type": "markdown",
   "metadata": {},
   "source": [
    "### If you think that was easy:\n",
    "Get offers and history files from [kaggle.com/c/acquire-valued-shoppers-challenge/data](https://www.kaggle.com/c/acquire-valued-shoppers-challenge/data)/. The transactions file can be joined to the history file by (id,chain). The history file can be joined to the offers file by (offer). The transactions file can be joined to the offers file by (category, brand, company).\n",
    "\n",
    "*Hint: the easiest way to do this is probably to copy those tables to every engine.*\n",
    "\n",
    "Using outer joins, what can you discover about these data?"
   ]
  },
  {
   "cell_type": "code",
   "execution_count": null,
   "metadata": {
    "collapsed": false
   },
   "outputs": [],
   "source": []
  },
  {
   "cell_type": "code",
   "execution_count": null,
   "metadata": {
    "collapsed": false
   },
   "outputs": [],
   "source": []
  },
  {
   "cell_type": "code",
   "execution_count": null,
   "metadata": {
    "collapsed": false
   },
   "outputs": [],
   "source": []
  },
  {
   "cell_type": "markdown",
   "metadata": {},
   "source": [
    "------------------------------------------\n",
    "# ¡¡¡DON'T FORGET TO TERMINATE YOUR CLUSTER BEFORE YOU LEAVE CLASS!!!\n",
    "------------------------------------------"
   ]
  }
 ],
 "metadata": {
  "kernelspec": {
   "display_name": "Python 2",
   "language": "python",
   "name": "python2"
  },
  "language_info": {
   "codemirror_mode": {
    "name": "ipython",
    "version": 2
   },
   "file_extension": ".py",
   "mimetype": "text/x-python",
   "name": "python",
   "nbconvert_exporter": "python",
   "pygments_lexer": "ipython2",
   "version": "2.7.8"
  }
 },
 "nbformat": 4,
 "nbformat_minor": 0
}
