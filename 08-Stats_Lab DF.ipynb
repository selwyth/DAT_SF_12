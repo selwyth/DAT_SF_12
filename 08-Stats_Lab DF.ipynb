{
 "metadata": {
  "name": "",
<<<<<<< HEAD
  "signature": "sha256:23c1d072582a8823d8fd0cc02c7c7fb690ac48e633d57509bb4a277491324bfd"
=======
  "signature": "sha256:ea44b366ac3da46b592950eac76c3c7d6a27fe56e61ca7614aecfd21488c5a25"
>>>>>>> 614f5817a6aae7dc1f97ddb3bcabd660284af944
 },
 "nbformat": 3,
 "nbformat_minor": 0,
 "worksheets": [
  {
   "cells": [
    {
     "cell_type": "markdown",
     "metadata": {
      "slideshow": {
       "slide_type": "slide"
      }
     },
     "source": [
      "Lab\n",
      "===================\n",
      "Probability and Statistics\n",
      "-------------------\n",
      "Alessandro D. Gagliardi"
     ]
    },
    {
     "cell_type": "markdown",
     "metadata": {
      "slideshow": {
       "slide_type": "slide"
      }
     },
     "source": [
      "On Groundhog Day, February 2, a famous groundhog in Punxsutawney, PA is used to predict whether a winter will be long or not based on whether or not he sees his shadow. [Jonathan Taylor](http://statweb.stanford.edu/~jtaylo/) collected data on whether he saw his shadow or not from [here](http://www.stormfax.com/ghogday.htm). He stored some of this data in this [table](http://stats191.stanford.edu/data/groundhog.table).\n",
      "\n",
      "Although Phil is on the East Coast,\n",
      "Taylor wondered if the information says anything about whether or not we will experience\n",
      "a rainy winter out here in California. For this, he found rainfall data, and saved it in a \n",
      "[table](http://stats191.stanford.edu/data/rainfall.csv). To see how this was extracted\n",
      "see this [notebook](http://nbviewer.ipython.org/url/www.stanford.edu/class/stats191/notebooks/Rainfall%20data.ipynb).\n",
      "\n",
      "1. Make a boxplot of the average rainfall in Northen California comparing the years Phil sees his shadow versus the years he does not.\n",
      "\n",
      "2. Construct a 90% confidence interval for the difference between the mean rainfall in years Phil sees his shadow and years he does not.\n",
      "\n",
      "3. Interpret the interval in part 2.\n",
      "\n",
      "4. At level, $\\alpha = 0.05$ would you reject the null hypothesis that the average rainfall in Northern California during the month of February was the same in years Phil sees his shadow versus years he does not?\n",
      "\n",
      "5. What assumptions are you making in forming your confidence interval and in your hypothesis test?"
     ]
    },
    {
     "cell_type": "code",
     "collapsed": false,
     "input": [
      "%matplotlib inline\n",
      "import os\n",
      "import matplotlib.pyplot as plt\n",
      "import numpy as np\n",
      "import pandas as pd\n",
      "import statsmodels.api as sm\n",
      "import twitter\n",
      "import yaml\n",
      "import pandas.io.sql\n",
      "from pymongo import MongoClient"
     ],
     "language": "python",
     "metadata": {
      "slideshow": {
       "slide_type": "subslide"
      }
     },
     "outputs": [],
     "prompt_number": 1
    },
    {
     "cell_type": "markdown",
     "metadata": {
      "slideshow": {
       "slide_type": "slide"
      }
     },
     "source": [
      "Part 1\n",
      "------"
     ]
    },
    {
     "cell_type": "code",
     "collapsed": false,
     "input": [
      "rainfall = pd.read_csv('http://stats191.stanford.edu/data/rainfall.csv')\n",
      "groundhog = pd.read_csv('http://stats191.stanford.edu/data/groundhog.table')"
     ],
     "language": "python",
     "metadata": {
      "slideshow": {
       "slide_type": "fragment"
      }
     },
     "outputs": [],
<<<<<<< HEAD
     "prompt_number": 43
=======
     "prompt_number": 2
    },
    {
     "cell_type": "code",
     "collapsed": false,
     "input": [
      "rainfall.head()"
     ],
     "language": "python",
     "metadata": {},
     "outputs": [
      {
       "html": [
        "<div style=\"max-height:1000px;max-width:1500px;overflow:auto;\">\n",
        "<table border=\"1\" class=\"dataframe\">\n",
        "  <thead>\n",
        "    <tr style=\"text-align: right;\">\n",
        "      <th></th>\n",
        "      <th>WY</th>\n",
        "      <th>Oct</th>\n",
        "      <th>Nov</th>\n",
        "      <th>Dec</th>\n",
        "      <th>Jan</th>\n",
        "      <th>Feb</th>\n",
        "      <th>Mar</th>\n",
        "      <th>Apr</th>\n",
        "      <th>May</th>\n",
        "      <th>Jun</th>\n",
        "      <th>Jul</th>\n",
        "      <th>Aug</th>\n",
        "      <th>Sep</th>\n",
        "      <th>Total</th>\n",
        "    </tr>\n",
        "  </thead>\n",
        "  <tbody>\n",
        "    <tr>\n",
        "      <th>0</th>\n",
        "      <td> 1921</td>\n",
        "      <td> 5.25</td>\n",
        "      <td> 12.38</td>\n",
        "      <td> 11.52</td>\n",
        "      <td> 13.12</td>\n",
        "      <td>  3.76</td>\n",
        "      <td> 5.30</td>\n",
        "      <td> 0.94</td>\n",
        "      <td> 3.05</td>\n",
        "      <td> 0.65</td>\n",
        "      <td> 0.00</td>\n",
        "      <td> 0.00</td>\n",
        "      <td> 0.02</td>\n",
        "      <td> 55.99</td>\n",
        "    </tr>\n",
        "    <tr>\n",
        "      <th>1</th>\n",
        "      <td> 1922</td>\n",
        "      <td> 1.39</td>\n",
        "      <td>  3.16</td>\n",
        "      <td> 11.22</td>\n",
        "      <td>  3.21</td>\n",
        "      <td> 14.42</td>\n",
        "      <td> 8.37</td>\n",
        "      <td> 1.58</td>\n",
        "      <td> 2.22</td>\n",
        "      <td> 0.98</td>\n",
        "      <td> 0.14</td>\n",
        "      <td> 0.08</td>\n",
        "      <td> 0.01</td>\n",
        "      <td> 46.78</td>\n",
        "    </tr>\n",
        "    <tr>\n",
        "      <th>2</th>\n",
        "      <td> 1923</td>\n",
        "      <td> 3.59</td>\n",
        "      <td>  6.01</td>\n",
        "      <td> 11.79</td>\n",
        "      <td>  5.95</td>\n",
        "      <td>  1.93</td>\n",
        "      <td> 0.49</td>\n",
        "      <td> 6.86</td>\n",
        "      <td> 0.93</td>\n",
        "      <td> 2.09</td>\n",
        "      <td> 0.20</td>\n",
        "      <td> 0.40</td>\n",
        "      <td> 2.75</td>\n",
        "      <td> 42.99</td>\n",
        "    </tr>\n",
        "    <tr>\n",
        "      <th>3</th>\n",
        "      <td> 1924</td>\n",
        "      <td> 2.15</td>\n",
        "      <td>  0.46</td>\n",
        "      <td>  2.77</td>\n",
        "      <td>  3.55</td>\n",
        "      <td>  3.94</td>\n",
        "      <td> 2.67</td>\n",
        "      <td> 0.89</td>\n",
        "      <td> 0.05</td>\n",
        "      <td> 0.08</td>\n",
        "      <td> 0.00</td>\n",
        "      <td> 0.14</td>\n",
        "      <td> 0.40</td>\n",
        "      <td> 17.10</td>\n",
        "    </tr>\n",
        "    <tr>\n",
        "      <th>4</th>\n",
        "      <td> 1925</td>\n",
        "      <td> 6.63</td>\n",
        "      <td>  4.71</td>\n",
        "      <td>  6.01</td>\n",
        "      <td>  3.47</td>\n",
        "      <td> 15.21</td>\n",
        "      <td> 4.51</td>\n",
        "      <td> 5.46</td>\n",
        "      <td> 2.14</td>\n",
        "      <td> 1.52</td>\n",
        "      <td> 0.11</td>\n",
        "      <td> 0.83</td>\n",
        "      <td> 2.45</td>\n",
        "      <td> 53.05</td>\n",
        "    </tr>\n",
        "  </tbody>\n",
        "</table>\n",
        "</div>"
       ],
       "metadata": {},
       "output_type": "pyout",
       "prompt_number": 14,
       "text": [
        "     WY   Oct    Nov    Dec    Jan    Feb   Mar   Apr   May   Jun   Jul   Aug  \\\n",
        "0  1921  5.25  12.38  11.52  13.12   3.76  5.30  0.94  3.05  0.65  0.00  0.00   \n",
        "1  1922  1.39   3.16  11.22   3.21  14.42  8.37  1.58  2.22  0.98  0.14  0.08   \n",
        "2  1923  3.59   6.01  11.79   5.95   1.93  0.49  6.86  0.93  2.09  0.20  0.40   \n",
        "3  1924  2.15   0.46   2.77   3.55   3.94  2.67  0.89  0.05  0.08  0.00  0.14   \n",
        "4  1925  6.63   4.71   6.01   3.47  15.21  4.51  5.46  2.14  1.52  0.11  0.83   \n",
        "\n",
        "    Sep  Total  \n",
        "0  0.02  55.99  \n",
        "1  0.01  46.78  \n",
        "2  2.75  42.99  \n",
        "3  0.40  17.10  \n",
        "4  2.45  53.05  "
       ]
      }
     ],
     "prompt_number": 14
    },
    {
     "cell_type": "code",
     "collapsed": false,
     "input": [
      "groundhog.head()"
     ],
     "language": "python",
     "metadata": {},
     "outputs": [
      {
       "html": [
        "<div style=\"max-height:1000px;max-width:1500px;overflow:auto;\">\n",
        "<table border=\"1\" class=\"dataframe\">\n",
        "  <thead>\n",
        "    <tr style=\"text-align: right;\">\n",
        "      <th></th>\n",
        "      <th>year</th>\n",
        "      <th>mintemp</th>\n",
        "      <th>shadow</th>\n",
        "    </tr>\n",
        "  </thead>\n",
        "  <tbody>\n",
        "    <tr>\n",
        "      <th>0</th>\n",
        "      <td> 1990</td>\n",
        "      <td> 24</td>\n",
        "      <td> N</td>\n",
        "    </tr>\n",
        "    <tr>\n",
        "      <th>1</th>\n",
        "      <td> 1991</td>\n",
        "      <td> 23</td>\n",
        "      <td> Y</td>\n",
        "    </tr>\n",
        "    <tr>\n",
        "      <th>2</th>\n",
        "      <td> 1992</td>\n",
        "      <td> 22</td>\n",
        "      <td> Y</td>\n",
        "    </tr>\n",
        "    <tr>\n",
        "      <th>3</th>\n",
        "      <td> 1993</td>\n",
        "      <td> 16</td>\n",
        "      <td> Y</td>\n",
        "    </tr>\n",
        "    <tr>\n",
        "      <th>4</th>\n",
        "      <td> 1994</td>\n",
        "      <td> 12</td>\n",
        "      <td> Y</td>\n",
        "    </tr>\n",
        "  </tbody>\n",
        "</table>\n",
        "</div>"
       ],
       "metadata": {},
       "output_type": "pyout",
       "prompt_number": 11,
       "text": [
        "   year  mintemp shadow\n",
        "0  1990       24      N\n",
        "1  1991       23      Y\n",
        "2  1992       22      Y\n",
        "3  1993       16      Y\n",
        "4  1994       12      Y"
       ]
      }
     ],
     "prompt_number": 11
    },
    {
     "cell_type": "code",
     "collapsed": false,
     "input": [
      "rainfall.merge(groundhog, left_on='WY', right_on='year').head()"
     ],
     "language": "python",
     "metadata": {},
     "outputs": [
      {
       "html": [
        "<div style=\"max-height:1000px;max-width:1500px;overflow:auto;\">\n",
        "<table border=\"1\" class=\"dataframe\">\n",
        "  <thead>\n",
        "    <tr style=\"text-align: right;\">\n",
        "      <th></th>\n",
        "      <th>WY</th>\n",
        "      <th>Oct</th>\n",
        "      <th>Nov</th>\n",
        "      <th>Dec</th>\n",
        "      <th>Jan</th>\n",
        "      <th>Feb</th>\n",
        "      <th>Mar</th>\n",
        "      <th>Apr</th>\n",
        "      <th>May</th>\n",
        "      <th>Jun</th>\n",
        "      <th>Jul</th>\n",
        "      <th>Aug</th>\n",
        "      <th>Sep</th>\n",
        "      <th>Total</th>\n",
        "      <th>year</th>\n",
        "      <th>mintemp</th>\n",
        "      <th>shadow</th>\n",
        "    </tr>\n",
        "  </thead>\n",
        "  <tbody>\n",
        "    <tr>\n",
        "      <th>0</th>\n",
        "      <td> 1990</td>\n",
        "      <td> 6.29</td>\n",
        "      <td> 3.08</td>\n",
        "      <td>  0.07</td>\n",
        "      <td>  7.88</td>\n",
        "      <td>  4.60</td>\n",
        "      <td>  3.19</td>\n",
        "      <td> 1.83</td>\n",
        "      <td> 7.55</td>\n",
        "      <td> 0.29</td>\n",
        "      <td> 0.12</td>\n",
        "      <td> 0.54</td>\n",
        "      <td> 0.53</td>\n",
        "      <td> 35.97</td>\n",
        "      <td> 1990</td>\n",
        "      <td> 24</td>\n",
        "      <td> N</td>\n",
        "    </tr>\n",
        "    <tr>\n",
        "      <th>1</th>\n",
        "      <td> 1991</td>\n",
        "      <td> 1.10</td>\n",
        "      <td> 1.56</td>\n",
        "      <td>  1.39</td>\n",
        "      <td>  0.88</td>\n",
        "      <td>  3.11</td>\n",
        "      <td> 17.94</td>\n",
        "      <td> 1.81</td>\n",
        "      <td> 2.51</td>\n",
        "      <td> 1.20</td>\n",
        "      <td> 0.40</td>\n",
        "      <td> 0.22</td>\n",
        "      <td> 0.05</td>\n",
        "      <td> 32.17</td>\n",
        "      <td> 1991</td>\n",
        "      <td> 23</td>\n",
        "      <td> Y</td>\n",
        "    </tr>\n",
        "    <tr>\n",
        "      <th>2</th>\n",
        "      <td> 1992</td>\n",
        "      <td> 3.44</td>\n",
        "      <td> 2.64</td>\n",
        "      <td>  3.97</td>\n",
        "      <td>  2.81</td>\n",
        "      <td> 11.84</td>\n",
        "      <td>  5.35</td>\n",
        "      <td> 2.67</td>\n",
        "      <td> 0.12</td>\n",
        "      <td> 2.73</td>\n",
        "      <td> 0.20</td>\n",
        "      <td> 0.16</td>\n",
        "      <td> 0.08</td>\n",
        "      <td> 36.01</td>\n",
        "      <td> 1992</td>\n",
        "      <td> 22</td>\n",
        "      <td> Y</td>\n",
        "    </tr>\n",
        "    <tr>\n",
        "      <th>3</th>\n",
        "      <td> 1993</td>\n",
        "      <td> 4.77</td>\n",
        "      <td> 1.15</td>\n",
        "      <td> 14.41</td>\n",
        "      <td> 16.53</td>\n",
        "      <td> 10.26</td>\n",
        "      <td>  7.57</td>\n",
        "      <td> 3.66</td>\n",
        "      <td> 4.27</td>\n",
        "      <td> 2.31</td>\n",
        "      <td> 0.00</td>\n",
        "      <td> 0.38</td>\n",
        "      <td> 0.01</td>\n",
        "      <td> 65.32</td>\n",
        "      <td> 1993</td>\n",
        "      <td> 16</td>\n",
        "      <td> Y</td>\n",
        "    </tr>\n",
        "    <tr>\n",
        "      <th>4</th>\n",
        "      <td> 1994</td>\n",
        "      <td> 2.65</td>\n",
        "      <td> 2.81</td>\n",
        "      <td>  7.34</td>\n",
        "      <td>  4.10</td>\n",
        "      <td>  7.62</td>\n",
        "      <td>  1.53</td>\n",
        "      <td> 2.87</td>\n",
        "      <td> 1.96</td>\n",
        "      <td> 0.32</td>\n",
        "      <td> 0.01</td>\n",
        "      <td> 0.00</td>\n",
        "      <td> 0.62</td>\n",
        "      <td> 31.83</td>\n",
        "      <td> 1994</td>\n",
        "      <td> 12</td>\n",
        "      <td> Y</td>\n",
        "    </tr>\n",
        "  </tbody>\n",
        "</table>\n",
        "</div>"
       ],
       "metadata": {},
       "output_type": "pyout",
       "prompt_number": 12,
       "text": [
        "     WY   Oct   Nov    Dec    Jan    Feb    Mar   Apr   May   Jun   Jul   Aug  \\\n",
        "0  1990  6.29  3.08   0.07   7.88   4.60   3.19  1.83  7.55  0.29  0.12  0.54   \n",
        "1  1991  1.10  1.56   1.39   0.88   3.11  17.94  1.81  2.51  1.20  0.40  0.22   \n",
        "2  1992  3.44  2.64   3.97   2.81  11.84   5.35  2.67  0.12  2.73  0.20  0.16   \n",
        "3  1993  4.77  1.15  14.41  16.53  10.26   7.57  3.66  4.27  2.31  0.00  0.38   \n",
        "4  1994  2.65  2.81   7.34   4.10   7.62   1.53  2.87  1.96  0.32  0.01  0.00   \n",
        "\n",
        "    Sep  Total  year  mintemp shadow  \n",
        "0  0.53  35.97  1990       24      N  \n",
        "1  0.05  32.17  1991       23      Y  \n",
        "2  0.08  36.01  1992       22      Y  \n",
        "3  0.01  65.32  1993       16      Y  \n",
        "4  0.62  31.83  1994       12      Y  "
       ]
      }
     ],
     "prompt_number": 12
>>>>>>> 614f5817a6aae7dc1f97ddb3bcabd660284af944
    },
    {
     "cell_type": "code",
     "collapsed": false,
     "input": [
      "df = rainfall.merge(groundhog, left_on='WY', right_on='year')[['Total', 'shadow']]"
     ],
     "language": "python",
     "metadata": {},
     "outputs": [],
<<<<<<< HEAD
     "prompt_number": 44
=======
     "prompt_number": 3
    },
    {
     "cell_type": "code",
     "collapsed": false,
     "input": [
      "df.tail()"
     ],
     "language": "python",
     "metadata": {},
     "outputs": [
      {
       "html": [
        "<div style=\"max-height:1000px;max-width:1500px;overflow:auto;\">\n",
        "<table border=\"1\" class=\"dataframe\">\n",
        "  <thead>\n",
        "    <tr style=\"text-align: right;\">\n",
        "      <th></th>\n",
        "      <th>Total</th>\n",
        "      <th>shadow</th>\n",
        "    </tr>\n",
        "  </thead>\n",
        "  <tbody>\n",
        "    <tr>\n",
        "      <th>16</th>\n",
        "      <td> 80.15</td>\n",
        "      <td> Y</td>\n",
        "    </tr>\n",
        "    <tr>\n",
        "      <th>17</th>\n",
        "      <td> 37.21</td>\n",
        "      <td> N</td>\n",
        "    </tr>\n",
        "    <tr>\n",
        "      <th>18</th>\n",
        "      <td> 34.99</td>\n",
        "      <td> Y</td>\n",
        "    </tr>\n",
        "    <tr>\n",
        "      <th>19</th>\n",
        "      <td> 46.85</td>\n",
        "      <td> Y</td>\n",
        "    </tr>\n",
        "    <tr>\n",
        "      <th>20</th>\n",
        "      <td> 53.59</td>\n",
        "      <td> Y</td>\n",
        "    </tr>\n",
        "  </tbody>\n",
        "</table>\n",
        "</div>"
       ],
       "metadata": {},
       "output_type": "pyout",
       "prompt_number": 5,
       "text": [
        "    Total shadow\n",
        "16  80.15      Y\n",
        "17  37.21      N\n",
        "18  34.99      Y\n",
        "19  46.85      Y\n",
        "20  53.59      Y"
       ]
      }
     ],
     "prompt_number": 5
>>>>>>> 614f5817a6aae7dc1f97ddb3bcabd660284af944
    },
    {
     "cell_type": "code",
     "collapsed": false,
     "input": [
      "df.boxplot(column='Total', by='shadow')"
     ],
     "language": "python",
     "metadata": {},
     "outputs": [
      {
       "metadata": {},
       "output_type": "pyout",
<<<<<<< HEAD
       "prompt_number": 45,
       "text": [
        "<matplotlib.axes._subplots.AxesSubplot at 0x1a95b0b8>"
=======
       "prompt_number": 6,
       "text": [
        "<matplotlib.axes._subplots.AxesSubplot at 0x109d9f310>"
>>>>>>> 614f5817a6aae7dc1f97ddb3bcabd660284af944
       ]
      },
      {
       "metadata": {},
       "output_type": "display_data",
       "png": "iVBORw0KGgoAAAANSUhEUgAAAXcAAAEaCAYAAADqqhd6AAAABHNCSVQICAgIfAhkiAAAAAlwSFlz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\n",
       "text": [
<<<<<<< HEAD
        "<matplotlib.figure.Figure at 0x1b17ecc0>"
       ]
      }
     ],
     "prompt_number": 45
=======
        "<matplotlib.figure.Figure at 0x109d31d90>"
       ]
      }
     ],
     "prompt_number": 6
>>>>>>> 614f5817a6aae7dc1f97ddb3bcabd660284af944
    },
    {
     "cell_type": "markdown",
     "metadata": {
      "slideshow": {
       "slide_type": "slide"
      }
     },
     "source": [
      "Part 2\n",
      "------"
     ]
    },
    {
     "cell_type": "code",
     "collapsed": false,
     "input": [
      "mod = sm.OLS.from_formula(\"Total ~ shadow == 'Y'\", df) # forces Y to be 1\n",
      "res = mod.fit()\n",
      "print res.summary(alpha = .1)"
     ],
     "language": "python",
     "metadata": {
      "slideshow": {
       "slide_type": "fragment"
      }
     },
     "outputs": [
      {
       "output_type": "stream",
       "stream": "stdout",
       "text": [
        "                            OLS Regression Results                            \n",
        "==============================================================================\n",
        "Dep. Variable:                  Total   R-squared:                       0.016\n",
        "Model:                            OLS   Adj. R-squared:                 -0.036\n",
        "Method:                 Least Squares   F-statistic:                    0.2996\n",
        "Date:                Tue, 10 Feb 2015   Prob (F-statistic):              0.591\n",
<<<<<<< HEAD
        "Time:                        21:29:08   Log-Likelihood:                -88.568\n",
        "No. Observations:                  21   AIC:                             181.1\n",
        "Df Residuals:                      19   BIC:                             183.2\n",
        "Df Model:                           1                                         \n",
=======
        "Time:                        20:14:19   Log-Likelihood:                -88.568\n",
        "No. Observations:                  21   AIC:                             181.1\n",
        "Df Residuals:                      19   BIC:                             183.2\n",
        "Df Model:                           1                                         \n",
        "Covariance Type:            nonrobust                                         \n",
>>>>>>> 614f5817a6aae7dc1f97ddb3bcabd660284af944
        "=========================================================================================\n",
        "                            coef    std err          t      P>|t|      [90.0% Conf. Int.]\n",
        "-----------------------------------------------------------------------------------------\n",
        "Intercept                56.4160      7.721      7.307      0.000        43.066    69.766\n",
        "shadow == 'Y'[T.True]    -4.8410      8.845     -0.547      0.591       -20.135    10.453\n",
        "==============================================================================\n",
        "Omnibus:                        1.662   Durbin-Watson:                   1.830\n",
        "Prob(Omnibus):                  0.436   Jarque-Bera (JB):                1.276\n",
        "Skew:                           0.403   Prob(JB):                        0.528\n",
        "Kurtosis:                       2.102   Cond. No.                         3.88\n",
<<<<<<< HEAD
        "==============================================================================\n"
       ]
      }
     ],
     "prompt_number": 49
=======
        "==============================================================================\n",
        "\n",
        "Warnings:\n",
        "[1] Standard Errors assume that the covariance matrix of the errors is correctly specified.\n"
       ]
      }
     ],
     "prompt_number": 9
>>>>>>> 614f5817a6aae7dc1f97ddb3bcabd660284af944
    },
    {
     "cell_type": "markdown",
     "metadata": {
      "slideshow": {
       "slide_type": "fragment"
      }
     },
     "source": [
      "I report the confidence interval [-20.135, 10.453] for the difference between the `shadow == 'Y'` and the `shadow == 'N'` means."
     ]
    },
    {
     "cell_type": "markdown",
     "metadata": {
      "slideshow": {
       "slide_type": "slide"
      }
     },
     "source": [
      "Part 3\n",
      "------\n",
      "If I repeated this sample of `shadow` and `rainfall` in Northern California (assuming they are IID each year) and I form this confidence interval as `t.test` does. Then, 90% of the intervals will cover the true underlying difference in the rainfall between years the groundhog sees his shadow or not."
     ]
    },
    {
     "cell_type": "markdown",
     "metadata": {
      "slideshow": {
       "slide_type": "slide"
      }
     },
     "source": [
      "Part 4\n",
      "------\n",
      "As the reported $p$-value is 0.591, I fail to reject the null hypothesis at the 5% level."
     ]
    },
    {
     "cell_type": "markdown",
     "metadata": {
      "slideshow": {
       "slide_type": "slide"
      }
     },
     "source": [
      "Part 5\n",
      "------\n",
      "I am assuming that the `rainfall` measurements are independent $N(\\mu_i,\\sigma^2)$ where $\\mu_i=\\mu_N$ in the `shadow == 'N'` years and $\\mu_i=\\mu_Y$ in the `shadow == 'Y'` years."
     ]
    },
    {
     "cell_type": "markdown",
     "metadata": {},
     "source": [
      "---"
     ]
    },
    {
     "cell_type": "markdown",
     "metadata": {
      "slideshow": {
       "slide_type": "slide"
      }
     },
     "source": [
      "1-2 Pairs\n",
      "========\n",
      "\n",
      "Use `enron.db` from Lab 2. It can be found in the data folder.\n",
      "\n",
      "1. Create a boxplot of the message recipient count (`MAX(rno)`), splitting the data based on the `seniority` of the sender.\n",
      "\n",
      "2. Compute the sample mean and standard deviation in the two groups.\n",
      "\n",
      "3. Create a histogram of the recipient count within each group.\n",
      "\n",
      "4. Compute a 90% confidence interval for the difference in recipient count between the two groups. What is a problem with this? How might you fix it?\n",
      "\n",
      "5. At level $\\alpha=5\\%$, test the null hypothesis that the average recipient count does not differ between the two groups. What assumptions are you making? What can you conclude?"
     ]
    },
    {
     "cell_type": "code",
     "collapsed": false,
     "input": [
      "import sqlite3\n",
      "conn = sqlite3.connect('enron.db')\n",
      "df = pd.read_sql(\"\"\"\n",
      "SELECT seniority, mid, max_rno\n",
      "FROM EmployeeBase\n",
      "    JOIN MessageBase ON from_eid = eid\n",
      "    JOIN (select mid, max(rno) as max_rno FROM RecipientBase GROUP BY mid) USING(mid)\n",
      "\"\"\", conn)"
     ],
     "language": "python",
     "metadata": {},
     "outputs": [],
     "prompt_number": 51
    },
    {
     "cell_type": "code",
     "collapsed": false,
     "input": [
      "df.tail()"
     ],
     "language": "python",
     "metadata": {},
     "outputs": [
      {
       "html": [
        "<div style=\"max-height:1000px;max-width:1500px;overflow:auto;\">\n",
        "<table border=\"1\" class=\"dataframe\">\n",
        "  <thead>\n",
        "    <tr style=\"text-align: right;\">\n",
        "      <th></th>\n",
        "      <th>seniority</th>\n",
        "      <th>mid</th>\n",
        "      <th>max_rno</th>\n",
        "    </tr>\n",
        "  </thead>\n",
        "  <tbody>\n",
        "    <tr>\n",
        "      <th>21630</th>\n",
        "      <td> Junior</td>\n",
        "      <td> 21631</td>\n",
        "      <td> 1</td>\n",
        "    </tr>\n",
        "    <tr>\n",
        "      <th>21631</th>\n",
        "      <td> Junior</td>\n",
        "      <td> 21632</td>\n",
        "      <td> 1</td>\n",
        "    </tr>\n",
        "    <tr>\n",
        "      <th>21632</th>\n",
        "      <td> Senior</td>\n",
        "      <td> 21633</td>\n",
        "      <td> 1</td>\n",
        "    </tr>\n",
        "    <tr>\n",
        "      <th>21633</th>\n",
        "      <td> Junior</td>\n",
        "      <td> 21634</td>\n",
        "      <td> 5</td>\n",
        "    </tr>\n",
        "    <tr>\n",
        "      <th>21634</th>\n",
        "      <td> Junior</td>\n",
        "      <td> 21635</td>\n",
        "      <td> 3</td>\n",
        "    </tr>\n",
        "  </tbody>\n",
        "</table>\n",
        "</div>"
       ],
       "metadata": {},
       "output_type": "pyout",
       "prompt_number": 52,
       "text": [
        "      seniority    mid  max_rno\n",
        "21630    Junior  21631        1\n",
        "21631    Junior  21632        1\n",
        "21632    Senior  21633        1\n",
        "21633    Junior  21634        5\n",
        "21634    Junior  21635        3"
       ]
      }
     ],
     "prompt_number": 52
    },
    {
     "cell_type": "code",
     "collapsed": false,
     "input": [
      "df.boxplot(column='max_rno', by = 'seniority')"
     ],
     "language": "python",
     "metadata": {},
     "outputs": [
      {
       "metadata": {},
       "output_type": "pyout",
       "prompt_number": 53,
       "text": [
        "<matplotlib.axes._subplots.AxesSubplot at 0x19937898>"
       ]
      },
      {
       "metadata": {},
       "output_type": "display_data",
       "png": "iVBORw0KGgoAAAANSUhEUgAAAXcAAAEaCAYAAADqqhd6AAAABHNCSVQICAgIfAhkiAAAAAlwSFlz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\nAABJRU5ErkJggg==\n",
       "text": [
        "<matplotlib.figure.Figure at 0x1b36e780>"
       ]
      }
     ],
     "prompt_number": 53
    },
    {
     "cell_type": "code",
     "collapsed": false,
     "input": [
      "df[df.seniority == 'Senior'].describe()"
     ],
     "language": "python",
     "metadata": {},
     "outputs": [
      {
       "html": [
        "<div style=\"max-height:1000px;max-width:1500px;overflow:auto;\">\n",
        "<table border=\"1\" class=\"dataframe\">\n",
        "  <thead>\n",
        "    <tr style=\"text-align: right;\">\n",
        "      <th></th>\n",
        "      <th>mid</th>\n",
        "      <th>max_rno</th>\n",
        "    </tr>\n",
        "  </thead>\n",
        "  <tbody>\n",
        "    <tr>\n",
        "      <th>count</th>\n",
        "      <td> 12439.000000</td>\n",
        "      <td> 12439.000000</td>\n",
        "    </tr>\n",
        "    <tr>\n",
        "      <th>mean</th>\n",
        "      <td> 11154.210949</td>\n",
        "      <td>     1.808023</td>\n",
        "    </tr>\n",
        "    <tr>\n",
        "      <th>std</th>\n",
        "      <td>  6064.353758</td>\n",
        "      <td>     2.095937</td>\n",
        "    </tr>\n",
        "    <tr>\n",
        "      <th>min</th>\n",
        "      <td>     1.000000</td>\n",
        "      <td>     1.000000</td>\n",
        "    </tr>\n",
        "    <tr>\n",
        "      <th>25%</th>\n",
        "      <td>  6019.500000</td>\n",
        "      <td>     1.000000</td>\n",
        "    </tr>\n",
        "    <tr>\n",
        "      <th>50%</th>\n",
        "      <td> 11298.000000</td>\n",
        "      <td>     1.000000</td>\n",
        "    </tr>\n",
        "    <tr>\n",
        "      <th>75%</th>\n",
        "      <td> 16396.500000</td>\n",
        "      <td>     2.000000</td>\n",
        "    </tr>\n",
        "    <tr>\n",
        "      <th>max</th>\n",
        "      <td> 21633.000000</td>\n",
        "      <td>    57.000000</td>\n",
        "    </tr>\n",
        "  </tbody>\n",
        "</table>\n",
        "</div>"
       ],
       "metadata": {},
       "output_type": "pyout",
       "prompt_number": 54,
       "text": [
        "                mid       max_rno\n",
        "count  12439.000000  12439.000000\n",
        "mean   11154.210949      1.808023\n",
        "std     6064.353758      2.095937\n",
        "min        1.000000      1.000000\n",
        "25%     6019.500000      1.000000\n",
        "50%    11298.000000      1.000000\n",
        "75%    16396.500000      2.000000\n",
        "max    21633.000000     57.000000"
       ]
      }
     ],
     "prompt_number": 54
    },
    {
     "cell_type": "code",
     "collapsed": false,
     "input": [
      "df[df.seniority == 'Junior'].describe()"
     ],
     "language": "python",
     "metadata": {},
     "outputs": [
      {
       "html": [
        "<div style=\"max-height:1000px;max-width:1500px;overflow:auto;\">\n",
        "<table border=\"1\" class=\"dataframe\">\n",
        "  <thead>\n",
        "    <tr style=\"text-align: right;\">\n",
        "      <th></th>\n",
        "      <th>mid</th>\n",
        "      <th>max_rno</th>\n",
        "    </tr>\n",
        "  </thead>\n",
        "  <tbody>\n",
        "    <tr>\n",
        "      <th>count</th>\n",
        "      <td>  9196.000000</td>\n",
        "      <td> 9196.000000</td>\n",
        "    </tr>\n",
        "    <tr>\n",
        "      <th>mean</th>\n",
        "      <td> 10363.223140</td>\n",
        "      <td>    1.728795</td>\n",
        "    </tr>\n",
        "    <tr>\n",
        "      <th>std</th>\n",
        "      <td>  6455.303381</td>\n",
        "      <td>    1.533445</td>\n",
        "    </tr>\n",
        "    <tr>\n",
        "      <th>min</th>\n",
        "      <td>    15.000000</td>\n",
        "      <td>    1.000000</td>\n",
        "    </tr>\n",
        "    <tr>\n",
        "      <th>25%</th>\n",
        "      <td>  4571.500000</td>\n",
        "      <td>    1.000000</td>\n",
        "    </tr>\n",
        "    <tr>\n",
        "      <th>50%</th>\n",
        "      <td> 10253.500000</td>\n",
        "      <td>    1.000000</td>\n",
        "    </tr>\n",
        "    <tr>\n",
        "      <th>75%</th>\n",
        "      <td> 15955.250000</td>\n",
        "      <td>    2.000000</td>\n",
        "    </tr>\n",
        "    <tr>\n",
        "      <th>max</th>\n",
        "      <td> 21635.000000</td>\n",
        "      <td>   24.000000</td>\n",
        "    </tr>\n",
        "  </tbody>\n",
        "</table>\n",
        "</div>"
       ],
       "metadata": {},
       "output_type": "pyout",
       "prompt_number": 55,
       "text": [
        "                mid      max_rno\n",
        "count   9196.000000  9196.000000\n",
        "mean   10363.223140     1.728795\n",
        "std     6455.303381     1.533445\n",
        "min       15.000000     1.000000\n",
        "25%     4571.500000     1.000000\n",
        "50%    10253.500000     1.000000\n",
        "75%    15955.250000     2.000000\n",
        "max    21635.000000    24.000000"
       ]
      }
     ],
     "prompt_number": 55
    },
    {
     "cell_type": "code",
     "collapsed": false,
     "input": [
      "df.max_rno[df.seniority == 'Senior'].hist()"
     ],
     "language": "python",
     "metadata": {},
     "outputs": [
      {
       "metadata": {},
       "output_type": "pyout",
       "prompt_number": 56,
       "text": [
        "<matplotlib.axes._subplots.AxesSubplot at 0x19ff1550>"
       ]
      },
      {
       "metadata": {},
       "output_type": "display_data",
       "png": "iVBORw0KGgoAAAANSUhEUgAAAYQAAAEACAYAAACznAEdAAAABHNCSVQICAgIfAhkiAAAAAlwSFlz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\nYGZmhQuCmZkBLghmZla4IJiZGQD/H9IKqokiMzRdAAAAAElFTkSuQmCC\n",
       "text": [
        "<matplotlib.figure.Figure at 0x1a746320>"
       ]
      }
     ],
     "prompt_number": 56
    },
    {
     "cell_type": "code",
     "collapsed": false,
     "input": [
      "df.max_rno[df.seniority == 'Junior'].hist()"
     ],
     "language": "python",
     "metadata": {},
     "outputs": [
      {
       "metadata": {},
       "output_type": "pyout",
       "prompt_number": 57,
       "text": [
        "<matplotlib.axes._subplots.AxesSubplot at 0x1b5d3ef0>"
       ]
      },
      {
       "metadata": {},
       "output_type": "display_data",
       "png": "iVBORw0KGgoAAAANSUhEUgAAAX8AAAEACAYAAABbMHZzAAAABHNCSVQICAgIfAhkiAAAAAlwSFlz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\nLv5mZjX0/wGXZ6RFu1hIvQAAAABJRU5ErkJggg==\n",
       "text": [
        "<matplotlib.figure.Figure at 0x1b2cadd8>"
       ]
      }
     ],
     "prompt_number": 57
    },
    {
     "cell_type": "code",
     "collapsed": false,
     "input": [
      "mod = sm.OLS.from_formula(\"max_rno ~ seniority == 'Junior'\", df) # forces Y to be 1\n",
      "res = mod.fit()\n",
      "print res.summary(alpha = .1)"
     ],
     "language": "python",
     "metadata": {},
     "outputs": [
      {
       "output_type": "stream",
       "stream": "stdout",
       "text": [
        "                            OLS Regression Results                            \n",
        "==============================================================================\n",
        "Dep. Variable:                max_rno   R-squared:                       0.000\n",
        "Model:                            OLS   Adj. R-squared:                  0.000\n",
        "Method:                 Least Squares   F-statistic:                     9.415\n",
        "Date:                Tue, 10 Feb 2015   Prob (F-statistic):            0.00216\n",
        "Time:                        21:30:44   Log-Likelihood:                -44327.\n",
        "No. Observations:               21635   AIC:                         8.866e+04\n",
        "Df Residuals:                   21633   BIC:                         8.867e+04\n",
        "Df Model:                           1                                         \n",
        "=================================================================================================\n",
        "                                    coef    std err          t      P>|t|      [90.0% Conf. Int.]\n",
        "-------------------------------------------------------------------------------------------------\n",
        "Intercept                         1.8080      0.017    107.400      0.000         1.780     1.836\n",
        "seniority == 'Junior'[T.True]    -0.0792      0.026     -3.068      0.002        -0.122    -0.037\n",
        "==============================================================================\n",
        "Omnibus:                    30503.915   Durbin-Watson:                   1.886\n",
        "Prob(Omnibus):                  0.000   Jarque-Bera (JB):         21990988.515\n",
        "Skew:                           7.994   Prob(JB):                         0.00\n",
        "Kurtosis:                     158.368   Cond. No.                         2.48\n",
        "==============================================================================\n"
       ]
      }
     ],
     "prompt_number": 61
    },
    {
     "cell_type": "markdown",
     "metadata": {
      "slideshow": {
       "slide_type": "fragment"
      }
     },
     "source": [
      "On your own\n",
      "=========\n",
      "\n"
     ]
    },
    {
     "cell_type": "markdown",
     "metadata": {},
     "source": [
      "Start with the Twitter data on US and Canada trends from Lab 3.\n",
      "\n",
      "1. Create a histogram of `text_len` within each group. (Use `alpha = 0.5` to overlay them.)\n",
      "\n",
      "2. Compute the sample mean and standard deviation in the two groups.\n",
      "\n",
      "3. Create a `DataFrame` concatenating data from each collection adding a `country` column to distinguish US from Canada.  \n",
      "    i.e. given `ca_text_len` and `us_text_len` as `Series` containing the length of each text in the Canadian and US collections respectively:\n",
      "\n",
      "    ```python\n",
      "    text_len_df = pd.concat([pd.DataFrame({'text_len': ca_text_len, 'country': 'CA'}), \n",
      "                             pd.DataFrame({'text_len': us_text_len, 'country': 'US'})])\n",
      "    ```\n",
      "\n",
      "4. Use this `DataFrame` to create a `boxplot` of the `text_len` by `country`.\n",
      "\n",
      "5. Use `OLS` to compute a 90% confidence interval for the difference in `text_len` between the two groups. Name a problem with describing the confidence interval of tweet length in this way.\n",
      "\n",
      "5. At level $\\alpha=5\\%$, test the null hypothesis that the average text length does not differ between the two groups. What can you conclude?\n",
      "\n",
      "6. Repeat the above steps but pick your own tags and try to find a pair with a more significant difference."
     ]
    },
    {
     "cell_type": "markdown",
     "metadata": {},
     "source": [
      "---"
     ]
<<<<<<< HEAD
=======
    },
    {
     "cell_type": "markdown",
     "metadata": {},
     "source": [
      "### Don't forget to submit exit tickets: [http://tinyurl.com/dat-exit-ticket](http://tinyurl.com/dat-exit-ticket)"
     ]
    },
    {
     "cell_type": "code",
     "collapsed": false,
     "input": [],
     "language": "python",
     "metadata": {},
     "outputs": []
>>>>>>> 614f5817a6aae7dc1f97ddb3bcabd660284af944
    }
   ],
   "metadata": {}
  }
 ]
}