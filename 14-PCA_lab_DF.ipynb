{
 "metadata": {
  "name": "",
  "signature": "sha256:2270c02bf9336a0e8179be27a15240fbc748d017ed07dea559df360fee5e724c"
 },
 "nbformat": 3,
 "nbformat_minor": 0,
 "worksheets": [
  {
   "cells": [
    {
     "cell_type": "markdown",
     "metadata": {},
     "source": [
      "Lab\n",
      "==========================================\n",
      "Unsupervised Learning: Dimensionality Reduction and Visualization\n",
      "------------------------------------------\n",
      "Alessandro D. Gagliardi  \n",
      "*(adapted from Jake VanderPlas' tutorial)*"
     ]
    },
    {
     "cell_type": "markdown",
     "metadata": {},
     "source": [
      "<img src=\"http://scikit-learn.org/stable/_static/ml_map.png\" alt=\"Machine Learning Map\" style=\"width: 800px;\"/>"
     ]
    },
    {
     "cell_type": "code",
     "collapsed": false,
     "input": [
      "%matplotlib inline\n",
      "import numpy as np\n",
      "from itertools import cycle\n",
      "from seaborn import plt\n",
      "from sklearn.datasets import load_files\n",
      "\n",
      "# Some nice default configuration for plots\n",
      "plt.rcParams['figure.figsize'] = 10, 7.5\n",
      "plt.rcParams['axes.grid'] = True\n",
      "plt.gray()"
     ],
     "language": "python",
     "metadata": {},
     "outputs": [
      {
       "metadata": {},
       "output_type": "display_data",
       "text": [
        "<matplotlib.figure.Figure at 0x17b82438>"
       ]
      }
     ],
     "prompt_number": 1
    },
    {
     "cell_type": "markdown",
     "metadata": {},
     "source": [
      "Unsupervised learning is interested in situations in which X is available, but not y: data without labels.\n",
      "\n",
      "A typical use case is to find hiden structure in the data.\n",
      "\n",
      "Previously we worked on visualizing the iris data by plotting\n",
      "pairs of dimensions by trial and error, until we arrived at\n",
      "the best pair of dimensions for our dataset.  Here we will\n",
      "use an unsupervised *dimensionality reduction* algorithm\n",
      "to accomplish this more automatically."
     ]
    },
    {
     "cell_type": "markdown",
     "metadata": {},
     "source": [
      "By the end of this section you will\n",
      "\n",
      "- Know how to instantiate and train an unsupervised dimensionality reduction algorithm:\n",
      "  Principal Component Analysis (PCA)\n",
      "- Know how to use PCA to visualize high-dimensional data"
     ]
    },
    {
     "cell_type": "heading",
     "level": 2,
     "metadata": {},
     "source": [
      "Dimensionality Reduction: PCA"
     ]
    },
    {
     "cell_type": "markdown",
     "metadata": {},
     "source": [
      "Dimensionality reduction is the task of deriving a set of new\n",
      "artificial features that is smaller than the original feature\n",
      "set while retaining most of the variance of the original data.\n",
      "Here we'll use a common but powerful dimensionality reduction\n",
      "technique called Principal Component Analysis (PCA).\n",
      "We'll perform PCA on the iris dataset that we saw before:"
     ]
    },
    {
     "cell_type": "code",
     "collapsed": false,
     "input": [
      "from sklearn.datasets import load_iris\n",
      "iris = load_iris()\n",
      "X = iris.data\n",
      "y = iris.target"
     ],
     "language": "python",
     "metadata": {},
     "outputs": [],
     "prompt_number": 65
    },
    {
     "cell_type": "markdown",
     "metadata": {},
     "source": [
      "PCA is performed using linear combinations of the original features\n",
      "using a truncated Singular Value Decomposition of the matrix X so\n",
      "as to project the data onto a base of the top singular vectors.\n",
      "If the number of retained components is 2 or 3, PCA can be used\n",
      "to visualize the dataset."
     ]
    },
    {
     "cell_type": "code",
     "collapsed": false,
     "input": [
      "from sklearn.decomposition import PCA\n",
      "pca = PCA(n_components=2, whiten=True)\n",
      "pca.fit(X)"
     ],
     "language": "python",
     "metadata": {},
     "outputs": [
      {
       "metadata": {},
       "output_type": "pyout",
       "prompt_number": 3,
       "text": [
        "PCA(copy=True, n_components=2, whiten=True)"
       ]
      }
     ],
     "prompt_number": 3
    },
    {
     "cell_type": "markdown",
     "metadata": {},
     "source": [
      "Once fitted, the pca model exposes the singular vectors in the components_ attribute:"
     ]
    },
    {
     "cell_type": "code",
     "collapsed": false,
     "input": [
      "pca.components_"
     ],
     "language": "python",
     "metadata": {},
     "outputs": [
      {
       "metadata": {},
       "output_type": "pyout",
       "prompt_number": 23,
       "text": [
        "array([[ 0.17650757, -0.04015901,  0.41812992,  0.17516725],\n",
        "       [-1.33840478, -1.48757227,  0.35831476,  0.15229463]])"
       ]
      }
     ],
     "prompt_number": 23
    },
    {
     "cell_type": "markdown",
     "metadata": {},
     "source": [
      "Other attributes are available as well:"
     ]
    },
    {
     "cell_type": "code",
     "collapsed": false,
     "input": [
      "pca.explained_variance_ratio_"
     ],
     "language": "python",
     "metadata": {},
     "outputs": [
      {
       "metadata": {},
       "output_type": "pyout",
       "prompt_number": 5,
       "text": [
        "array([ 0.92461621,  0.05301557])"
       ]
      }
     ],
     "prompt_number": 5
    },
    {
     "cell_type": "code",
     "collapsed": false,
     "input": [
      "pca.explained_variance_ratio_.sum()"
     ],
     "language": "python",
     "metadata": {},
     "outputs": [
      {
       "metadata": {},
       "output_type": "pyout",
       "prompt_number": 6,
       "text": [
        "0.97763177502480336"
       ]
      }
     ],
     "prompt_number": 6
    },
    {
     "cell_type": "markdown",
     "metadata": {},
     "source": [
      "Let us project the iris dataset along those first two dimensions:"
     ]
    },
    {
     "cell_type": "code",
     "collapsed": false,
     "input": [
      "X_pca = pca.transform(X)"
     ],
     "language": "python",
     "metadata": {},
     "outputs": [],
     "prompt_number": 7
    },
    {
     "cell_type": "markdown",
     "metadata": {},
     "source": [
      "PCA `normalizes` and `whitens` the data, which means that the data\n",
      "is now centered on both components with unit variance:"
     ]
    },
    {
     "cell_type": "code",
     "collapsed": false,
     "input": [
      "import numpy as np\n",
      "np.round(X_pca.mean(axis=0), decimals=5)"
     ],
     "language": "python",
     "metadata": {},
     "outputs": [
      {
       "metadata": {},
       "output_type": "pyout",
       "prompt_number": 8,
       "text": [
        "array([ 0.,  0.])"
       ]
      }
     ],
     "prompt_number": 8
    },
    {
     "cell_type": "code",
     "collapsed": false,
     "input": [
      "np.round(X_pca.std(axis=0), decimals=5)"
     ],
     "language": "python",
     "metadata": {},
     "outputs": [
      {
       "metadata": {},
       "output_type": "pyout",
       "prompt_number": 9,
       "text": [
        "array([ 1.,  1.])"
       ]
      }
     ],
     "prompt_number": 9
    },
    {
     "cell_type": "markdown",
     "metadata": {},
     "source": [
      "Furthermore, the samples components do no longer carry any linear correlation:"
     ]
    },
    {
     "cell_type": "code",
     "collapsed": false,
     "input": [
      "np.corrcoef(X_pca.T)"
     ],
     "language": "python",
     "metadata": {},
     "outputs": [
      {
       "metadata": {},
       "output_type": "pyout",
       "prompt_number": 12,
       "text": [
        "array([[  1.00000000e+00,   1.60431801e-16],\n",
        "       [  1.60431801e-16,   1.00000000e+00]])"
       ]
      }
     ],
     "prompt_number": 12
    },
    {
     "cell_type": "markdown",
     "metadata": {},
     "source": [
      "Now we can visualize the results using the following utility function:"
     ]
    },
    {
     "cell_type": "code",
     "collapsed": false,
     "input": [
      "from itertools import cycle\n",
      "\n",
      "def plot_PCA_2D(data, target, target_names):\n",
      "    colors = cycle('rgbcmykw')\n",
      "    target_ids = range(len(target_names))\n",
      "    plt.figure()\n",
      "    for i, c, label in zip(target_ids, colors, target_names):\n",
      "        plt.scatter(data[target == i, 0], data[target == i, 1],\n",
      "                   c=c, label=label)\n",
      "    plt.legend()"
     ],
     "language": "python",
     "metadata": {},
     "outputs": [],
     "prompt_number": 13
    },
    {
     "cell_type": "markdown",
     "metadata": {},
     "source": [
      "Now calling this function for our data, we see the plot:"
     ]
    },
    {
     "cell_type": "code",
     "collapsed": false,
     "input": [
      "plot_PCA_2D(X_pca, iris.target, iris.target_names)"
     ],
     "language": "python",
     "metadata": {},
     "outputs": [
      {
       "metadata": {},
       "output_type": "display_data",
       "png": "[encoded data removed]",
       "text": [
        "<matplotlib.figure.Figure at 0x17f99f60>"
       ]
      }
     ],
     "prompt_number": 14
    },
    {
     "cell_type": "markdown",
     "metadata": {},
     "source": [
      "Note that this projection was determined *without* any information about the\n",
      "labels (represented by the colors): this is the sense in which the learning\n",
      "is **unsupervised**.  Nevertheless, we see that the projection gives us insight\n",
      "into the distribution of the different flowers in parameter space: notably,\n",
      "*iris setosa* is much more distinct than the other two species."
     ]
    },
    {
     "cell_type": "markdown",
     "metadata": {},
     "source": [
      "Note also that the default implementation of PCA computes the\n",
      "singular value decomposition (SVD) of the full\n",
      "data matrix, which is not scalable when both ``n_samples`` and\n",
      "``n_features`` are big (more that a few thousands).\n",
      "If you are interested in a number of components that is much\n",
      "smaller than both ``n_samples`` and ``n_features``, consider using\n",
      "`sklearn.decomposition.RandomizedPCA` instead."
     ]
    },
    {
     "cell_type": "markdown",
     "metadata": {},
     "source": [
      "Other dimensionality reduction techniques which are useful to know about:\n",
      "\n",
      "- [sklearn.decomposition.PCA](http://scikit-learn.org/0.13/modules/generated/sklearn.decomposition.PCA.html): \n",
      "   Principal Component Analysis\n",
      "- [sklearn.decomposition.RandomizedPCA](http://scikit-learn.org/0.13/modules/generated/sklearn.decomposition.RandomizedPCA.html):\n",
      "   fast non-exact PCA implementation based on a randomized algorithm\n",
      "- [sklearn.decomposition.SparsePCA](http://scikit-learn.org/0.13/modules/generated/sklearn.decomposition.SparsePCA.html):\n",
      "   PCA variant including L1 penalty for sparsity\n",
      "- [sklearn.decomposition.FastICA](http://scikit-learn.org/0.13/modules/generated/sklearn.decomposition.FastICA.html):\n",
      "   Independent Component Analysis\n",
      "- [sklearn.decomposition.NMF](http://scikit-learn.org/0.13/modules/generated/sklearn.decomposition.NMF.html):\n",
      "   non-negative matrix factorization\n",
      "- [sklearn.manifold.LocallyLinearEmbedding](http://scikit-learn.org/0.13/modules/generated/sklearn.manifold.LocallyLinearEmbedding.html):\n",
      "   nonlinear manifold learning technique based on local neighborhood geometry\n",
      "- [sklearn.manifold.IsoMap](http://scikit-learn.org/0.13/modules/generated/sklearn.manifold.Isomap.html):\n",
      "   nonlinear manifold learning technique based on a sparse graph algorithm\n",
      "- [sklearn.decomposition.TruncatedSVD](http://scikit-learn.org/0.13/modules/generated/sklearn.decomposition.TruncatedSVD.html): \n",
      "   linear dimensionality reduction by means of truncated singular value decomposition (SVD)"
     ]
    },
    {
     "cell_type": "markdown",
     "metadata": {},
     "source": [
      "1-2 Pairs\n",
      "=========\n",
      "1. Randomized PCA\n",
      "--------------------------------\n",
      "#### Repeat the above dimensionality reduction with ``sklearn.decomposition.RandomizedPCA``.  \n",
      "You can re-use the ``plot_PCA_2D`` function from above.  \n",
      "Are the results similar to those from standard PCA?"
     ]
    },
    {
     "cell_type": "code",
     "collapsed": false,
     "input": [
      "from sklearn.decomposition import RandomizedPCA\n",
      "Rpca = RandomizedPCA(n_components=2, whiten=True)\n",
      "Rpca.fit(X)\n",
      "print Rpca.components_"
     ],
     "language": "python",
     "metadata": {},
     "outputs": [
      {
       "output_type": "stream",
       "stream": "stdout",
       "text": [
        "[[ 0.17650757 -0.04015901  0.41812992  0.17516725]\n",
        " [ 1.33840478  1.48757227 -0.35831476 -0.15229463]]\n"
       ]
      }
     ],
     "prompt_number": 71
    },
    {
     "cell_type": "code",
     "collapsed": false,
     "input": [
      "print _.explained_variance_ratio_\n",
      "X_Rpca = Rpca.transform(X)\n",
      "plot_PCA_2D(X_Rpca, iris.target, iris.target_names)"
     ],
     "language": "python",
     "metadata": {},
     "outputs": [
      {
       "output_type": "stream",
       "stream": "stdout",
       "text": [
        "[ 0.92461621  0.05301557]\n"
       ]
      },
      {
       "metadata": {},
       "output_type": "display_data",
       "png": "[encoded data removed]",
       "text": [
        "<matplotlib.figure.Figure at 0x1a675a58>"
       ]
      }
     ],
     "prompt_number": 72
    },
    {
     "cell_type": "heading",
     "level": 2,
     "metadata": {},
     "source": [
      "2. Dimension Reduction of Digits"
     ]
    },
    {
     "cell_type": "markdown",
     "metadata": {},
     "source": [
      "Apply PCA (or RandomizedPCA?) to the Hand Written Digits dataset."
     ]
    },
    {
     "cell_type": "code",
     "collapsed": false,
     "input": [
      "from sklearn.datasets import load_digits\n",
      "digits = load_digits()\n",
      "print(digits.DESCR)"
     ],
     "language": "python",
     "metadata": {},
     "outputs": [
      {
       "output_type": "stream",
       "stream": "stdout",
       "text": [
        " Optical Recognition of Handwritten Digits Data Set\n",
        "\n",
        "Notes\n",
        "-----\n",
        "Data Set Characteristics:\n",
        "    :Number of Instances: 5620\n",
        "    :Number of Attributes: 64\n",
        "    :Attribute Information: 8x8 image of integer pixels in the range 0..16.\n",
        "    :Missing Attribute Values: None\n",
        "    :Creator: E. Alpaydin (alpaydin '@' boun.edu.tr)\n",
        "    :Date: July; 1998\n",
        "\n",
        "This is a copy of the test set of the UCI ML hand-written digits datasets\n",
        "http://archive.ics.uci.edu/ml/datasets/Optical+Recognition+of+Handwritten+Digits\n",
        "\n",
        "The data set contains images of hand-written digits: 10 classes where\n",
        "each class refers to a digit.\n",
        "\n",
        "Preprocessing programs made available by NIST were used to extract\n",
        "normalized bitmaps of handwritten digits from a preprinted form. From a\n",
        "total of 43 people, 30 contributed to the training set and different 13\n",
        "to the test set. 32x32 bitmaps are divided into nonoverlapping blocks of\n",
        "4x4 and the number of on pixels are counted in each block. This generates\n",
        "an input matrix of 8x8 where each element is an integer in the range\n",
        "0..16. This reduces dimensionality and gives invariance to small\n",
        "distortions.\n",
        "\n",
        "For info on NIST preprocessing routines, see M. D. Garris, J. L. Blue, G.\n",
        "T. Candela, D. L. Dimmick, J. Geist, P. J. Grother, S. A. Janet, and C.\n",
        "L. Wilson, NIST Form-Based Handprint Recognition System, NISTIR 5469,\n",
        "1994.\n",
        "\n",
        "References\n",
        "----------\n",
        "  - C. Kaynak (1995) Methods of Combining Multiple Classifiers and Their\n",
        "    Applications to Handwritten Digit Recognition, MSc Thesis, Institute of\n",
        "    Graduate Studies in Science and Engineering, Bogazici University.\n",
        "  - E. Alpaydin, C. Kaynak (1998) Cascading Classifiers, Kybernetika.\n",
        "  - Ken Tang and Ponnuthurai N. Suganthan and Xi Yao and A. Kai Qin.\n",
        "    Linear dimensionalityreduction using relevance weighted LDA. School of\n",
        "    Electrical and Electronic Engineering Nanyang Technological University.\n",
        "    2005.\n",
        "  - Claudio Gentile. A New Approximate Maximal Margin Classification\n",
        "    Algorithm. NIPS. 2000.\n",
        "\n"
       ]
      }
     ],
     "prompt_number": 74
    },
    {
     "cell_type": "code",
     "collapsed": false,
     "input": [
      "X, y = digits.data, digits.target\n",
      "\n",
      "print(\"data shape: %r, target shape: %r\" % (X.shape, y.shape))\n",
      "print(\"classes: %r\" % list(np.unique(y)))"
     ],
     "language": "python",
     "metadata": {},
     "outputs": [
      {
       "output_type": "stream",
       "stream": "stdout",
       "text": [
        "data shape: (1797L, 64L), target shape: (1797L,)\n",
        "classes: [0, 1, 2, 3, 4, 5, 6, 7, 8, 9]\n"
       ]
      }
     ],
     "prompt_number": 75
    },
    {
     "cell_type": "code",
     "collapsed": false,
     "input": [
      "n_samples, n_features = X.shape\n",
      "print(\"n_samples=%d\" % n_samples)\n",
      "print(\"n_features=%d\" % n_features)"
     ],
     "language": "python",
     "metadata": {},
     "outputs": [
      {
       "output_type": "stream",
       "stream": "stdout",
       "text": [
        "n_samples=1797\n",
        "n_features=64\n"
       ]
      }
     ],
     "prompt_number": 78
    },
    {
     "cell_type": "code",
     "collapsed": false,
     "input": [
      "def plot_gallery(data, labels, shape, interpolation='nearest'):\n",
      "    for i in range(data.shape[0]):\n",
      "        plt.subplot(1, data.shape[0], (i + 1))\n",
      "        plt.imshow(data[i].reshape(shape), interpolation=interpolation)\n",
      "        plt.title(labels[i])\n",
      "        plt.xticks(()), plt.yticks(())"
     ],
     "language": "python",
     "metadata": {},
     "outputs": [],
     "prompt_number": 79
    },
    {
     "cell_type": "code",
     "collapsed": false,
     "input": [
      "subsample = np.random.permutation(X.shape[0])[:5]\n",
      "images = X[subsample]\n",
      "labels = ['True class: %d' % l for l in y[subsample]]\n",
      "plot_gallery(images, labels, shape=(8, 8))"
     ],
     "language": "python",
     "metadata": {},
     "outputs": [
      {
       "metadata": {},
       "output_type": "display_data",
       "png": "[encoded data removed]",
       "text": [
        "<matplotlib.figure.Figure at 0x1a84b0b8>"
       ]
      }
     ],
     "prompt_number": 80
    },
    {
     "cell_type": "code",
     "collapsed": false,
     "input": [
      "rpca2 = RandomizedPCA(whiten=True, random_state = 42)\n",
      "rpca2.fit(X)\n",
      "print rpca2.components_\n",
      "print len(rpca2.components_)"
     ],
     "language": "python",
     "metadata": {},
     "outputs": [
      {
       "output_type": "stream",
       "stream": "stdout",
       "text": [
        "[[  1.50977995e-17  -1.29410525e-03  -1.67041804e-02 ...,  -6.68518105e-03\n",
        "   -2.73614983e-03  -8.57417599e-04]\n",
        " [  5.79653742e-18   7.90081548e-04   3.83725874e-03 ...,  -1.38134594e-02\n",
        "   -1.52088946e-03   5.23539354e-04]\n",
        " [  3.34563611e-17  -1.54080918e-03  -1.06244636e-02 ...,  -1.94960203e-02\n",
        "   -1.40309154e-02  -2.92371074e-03]\n",
        " ..., \n",
        " [  8.22230727e+14   2.07126260e-03   4.45732369e-04 ...,  -8.63606464e-05\n",
        "    3.07137460e-04  -9.10965528e-04]\n",
        " [  7.47332631e+11   7.66102508e-06   6.85574688e-07 ...,   1.56702786e-06\n",
        "    6.52928274e-07  -1.79555275e-06]\n",
        " [ -2.08837265e+11   1.21009373e-05   5.65871171e-07 ...,  -1.30585655e-07\n",
        "    5.65871171e-07  -1.20791731e-06]]\n",
        "64\n"
       ]
      }
     ],
     "prompt_number": 133
    },
    {
     "cell_type": "code",
     "collapsed": false,
     "input": [
      "rpca2.explained_variance_ratio_.sum()"
     ],
     "language": "python",
     "metadata": {},
     "outputs": [
      {
       "metadata": {},
       "output_type": "pyout",
       "prompt_number": 99,
       "text": [
        "0.99999999999999933"
       ]
      }
     ],
     "prompt_number": 99
    },
    {
     "cell_type": "code",
     "collapsed": false,
     "input": [
      "rpca2.explained_variance_ratio_"
     ],
     "language": "python",
     "metadata": {},
     "outputs": [
      {
       "metadata": {},
       "output_type": "pyout",
       "prompt_number": 100,
       "text": [
        "array([  1.48905936e-01,   1.36187712e-01,   1.17945938e-01,\n",
        "         8.40997942e-02,   5.78241466e-02,   4.91691032e-02,\n",
        "         4.31598701e-02,   3.66137258e-02,   3.35324810e-02,\n",
        "         3.07880621e-02,   2.37234084e-02,   2.27269657e-02,\n",
        "         1.82186331e-02,   1.77385494e-02,   1.46710109e-02,\n",
        "         1.40971560e-02,   1.31858920e-02,   1.24813782e-02,\n",
        "         1.01771796e-02,   9.05617439e-03,   8.89538461e-03,\n",
        "         7.97123157e-03,   7.67493255e-03,   7.22903569e-03,\n",
        "         6.95888851e-03,   5.96081458e-03,   5.75614688e-03,\n",
        "         5.15157582e-03,   4.89539777e-03,   4.28887968e-03,\n",
        "         3.73606048e-03,   3.53274223e-03,   3.36683986e-03,\n",
        "         3.28029851e-03,   3.08320884e-03,   2.93778629e-03,\n",
        "         2.56588609e-03,   2.27742397e-03,   2.22277922e-03,\n",
        "         2.11430393e-03,   1.89909062e-03,   1.58652907e-03,\n",
        "         1.51159934e-03,   1.40578764e-03,   1.16622290e-03,\n",
        "         1.07492521e-03,   9.64053065e-04,   7.74630271e-04,\n",
        "         5.57211553e-04,   4.04330693e-04,   2.09916327e-04,\n",
        "         8.24797098e-05,   5.25149980e-05,   5.05243719e-05,\n",
        "         3.29961363e-05,   1.24365445e-05,   7.04827911e-06,\n",
        "         3.01432139e-06,   1.06230800e-06,   5.50074587e-07,\n",
        "         3.42905702e-07,   1.38138350e-33,   1.38138350e-33,\n",
        "         1.38138350e-33])"
       ]
      }
     ],
     "prompt_number": 100
    },
    {
     "cell_type": "code",
     "collapsed": false,
     "input": [
      "import pandas as pd\n",
      "\n",
      "def pca_summary(prcomp):\n",
      "    return pd.DataFrame([np.sqrt(prcomp.explained_variance_), \n",
      "              prcomp.explained_variance_ratio_, \n",
      "              prcomp.explained_variance_ratio_.cumsum()],\n",
      "             index = [\"Standard deviation\", \"Proportion of Variance\", \"Cumulative Proportion\"], \n",
      "             columns = (map(\"PC{}\".format, range(1, len(prcomp.components_)+1))))"
     ],
     "language": "python",
     "metadata": {},
     "outputs": [],
     "prompt_number": 138
    },
    {
     "cell_type": "code",
     "collapsed": false,
     "input": [
      "pca_summary(rpca2).T"
     ],
     "language": "python",
     "metadata": {},
     "outputs": [
      {
       "html": [
        "<div style=\"max-height:1000px;max-width:1500px;overflow:auto;\">\n",
        "<table border=\"1\" class=\"dataframe\">\n",
        "  <thead>\n",
        "    <tr style=\"text-align: right;\">\n",
        "      <th></th>\n",
        "      <th>Standard deviation</th>\n",
        "      <th>Proportion of Variance</th>\n",
        "      <th>Cumulative Proportion</th>\n",
        "    </tr>\n",
        "  </thead>\n",
        "  <tbody>\n",
        "    <tr>\n",
        "      <th>PC1</th>\n",
        "      <td> 1.337562e+01</td>\n",
        "      <td> 1.489059e-01</td>\n",
        "      <td> 0.148906</td>\n",
        "    </tr>\n",
        "    <tr>\n",
        "      <th>PC2</th>\n",
        "      <td> 1.279166e+01</td>\n",
        "      <td> 1.361877e-01</td>\n",
        "      <td> 0.285094</td>\n",
        "    </tr>\n",
        "    <tr>\n",
        "      <th>PC3</th>\n",
        "      <td> 1.190418e+01</td>\n",
        "      <td> 1.179459e-01</td>\n",
        "      <td> 0.403040</td>\n",
        "    </tr>\n",
        "    <tr>\n",
        "      <th>PC4</th>\n",
        "      <td> 1.005207e+01</td>\n",
        "      <td> 8.409979e-02</td>\n",
        "      <td> 0.487139</td>\n",
        "    </tr>\n",
        "    <tr>\n",
        "      <th>PC5</th>\n",
        "      <td> 8.335135e+00</td>\n",
        "      <td> 5.782415e-02</td>\n",
        "      <td> 0.544964</td>\n",
        "    </tr>\n",
        "    <tr>\n",
        "      <th>PC6</th>\n",
        "      <td> 7.686067e+00</td>\n",
        "      <td> 4.916910e-02</td>\n",
        "      <td> 0.594133</td>\n",
        "    </tr>\n",
        "    <tr>\n",
        "      <th>PC7</th>\n",
        "      <td> 7.201088e+00</td>\n",
        "      <td> 4.315987e-02</td>\n",
        "      <td> 0.637293</td>\n",
        "    </tr>\n",
        "    <tr>\n",
        "      <th>PC8</th>\n",
        "      <td> 6.632542e+00</td>\n",
        "      <td> 3.661373e-02</td>\n",
        "      <td> 0.673906</td>\n",
        "    </tr>\n",
        "    <tr>\n",
        "      <th>PC9</th>\n",
        "      <td> 6.347327e+00</td>\n",
        "      <td> 3.353248e-02</td>\n",
        "      <td> 0.707439</td>\n",
        "    </tr>\n",
        "    <tr>\n",
        "      <th>PC10</th>\n",
        "      <td> 6.082039e+00</td>\n",
        "      <td> 3.078806e-02</td>\n",
        "      <td> 0.738227</td>\n",
        "    </tr>\n",
        "    <tr>\n",
        "      <th>PC11</th>\n",
        "      <td> 5.338836e+00</td>\n",
        "      <td> 2.372341e-02</td>\n",
        "      <td> 0.761950</td>\n",
        "    </tr>\n",
        "    <tr>\n",
        "      <th>PC12</th>\n",
        "      <td> 5.225511e+00</td>\n",
        "      <td> 2.272697e-02</td>\n",
        "      <td> 0.784677</td>\n",
        "    </tr>\n",
        "    <tr>\n",
        "      <th>PC13</th>\n",
        "      <td> 4.678600e+00</td>\n",
        "      <td> 1.821863e-02</td>\n",
        "      <td> 0.802896</td>\n",
        "    </tr>\n",
        "    <tr>\n",
        "      <th>PC14</th>\n",
        "      <td> 4.616545e+00</td>\n",
        "      <td> 1.773855e-02</td>\n",
        "      <td> 0.820634</td>\n",
        "    </tr>\n",
        "    <tr>\n",
        "      <th>PC15</th>\n",
        "      <td> 4.198441e+00</td>\n",
        "      <td> 1.467101e-02</td>\n",
        "      <td> 0.835305</td>\n",
        "    </tr>\n",
        "    <tr>\n",
        "      <th>PC16</th>\n",
        "      <td> 4.115511e+00</td>\n",
        "      <td> 1.409716e-02</td>\n",
        "      <td> 0.849402</td>\n",
        "    </tr>\n",
        "    <tr>\n",
        "      <th>PC17</th>\n",
        "      <td> 3.980272e+00</td>\n",
        "      <td> 1.318589e-02</td>\n",
        "      <td> 0.862588</td>\n",
        "    </tr>\n",
        "    <tr>\n",
        "      <th>PC18</th>\n",
        "      <td> 3.872481e+00</td>\n",
        "      <td> 1.248138e-02</td>\n",
        "      <td> 0.875070</td>\n",
        "    </tr>\n",
        "    <tr>\n",
        "      <th>PC19</th>\n",
        "      <td> 3.496808e+00</td>\n",
        "      <td> 1.017718e-02</td>\n",
        "      <td> 0.885247</td>\n",
        "    </tr>\n",
        "    <tr>\n",
        "      <th>PC20</th>\n",
        "      <td> 3.298606e+00</td>\n",
        "      <td> 9.056174e-03</td>\n",
        "      <td> 0.894303</td>\n",
        "    </tr>\n",
        "    <tr>\n",
        "      <th>PC21</th>\n",
        "      <td> 3.269192e+00</td>\n",
        "      <td> 8.895385e-03</td>\n",
        "      <td> 0.903199</td>\n",
        "    </tr>\n",
        "    <tr>\n",
        "      <th>PC22</th>\n",
        "      <td> 3.094716e+00</td>\n",
        "      <td> 7.971232e-03</td>\n",
        "      <td> 0.911170</td>\n",
        "    </tr>\n",
        "    <tr>\n",
        "      <th>PC23</th>\n",
        "      <td> 3.036654e+00</td>\n",
        "      <td> 7.674933e-03</td>\n",
        "      <td> 0.918845</td>\n",
        "    </tr>\n",
        "    <tr>\n",
        "      <th>PC24</th>\n",
        "      <td> 2.947123e+00</td>\n",
        "      <td> 7.229036e-03</td>\n",
        "      <td> 0.926074</td>\n",
        "    </tr>\n",
        "    <tr>\n",
        "      <th>PC25</th>\n",
        "      <td> 2.891532e+00</td>\n",
        "      <td> 6.958889e-03</td>\n",
        "      <td> 0.933033</td>\n",
        "    </tr>\n",
        "    <tr>\n",
        "      <th>PC26</th>\n",
        "      <td> 2.676152e+00</td>\n",
        "      <td> 5.960815e-03</td>\n",
        "      <td> 0.938993</td>\n",
        "    </tr>\n",
        "    <tr>\n",
        "      <th>PC27</th>\n",
        "      <td> 2.629808e+00</td>\n",
        "      <td> 5.756147e-03</td>\n",
        "      <td> 0.944750</td>\n",
        "    </tr>\n",
        "    <tr>\n",
        "      <th>PC28</th>\n",
        "      <td> 2.487872e+00</td>\n",
        "      <td> 5.151576e-03</td>\n",
        "      <td> 0.949901</td>\n",
        "    </tr>\n",
        "    <tr>\n",
        "      <th>PC29</th>\n",
        "      <td> 2.425225e+00</td>\n",
        "      <td> 4.895398e-03</td>\n",
        "      <td> 0.954797</td>\n",
        "    </tr>\n",
        "    <tr>\n",
        "      <th>PC30</th>\n",
        "      <td> 2.270022e+00</td>\n",
        "      <td> 4.288880e-03</td>\n",
        "      <td> 0.959085</td>\n",
        "    </tr>\n",
        "    <tr>\n",
        "      <th>...</th>\n",
        "      <td>...</td>\n",
        "      <td>...</td>\n",
        "      <td>...</td>\n",
        "    </tr>\n",
        "    <tr>\n",
        "      <th>PC35</th>\n",
        "      <td> 1.924684e+00</td>\n",
        "      <td> 3.083209e-03</td>\n",
        "      <td> 0.976085</td>\n",
        "    </tr>\n",
        "    <tr>\n",
        "      <th>PC36</th>\n",
        "      <td> 1.878746e+00</td>\n",
        "      <td> 2.937786e-03</td>\n",
        "      <td> 0.979022</td>\n",
        "    </tr>\n",
        "    <tr>\n",
        "      <th>PC37</th>\n",
        "      <td> 1.755807e+00</td>\n",
        "      <td> 2.565886e-03</td>\n",
        "      <td> 0.981588</td>\n",
        "    </tr>\n",
        "    <tr>\n",
        "      <th>PC38</th>\n",
        "      <td> 1.654169e+00</td>\n",
        "      <td> 2.277424e-03</td>\n",
        "      <td> 0.983866</td>\n",
        "    </tr>\n",
        "    <tr>\n",
        "      <th>PC39</th>\n",
        "      <td> 1.634204e+00</td>\n",
        "      <td> 2.222779e-03</td>\n",
        "      <td> 0.986088</td>\n",
        "    </tr>\n",
        "    <tr>\n",
        "      <th>PC40</th>\n",
        "      <td> 1.593829e+00</td>\n",
        "      <td> 2.114304e-03</td>\n",
        "      <td> 0.988203</td>\n",
        "    </tr>\n",
        "    <tr>\n",
        "      <th>PC41</th>\n",
        "      <td> 1.510535e+00</td>\n",
        "      <td> 1.899091e-03</td>\n",
        "      <td> 0.990102</td>\n",
        "    </tr>\n",
        "    <tr>\n",
        "      <th>PC42</th>\n",
        "      <td> 1.380645e+00</td>\n",
        "      <td> 1.586529e-03</td>\n",
        "      <td> 0.991688</td>\n",
        "    </tr>\n",
        "    <tr>\n",
        "      <th>PC43</th>\n",
        "      <td> 1.347648e+00</td>\n",
        "      <td> 1.511599e-03</td>\n",
        "      <td> 0.993200</td>\n",
        "    </tr>\n",
        "    <tr>\n",
        "      <th>PC44</th>\n",
        "      <td> 1.299625e+00</td>\n",
        "      <td> 1.405788e-03</td>\n",
        "      <td> 0.994606</td>\n",
        "    </tr>\n",
        "    <tr>\n",
        "      <th>PC45</th>\n",
        "      <td> 1.183720e+00</td>\n",
        "      <td> 1.166223e-03</td>\n",
        "      <td> 0.995772</td>\n",
        "    </tr>\n",
        "    <tr>\n",
        "      <th>PC46</th>\n",
        "      <td> 1.136442e+00</td>\n",
        "      <td> 1.074925e-03</td>\n",
        "      <td> 0.996847</td>\n",
        "    </tr>\n",
        "    <tr>\n",
        "      <th>PC47</th>\n",
        "      <td> 1.076238e+00</td>\n",
        "      <td> 9.640531e-04</td>\n",
        "      <td> 0.997811</td>\n",
        "    </tr>\n",
        "    <tr>\n",
        "      <th>PC48</th>\n",
        "      <td> 9.647289e-01</td>\n",
        "      <td> 7.746303e-04</td>\n",
        "      <td> 0.998586</td>\n",
        "    </tr>\n",
        "    <tr>\n",
        "      <th>PC49</th>\n",
        "      <td> 8.182163e-01</td>\n",
        "      <td> 5.572116e-04</td>\n",
        "      <td> 0.999143</td>\n",
        "    </tr>\n",
        "    <tr>\n",
        "      <th>PC50</th>\n",
        "      <td> 6.969898e-01</td>\n",
        "      <td> 4.043307e-04</td>\n",
        "      <td> 0.999547</td>\n",
        "    </tr>\n",
        "    <tr>\n",
        "      <th>PC51</th>\n",
        "      <td> 5.022051e-01</td>\n",
        "      <td> 2.099163e-04</td>\n",
        "      <td> 0.999757</td>\n",
        "    </tr>\n",
        "    <tr>\n",
        "      <th>PC52</th>\n",
        "      <td> 3.147977e-01</td>\n",
        "      <td> 8.247971e-05</td>\n",
        "      <td> 0.999840</td>\n",
        "    </tr>\n",
        "    <tr>\n",
        "      <th>PC53</th>\n",
        "      <td> 2.511885e-01</td>\n",
        "      <td> 5.251500e-05</td>\n",
        "      <td> 0.999892</td>\n",
        "    </tr>\n",
        "    <tr>\n",
        "      <th>PC54</th>\n",
        "      <td> 2.463817e-01</td>\n",
        "      <td> 5.052437e-05</td>\n",
        "      <td> 0.999943</td>\n",
        "    </tr>\n",
        "    <tr>\n",
        "      <th>PC55</th>\n",
        "      <td> 1.991084e-01</td>\n",
        "      <td> 3.299614e-05</td>\n",
        "      <td> 0.999976</td>\n",
        "    </tr>\n",
        "    <tr>\n",
        "      <th>PC56</th>\n",
        "      <td> 1.222385e-01</td>\n",
        "      <td> 1.243654e-05</td>\n",
        "      <td> 0.999988</td>\n",
        "    </tr>\n",
        "    <tr>\n",
        "      <th>PC57</th>\n",
        "      <td> 9.202368e-02</td>\n",
        "      <td> 7.048279e-06</td>\n",
        "      <td> 0.999995</td>\n",
        "    </tr>\n",
        "    <tr>\n",
        "      <th>PC58</th>\n",
        "      <td> 6.018009e-02</td>\n",
        "      <td> 3.014321e-06</td>\n",
        "      <td> 0.999998</td>\n",
        "    </tr>\n",
        "    <tr>\n",
        "      <th>PC59</th>\n",
        "      <td> 3.572591e-02</td>\n",
        "      <td> 1.062308e-06</td>\n",
        "      <td> 0.999999</td>\n",
        "    </tr>\n",
        "    <tr>\n",
        "      <th>PC60</th>\n",
        "      <td> 2.570803e-02</td>\n",
        "      <td> 5.500746e-07</td>\n",
        "      <td> 1.000000</td>\n",
        "    </tr>\n",
        "    <tr>\n",
        "      <th>PC61</th>\n",
        "      <td> 2.029763e-02</td>\n",
        "      <td> 3.429057e-07</td>\n",
        "      <td> 1.000000</td>\n",
        "    </tr>\n",
        "    <tr>\n",
        "      <th>PC62</th>\n",
        "      <td> 1.216203e-15</td>\n",
        "      <td> 1.231108e-33</td>\n",
        "      <td> 1.000000</td>\n",
        "    </tr>\n",
        "    <tr>\n",
        "      <th>PC63</th>\n",
        "      <td> 1.216203e-15</td>\n",
        "      <td> 1.231108e-33</td>\n",
        "      <td> 1.000000</td>\n",
        "    </tr>\n",
        "    <tr>\n",
        "      <th>PC64</th>\n",
        "      <td> 1.216203e-15</td>\n",
        "      <td> 1.231108e-33</td>\n",
        "      <td> 1.000000</td>\n",
        "    </tr>\n",
        "  </tbody>\n",
        "</table>\n",
        "<p>64 rows \u00d7 3 columns</p>\n",
        "</div>"
       ],
       "metadata": {},
       "output_type": "pyout",
       "prompt_number": 142,
       "text": [
        "      Standard deviation  Proportion of Variance  Cumulative Proportion\n",
        "PC1         1.337562e+01            1.489059e-01               0.148906\n",
        "PC2         1.279166e+01            1.361877e-01               0.285094\n",
        "PC3         1.190418e+01            1.179459e-01               0.403040\n",
        "PC4         1.005207e+01            8.409979e-02               0.487139\n",
        "PC5         8.335135e+00            5.782415e-02               0.544964\n",
        "PC6         7.686067e+00            4.916910e-02               0.594133\n",
        "PC7         7.201088e+00            4.315987e-02               0.637293\n",
        "PC8         6.632542e+00            3.661373e-02               0.673906\n",
        "PC9         6.347327e+00            3.353248e-02               0.707439\n",
        "PC10        6.082039e+00            3.078806e-02               0.738227\n",
        "PC11        5.338836e+00            2.372341e-02               0.761950\n",
        "PC12        5.225511e+00            2.272697e-02               0.784677\n",
        "PC13        4.678600e+00            1.821863e-02               0.802896\n",
        "PC14        4.616545e+00            1.773855e-02               0.820634\n",
        "PC15        4.198441e+00            1.467101e-02               0.835305\n",
        "PC16        4.115511e+00            1.409716e-02               0.849402\n",
        "PC17        3.980272e+00            1.318589e-02               0.862588\n",
        "PC18        3.872481e+00            1.248138e-02               0.875070\n",
        "PC19        3.496808e+00            1.017718e-02               0.885247\n",
        "PC20        3.298606e+00            9.056174e-03               0.894303\n",
        "PC21        3.269192e+00            8.895385e-03               0.903199\n",
        "PC22        3.094716e+00            7.971232e-03               0.911170\n",
        "PC23        3.036654e+00            7.674933e-03               0.918845\n",
        "PC24        2.947123e+00            7.229036e-03               0.926074\n",
        "PC25        2.891532e+00            6.958889e-03               0.933033\n",
        "PC26        2.676152e+00            5.960815e-03               0.938993\n",
        "PC27        2.629808e+00            5.756147e-03               0.944750\n",
        "PC28        2.487872e+00            5.151576e-03               0.949901\n",
        "PC29        2.425225e+00            4.895398e-03               0.954797\n",
        "PC30        2.270022e+00            4.288880e-03               0.959085\n",
        "...                  ...                     ...                    ...\n",
        "PC35        1.924684e+00            3.083209e-03               0.976085\n",
        "PC36        1.878746e+00            2.937786e-03               0.979022\n",
        "PC37        1.755807e+00            2.565886e-03               0.981588\n",
        "PC38        1.654169e+00            2.277424e-03               0.983866\n",
        "PC39        1.634204e+00            2.222779e-03               0.986088\n",
        "PC40        1.593829e+00            2.114304e-03               0.988203\n",
        "PC41        1.510535e+00            1.899091e-03               0.990102\n",
        "PC42        1.380645e+00            1.586529e-03               0.991688\n",
        "PC43        1.347648e+00            1.511599e-03               0.993200\n",
        "PC44        1.299625e+00            1.405788e-03               0.994606\n",
        "PC45        1.183720e+00            1.166223e-03               0.995772\n",
        "PC46        1.136442e+00            1.074925e-03               0.996847\n",
        "PC47        1.076238e+00            9.640531e-04               0.997811\n",
        "PC48        9.647289e-01            7.746303e-04               0.998586\n",
        "PC49        8.182163e-01            5.572116e-04               0.999143\n",
        "PC50        6.969898e-01            4.043307e-04               0.999547\n",
        "PC51        5.022051e-01            2.099163e-04               0.999757\n",
        "PC52        3.147977e-01            8.247971e-05               0.999840\n",
        "PC53        2.511885e-01            5.251500e-05               0.999892\n",
        "PC54        2.463817e-01            5.052437e-05               0.999943\n",
        "PC55        1.991084e-01            3.299614e-05               0.999976\n",
        "PC56        1.222385e-01            1.243654e-05               0.999988\n",
        "PC57        9.202368e-02            7.048279e-06               0.999995\n",
        "PC58        6.018009e-02            3.014321e-06               0.999998\n",
        "PC59        3.572591e-02            1.062308e-06               0.999999\n",
        "PC60        2.570803e-02            5.500746e-07               1.000000\n",
        "PC61        2.029763e-02            3.429057e-07               1.000000\n",
        "PC62        1.216203e-15            1.231108e-33               1.000000\n",
        "PC63        1.216203e-15            1.231108e-33               1.000000\n",
        "PC64        1.216203e-15            1.231108e-33               1.000000\n",
        "\n",
        "[64 rows x 3 columns]"
       ]
      }
     ],
     "prompt_number": 142
    },
    {
     "cell_type": "code",
     "collapsed": false,
     "input": [
      "plt.figure(figsize=(10, 7))\n",
      "plt.bar(range(0, 64), rpca2.explained_variance_, align='center')"
     ],
     "language": "python",
     "metadata": {},
     "outputs": [
      {
       "metadata": {},
       "output_type": "pyout",
       "prompt_number": 107,
       "text": [
        "<Container object of 64 artists>"
       ]
      },
      {
       "metadata": {},
       "output_type": "display_data",
       "png": "[encoded data removed]",
       "text": [
        "<matplotlib.figure.Figure at 0x1a3e7710>"
       ]
      }
     ],
     "prompt_number": 107
    },
    {
     "cell_type": "code",
     "collapsed": false,
     "input": [
      "rpca4 = RandomizedPCA(whiten=True, n_components = 4, random_state = 42)\n",
      "rpca4.fit(X)\n",
      "print rpca4.components_\n",
      "print len(rpca4.components_)"
     ],
     "language": "python",
     "metadata": {},
     "outputs": [
      {
       "output_type": "stream",
       "stream": "stdout",
       "text": [
        "[[ -1.06005442e-20  -1.29541152e-03  -1.67089244e-02  -1.01603697e-02\n",
        "   -2.47682552e-03  -7.23087893e-03  -6.23874730e-04   1.69737289e-04\n",
        "   -2.40017752e-05  -8.92542972e-03  -1.82733593e-02   1.11084353e-02\n",
        "   -3.48992311e-03  -1.62791992e-02  -1.10846989e-03   3.34885337e-04\n",
        "   -3.68450376e-06  -5.95026225e-03   6.23559872e-03   1.61398299e-02\n",
        "   -1.28678442e-02  -1.22392316e-02   2.14080604e-03   3.16517886e-04\n",
        "    7.37351056e-06   4.80155397e-03   1.89923537e-02  -2.66956206e-03\n",
        "   -1.56607954e-02  -3.22882994e-03   3.83556534e-03   1.59552133e-05\n",
        "   -0.00000000e+00   1.19567888e-02   2.75680967e-02   1.22952025e-02\n",
        "    6.37037909e-03   2.78418197e-03   1.60990225e-03  -0.00000000e+00\n",
        "    9.62400496e-05   7.99194262e-03   2.26566262e-02   1.85170886e-02\n",
        "    1.56684121e-02   9.16089661e-04  -2.76776167e-03   1.20545882e-04\n",
        "    5.17311408e-05  -6.26410266e-04  -4.18104006e-03   6.95577624e-03\n",
        "    8.02414630e-03  -1.02958199e-02  -4.73667054e-03   7.21850139e-05\n",
        "    7.08001665e-07  -1.05368571e-03  -1.76256595e-02  -1.05570707e-02\n",
        "   -6.89073195e-04  -6.68809768e-03  -2.73668130e-03  -8.55694541e-04]\n",
        " [  1.07686287e-17   7.90326333e-04   3.83876790e-03   7.31493008e-04\n",
        "    4.18051409e-03   9.20505737e-03   4.86191541e-03   6.21432668e-04\n",
        "    1.27583011e-05   1.64433220e-03  -4.71601374e-03   4.17380073e-04\n",
        "    7.18842501e-03   4.05522373e-03   4.61369471e-03   2.61611544e-04\n",
        "    3.29141227e-06  -2.83166065e-03  -1.54966903e-02   3.79821288e-03\n",
        "    1.76390171e-02   3.51440950e-04  -2.08933586e-03   1.67745163e-05\n",
        "    4.42359217e-06  -6.02702423e-03  -1.47331454e-02   1.07796327e-02\n",
        "    2.04166736e-02  -3.89649277e-03  -5.09055547e-03  -3.13987599e-06\n",
        "    0.00000000e+00  -6.88884672e-03  -6.81085244e-03   2.11760774e-02\n",
        "    2.23082027e-02  -1.30140136e-02  -9.99746508e-03   0.00000000e+00\n",
        "   -2.26366671e-05  -3.97064821e-03  -1.01772545e-02   2.10130679e-02\n",
        "    2.35753082e-02  -1.87866702e-02  -1.70102465e-02  -1.03841513e-04\n",
        "   -2.24295870e-05  -8.23247851e-04  -1.19826375e-02   9.33411657e-03\n",
        "    7.60598410e-03  -2.23506839e-02  -1.16313183e-02  -4.25676673e-05\n",
        "    2.61229069e-06   7.88342572e-04   5.49458144e-03  -1.34143403e-03\n",
        "   -1.51884285e-02  -1.38137514e-02  -1.51948119e-03   5.23512107e-04]\n",
        " [ -1.43418167e-17  -1.54325908e-03  -1.06456034e-02  -1.10852387e-02\n",
        "    1.12676525e-02   2.22490960e-02   9.78970206e-03   1.41385294e-03\n",
        "   -3.30817507e-05  -6.67945591e-03  -7.35524103e-03  -5.49712407e-03\n",
        "    7.19847371e-05   2.35331474e-02   1.34092762e-02   1.27274151e-03\n",
        "   -1.77799688e-05  -3.56517736e-03  -4.13529312e-04  -6.20325940e-03\n",
        "   -8.12255310e-03   2.58402914e-02   1.24310854e-02   5.31532667e-04\n",
        "   -4.17961865e-06   3.71067137e-03   6.09319378e-03  -5.98530110e-03\n",
        "    6.60031485e-04   2.96476901e-02   1.24623011e-02   1.83587844e-05\n",
        "    0.00000000e+00   4.56714624e-03   2.81406525e-03  -1.18634091e-02\n",
        "   -1.27615412e-03   2.16612477e-02   7.88795414e-03   0.00000000e+00\n",
        "    2.67000184e-05   2.01008852e-03  -1.02526611e-02  -1.43840786e-02\n",
        "    7.18767262e-03   1.21513547e-02  -5.87981214e-03  -2.45366206e-04\n",
        "    1.08221302e-05  -1.57328540e-03  -1.97653779e-02  -1.42315844e-02\n",
        "    4.53759525e-03  -7.10740504e-03  -1.87194210e-02  -1.83728580e-03\n",
        "    1.17346503e-06  -1.47997940e-03  -1.03676134e-02  -8.24443696e-03\n",
        "   -1.16297087e-02  -1.95099362e-02  -1.40537389e-02  -2.92764779e-03]\n",
        " [ -3.69165145e-17  -1.99855391e-03  -1.76615179e-02  -1.94378426e-02\n",
        "   -3.20465973e-03  -9.49630971e-03  -7.17058765e-03  -9.19290629e-04\n",
        "   -6.04977030e-06  -7.47821183e-03  -3.05807569e-02  -3.66880666e-03\n",
        "    1.52825983e-02  -2.66905197e-03  -4.54082859e-03  -2.43118889e-04\n",
        "   -1.12133537e-05  -1.23618191e-02  -2.18683227e-02   2.74299284e-02\n",
        "    2.76985232e-02   5.73273424e-03  -2.25373808e-03   1.49163533e-04\n",
        "   -8.92905391e-06  -9.79393265e-03  -1.15926197e-02   1.91306007e-02\n",
        "    2.14889367e-02   8.11328237e-03  -5.50603273e-03   5.77755365e-06\n",
        "    0.00000000e+00  -5.19276984e-03  -9.69243793e-03  -1.04774023e-03\n",
        "    1.31531083e-02   1.59688384e-02  -9.89993160e-04   0.00000000e+00\n",
        "    4.92445771e-05  -6.19324809e-04  -5.16560254e-03  -5.96134797e-03\n",
        "    2.58392999e-03   1.93176459e-02   8.39570561e-03   2.28309459e-04\n",
        "    3.98933532e-05  -1.06864425e-03  -1.07097736e-02  -1.31828124e-02\n",
        "    3.14648425e-03   2.24082367e-02   1.38890249e-02   1.59977878e-03\n",
        "    1.13117738e-06  -2.09796804e-03  -2.02383201e-02  -2.06678832e-02\n",
        "    2.23357630e-02   3.05972125e-02   9.90596472e-03   2.45251221e-03]]\n",
        "4\n"
       ]
      }
     ],
     "prompt_number": 109
    },
    {
     "cell_type": "code",
     "collapsed": false,
     "input": [
      "rpca_p = RandomizedPCA(whiten=True, n_components = 2, random_state = 42)\n",
      "rpca_p.fit(X)\n",
      "X_rpca_p = rpca_p.transform(X)\n",
      "plot_PCA_2D(X_rpca_p, digits.target, digits.target_names)"
     ],
     "language": "python",
     "metadata": {},
     "outputs": [
      {
       "metadata": {},
       "output_type": "display_data",
       "png": "[encoded data removed]",
       "text": [
        "<matplotlib.figure.Figure at 0x1aaae160>"
       ]
      }
     ],
     "prompt_number": 134
    },
    {
     "cell_type": "code",
     "collapsed": false,
     "input": [
      "from itertools import cycle\n",
      "from mpl_toolkits.mplot3d import Axes3D\n",
      "\n",
      "def plot_PCA_3D(data, target, target_names):\n",
      "    colors = cycle('rgbcmykw')\n",
      "    target_ids = range(len(target_names))\n",
      "    plt.figure()\n",
      "    for i, c, label in zip(target_ids, colors, target_names):\n",
      "        Axes3D.plot(data[target == i, 0], data[target == i, 1], data[target == i, 2],\n",
      "                   c=c, label=label)\n",
      "    plt.legend()"
     ],
     "language": "python",
     "metadata": {},
     "outputs": [],
     "prompt_number": 153
    },
    {
     "cell_type": "code",
     "collapsed": false,
     "input": [
      "rpca3 = RandomizedPCA(whiten=True, n_components = 3, random_state = 42)\n",
      "rpca3.fit(X)\n",
      "X_rpca3 = rpca3.transform(X)\n",
      "\n",
      "plot_PCA_3D(X_rpca3, digits.target, digits.target_names)"
     ],
     "language": "python",
     "metadata": {},
     "outputs": [
      {
       "ename": "TypeError",
       "evalue": "unbound method plot() must be called with Axes3D instance as first argument (got ndarray instance instead)",
       "output_type": "pyerr",
       "traceback": [
        "\u001b[1;31m---------------------------------------------------------------------------\u001b[0m\n\u001b[1;31mTypeError\u001b[0m                                 Traceback (most recent call last)",
        "\u001b[1;32m<ipython-input-154-82f691c0b6a4>\u001b[0m in \u001b[0;36m<module>\u001b[1;34m()\u001b[0m\n\u001b[0;32m      3\u001b[0m \u001b[0mX_rpca3\u001b[0m \u001b[1;33m=\u001b[0m \u001b[0mrpca3\u001b[0m\u001b[1;33m.\u001b[0m\u001b[0mtransform\u001b[0m\u001b[1;33m(\u001b[0m\u001b[0mX\u001b[0m\u001b[1;33m)\u001b[0m\u001b[1;33m\u001b[0m\u001b[0m\n\u001b[0;32m      4\u001b[0m \u001b[1;33m\u001b[0m\u001b[0m\n\u001b[1;32m----> 5\u001b[1;33m \u001b[0mplot_PCA_3D\u001b[0m\u001b[1;33m(\u001b[0m\u001b[0mX_rpca3\u001b[0m\u001b[1;33m,\u001b[0m \u001b[0mdigits\u001b[0m\u001b[1;33m.\u001b[0m\u001b[0mtarget\u001b[0m\u001b[1;33m,\u001b[0m \u001b[0mdigits\u001b[0m\u001b[1;33m.\u001b[0m\u001b[0mtarget_names\u001b[0m\u001b[1;33m)\u001b[0m\u001b[1;33m\u001b[0m\u001b[0m\n\u001b[0m",
        "\u001b[1;32m<ipython-input-153-6d2ca9b336db>\u001b[0m in \u001b[0;36mplot_PCA_3D\u001b[1;34m(data, target, target_names)\u001b[0m\n\u001b[0;32m      8\u001b[0m     \u001b[1;32mfor\u001b[0m \u001b[0mi\u001b[0m\u001b[1;33m,\u001b[0m \u001b[0mc\u001b[0m\u001b[1;33m,\u001b[0m \u001b[0mlabel\u001b[0m \u001b[1;32min\u001b[0m \u001b[0mzip\u001b[0m\u001b[1;33m(\u001b[0m\u001b[0mtarget_ids\u001b[0m\u001b[1;33m,\u001b[0m \u001b[0mcolors\u001b[0m\u001b[1;33m,\u001b[0m \u001b[0mtarget_names\u001b[0m\u001b[1;33m)\u001b[0m\u001b[1;33m:\u001b[0m\u001b[1;33m\u001b[0m\u001b[0m\n\u001b[0;32m      9\u001b[0m         Axes3D.plot(data[target == i, 0], data[target == i, 1], data[target == i, 2],\n\u001b[1;32m---> 10\u001b[1;33m                    c=c, label=label)\n\u001b[0m\u001b[0;32m     11\u001b[0m     \u001b[0mplt\u001b[0m\u001b[1;33m.\u001b[0m\u001b[0mlegend\u001b[0m\u001b[1;33m(\u001b[0m\u001b[1;33m)\u001b[0m\u001b[1;33m\u001b[0m\u001b[0m\n",
        "\u001b[1;31mTypeError\u001b[0m: unbound method plot() must be called with Axes3D instance as first argument (got ndarray instance instead)"
       ]
      },
      {
       "metadata": {},
       "output_type": "display_data",
       "text": [
        "<matplotlib.figure.Figure at 0x18110588>"
       ]
      }
     ],
     "prompt_number": 154
    },
    {
     "cell_type": "markdown",
     "metadata": {},
     "source": [
      "On your own\n",
      "===========\n",
      "Recall the newsgroups dataset we used in the [Text Feature Extraction for Classification](12-TextMining.ipynb) lab. Once we have extracted a vector representation of the data, it's a good idea to project the data on the first 2D of a Singular Value Decomposition (i.e.. Principal Component Analysis) to get a feel of the data. Note that the [TruncatedSVD](http://scikit-learn.org/0.13/modules/generated/sklearn.decomposition.TruncatedSVD.html) class can accept `scipy.sparse` matrices as input (as an alternative to numpy arrays). Use it to visualize the first two principal components of the vectorized dataset. Color the output with the newsgroup names as we did with the iris data. Do you notice anything interesting about where `alt.atheism` and `talk.religion.misc` cluster relative to `sci.space`?"
     ]
    },
    {
     "cell_type": "code",
     "collapsed": false,
     "input": [
      "categories = ['alt.atheism', 'talk.religion.misc', 'comp.graphics', 'sci.space']\n",
      "twenty_train_small = load_files('datasets/20news-bydate-train/', categories=categories, encoding='latin-1')\n",
      "y_train = twenty_train_small.target"
     ],
     "language": "python",
     "metadata": {},
     "outputs": []
    },
    {
     "cell_type": "code",
     "collapsed": false,
     "input": [
      "from sklearn.feature_extraction.text import TfidfVectorizer\n",
      "\n",
      "vectorizer = TfidfVectorizer(min_df=1)\n",
      "\n",
      "X_train_small = vectorizer.fit_transform(twenty_train_small.data)"
     ],
     "language": "python",
     "metadata": {},
     "outputs": []
    },
    {
     "cell_type": "code",
     "collapsed": false,
     "input": [],
     "language": "python",
     "metadata": {},
     "outputs": []
    }
   ],
   "metadata": {}
  }
 ]
}