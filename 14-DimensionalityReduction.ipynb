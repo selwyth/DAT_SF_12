{
 "metadata": {
  "name": "",
  "signature": "sha256:28f17e34ff2df4da752c3d56d85fed6e70bc977b04804819697431de34d4ae2f"
 },
 "nbformat": 3,
 "nbformat_minor": 0,
 "worksheets": [
  {
   "cells": [
    {
     "cell_type": "markdown",
     "metadata": {
      "slideshow": {
       "slide_type": "slide"
      }
     },
     "source": [
      "Data Science\n",
      "===================================\n",
      "Principal Components Analysis (PCA)\n",
      "-----------------------------------"
     ]
    },
    {
     "cell_type": "heading",
     "level": 6,
     "metadata": {
      "slideshow": {
       "slide_type": "fragment"
      }
     },
     "source": [
      "a.k.a. Singular Value Decomposition (SVD) a.k.a. Eigenvalue Decomposition (EVD) a.k.a. Empirical Orthogonal Functions (EOF) a.k.a. Karhunen\u2013Lo\u00e8ve transform (KLT) a.k.a. Proper Orthogonal Decomposition (POD) a.k.a. the Hotelling transform a.k.a. factor analysis a.k.a. Eckart\u2013Young theorem a.k.a. Schmidt\u2013Mirsky theorem etc."
     ]
    },
    {
     "cell_type": "markdown",
     "metadata": {
      "slideshow": {
       "slide_type": "-"
      }
     },
     "source": [
      "Alessandro Gagliardi"
     ]
    },
    {
     "cell_type": "markdown",
     "metadata": {},
     "source": [
      "1. [Review](#Review)\n",
      "2. [Multicollinearity](#Recall)\n",
      "3. [Heptathalon Example](#Example)\n",
      "4. [Principal Components Analysis (PCA)](#Principal-Components-Analysis)\n",
      "    1. [Percent Variance Accounted For (a.k.a. $R^2$)](#Percent-Variance-Accounted-For)\n",
      "    2. [Rotations (or Loadings)](#Rotations)\n",
      "    3. [Scaling](#Scaling)\n",
      "6. [Lab](13-PCA_lab.ipynb)"
     ]
    },
    {
     "cell_type": "heading",
     "level": 1,
     "metadata": {},
     "source": [
      "Review"
     ]
    },
    {
     "cell_type": "markdown",
     "metadata": {},
     "source": [
      "Text Feature Extraction for Classification Lab \n",
      "---\n",
      "---"
     ]
    },
    {
     "cell_type": "heading",
     "level": 1,
     "metadata": {},
     "source": [
      "Recall"
     ]
    },
    {
     "cell_type": "heading",
     "level": 2,
     "metadata": {},
     "source": [
      "Multicollinearity"
     ]
    },
    {
     "cell_type": "code",
     "collapsed": false,
     "input": [
      "%matplotlib inline\n",
      "import numpy as np\n",
      "import pandas as pd\n",
      "import seaborn as sns\n",
      "from seaborn import plt"
     ],
     "language": "python",
     "metadata": {
      "slideshow": {
       "slide_type": "skip"
      }
     },
     "outputs": [],
     "prompt_number": 1
    },
    {
     "cell_type": "code",
     "collapsed": false,
     "input": [
      "x = np.arange(1,10.1,0.1)\n",
      "plt.figure(figsize=(9, 9))\n",
      "plt.scatter(x**9, x**10)"
     ],
     "language": "python",
     "metadata": {
      "slideshow": {
       "slide_type": "subslide"
      }
     },
     "outputs": [
      {
       "metadata": {},
       "output_type": "pyout",
       "prompt_number": 2,
       "text": [
        "<matplotlib.collections.PathCollection at 0x10a281950>"
       ]
      },
      {
       "metadata": {},
       "output_type": "display_data",
       "png": "[encoded data removed]",
       "text": [
        "<matplotlib.figure.Figure at 0x10a1a48d0>"
       ]
      }
     ],
     "prompt_number": 2
    },
    {
     "cell_type": "heading",
     "level": 1,
     "metadata": {},
     "source": [
      "Example"
     ]
    },
    {
     "cell_type": "heading",
     "level": 2,
     "metadata": {},
     "source": [
      "Results of the Olympic Heptathlon Competition, Seoul, 1988"
     ]
    },
    {
     "cell_type": "markdown",
     "metadata": {
      "slideshow": {
       "slide_type": "slide"
      }
     },
     "source": [
      "_from D. J. Hand, F. Daly, A. D. Lunn, K. J. McConway and E. Ostrowski (1994). A Handbook of Small Datasets, Chapman and Hall/CRC, London_"
     ]
    },
    {
     "cell_type": "code",
     "collapsed": false,
     "input": [
      "heptathlon = pd.read_csv('data/heptathlon.csv', index_col=0)\n",
      "heptathlon.describe().T"
     ],
     "language": "python",
     "metadata": {
      "slideshow": {
       "slide_type": "skip"
      }
     },
     "outputs": [
      {
       "html": [
        "<div style=\"max-height:1000px;max-width:1500px;overflow:auto;\">\n",
        "<table border=\"1\" class=\"dataframe\">\n",
        "  <thead>\n",
        "    <tr style=\"text-align: right;\">\n",
        "      <th></th>\n",
        "      <th>count</th>\n",
        "      <th>mean</th>\n",
        "      <th>std</th>\n",
        "      <th>min</th>\n",
        "      <th>25%</th>\n",
        "      <th>50%</th>\n",
        "      <th>75%</th>\n",
        "      <th>max</th>\n",
        "    </tr>\n",
        "  </thead>\n",
        "  <tbody>\n",
        "    <tr>\n",
        "      <th>hurdles</th>\n",
        "      <td> 25</td>\n",
        "      <td>   13.8400</td>\n",
        "      <td>   0.736648</td>\n",
        "      <td>   12.69</td>\n",
        "      <td>   13.47</td>\n",
        "      <td>   13.75</td>\n",
        "      <td>   14.07</td>\n",
        "      <td>   16.42</td>\n",
        "    </tr>\n",
        "    <tr>\n",
        "      <th>highjump</th>\n",
        "      <td> 25</td>\n",
        "      <td>    1.7820</td>\n",
        "      <td>   0.077942</td>\n",
        "      <td>    1.50</td>\n",
        "      <td>    1.77</td>\n",
        "      <td>    1.80</td>\n",
        "      <td>    1.83</td>\n",
        "      <td>    1.86</td>\n",
        "    </tr>\n",
        "    <tr>\n",
        "      <th>shot</th>\n",
        "      <td> 25</td>\n",
        "      <td>   13.1176</td>\n",
        "      <td>   1.491884</td>\n",
        "      <td>   10.00</td>\n",
        "      <td>   12.32</td>\n",
        "      <td>   12.88</td>\n",
        "      <td>   14.20</td>\n",
        "      <td>   16.23</td>\n",
        "    </tr>\n",
        "    <tr>\n",
        "      <th>run200m</th>\n",
        "      <td> 25</td>\n",
        "      <td>   24.6492</td>\n",
        "      <td>   0.969557</td>\n",
        "      <td>   22.56</td>\n",
        "      <td>   23.92</td>\n",
        "      <td>   24.83</td>\n",
        "      <td>   25.23</td>\n",
        "      <td>   26.61</td>\n",
        "    </tr>\n",
        "    <tr>\n",
        "      <th>longjump</th>\n",
        "      <td> 25</td>\n",
        "      <td>    6.1524</td>\n",
        "      <td>   0.474212</td>\n",
        "      <td>    4.88</td>\n",
        "      <td>    6.05</td>\n",
        "      <td>    6.25</td>\n",
        "      <td>    6.37</td>\n",
        "      <td>    7.27</td>\n",
        "    </tr>\n",
        "    <tr>\n",
        "      <th>javelin</th>\n",
        "      <td> 25</td>\n",
        "      <td>   41.4824</td>\n",
        "      <td>   3.545656</td>\n",
        "      <td>   35.68</td>\n",
        "      <td>   39.06</td>\n",
        "      <td>   40.28</td>\n",
        "      <td>   44.54</td>\n",
        "      <td>   47.50</td>\n",
        "    </tr>\n",
        "    <tr>\n",
        "      <th>run800m</th>\n",
        "      <td> 25</td>\n",
        "      <td>  136.0540</td>\n",
        "      <td>   8.291088</td>\n",
        "      <td>  124.20</td>\n",
        "      <td>  132.24</td>\n",
        "      <td>  134.74</td>\n",
        "      <td>  138.48</td>\n",
        "      <td>  163.43</td>\n",
        "    </tr>\n",
        "    <tr>\n",
        "      <th>score</th>\n",
        "      <td> 25</td>\n",
        "      <td> 6090.6000</td>\n",
        "      <td> 568.469729</td>\n",
        "      <td> 4566.00</td>\n",
        "      <td> 5746.00</td>\n",
        "      <td> 6137.00</td>\n",
        "      <td> 6351.00</td>\n",
        "      <td> 7291.00</td>\n",
        "    </tr>\n",
        "  </tbody>\n",
        "</table>\n",
        "</div>"
       ],
       "metadata": {},
       "output_type": "pyout",
       "prompt_number": 18,
       "text": [
        "          count       mean         std      min      25%      50%      75%  \\\n",
        "hurdles      25    13.8400    0.736648    12.69    13.47    13.75    14.07   \n",
        "highjump     25     1.7820    0.077942     1.50     1.77     1.80     1.83   \n",
        "shot         25    13.1176    1.491884    10.00    12.32    12.88    14.20   \n",
        "run200m      25    24.6492    0.969557    22.56    23.92    24.83    25.23   \n",
        "longjump     25     6.1524    0.474212     4.88     6.05     6.25     6.37   \n",
        "javelin      25    41.4824    3.545656    35.68    39.06    40.28    44.54   \n",
        "run800m      25   136.0540    8.291088   124.20   132.24   134.74   138.48   \n",
        "score        25  6090.6000  568.469729  4566.00  5746.00  6137.00  6351.00   \n",
        "\n",
        "              max  \n",
        "hurdles     16.42  \n",
        "highjump     1.86  \n",
        "shot        16.23  \n",
        "run200m     26.61  \n",
        "longjump     7.27  \n",
        "javelin     47.50  \n",
        "run800m    163.43  \n",
        "score     7291.00  "
       ]
      }
     ],
     "prompt_number": 18
    },
    {
     "cell_type": "markdown",
     "metadata": {
      "slideshow": {
       "slide_type": "notes"
      }
     },
     "source": [
      "<small><i>adapted from <u>A Handbook of Statistical Analyses Using **R**</u>:</i></small>  "
     ]
    },
    {
     "cell_type": "markdown",
     "metadata": {
      "slideshow": {
       "slide_type": "subslide"
      }
     },
     "source": [
      "To begin it will help to score all the seven events in the same direction, so that \u2018large\u2019 values are \u2018good\u2019. We will recode the running events to achieve this."
     ]
    },
    {
     "cell_type": "code",
     "collapsed": false,
     "input": [
      "heptathlon.hurdles = heptathlon.hurdles.max() - heptathlon.hurdles\n",
      "heptathlon.run200m = heptathlon.run200m.max() - heptathlon.run200m\n",
      "heptathlon.run800m = heptathlon.run800m.max() - heptathlon.run800m\n",
      "X_heptathlon = heptathlon.icol(range(7))\n",
      "y_heptathlon = heptathlon.score"
     ],
     "language": "python",
     "metadata": {
      "slideshow": {
       "slide_type": "-"
      }
     },
     "outputs": [],
     "prompt_number": 19
    },
    {
     "cell_type": "code",
     "collapsed": false,
     "input": [
      "print X_heptathlon.corr().applymap('{:.2f}'.format)"
     ],
     "language": "python",
     "metadata": {
      "slideshow": {
       "slide_type": "subslide"
      }
     },
     "outputs": [
      {
       "output_type": "stream",
       "stream": "stdout",
       "text": [
        "         hurdles highjump  shot run200m longjump javelin run800m\n",
        "hurdles     1.00     0.81  0.65    0.77     0.91    0.01    0.78\n",
        "highjump    0.81     1.00  0.44    0.49     0.78    0.00    0.59\n",
        "shot        0.65     0.44  1.00    0.68     0.74    0.27    0.42\n",
        "run200m     0.77     0.49  0.68    1.00     0.82    0.33    0.62\n",
        "longjump    0.91     0.78  0.74    0.82     1.00    0.07    0.70\n",
        "javelin     0.01     0.00  0.27    0.33     0.07    1.00   -0.02\n",
        "run800m     0.78     0.59  0.42    0.62     0.70   -0.02    1.00\n"
       ]
      }
     ],
     "prompt_number": 20
    },
    {
     "cell_type": "markdown",
     "metadata": {
      "slideshow": {
       "slide_type": "fragment"
      }
     },
     "source": [
      "One of these things is not like the other. Do you see it?"
     ]
    },
    {
     "cell_type": "markdown",
     "metadata": {
      "slideshow": {
       "slide_type": "fragment"
      }
     },
     "source": [
      "Scores in of the events with the exception of `javelin` are correlated with one another."
     ]
    },
    {
     "cell_type": "markdown",
     "metadata": {
      "slideshow": {
       "slide_type": "fragment"
      }
     },
     "source": [
      "`javelin` is considered a 'technical' event while the others are considered 'power'-based events."
     ]
    },
    {
     "cell_type": "heading",
     "level": 1,
     "metadata": {},
     "source": [
      "Principal Components Analysis"
     ]
    },
    {
     "cell_type": "markdown",
     "metadata": {
      "slideshow": {
       "slide_type": "slide"
      }
     },
     "source": [
      "PCA was invented multiple times independently to solve different but related problems."
     ]
    },
    {
     "cell_type": "markdown",
     "metadata": {
      "slideshow": {
       "slide_type": "fragment"
      }
     },
     "source": [
      "PCA is equivalent to what is known as the singular value decomposition (SVD) of $\\bf{X}$ and the eigenvalue decomposition (EVD), a.k.a. the spectral decomposition of $\\bf{X^TX}$ in linear algebra."
     ]
    },
    {
     "cell_type": "markdown",
     "metadata": {
      "slideshow": {
       "slide_type": "fragment"
      }
     },
     "source": [
      "_FYI: SVD and EVD are slightly different and if your linear algebra skills are up to the task, I encourage you to see how they compare, but for our purposes we may treat them as equivalent._"
     ]
    },
    {
     "cell_type": "markdown",
     "metadata": {
      "slideshow": {
       "slide_type": "subslide"
      }
     },
     "source": [
      "<small>_from [Wikipedia](https://en.wikipedia.org/wiki/Principal_component_analysis):_</small>  \n",
      "> Depending on the field of application, it is also named the discrete Karhunen\u2013Lo\u00e8ve transform (KLT) in signal processing, the Hotelling transform in multivariate quality control, proper orthogonal decomposition (POD) in mechanical engineering . . . factor analysis, Eckart\u2013Young theorem (Harman, 1960), or Schmidt\u2013Mirsky theorem in psychometrics, empirical orthogonal functions (EOF) in meteorological science, empirical eigenfunction decomposition (Sirovich, 1987), empirical component analysis (Lorenz, 1956), quasiharmonic modes (Brooks et al., 1988), spectral decomposition in noise and vibration, and empirical modal analysis in structural dynamics."
     ]
    },
    {
     "cell_type": "markdown",
     "metadata": {
      "slideshow": {
       "slide_type": "fragment"
      }
     },
     "source": [
      "_Factor Analysis differs from PCA in that Factor Analysis tests an *a priori* model while PCA makes no assumptions about the underlying structure of the data. Other methods mentioned may also differ in minor ways from what follows but they are all mathemtically related._"
     ]
    },
    {
     "cell_type": "markdown",
     "metadata": {
      "slideshow": {
       "slide_type": "fragment"
      }
     },
     "source": [
      "### Why so many names for the same thing?"
     ]
    },
    {
     "cell_type": "markdown",
     "metadata": {
      "slideshow": {
       "slide_type": "slide"
      }
     },
     "source": [
      "Principal Components Analysis (PCA)\n",
      "========================================================\n",
      "PCA reveals a fundamental mathematical relationship between variables."
     ]
    },
    {
     "cell_type": "markdown",
     "metadata": {
      "slideshow": {
       "slide_type": "fragment"
      }
     },
     "source": [
      "It has many uses, but the ones we are most interested in are:"
     ]
    },
    {
     "cell_type": "markdown",
     "metadata": {
      "slideshow": {
       "slide_type": "fragment"
      }
     },
     "source": [
      "* transforming collinear variables into orthogonal factors"
     ]
    },
    {
     "cell_type": "markdown",
     "metadata": {
      "slideshow": {
       "slide_type": "fragment"
      }
     },
     "source": [
      "* dimensionality reduction"
     ]
    },
    {
     "cell_type": "markdown",
     "metadata": {
      "slideshow": {
       "slide_type": "skip"
      }
     },
     "source": [
      "_Side note: another, arguably better way to *orthogonalize* vectors is to use Independent Component Analysis (ICA). The main problem with ICA is that you need to know how many independent components there are to begin with. For that reason, its utility is limited and we will focus on PCA._"
     ]
    },
    {
     "cell_type": "markdown",
     "metadata": {
      "slideshow": {
       "slide_type": "slide"
      }
     },
     "source": [
      "Dimensionality Reduction\n",
      "========================================================\n",
      "What is dimensionality reduction?\n",
      "\n",
      "What are the motivations for dimensionality reduction?\n",
      "\n",
      "What are different ways to perform dimensionality reduction?"
     ]
    },
    {
     "cell_type": "markdown",
     "metadata": {
      "slideshow": {
       "slide_type": "subslide"
      }
     },
     "source": [
      "Q:  What is dimensionality reduction?"
     ]
    },
    {
     "cell_type": "markdown",
     "metadata": {
      "slideshow": {
       "slide_type": "fragment"
      }
     },
     "source": [
      "A:  A set of techniques for reducing the size (in terms of features, records, and/or bytes) of the dataset under examination."
     ]
    },
    {
     "cell_type": "markdown",
     "metadata": {
      "slideshow": {
       "slide_type": "fragment"
      }
     },
     "source": [
      "In general, the idea is to regard the dataset is a matrix and to decompose the matrix into simpler, meaningful pieces."
     ]
    },
    {
     "cell_type": "markdown",
     "metadata": {
      "slideshow": {
       "slide_type": "fragment"
      }
     },
     "source": [
      "Dimensionality reduction is frequently performed as a pre-processing step before another learning algorithm is applied."
     ]
    },
    {
     "cell_type": "markdown",
     "metadata": {
      "slideshow": {
       "slide_type": "subslide"
      }
     },
     "source": [
      "Q:  What are the motivations for dimensionality reduction?"
     ]
    },
    {
     "cell_type": "markdown",
     "metadata": {
      "slideshow": {
       "slide_type": "fragment"
      }
     },
     "source": [
      "The number of features in our dataset can be difficult to manage, or even misleading (e.g. if the relationships are actually simpler than they appear)."
     ]
    },
    {
     "cell_type": "markdown",
     "metadata": {
      "slideshow": {
       "slide_type": "fragment"
      }
     },
     "source": [
      "- reduce computational expense\n",
      "- reduce susceptibility to overfitting\n",
      "- reduce noise in the dataset\n",
      "- enhance our intuition"
     ]
    },
    {
     "cell_type": "markdown",
     "metadata": {
      "slideshow": {
       "slide_type": "subslide"
      }
     },
     "source": [
      "Q:  What are different ways to perform dimensionality reduction?"
     ]
    },
    {
     "cell_type": "markdown",
     "metadata": {
      "slideshow": {
       "slide_type": "fragment"
      }
     },
     "source": [
      "A:  There are two approaches: feature selection and feature extraction."
     ]
    },
    {
     "cell_type": "markdown",
     "metadata": {
      "slideshow": {
       "slide_type": "fragment"
      }
     },
     "source": [
      "**feature selection** \u2013 selecting a subset of features using an external criterion (*filter*) or the learning algorithm accuracy itself (*wrapper*)"
     ]
    },
    {
     "cell_type": "markdown",
     "metadata": {
      "slideshow": {
       "slide_type": "fragment"
      }
     },
     "source": [
      "**feature extraction** \u2013 mapping the features to a lower dimensional space"
     ]
    },
    {
     "cell_type": "markdown",
     "metadata": {
      "slideshow": {
       "slide_type": "subslide"
      }
     },
     "source": [
      "Feature selection is important, but typically when people say dimensionality reduction, they are referring to *feature extraction*."
     ]
    },
    {
     "cell_type": "markdown",
     "metadata": {
      "slideshow": {
       "slide_type": "fragment"
      }
     },
     "source": [
      "The goal of feature extraction is to create a new set of coordinates that *simplify the representation* of the data."
     ]
    },
    {
     "cell_type": "markdown",
     "metadata": {
      "slideshow": {
       "slide_type": "fragment"
      }
     },
     "source": [
      "This is what we are doing with PCA."
     ]
    },
    {
     "cell_type": "markdown",
     "metadata": {
      "slideshow": {
       "slide_type": "slide"
      }
     },
     "source": [
      "How does it work?\n",
      "========================================================\n",
      "We want to find a new matrix $P$ from original data $X$ so that the covariance matrix of $PX$ is diagonal (i.e. the resulting vectors are all orthogonal to one another) and entries on diagonal are descending order. In the process:\n",
      "\n",
      "* Maximize the variance.\n",
      "* Minimize the projection error.\n",
      "\n",
      "$$ P_{m\\times m}X_{m\\times n} = Y_{m\\times n} $$\n",
      "\n",
      "If this works out, $Y_{m\\times n}$ is out new data set!"
     ]
    },
    {
     "cell_type": "markdown",
     "metadata": {
      "slideshow": {
       "slide_type": "notes"
      }
     },
     "source": [
      "- N.B.: The X here is the tranpose of a typical design matrix..\n",
      "  - See the Shlens paper for more info.\n",
      "- Its goal is to extract the important information from the data and to express this information as a set of new orthogonal variables called principal components.\n",
      "- A *linear* transformation!  This is a big assumption.\n",
      "- *Is there another basis, which is a linear combination of the original basis, that best re-expresses our data set?*\n",
      "- This transformation will become the *principal components* of X.\n",
      "- What does the transformation boil down to?\n",
      " - Rotation and scale.. so how does that help us?\n",
      " - What should our P be doing?\n",
      " - What do we want our Y do look like?"
     ]
    },
    {
     "cell_type": "markdown",
     "metadata": {
      "slideshow": {
       "slide_type": "subslide"
      }
     },
     "source": [
      "<img src=\"assets/512px-GaussianScatterPCA.png\" />"
     ]
    },
    {
     "cell_type": "markdown",
     "metadata": {
      "slideshow": {
       "slide_type": "subslide"
      }
     },
     "source": [
      "<img src=\"assets/signal_noise.png\" width=600 />"
     ]
    },
    {
     "cell_type": "markdown",
     "metadata": {
      "slideshow": {
       "slide_type": "notes"
      }
     },
     "source": [
      "Every dataset has noise and signal... How can we bring out the signal?"
     ]
    },
    {
     "cell_type": "markdown",
     "metadata": {
      "slideshow": {
       "slide_type": "subslide"
      }
     },
     "source": [
      "$$ SNR = \\frac{\\sigma^2_{signal}}{\\sigma^2_{noise}} $$"
     ]
    },
    {
     "cell_type": "markdown",
     "metadata": {
      "slideshow": {
       "slide_type": "subslide"
      }
     },
     "source": [
      "Rotate to maximize variance\n",
      "========================================================\n",
      "<img src=\"assets/svn.png\" width=600 />"
     ]
    },
    {
     "cell_type": "heading",
     "level": 1,
     "metadata": {
      "slideshow": {
       "slide_type": "slide"
      }
     },
     "source": [
      "Heptathlon"
     ]
    },
    {
     "cell_type": "code",
     "collapsed": false,
     "input": [
      "sns.pairplot(X_heptathlon, diag_kind='kde', size=1.5)"
     ],
     "language": "python",
     "metadata": {},
     "outputs": [
      {
       "metadata": {},
       "output_type": "pyout",
       "prompt_number": 31,
       "text": [
        "<seaborn.axisgrid.PairGrid at 0x12eb12710>"
       ]
      },
      {
       "metadata": {},
       "output_type": "display_data",
       "png": "[encoded data removed]",
       "text": [
        "<matplotlib.figure.Figure at 0x12eb12750>"
       ]
      }
     ],
     "prompt_number": 31
    },
    {
     "cell_type": "markdown",
     "metadata": {
      "slideshow": {
       "slide_type": "subslide"
      }
     },
     "source": [
      "Principal Components\n",
      "========================================================\n",
      "The hard way:\n",
      "--------------------------------------------------------"
     ]
    },
    {
     "cell_type": "code",
     "collapsed": false,
     "input": [
      "from __future__ import division\n",
      "\n",
      "# transpose and scale the original data\n",
      "scaled_heptathlon = (X_heptathlon - X_heptathlon.mean()) / X_heptathlon.std()\n",
      "X = np.matrix(scaled_heptathlon.T)\n",
      "\n",
      "# Calculate P\n",
      "A = X * X.T\n",
      "E = np.linalg.eig(A)\n",
      "P = E[1].T\n",
      "\n",
      "# Find the new data and standard deviations of the principal components\n",
      "newdata = P * X\n",
      "sdev =  np.sqrt((1/(X.shape[1]-1)* P * A * P.T).diagonal())\n",
      "print \"Standard deviations:\\n{}\".format(sdev)\n",
      "print \"\\nRotation:\\n{}\".format(E[1])"
     ],
     "language": "python",
     "metadata": {
      "slideshow": {
       "slide_type": "subslide"
      }
     },
     "outputs": [
      {
       "output_type": "stream",
       "stream": "stdout",
       "text": [
        "Standard deviations:\n",
        "[[ 2.11193635  1.09284974  0.22136171  0.27010291  0.49524412  0.72181309\n",
        "   0.67614113]]\n",
        "\n",
        "Rotation:\n",
        "[[ 0.45287105 -0.15792058 -0.38024707 -0.78334101 -0.09494792  0.04514996\n",
        "  -0.02653873]\n",
        " [ 0.37719923 -0.24807386  0.43393114  0.09939981  0.01879888  0.36777902\n",
        "  -0.67999172]\n",
        " [ 0.3630725   0.28940743  0.21762491 -0.05085983  0.51165201 -0.67618919\n",
        "  -0.12431725]\n",
        " [ 0.40789504  0.26038545  0.45338483  0.02495639 -0.64983404 -0.08359211\n",
        "   0.3610658 ]\n",
        " [ 0.45623185 -0.05587394 -0.61206388  0.59020972 -0.1842981  -0.13931653\n",
        "  -0.11129249]\n",
        " [ 0.075409    0.84169212 -0.17294667 -0.02724076  0.13510669  0.47156016\n",
        "  -0.12079924]\n",
        " [ 0.37495938 -0.22448984  0.09830963  0.1555552   0.50432116  0.39585671\n",
        "   0.6034113 ]]\n"
       ]
      }
     ],
     "prompt_number": 32
    },
    {
     "cell_type": "markdown",
     "metadata": {
      "slideshow": {
       "slide_type": "subslide"
      }
     },
     "source": [
      "Principal Components\n",
      "========================================================\n",
      "The easy way:\n",
      "--------------------------------------------------------"
     ]
    },
    {
     "cell_type": "code",
     "collapsed": false,
     "input": [
      "from statsmodels.sandbox.tools.tools_pca import pca\n",
      "prcomp = pca(X.T)\n",
      "print \"Standard deviations:\\n{}\".format(np.sqrt(prcomp[2]))\n",
      "print \"\\nRotation:\\n{}\".format(prcomp[3])"
     ],
     "language": "python",
     "metadata": {
      "slideshow": {
       "slide_type": "skip"
      }
     },
     "outputs": [
      {
       "output_type": "stream",
       "stream": "stdout",
       "text": [
        "Standard deviations:\n",
        "[ 2.11193635  1.09284974  0.72181309  0.67614113  0.49524412  0.27010291\n",
        "  0.22136171]\n",
        "\n",
        "Rotation:\n",
        "[[ 0.45287105 -0.15792058  0.04514996 -0.02653873 -0.09494792 -0.78334101\n",
        "  -0.38024707]\n",
        " [ 0.37719923 -0.24807386  0.36777902 -0.67999172  0.01879888  0.09939981\n",
        "   0.43393114]\n",
        " [ 0.3630725   0.28940743 -0.67618919 -0.12431725  0.51165201 -0.05085983\n",
        "   0.21762491]\n",
        " [ 0.40789504  0.26038545 -0.08359211  0.3610658  -0.64983404  0.02495639\n",
        "   0.45338483]\n",
        " [ 0.45623185 -0.05587394 -0.13931653 -0.11129249 -0.1842981   0.59020972\n",
        "  -0.61206388]\n",
        " [ 0.075409    0.84169212  0.47156016 -0.12079924  0.13510669 -0.02724076\n",
        "  -0.17294667]\n",
        " [ 0.37495938 -0.22448984  0.39585671  0.6034113   0.50432116  0.1555552\n",
        "   0.09830963]]\n"
       ]
      }
     ],
     "prompt_number": 33
    },
    {
     "cell_type": "code",
     "collapsed": false,
     "input": [
      "def pca_rotations(prcomp, columns=[]): \n",
      "    if len(columns) <> len(prcomp.components_):\n",
      "        columns = range(1, len(prcomp.components_) + 1)\n",
      "    return pd.DataFrame(prcomp.components_, \n",
      "                        index=(map(\"PC{}\".format, range(1, len(prcomp.components_) + 1))), \n",
      "                        columns=columns).T"
     ],
     "language": "python",
     "metadata": {
      "slideshow": {
       "slide_type": "skip"
      }
     },
     "outputs": [],
     "prompt_number": 34
    },
    {
     "cell_type": "code",
     "collapsed": false,
     "input": [
      "from sklearn.preprocessing import StandardScaler\n",
      "from sklearn.decomposition import PCA\n",
      "from sklearn.pipeline import Pipeline\n",
      "\n",
      "pipeline = Pipeline((\n",
      "    ('scaler', StandardScaler()),\n",
      "    ('prcomp', PCA()),\n",
      "))\n",
      "pipeline.fit(X_heptathlon.copy())\n",
      "heptathlon_pca = pipeline.steps[1][1]\n",
      "\n",
      "print \"Standard deviations:\\n\\t \" + ' '.join(map(\"{:.6}\".format, np.sqrt(heptathlon_pca.explained_variance_)))\n",
      "pca_rotations(heptathlon_pca, X_heptathlon.columns)"
     ],
     "language": "python",
     "metadata": {
      "slideshow": {
       "slide_type": "subslide"
      }
     },
     "outputs": [
      {
       "output_type": "stream",
       "stream": "stdout",
       "text": [
        "Standard deviations:\n",
        "\t 2.11194 1.09285 0.721813 0.676141 0.495244 0.270103 0.221362\n"
       ]
      },
      {
       "html": [
        "<div style=\"max-height:1000px;max-width:1500px;overflow:auto;\">\n",
        "<table border=\"1\" class=\"dataframe\">\n",
        "  <thead>\n",
        "    <tr style=\"text-align: right;\">\n",
        "      <th></th>\n",
        "      <th>PC1</th>\n",
        "      <th>PC2</th>\n",
        "      <th>PC3</th>\n",
        "      <th>PC4</th>\n",
        "      <th>PC5</th>\n",
        "      <th>PC6</th>\n",
        "      <th>PC7</th>\n",
        "    </tr>\n",
        "  </thead>\n",
        "  <tbody>\n",
        "    <tr>\n",
        "      <th>hurdles</th>\n",
        "      <td>-0.452871</td>\n",
        "      <td> 0.157921</td>\n",
        "      <td>-0.045150</td>\n",
        "      <td> 0.026539</td>\n",
        "      <td>-0.094948</td>\n",
        "      <td>-0.783341</td>\n",
        "      <td> 0.380247</td>\n",
        "    </tr>\n",
        "    <tr>\n",
        "      <th>highjump</th>\n",
        "      <td>-0.377199</td>\n",
        "      <td> 0.248074</td>\n",
        "      <td>-0.367779</td>\n",
        "      <td> 0.679992</td>\n",
        "      <td> 0.018799</td>\n",
        "      <td> 0.099400</td>\n",
        "      <td>-0.433931</td>\n",
        "    </tr>\n",
        "    <tr>\n",
        "      <th>shot</th>\n",
        "      <td>-0.363072</td>\n",
        "      <td>-0.289407</td>\n",
        "      <td> 0.676189</td>\n",
        "      <td> 0.124317</td>\n",
        "      <td> 0.511652</td>\n",
        "      <td>-0.050860</td>\n",
        "      <td>-0.217625</td>\n",
        "    </tr>\n",
        "    <tr>\n",
        "      <th>run200m</th>\n",
        "      <td>-0.407895</td>\n",
        "      <td>-0.260385</td>\n",
        "      <td> 0.083592</td>\n",
        "      <td>-0.361066</td>\n",
        "      <td>-0.649834</td>\n",
        "      <td> 0.024956</td>\n",
        "      <td>-0.453385</td>\n",
        "    </tr>\n",
        "    <tr>\n",
        "      <th>longjump</th>\n",
        "      <td>-0.456232</td>\n",
        "      <td> 0.055874</td>\n",
        "      <td> 0.139317</td>\n",
        "      <td> 0.111292</td>\n",
        "      <td>-0.184298</td>\n",
        "      <td> 0.590210</td>\n",
        "      <td> 0.612064</td>\n",
        "    </tr>\n",
        "    <tr>\n",
        "      <th>javelin</th>\n",
        "      <td>-0.075409</td>\n",
        "      <td>-0.841692</td>\n",
        "      <td>-0.471560</td>\n",
        "      <td> 0.120799</td>\n",
        "      <td> 0.135107</td>\n",
        "      <td>-0.027241</td>\n",
        "      <td> 0.172947</td>\n",
        "    </tr>\n",
        "    <tr>\n",
        "      <th>run800m</th>\n",
        "      <td>-0.374959</td>\n",
        "      <td> 0.224490</td>\n",
        "      <td>-0.395857</td>\n",
        "      <td>-0.603411</td>\n",
        "      <td> 0.504321</td>\n",
        "      <td> 0.155555</td>\n",
        "      <td>-0.098310</td>\n",
        "    </tr>\n",
        "  </tbody>\n",
        "</table>\n",
        "</div>"
       ],
       "metadata": {},
       "output_type": "pyout",
       "prompt_number": 35,
       "text": [
        "               PC1       PC2       PC3       PC4       PC5       PC6       PC7\n",
        "hurdles  -0.452871  0.157921 -0.045150  0.026539 -0.094948 -0.783341  0.380247\n",
        "highjump -0.377199  0.248074 -0.367779  0.679992  0.018799  0.099400 -0.433931\n",
        "shot     -0.363072 -0.289407  0.676189  0.124317  0.511652 -0.050860 -0.217625\n",
        "run200m  -0.407895 -0.260385  0.083592 -0.361066 -0.649834  0.024956 -0.453385\n",
        "longjump -0.456232  0.055874  0.139317  0.111292 -0.184298  0.590210  0.612064\n",
        "javelin  -0.075409 -0.841692 -0.471560  0.120799  0.135107 -0.027241  0.172947\n",
        "run800m  -0.374959  0.224490 -0.395857 -0.603411  0.504321  0.155555 -0.098310"
       ]
      }
     ],
     "prompt_number": 35
    },
    {
     "cell_type": "code",
     "collapsed": false,
     "input": [
      "pcs = pipeline.transform(X_heptathlon.copy())  # copy because transform happens in-place\n",
      "pc_df = pd.DataFrame(pcs)  # cast resulting matrix as a data frame\n",
      "sns.pairplot(pc_df, diag_kind='kde', size=1.5)"
     ],
     "language": "python",
     "metadata": {},
     "outputs": [
      {
       "metadata": {},
       "output_type": "pyout",
       "prompt_number": 39,
       "text": [
        "<seaborn.axisgrid.PairGrid at 0x134e5bc90>"
       ]
      },
      {
       "metadata": {},
       "output_type": "display_data",
       "png": "[encoded data removed]",
       "text": [
        "<matplotlib.figure.Figure at 0x135f33810>"
       ]
      }
     ],
     "prompt_number": 39
    },
    {
     "cell_type": "markdown",
     "metadata": {
      "slideshow": {
       "slide_type": "fragment"
      }
     },
     "source": [
      "Notice the scale on each principal component."
     ]
    },
    {
     "cell_type": "heading",
     "level": 1,
     "metadata": {},
     "source": [
      "Percent Variance Accounted For"
     ]
    },
    {
     "cell_type": "heading",
     "level": 2,
     "metadata": {},
     "source": [
      "$(a.k.a. R^2)$"
     ]
    },
    {
     "cell_type": "code",
     "collapsed": false,
     "input": [
      "def pca_summary(prcomp):\n",
      "    return pd.DataFrame([np.sqrt(prcomp.explained_variance_), \n",
      "              prcomp.explained_variance_ratio_, \n",
      "              prcomp.explained_variance_ratio_.cumsum()],\n",
      "             index = [\"Standard deviation\", \"Proportion of Variance\", \"Cumulative Proportion\"], \n",
      "             columns = (map(\"PC{}\".format, range(1, len(prcomp.components_)+1))))"
     ],
     "language": "python",
     "metadata": {
      "slideshow": {
       "slide_type": "skip"
      }
     },
     "outputs": [],
     "prompt_number": 40
    },
    {
     "cell_type": "code",
     "collapsed": false,
     "input": [
      "pca_summary(heptathlon_pca)"
     ],
     "language": "python",
     "metadata": {
      "slideshow": {
       "slide_type": "-"
      }
     },
     "outputs": [
      {
       "html": [
        "<div style=\"max-height:1000px;max-width:1500px;overflow:auto;\">\n",
        "<table border=\"1\" class=\"dataframe\">\n",
        "  <thead>\n",
        "    <tr style=\"text-align: right;\">\n",
        "      <th></th>\n",
        "      <th>PC1</th>\n",
        "      <th>PC2</th>\n",
        "      <th>PC3</th>\n",
        "      <th>PC4</th>\n",
        "      <th>PC5</th>\n",
        "      <th>PC6</th>\n",
        "      <th>PC7</th>\n",
        "    </tr>\n",
        "  </thead>\n",
        "  <tbody>\n",
        "    <tr>\n",
        "      <th>Standard deviation</th>\n",
        "      <td> 2.111936</td>\n",
        "      <td> 1.092850</td>\n",
        "      <td> 0.721813</td>\n",
        "      <td> 0.676141</td>\n",
        "      <td> 0.495244</td>\n",
        "      <td> 0.270103</td>\n",
        "      <td> 0.221362</td>\n",
        "    </tr>\n",
        "    <tr>\n",
        "      <th>Proportion of Variance</th>\n",
        "      <td> 0.637182</td>\n",
        "      <td> 0.170617</td>\n",
        "      <td> 0.074431</td>\n",
        "      <td> 0.065310</td>\n",
        "      <td> 0.035038</td>\n",
        "      <td> 0.010422</td>\n",
        "      <td> 0.007000</td>\n",
        "    </tr>\n",
        "    <tr>\n",
        "      <th>Cumulative Proportion</th>\n",
        "      <td> 0.637182</td>\n",
        "      <td> 0.807799</td>\n",
        "      <td> 0.882230</td>\n",
        "      <td> 0.947540</td>\n",
        "      <td> 0.982578</td>\n",
        "      <td> 0.993000</td>\n",
        "      <td> 1.000000</td>\n",
        "    </tr>\n",
        "  </tbody>\n",
        "</table>\n",
        "</div>"
       ],
       "metadata": {},
       "output_type": "pyout",
       "prompt_number": 41,
       "text": [
        "                             PC1       PC2       PC3       PC4       PC5  \\\n",
        "Standard deviation      2.111936  1.092850  0.721813  0.676141  0.495244   \n",
        "Proportion of Variance  0.637182  0.170617  0.074431  0.065310  0.035038   \n",
        "Cumulative Proportion   0.637182  0.807799  0.882230  0.947540  0.982578   \n",
        "\n",
        "                             PC6       PC7  \n",
        "Standard deviation      0.270103  0.221362  \n",
        "Proportion of Variance  0.010422  0.007000  \n",
        "Cumulative Proportion   0.993000  1.000000  "
       ]
      }
     ],
     "prompt_number": 41
    },
    {
     "cell_type": "markdown",
     "metadata": {
      "slideshow": {
       "slide_type": "subslide"
      }
     },
     "source": [
      "Visually:\n",
      "--------------------------------------------------------"
     ]
    },
    {
     "cell_type": "code",
     "collapsed": false,
     "input": [
      "plt.figure(figsize=(10, 7))\n",
      "plt.bar(range(1, 8), heptathlon_pca.explained_variance_, align='center')"
     ],
     "language": "python",
     "metadata": {
      "slideshow": {
       "slide_type": "-"
      }
     },
     "outputs": [
      {
       "metadata": {},
       "output_type": "pyout",
       "prompt_number": 42,
       "text": [
        "<Container object of 7 artists>"
       ]
      },
      {
       "metadata": {},
       "output_type": "display_data",
       "png": "[encoded data removed]",
       "text": [
        "<matplotlib.figure.Figure at 0x13a524e50>"
       ]
      }
     ],
     "prompt_number": 42
    },
    {
     "cell_type": "markdown",
     "metadata": {
      "slideshow": {
       "slide_type": "skip"
      }
     },
     "source": [
      "Recall: How we fix multicollinearity with polynomials\n",
      "========================================================\n",
      "Replace the correlated predictors with uncorrelated predictors\n",
      "\n",
      "$$ y = \\alpha + \\beta_1 f_1(x) + \\beta_2 f_2(x^2) + \\ldots + \\beta_n f_n(x^n) + \\epsilon $$\n",
      "\n",
      "Technical Note: These polynomial functions form an _orthogonal basis_ of the function space."
     ]
    },
    {
     "cell_type": "markdown",
     "metadata": {
      "slideshow": {
       "slide_type": "subslide"
      }
     },
     "source": [
      "Where do Principal Components Come From?\n",
      "========================================================\n",
      "$$ PC_1 = W_{1,1} \\times x_1 + W_{1,2} \\times x_2 + \\cdots + W_{1,n} \\times x_n \\\\\n",
      "PC_2 = W_{2,1} \\times x_1 + W_{2,2} \\times x_2 + \\cdots + W_{2,n} \\times x_n \\\\\n",
      "\\vdots \\\\\n",
      "PC_n = W_{n,1} \\times x_1 + W_{n,2} \\times x_2 + \\cdots + W_{n,n} \\times x_n $$"
     ]
    },
    {
     "cell_type": "markdown",
     "metadata": {
      "slideshow": {
       "slide_type": "skip"
      }
     },
     "source": [
      "scaled:\n",
      "\n",
      "$$ PC_1 = W_{1,1} \\times \\frac{x_1-\\bar{x_1}}{\\sigma_{x_1}} + W_{1,2} \\times \\frac{x_2-\\bar{x_2}}{\\sigma_{x_2}} + \\cdots + W_{1,n} \\times \\frac{x_n-\\bar{x_n}}{\\sigma_{x_n}} \\\\\n",
      "PC_2 = W_{2,1} \\times \\frac{x_1-\\bar{x_1}}{\\sigma_{x_1}}  + W_{2,2} \\times \\frac{x_2-\\bar{x_2}}{\\sigma_{x_2}} + \\cdots + W_{2,n} \\times \\frac{x_n-\\bar{x_n}}{\\sigma_{x_n}} \\\\\n",
      "\\vdots \\\\\n",
      "PC_n = W_{n,1} \\times \\frac{x_1-\\bar{x_1}}{\\sigma_{x_1}}  + W_{n,2} \\times \\frac{x_2-\\bar{x_2}}{\\sigma_{x_2}} + \\cdots + W_{n,n} \\times \\frac{x_n-\\bar{x_n}}{\\sigma_{x_n}} $$"
     ]
    },
    {
     "cell_type": "heading",
     "level": 1,
     "metadata": {},
     "source": [
      "Rotations"
     ]
    },
    {
     "cell_type": "heading",
     "level": 2,
     "metadata": {},
     "source": [
      "(or Loadings)"
     ]
    },
    {
     "cell_type": "markdown",
     "metadata": {
      "slideshow": {
       "slide_type": "subslide"
      }
     },
     "source": [
      "These weights are called \"rotations\" because they *rotate* the vector space. (They are also called \"loadings\")"
     ]
    },
    {
     "cell_type": "code",
     "collapsed": false,
     "input": [
      "pd.DataFrame(heptathlon_pca.components_, index=(map(\"PC{}\".format, range(1,8))), columns=X_heptathlon.columns).T"
     ],
     "language": "python",
     "metadata": {
      "slideshow": {
       "slide_type": "fragment"
      }
     },
     "outputs": [
      {
       "html": [
        "<div style=\"max-height:1000px;max-width:1500px;overflow:auto;\">\n",
        "<table border=\"1\" class=\"dataframe\">\n",
        "  <thead>\n",
        "    <tr style=\"text-align: right;\">\n",
        "      <th></th>\n",
        "      <th>PC1</th>\n",
        "      <th>PC2</th>\n",
        "      <th>PC3</th>\n",
        "      <th>PC4</th>\n",
        "      <th>PC5</th>\n",
        "      <th>PC6</th>\n",
        "      <th>PC7</th>\n",
        "    </tr>\n",
        "  </thead>\n",
        "  <tbody>\n",
        "    <tr>\n",
        "      <th>hurdles</th>\n",
        "      <td>-0.452871</td>\n",
        "      <td> 0.157921</td>\n",
        "      <td>-0.045150</td>\n",
        "      <td> 0.026539</td>\n",
        "      <td>-0.094948</td>\n",
        "      <td>-0.783341</td>\n",
        "      <td> 0.380247</td>\n",
        "    </tr>\n",
        "    <tr>\n",
        "      <th>highjump</th>\n",
        "      <td>-0.377199</td>\n",
        "      <td> 0.248074</td>\n",
        "      <td>-0.367779</td>\n",
        "      <td> 0.679992</td>\n",
        "      <td> 0.018799</td>\n",
        "      <td> 0.099400</td>\n",
        "      <td>-0.433931</td>\n",
        "    </tr>\n",
        "    <tr>\n",
        "      <th>shot</th>\n",
        "      <td>-0.363072</td>\n",
        "      <td>-0.289407</td>\n",
        "      <td> 0.676189</td>\n",
        "      <td> 0.124317</td>\n",
        "      <td> 0.511652</td>\n",
        "      <td>-0.050860</td>\n",
        "      <td>-0.217625</td>\n",
        "    </tr>\n",
        "    <tr>\n",
        "      <th>run200m</th>\n",
        "      <td>-0.407895</td>\n",
        "      <td>-0.260385</td>\n",
        "      <td> 0.083592</td>\n",
        "      <td>-0.361066</td>\n",
        "      <td>-0.649834</td>\n",
        "      <td> 0.024956</td>\n",
        "      <td>-0.453385</td>\n",
        "    </tr>\n",
        "    <tr>\n",
        "      <th>longjump</th>\n",
        "      <td>-0.456232</td>\n",
        "      <td> 0.055874</td>\n",
        "      <td> 0.139317</td>\n",
        "      <td> 0.111292</td>\n",
        "      <td>-0.184298</td>\n",
        "      <td> 0.590210</td>\n",
        "      <td> 0.612064</td>\n",
        "    </tr>\n",
        "    <tr>\n",
        "      <th>javelin</th>\n",
        "      <td>-0.075409</td>\n",
        "      <td>-0.841692</td>\n",
        "      <td>-0.471560</td>\n",
        "      <td> 0.120799</td>\n",
        "      <td> 0.135107</td>\n",
        "      <td>-0.027241</td>\n",
        "      <td> 0.172947</td>\n",
        "    </tr>\n",
        "    <tr>\n",
        "      <th>run800m</th>\n",
        "      <td>-0.374959</td>\n",
        "      <td> 0.224490</td>\n",
        "      <td>-0.395857</td>\n",
        "      <td>-0.603411</td>\n",
        "      <td> 0.504321</td>\n",
        "      <td> 0.155555</td>\n",
        "      <td>-0.098310</td>\n",
        "    </tr>\n",
        "  </tbody>\n",
        "</table>\n",
        "</div>"
       ],
       "metadata": {},
       "output_type": "pyout",
       "prompt_number": 46,
       "text": [
        "               PC1       PC2       PC3       PC4       PC5       PC6       PC7\n",
        "hurdles  -0.452871  0.157921 -0.045150  0.026539 -0.094948 -0.783341  0.380247\n",
        "highjump -0.377199  0.248074 -0.367779  0.679992  0.018799  0.099400 -0.433931\n",
        "shot     -0.363072 -0.289407  0.676189  0.124317  0.511652 -0.050860 -0.217625\n",
        "run200m  -0.407895 -0.260385  0.083592 -0.361066 -0.649834  0.024956 -0.453385\n",
        "longjump -0.456232  0.055874  0.139317  0.111292 -0.184298  0.590210  0.612064\n",
        "javelin  -0.075409 -0.841692 -0.471560  0.120799  0.135107 -0.027241  0.172947\n",
        "run800m  -0.374959  0.224490 -0.395857 -0.603411  0.504321  0.155555 -0.098310"
       ]
      }
     ],
     "prompt_number": 46
    },
    {
     "cell_type": "markdown",
     "metadata": {
      "slideshow": {
       "slide_type": "notes"
      }
     },
     "source": [
      "Notice:  \n",
      "1. the standard devation of each principal component.\n",
      "2. the magnitude of the loadings, particularly the first two components with regard to `javelin`.  \n",
      "_Annoying side effect: PCA often reverse the sign during decomposition. Keep this in mind because it may reverse your interpretation of the results._"
     ]
    },
    {
     "cell_type": "heading",
     "level": 1,
     "metadata": {},
     "source": [
      "Scaling"
     ]
    },
    {
     "cell_type": "markdown",
     "metadata": {
      "slideshow": {
       "slide_type": "fragment"
      }
     },
     "source": [
      "* Recall: what is scaling?"
     ]
    },
    {
     "cell_type": "markdown",
     "metadata": {
      "slideshow": {
       "slide_type": "fragment"
      }
     },
     "source": [
      "* Why is it important? (in other words, why might unscaled variables cause a problem with PCA?)"
     ]
    },
    {
     "cell_type": "code",
     "collapsed": false,
     "input": [
      "heptathlon_unscaled_pca = PCA().fit(X_heptathlon.copy())\n",
      "pca_summary(heptathlon_unscaled_pca)"
     ],
     "language": "python",
     "metadata": {
      "slideshow": {
       "slide_type": "subslide"
      }
     },
     "outputs": [
      {
       "html": [
        "<div style=\"max-height:1000px;max-width:1500px;overflow:auto;\">\n",
        "<table border=\"1\" class=\"dataframe\">\n",
        "  <thead>\n",
        "    <tr style=\"text-align: right;\">\n",
        "      <th></th>\n",
        "      <th>PC1</th>\n",
        "      <th>PC2</th>\n",
        "      <th>PC3</th>\n",
        "      <th>PC4</th>\n",
        "      <th>PC5</th>\n",
        "      <th>PC6</th>\n",
        "      <th>PC7</th>\n",
        "    </tr>\n",
        "  </thead>\n",
        "  <tbody>\n",
        "    <tr>\n",
        "      <th>Standard deviation</th>\n",
        "      <td> 8.195643</td>\n",
        "      <td> 3.518423</td>\n",
        "      <td> 1.357701</td>\n",
        "      <td> 0.573879</td>\n",
        "      <td> 0.317274</td>\n",
        "      <td> 0.144150</td>\n",
        "      <td> 0.032578</td>\n",
        "    </tr>\n",
        "    <tr>\n",
        "      <th>Proportion of Variance</th>\n",
        "      <td> 0.820700</td>\n",
        "      <td> 0.151257</td>\n",
        "      <td> 0.022523</td>\n",
        "      <td> 0.004024</td>\n",
        "      <td> 0.001230</td>\n",
        "      <td> 0.000254</td>\n",
        "      <td> 0.000013</td>\n",
        "    </tr>\n",
        "    <tr>\n",
        "      <th>Cumulative Proportion</th>\n",
        "      <td> 0.820700</td>\n",
        "      <td> 0.971956</td>\n",
        "      <td> 0.994479</td>\n",
        "      <td> 0.998503</td>\n",
        "      <td> 0.999733</td>\n",
        "      <td> 0.999987</td>\n",
        "      <td> 1.000000</td>\n",
        "    </tr>\n",
        "  </tbody>\n",
        "</table>\n",
        "</div>"
       ],
       "metadata": {},
       "output_type": "pyout",
       "prompt_number": 47,
       "text": [
        "                             PC1       PC2       PC3       PC4       PC5  \\\n",
        "Standard deviation      8.195643  3.518423  1.357701  0.573879  0.317274   \n",
        "Proportion of Variance  0.820700  0.151257  0.022523  0.004024  0.001230   \n",
        "Cumulative Proportion   0.820700  0.971956  0.994479  0.998503  0.999733   \n",
        "\n",
        "                             PC6       PC7  \n",
        "Standard deviation      0.144150  0.032578  \n",
        "Proportion of Variance  0.000254  0.000013  \n",
        "Cumulative Proportion   0.999987  1.000000  "
       ]
      }
     ],
     "prompt_number": 47
    },
    {
     "cell_type": "markdown",
     "metadata": {
      "slideshow": {
       "slide_type": "fragment"
      }
     },
     "source": [
      "For comparison:"
     ]
    },
    {
     "cell_type": "code",
     "collapsed": false,
     "input": [
      "pca_summary(heptathlon_pca)"
     ],
     "language": "python",
     "metadata": {
      "slideshow": {
       "slide_type": "fragment"
      }
     },
     "outputs": [
      {
       "html": [
        "<div style=\"max-height:1000px;max-width:1500px;overflow:auto;\">\n",
        "<table border=\"1\" class=\"dataframe\">\n",
        "  <thead>\n",
        "    <tr style=\"text-align: right;\">\n",
        "      <th></th>\n",
        "      <th>PC1</th>\n",
        "      <th>PC2</th>\n",
        "      <th>PC3</th>\n",
        "      <th>PC4</th>\n",
        "      <th>PC5</th>\n",
        "      <th>PC6</th>\n",
        "      <th>PC7</th>\n",
        "    </tr>\n",
        "  </thead>\n",
        "  <tbody>\n",
        "    <tr>\n",
        "      <th>Standard deviation</th>\n",
        "      <td> 2.111936</td>\n",
        "      <td> 1.092850</td>\n",
        "      <td> 0.721813</td>\n",
        "      <td> 0.676141</td>\n",
        "      <td> 0.495244</td>\n",
        "      <td> 0.270103</td>\n",
        "      <td> 0.221362</td>\n",
        "    </tr>\n",
        "    <tr>\n",
        "      <th>Proportion of Variance</th>\n",
        "      <td> 0.637182</td>\n",
        "      <td> 0.170617</td>\n",
        "      <td> 0.074431</td>\n",
        "      <td> 0.065310</td>\n",
        "      <td> 0.035038</td>\n",
        "      <td> 0.010422</td>\n",
        "      <td> 0.007000</td>\n",
        "    </tr>\n",
        "    <tr>\n",
        "      <th>Cumulative Proportion</th>\n",
        "      <td> 0.637182</td>\n",
        "      <td> 0.807799</td>\n",
        "      <td> 0.882230</td>\n",
        "      <td> 0.947540</td>\n",
        "      <td> 0.982578</td>\n",
        "      <td> 0.993000</td>\n",
        "      <td> 1.000000</td>\n",
        "    </tr>\n",
        "  </tbody>\n",
        "</table>\n",
        "</div>"
       ],
       "metadata": {},
       "output_type": "pyout",
       "prompt_number": 48,
       "text": [
        "                             PC1       PC2       PC3       PC4       PC5  \\\n",
        "Standard deviation      2.111936  1.092850  0.721813  0.676141  0.495244   \n",
        "Proportion of Variance  0.637182  0.170617  0.074431  0.065310  0.035038   \n",
        "Cumulative Proportion   0.637182  0.807799  0.882230  0.947540  0.982578   \n",
        "\n",
        "                             PC6       PC7  \n",
        "Standard deviation      0.270103  0.221362  \n",
        "Proportion of Variance  0.010422  0.007000  \n",
        "Cumulative Proportion   0.993000  1.000000  "
       ]
      }
     ],
     "prompt_number": 48
    },
    {
     "cell_type": "markdown",
     "metadata": {
      "slideshow": {
       "slide_type": "notes"
      }
     },
     "source": [
      "At first glance, this looks better than the scaled version. PC1 accounts for 82% of the variance (while in the scaled PCA, PC1 only accounted for 64%).  \n",
      "Similarly, with only two components, we account for 97% of the variance. In the scaled version, the first four components only got us to 95%."
     ]
    },
    {
     "cell_type": "heading",
     "level": 1,
     "metadata": {
      "slideshow": {
       "slide_type": "subslide"
      }
     },
     "source": [
      "What could go wrong?"
     ]
    },
    {
     "cell_type": "code",
     "collapsed": false,
     "input": [
      "X_heptathlon.var()"
     ],
     "language": "python",
     "metadata": {
      "slideshow": {
       "slide_type": "fragment"
      }
     },
     "outputs": [
      {
       "metadata": {},
       "output_type": "pyout",
       "prompt_number": 49,
       "text": [
        "hurdles      0.542650\n",
        "highjump     0.006075\n",
        "shot         2.225719\n",
        "run200m      0.940041\n",
        "longjump     0.224877\n",
        "javelin     12.571677\n",
        "run800m     68.742142\n",
        "dtype: float64"
       ]
      }
     ],
     "prompt_number": 49
    },
    {
     "cell_type": "markdown",
     "metadata": {
      "slideshow": {
       "slide_type": "fragment"
      }
     },
     "source": [
      "If one wanted to account for the majority of the overall variance, one need only look at run800m."
     ]
    },
    {
     "cell_type": "markdown",
     "metadata": {
      "slideshow": {
       "slide_type": "notes"
      }
     },
     "source": [
      "In fact, that's exactly what the unscaled PCA does:"
     ]
    },
    {
     "cell_type": "code",
     "collapsed": false,
     "input": [
      "pca_rotations(heptathlon_unscaled_pca, X_heptathlon.columns)"
     ],
     "language": "python",
     "metadata": {
      "slideshow": {
       "slide_type": "subslide"
      }
     },
     "outputs": [
      {
       "html": [
        "<div style=\"max-height:1000px;max-width:1500px;overflow:auto;\">\n",
        "<table border=\"1\" class=\"dataframe\">\n",
        "  <thead>\n",
        "    <tr style=\"text-align: right;\">\n",
        "      <th></th>\n",
        "      <th>PC1</th>\n",
        "      <th>PC2</th>\n",
        "      <th>PC3</th>\n",
        "      <th>PC4</th>\n",
        "      <th>PC5</th>\n",
        "      <th>PC6</th>\n",
        "      <th>PC7</th>\n",
        "    </tr>\n",
        "  </thead>\n",
        "  <tbody>\n",
        "    <tr>\n",
        "      <th>hurdles</th>\n",
        "      <td>-0.069509</td>\n",
        "      <td> 0.009489</td>\n",
        "      <td>-0.221808</td>\n",
        "      <td> 0.327377</td>\n",
        "      <td> 0.807029</td>\n",
        "      <td>-0.424851</td>\n",
        "      <td> 0.083123</td>\n",
        "    </tr>\n",
        "    <tr>\n",
        "      <th>highjump</th>\n",
        "      <td>-0.005570</td>\n",
        "      <td> 0.000565</td>\n",
        "      <td>-0.014514</td>\n",
        "      <td> 0.021239</td>\n",
        "      <td> 0.140138</td>\n",
        "      <td> 0.098374</td>\n",
        "      <td>-0.984881</td>\n",
        "    </tr>\n",
        "    <tr>\n",
        "      <th>shot</th>\n",
        "      <td>-0.077906</td>\n",
        "      <td> 0.135928</td>\n",
        "      <td>-0.883740</td>\n",
        "      <td>-0.425007</td>\n",
        "      <td>-0.104422</td>\n",
        "      <td>-0.051745</td>\n",
        "      <td>-0.015650</td>\n",
        "    </tr>\n",
        "    <tr>\n",
        "      <th>run200m</th>\n",
        "      <td>-0.072968</td>\n",
        "      <td> 0.101200</td>\n",
        "      <td>-0.310057</td>\n",
        "      <td> 0.815852</td>\n",
        "      <td>-0.461787</td>\n",
        "      <td>-0.082486</td>\n",
        "      <td>-0.051313</td>\n",
        "    </tr>\n",
        "    <tr>\n",
        "      <th>longjump</th>\n",
        "      <td>-0.040369</td>\n",
        "      <td> 0.014885</td>\n",
        "      <td>-0.184943</td>\n",
        "      <td> 0.204198</td>\n",
        "      <td> 0.318993</td>\n",
        "      <td> 0.894593</td>\n",
        "      <td> 0.142110</td>\n",
        "    </tr>\n",
        "    <tr>\n",
        "      <th>javelin</th>\n",
        "      <td> 0.006686</td>\n",
        "      <td> 0.985295</td>\n",
        "      <td> 0.160213</td>\n",
        "      <td>-0.032169</td>\n",
        "      <td> 0.048804</td>\n",
        "      <td> 0.006170</td>\n",
        "      <td> 0.005033</td>\n",
        "    </tr>\n",
        "    <tr>\n",
        "      <th>run800m</th>\n",
        "      <td>-0.990994</td>\n",
        "      <td>-0.012765</td>\n",
        "      <td> 0.116558</td>\n",
        "      <td>-0.058277</td>\n",
        "      <td>-0.027848</td>\n",
        "      <td> 0.002987</td>\n",
        "      <td>-0.001041</td>\n",
        "    </tr>\n",
        "  </tbody>\n",
        "</table>\n",
        "</div>"
       ],
       "metadata": {},
       "output_type": "pyout",
       "prompt_number": 50,
       "text": [
        "               PC1       PC2       PC3       PC4       PC5       PC6       PC7\n",
        "hurdles  -0.069509  0.009489 -0.221808  0.327377  0.807029 -0.424851  0.083123\n",
        "highjump -0.005570  0.000565 -0.014514  0.021239  0.140138  0.098374 -0.984881\n",
        "shot     -0.077906  0.135928 -0.883740 -0.425007 -0.104422 -0.051745 -0.015650\n",
        "run200m  -0.072968  0.101200 -0.310057  0.815852 -0.461787 -0.082486 -0.051313\n",
        "longjump -0.040369  0.014885 -0.184943  0.204198  0.318993  0.894593  0.142110\n",
        "javelin   0.006686  0.985295  0.160213 -0.032169  0.048804  0.006170  0.005033\n",
        "run800m  -0.990994 -0.012765  0.116558 -0.058277 -0.027848  0.002987 -0.001041"
       ]
      }
     ],
     "prompt_number": 50
    },
    {
     "cell_type": "heading",
     "level": 1,
     "metadata": {
      "slideshow": {
       "slide_type": "slide"
      }
     },
     "source": [
      "What else could go wrong?"
     ]
    },
    {
     "cell_type": "markdown",
     "metadata": {
      "slideshow": {
       "slide_type": "fragment"
      }
     },
     "source": [
      "What if the relationship between the variables is nonlinear?"
     ]
    },
    {
     "cell_type": "markdown",
     "metadata": {
      "slideshow": {
       "slide_type": "subslide"
      }
     },
     "source": [
      "<img src=\"assets/pca_fail.png\" width=600 />"
     ]
    },
    {
     "cell_type": "markdown",
     "metadata": {},
     "source": [
      "---"
     ]
    },
    {
     "cell_type": "heading",
     "level": 1,
     "metadata": {},
     "source": [
      "Lab"
     ]
    },
    {
     "cell_type": "markdown",
     "metadata": {},
     "source": [
      "[Dimensionality Reduction and Visualization](13-PCA_lab.ipynb)"
     ]
    },
    {
     "cell_type": "code",
     "collapsed": false,
     "input": [],
     "language": "python",
     "metadata": {},
     "outputs": []
    }
   ],
   "metadata": {}
  }
 ]
}