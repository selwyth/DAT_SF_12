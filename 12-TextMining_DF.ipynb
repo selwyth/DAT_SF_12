{
 "cells": [
  {
   "cell_type": "markdown",
   "metadata": {},
   "source": [
    "Lab\n",
    "==========================================\n",
    "Text Feature Extraction for Classification\n",
    "------------------------------------------\n",
    "Alessandro D. Gagliardi  \n",
    "*(adapted from Olivier Grisel's tutorial)*"
   ]
  },
  {
   "cell_type": "markdown",
   "metadata": {
    "slideshow": {
     "slide_type": "subslide"
    }
   },
   "source": [
    "<style>\n",
    "div.input {\n",
    "    width: 105ex; /* about 80 chars + buffer */\n",
    "}\n",
    "div.text_cell {\n",
    "    width: 105ex; /* instead of 100%, */\n",
    "}\n",
    "div.text_cell_render {\n",
    "    /*font-family: \"Helvetica Neue\", Arial, Helvetica, Geneva, sans-serif;*/\n",
    "    font-family: \"Charis SIL\", serif !important; /* Make non-code text serif. */\n",
    "    line-height: 145% !important; /* added for some line spacing of text. */\n",
    "    width: 105ex !important; /* instead of 'inherit' for shorter lines */\n",
    "}\n",
    "/* Set the size of the headers */\n",
    "div.text_cell_render h1 {\n",
    "    font-size: 18pt;\n",
    "}\n",
    "div.text_cell_render h2 {\n",
    "    font-size: 14pt;\n",
    "}\n",
    ".CodeMirror {\n",
    "     font-family: Consolas, monospace;\n",
    "}\n",
    "</style>\n",
    "\n",
    "Outline of this section:\n",
    "\n",
    "- Turn a corpus of text documents into **feature vectors** using a **Bag of Words** representation,\n",
    "- Train a simple text classifier on the feature vectors,\n",
    "- Wrap the vectorizer and the classifier with a **pipeline**,\n",
    "- Cross-validation and **model selection** on the pipeline."
   ]
  },
  {
   "cell_type": "code",
   "execution_count": 1,
   "metadata": {
    "collapsed": false,
    "slideshow": {
     "slide_type": "skip"
    }
   },
   "outputs": [
    {
     "data": {
      "text/plain": [
       "<matplotlib.figure.Figure at 0x43ef0f0>"
      ]
     },
     "metadata": {},
     "output_type": "display_data"
    }
   ],
   "source": [
    "%matplotlib inline\n",
    "import numpy as np\n",
    "import pandas as pd\n",
    "from seaborn import plt\n",
    "\n",
    "# Some nice default configuration for plots\n",
    "plt.rcParams['figure.figsize'] = 10, 7.5\n",
    "plt.rcParams['axes.grid'] = True\n",
    "plt.gray()"
   ]
  },
  {
   "cell_type": "markdown",
   "metadata": {
    "slideshow": {
     "slide_type": "skip"
    }
   },
   "source": [
    "### Check that you have the datasets"
   ]
  },
  {
   "cell_type": "code",
   "execution_count": 2,
   "metadata": {
    "collapsed": false,
    "slideshow": {
     "slide_type": "skip"
    }
   },
   "outputs": [
    {
     "name": "stdout",
     "output_type": "stream",
     "text": [
      "Using existing dataset folder:X:\\Python Scripts\\ds_class\\datasets\n",
      "Checking availability of the 20 newsgroups dataset\n",
      "Found archive: X:\\Python Scripts\\ds_class\\datasets\\20news-bydate.tar.gz\n",
      "Decompressing X:\\Python Scripts\\ds_class\\datasets\\20news-bydate.tar.gz\n",
      "Checking that the 20 newsgroups files exist...\n",
      "=> Success!\n",
      "Checking availability of the titanic dataset\n",
      "=> Success!\n"
     ]
    }
   ],
   "source": [
    "%run fetch_data.py"
   ]
  },
  {
   "cell_type": "code",
   "execution_count": 3,
   "metadata": {
    "collapsed": false,
    "slideshow": {
     "slide_type": "skip"
    }
   },
   "outputs": [
    {
     "name": "stderr",
     "output_type": "stream",
     "text": [
      "'ls' is not recognized as an internal or external command,\n",
      "operable program or batch file.\n"
     ]
    }
   ],
   "source": [
    "!ls -lh datasets/"
   ]
  },
  {
   "cell_type": "markdown",
   "metadata": {
    "slideshow": {
     "slide_type": "slide"
    }
   },
   "source": [
    "## Text Classification in 20 lines of Python"
   ]
  },
  {
   "cell_type": "markdown",
   "metadata": {
    "slideshow": {
     "slide_type": "-"
    }
   },
   "source": [
    "Let's start by implementing a canonical text classification example:\n",
    "\n",
    "- The 20 newsgroups dataset: around 18000 text posts from 20 newsgroups forums\n",
    "- Bag of Words features extraction with TF-IDF weighting\n",
    "- Naive Bayes classifier or Linear Support Vector Machine for the classifier itself"
   ]
  },
  {
   "cell_type": "code",
   "execution_count": 10,
   "metadata": {
    "collapsed": false,
    "slideshow": {
     "slide_type": "subslide"
    }
   },
   "outputs": [
    {
     "name": "stdout",
     "output_type": "stream",
     "text": [
      "Training score: 95.1%\n",
      "Testing score: 85.1%\n"
     ]
    }
   ],
   "source": [
    "from sklearn.datasets import load_files\n",
    "from sklearn.feature_extraction.text import TfidfVectorizer\n",
    "from sklearn.naive_bayes import MultinomialNB\n",
    "\n",
    "# Load the text data\n",
    "categories = [\n",
    "    'alt.atheism',\n",
    "    'talk.religion.misc',\n",
    "    'comp.graphics',\n",
    "    'sci.space',\n",
    "]\n",
    "twenty_train_small = load_files('datasets/20news-bydate-train/',\n",
    "    categories=categories, encoding='latin-1')\n",
    "twenty_test_small = load_files('datasets/20news-bydate-test/',\n",
    "    categories=categories, encoding='latin-1')\n",
    "\n",
    "# Turn the text documents into vectors of word frequencies\n",
    "vectorizer = TfidfVectorizer(min_df=2)\n",
    "X_train = vectorizer.fit_transform(twenty_train_small.data)\n",
    "y_train = twenty_train_small.target\n",
    "\n",
    "# Fit a classifier on the training set\n",
    "classifier = MultinomialNB().fit(X_train, y_train)\n",
    "print(\"Training score: {0:.1f}%\".format(\n",
    "    classifier.score(X_train, y_train) * 100))\n",
    "\n",
    "# Evaluate the classifier on the testing set\n",
    "X_test = vectorizer.transform(twenty_test_small.data)\n",
    "y_test = twenty_test_small.target\n",
    "print(\"Testing score: {0:.1f}%\".format(\n",
    "    classifier.score(X_test, y_test) * 100))"
   ]
  },
  {
   "cell_type": "markdown",
   "metadata": {
    "slideshow": {
     "slide_type": "skip"
    }
   },
   "source": [
    "[Multinomial Naive Bayes](http://scikit-learn.org/stable/modules/naive_bayes.html#multinomial-naive-bayes)\n",
    "--------------------------------------------------------\n",
    "`MultinomialNB` implements the naive Bayes algorithm for multinomially distributed data, and is one of the two classic naive Bayes variants used in text classification (where the data are typically represented as word vector counts, although tf-idf vectors are also known to work well in practice). The distribution is parametrized by vectors $\\theta_y = (\\theta_{y1},\\ldots,\\theta_{yn})$ for each class $y$, where $n$ is the number of features (in text classification, the size of the vocabulary) and $\\theta_{yi}$ is the probability $P(x_i \\mid y)$ of feature $i$ appearing in a sample belonging to class $y$.\n",
    "\n",
    "The parameters $\\theta_y$ is estimated by a smoothed version of maximum likelihood, i.e. relative frequency counting:\n",
    "\n",
    "$$ \\hat{\\theta}_{yi} = \\frac{ N_{yi} + \\alpha}{N_y + \\alpha n} $$\n",
    "\n",
    "where $N_{yi} = \\sum_{x \\in T} x_i$ is the number of times feature $i$ appears in a sample of class $y$ in the training set $T$, and $N_{y} = \\sum_{i=1}^{|T|} N_{yi}$ is the total count of all features for class $y$.\n",
    "\n",
    "The smoothing priors $\\alpha \\ge 0$ accounts for features not present in the learning samples and prevents zero probabilities in further computations. Setting $\\alpha = 1$ is called Laplace smoothing, while $\\alpha < 1$ is called Lidstone smoothing."
   ]
  },
  {
   "cell_type": "markdown",
   "metadata": {
    "slideshow": {
     "slide_type": "-"
    }
   },
   "source": [
    "Let's now decompose what we just did to understand and customize each step."
   ]
  },
  {
   "cell_type": "markdown",
   "metadata": {
    "slideshow": {
     "slide_type": "slide"
    }
   },
   "source": [
    "### Loading the Dataset"
   ]
  },
  {
   "cell_type": "markdown",
   "metadata": {
    "slideshow": {
     "slide_type": "-"
    }
   },
   "source": [
    "Let's explore the dataset loading utility without passing a list of categories: in this case we load the full 20 newsgroups dataset in memory. The source website for the 20 newsgroups already provides a date-based train / test split that is made available using the `subset` keyword argument: "
   ]
  },
  {
   "cell_type": "code",
   "execution_count": 5,
   "metadata": {
    "collapsed": false,
    "slideshow": {
     "slide_type": "-"
    }
   },
   "outputs": [
    {
     "name": "stderr",
     "output_type": "stream",
     "text": [
      "'ls' is not recognized as an internal or external command,\n",
      "operable program or batch file.\n"
     ]
    }
   ],
   "source": [
    "!ls datasets/"
   ]
  },
  {
   "cell_type": "code",
   "execution_count": 6,
   "metadata": {
    "collapsed": false,
    "slideshow": {
     "slide_type": "fragment"
    }
   },
   "outputs": [
    {
     "name": "stderr",
     "output_type": "stream",
     "text": [
      "Invalid switch - \"20news-bydate-train\".\n"
     ]
    }
   ],
   "source": [
    "ls -lh datasets/20news-bydate-train"
   ]
  },
  {
   "cell_type": "code",
   "execution_count": 7,
   "metadata": {
    "collapsed": false,
    "slideshow": {
     "slide_type": "subslide"
    }
   },
   "outputs": [
    {
     "name": "stderr",
     "output_type": "stream",
     "text": [
      "'head' is not recognized as an internal or external command,\n",
      "operable program or batch file.\n"
     ]
    }
   ],
   "source": [
    "ls -lh datasets/20news-bydate-train/alt.atheism/ | head -n27"
   ]
  },
  {
   "cell_type": "markdown",
   "metadata": {
    "slideshow": {
     "slide_type": "subslide"
    }
   },
   "source": [
    "The `load_files` function can load text files from a 2 levels folder structure assuming folder names represent categories:"
   ]
  },
  {
   "cell_type": "code",
   "execution_count": 8,
   "metadata": {
    "collapsed": false,
    "slideshow": {
     "slide_type": "skip"
    }
   },
   "outputs": [
    {
     "name": "stdout",
     "output_type": "stream",
     "text": [
      "Load text files with categories as subfolder names.\n",
      "\n",
      "    Individual samples are assumed to be files stored a two levels folder\n",
      "    structure such as the following:\n",
      "\n",
      "        container_folder/\n",
      "            category_1_folder/\n",
      "                file_1.txt\n",
      "                file_2.txt\n",
      "                ...\n",
      "                file_42.txt\n",
      "            category_2_folder/\n",
      "                file_43.txt\n",
      "                file_44.txt\n",
      "                ...\n",
      "\n",
      "    The folder names are used has supervised signal label names. The\n",
      "    individual file names are not important.\n",
      "\n",
      "    This function does not try to extract features into a numpy array or\n",
      "    scipy sparse matrix. In addition, if load_content is false it\n",
      "    does not try to load the files in memory.\n",
      "\n",
      "    To use text files in a scikit-learn classification or clustering\n",
      "    algorithm, you will need to use the `sklearn.feature_extraction.text`\n",
      "    module to build a feature extraction transformer that suits your\n",
      "    problem.\n",
      "\n",
      "    If you set load_content=True, you should also specify the encoding of\n",
      "    the text using the 'encoding' parameter. For many modern text files,\n",
      "    'utf-8' will be the correct encoding. If you leave encoding equal to None,\n",
      "    then the content will be made of bytes instead of Unicode, and you will\n",
      "    not be able to use most functions in `sklearn.feature_extraction.text`.\n",
      "\n",
      "    Similar feature extractors should be built for other kind of unstructured\n",
      "    data input such as images, audio, video, ...\n",
      "\n",
      "    Parameters\n",
      "    ----------\n",
      "    container_path : string or unicode\n",
      "        Path to the main folder holding one subfolder per category\n",
      "\n",
      "    description: string or unicode, optional (default=None)\n",
      "        A paragraph describing the characteristic of the dataset: its source,\n",
      "        reference, etc.\n",
      "\n",
      "    categories : A collection of strings or None, optional (default=None)\n",
      "        If None (default), load all the categories.\n",
      "        If not None, list of category names to load (other categories ignored).\n",
      "\n",
      "    load_content : boolean, optional (default=True)\n",
      "        Whether to load or not the content of the different files. If\n",
      "        true a 'data' attribute containing the text information is present\n",
      "        in the data structure returned. If not, a filenames attribute\n",
      "        gives the path to the files.\n",
      "\n",
      "    encoding : string or None (default is None)\n",
      "        If None, do not try to decode the content of the files (e.g. for\n",
      "        images or other non-text content).\n",
      "        If not None, encoding to use to decode text files to Unicode if\n",
      "        load_content is True.\n",
      "\n",
      "    decode_error: {'strict', 'ignore', 'replace'}, optional\n",
      "        Instruction on what to do if a byte sequence is given to analyze that\n",
      "        contains characters not of the given `encoding`. Passed as keyword\n",
      "        argument 'errors' to bytes.decode.\n",
      "\n",
      "    shuffle : bool, optional (default=True)\n",
      "        Whether or not to shuffle the data: might be important for models that\n",
      "        make the assumption that the samples are independent and identically\n",
      "        distributed (i.i.d.), such as stochastic gradient descent.\n",
      "\n",
      "    random_state : int, RandomState instance or None, optional (default=0)\n",
      "        If int, random_state is the seed used by the random number generator;\n",
      "        If RandomState instance, random_state is the random number generator;\n",
      "        If None, the random number generator is the RandomState instance used\n",
      "        by `np.random`.\n",
      "\n",
      "    Returns\n",
      "    -------\n",
      "    data : Bunch\n",
      "        Dictionary-like object, the interesting attributes are: either\n",
      "        data, the raw text data to learn, or 'filenames', the files\n",
      "        holding it, 'target', the classification labels (integer index),\n",
      "        'target_names', the meaning of the labels, and 'DESCR', the full\n",
      "        description of the dataset.\n",
      "    \n"
     ]
    }
   ],
   "source": [
    "print(load_files.__doc__)"
   ]
  },
  {
   "cell_type": "code",
   "execution_count": 9,
   "metadata": {
    "collapsed": false,
    "slideshow": {
     "slide_type": "-"
    }
   },
   "outputs": [
    {
     "ename": "KeyboardInterrupt",
     "evalue": "",
     "output_type": "error",
     "traceback": [
      "\u001b[1;31m---------------------------------------------------------------------------\u001b[0m",
      "\u001b[1;31mKeyboardInterrupt\u001b[0m                         Traceback (most recent call last)",
      "\u001b[1;32m<ipython-input-9-3e2e7db140e0>\u001b[0m in \u001b[0;36m<module>\u001b[1;34m()\u001b[0m\n\u001b[0;32m      1\u001b[0m all_twenty_train = load_files('datasets/20news-bydate-train/',\n\u001b[1;32m----> 2\u001b[1;33m   encoding='latin-1', random_state=42)\n\u001b[0m\u001b[0;32m      3\u001b[0m all_twenty_test = load_files('datasets/20news-bydate-test/',\n\u001b[0;32m      4\u001b[0m     encoding='latin-1', random_state=42)\n",
      "\u001b[1;32mC:\\Users\\dfeng\\AppData\\Local\\Continuum\\Anaconda\\lib\\site-packages\\sklearn\\datasets\\base.pyc\u001b[0m in \u001b[0;36mload_files\u001b[1;34m(container_path, description, categories, load_content, shuffle, encoding, charset, charset_error, decode_error, random_state)\u001b[0m\n\u001b[0;32m    199\u001b[0m \u001b[1;33m\u001b[0m\u001b[0m\n\u001b[0;32m    200\u001b[0m     \u001b[1;32mif\u001b[0m \u001b[0mload_content\u001b[0m\u001b[1;33m:\u001b[0m\u001b[1;33m\u001b[0m\u001b[0m\n\u001b[1;32m--> 201\u001b[1;33m         \u001b[0mdata\u001b[0m \u001b[1;33m=\u001b[0m \u001b[1;33m[\u001b[0m\u001b[0mopen\u001b[0m\u001b[1;33m(\u001b[0m\u001b[0mfilename\u001b[0m\u001b[1;33m,\u001b[0m \u001b[1;34m'rb'\u001b[0m\u001b[1;33m)\u001b[0m\u001b[1;33m.\u001b[0m\u001b[0mread\u001b[0m\u001b[1;33m(\u001b[0m\u001b[1;33m)\u001b[0m \u001b[1;32mfor\u001b[0m \u001b[0mfilename\u001b[0m \u001b[1;32min\u001b[0m \u001b[0mfilenames\u001b[0m\u001b[1;33m]\u001b[0m\u001b[1;33m\u001b[0m\u001b[0m\n\u001b[0m\u001b[0;32m    202\u001b[0m         \u001b[1;32mif\u001b[0m \u001b[0mencoding\u001b[0m \u001b[1;32mis\u001b[0m \u001b[1;32mnot\u001b[0m \u001b[0mNone\u001b[0m\u001b[1;33m:\u001b[0m\u001b[1;33m\u001b[0m\u001b[0m\n\u001b[0;32m    203\u001b[0m             \u001b[0mdata\u001b[0m \u001b[1;33m=\u001b[0m \u001b[1;33m[\u001b[0m\u001b[0md\u001b[0m\u001b[1;33m.\u001b[0m\u001b[0mdecode\u001b[0m\u001b[1;33m(\u001b[0m\u001b[0mencoding\u001b[0m\u001b[1;33m,\u001b[0m \u001b[0mdecode_error\u001b[0m\u001b[1;33m)\u001b[0m \u001b[1;32mfor\u001b[0m \u001b[0md\u001b[0m \u001b[1;32min\u001b[0m \u001b[0mdata\u001b[0m\u001b[1;33m]\u001b[0m\u001b[1;33m\u001b[0m\u001b[0m\n",
      "\u001b[1;31mKeyboardInterrupt\u001b[0m: "
     ]
    }
   ],
   "source": [
    "all_twenty_train = load_files('datasets/20news-bydate-train/',\n",
    "  encoding='latin-1', random_state=42)\n",
    "all_twenty_test = load_files('datasets/20news-bydate-test/',\n",
    "    encoding='latin-1', random_state=42)"
   ]
  },
  {
   "cell_type": "code",
   "execution_count": null,
   "metadata": {
    "collapsed": false
   },
   "outputs": [],
   "source": [
    "all_twenty_train.keys()\n",
    "all_twenty_train.filenames"
   ]
  },
  {
   "cell_type": "code",
   "execution_count": null,
   "metadata": {
    "collapsed": false,
    "slideshow": {
     "slide_type": "subslide"
    }
   },
   "outputs": [],
   "source": [
    "all_target_names = all_twenty_train.target_names\n",
    "all_target_names"
   ]
  },
  {
   "cell_type": "code",
   "execution_count": null,
   "metadata": {
    "collapsed": false,
    "slideshow": {
     "slide_type": "subslide"
    }
   },
   "outputs": [],
   "source": [
    "all_twenty_train.target"
   ]
  },
  {
   "cell_type": "code",
   "execution_count": null,
   "metadata": {
    "collapsed": false,
    "slideshow": {
     "slide_type": "fragment"
    }
   },
   "outputs": [],
   "source": [
    "all_twenty_train.target.shape"
   ]
  },
  {
   "cell_type": "code",
   "execution_count": null,
   "metadata": {
    "collapsed": false,
    "slideshow": {
     "slide_type": "fragment"
    }
   },
   "outputs": [],
   "source": [
    "all_twenty_test.target.shape"
   ]
  },
  {
   "cell_type": "code",
   "execution_count": null,
   "metadata": {
    "collapsed": false,
    "slideshow": {
     "slide_type": "fragment"
    }
   },
   "outputs": [],
   "source": [
    "len(all_twenty_train.data)"
   ]
  },
  {
   "cell_type": "code",
   "execution_count": null,
   "metadata": {
    "collapsed": false,
    "slideshow": {
     "slide_type": "fragment"
    }
   },
   "outputs": [],
   "source": [
    "type(all_twenty_train.data[0])"
   ]
  },
  {
   "cell_type": "code",
   "execution_count": null,
   "metadata": {
    "collapsed": false,
    "slideshow": {
     "slide_type": "subslide"
    }
   },
   "outputs": [],
   "source": [
    "def display_sample(i, dataset):\n",
    "    print(\"Class name: \" + dataset.target_names[dataset.target[i]])\n",
    "    print(\"Text content:\\n\")\n",
    "    print(dataset.data[i])"
   ]
  },
  {
   "cell_type": "code",
   "execution_count": null,
   "metadata": {
    "collapsed": false,
    "slideshow": {
     "slide_type": "-"
    }
   },
   "outputs": [],
   "source": [
    "display_sample(0, all_twenty_train)"
   ]
  },
  {
   "cell_type": "code",
   "execution_count": null,
   "metadata": {
    "collapsed": false,
    "slideshow": {
     "slide_type": "subslide"
    }
   },
   "outputs": [],
   "source": [
    "display_sample(1, all_twenty_train)"
   ]
  },
  {
   "cell_type": "markdown",
   "metadata": {
    "slideshow": {
     "slide_type": "subslide"
    }
   },
   "source": [
    "Let's compute the (uncompressed, in-memory) size of the training and test sets in MB assuming an 8-bit encoding (in this case, all chars can be encoded using the latin-1 charset)."
   ]
  },
  {
   "cell_type": "code",
   "execution_count": null,
   "metadata": {
    "collapsed": false,
    "slideshow": {
     "slide_type": "-"
    }
   },
   "outputs": [],
   "source": [
    "def text_size(text, charset='iso-8859-1'):\n",
    "    return len(text.encode(charset)) * 8 * 1e-6\n",
    "\n",
    "train_size_mb = sum(text_size(text) for text in all_twenty_train.data) \n",
    "test_size_mb = sum(text_size(text) for text in all_twenty_test.data)\n",
    "\n",
    "print(\"Training set size: {0} MB\".format(int(train_size_mb)))\n",
    "print(\"Testing set size: {0} MB\".format(int(test_size_mb)))"
   ]
  },
  {
   "cell_type": "markdown",
   "metadata": {
    "slideshow": {
     "slide_type": "fragment"
    }
   },
   "source": [
    "If we only consider a small subset of the 4 categories selected from the initial example:"
   ]
  },
  {
   "cell_type": "code",
   "execution_count": null,
   "metadata": {
    "collapsed": false,
    "slideshow": {
     "slide_type": "fragment"
    }
   },
   "outputs": [],
   "source": [
    "train_small_size_mb = sum(text_size(text) for text in twenty_train_small.data) \n",
    "test_small_size_mb = sum(text_size(text) for text in twenty_test_small.data)\n",
    "\n",
    "print(\"Training set size: {0} MB\".format(int(train_small_size_mb)))\n",
    "print(\"Testing set size: {0} MB\".format(int(test_small_size_mb)))"
   ]
  },
  {
   "cell_type": "markdown",
   "metadata": {
    "slideshow": {
     "slide_type": "slide"
    }
   },
   "source": [
    "### Extracting Text Features"
   ]
  },
  {
   "cell_type": "markdown",
   "metadata": {},
   "source": [
    "* Terms that occur in only a few documents are often more valuable than ones that occur in many – inverse document frequency (${IDF}_j$)\n",
    "* The more often a term occurs in a document, the more likely it is to be important for that document – term frequency (${TF}_{ij}$)"
   ]
  },
  {
   "cell_type": "code",
   "execution_count": null,
   "metadata": {
    "collapsed": false,
    "slideshow": {
     "slide_type": "subslide"
    }
   },
   "outputs": [],
   "source": [
    "from sklearn.feature_extraction.text import TfidfVectorizer\n",
    "\n",
    "TfidfVectorizer()"
   ]
  },
  {
   "cell_type": "code",
   "execution_count": null,
   "metadata": {
    "collapsed": false,
    "slideshow": {
     "slide_type": "fragment"
    }
   },
   "outputs": [],
   "source": [
    "vectorizer = TfidfVectorizer(min_df=1)\n",
    "\n",
    "%time X_train_small = vectorizer.fit_transform(twenty_train_small.data)"
   ]
  },
  {
   "cell_type": "markdown",
   "metadata": {
    "slideshow": {
     "slide_type": "subslide"
    }
   },
   "source": [
    "The results is not a `numpy.array` but instead a `scipy.sparse` matrix. _(Similar to the DocumentTermMatrix in R's `tm` library.)_ This datastructure is quite similar to a 2D numpy array but it does not store the zeros."
   ]
  },
  {
   "cell_type": "code",
   "execution_count": null,
   "metadata": {
    "collapsed": false,
    "slideshow": {
     "slide_type": "-"
    }
   },
   "outputs": [],
   "source": [
    "X_train_small"
   ]
  },
  {
   "cell_type": "markdown",
   "metadata": {
    "slideshow": {
     "slide_type": "-"
    }
   },
   "source": [
    "scipy.sparse matrices also have a shape attribute to access the dimensions:"
   ]
  },
  {
   "cell_type": "code",
   "execution_count": null,
   "metadata": {
    "collapsed": false,
    "slideshow": {
     "slide_type": "-"
    }
   },
   "outputs": [],
   "source": [
    "n_samples, n_features = X_train_small.shape"
   ]
  },
  {
   "cell_type": "markdown",
   "metadata": {
    "slideshow": {
     "slide_type": "-"
    }
   },
   "source": [
    "This dataset has around 2000 samples (the rows of the data matrix):"
   ]
  },
  {
   "cell_type": "code",
   "execution_count": null,
   "metadata": {
    "collapsed": false,
    "slideshow": {
     "slide_type": "-"
    }
   },
   "outputs": [],
   "source": [
    "n_samples"
   ]
  },
  {
   "cell_type": "markdown",
   "metadata": {
    "slideshow": {
     "slide_type": "-"
    }
   },
   "source": [
    "This is the same value as the number of strings in the original list of text documents:"
   ]
  },
  {
   "cell_type": "code",
   "execution_count": null,
   "metadata": {
    "collapsed": false,
    "slideshow": {
     "slide_type": "-"
    }
   },
   "outputs": [],
   "source": [
    "len(twenty_train_small.data)"
   ]
  },
  {
   "cell_type": "markdown",
   "metadata": {
    "slideshow": {
     "slide_type": "subslide"
    }
   },
   "source": [
    "The columns represent the individual token occurrences:"
   ]
  },
  {
   "cell_type": "code",
   "execution_count": null,
   "metadata": {
    "collapsed": false,
    "slideshow": {
     "slide_type": "-"
    }
   },
   "outputs": [],
   "source": [
    "n_features"
   ]
  },
  {
   "cell_type": "markdown",
   "metadata": {
    "slideshow": {
     "slide_type": "-"
    }
   },
   "source": [
    "This number is the size of the vocabulary of the model extracted during fit in a Python dictionary:"
   ]
  },
  {
   "cell_type": "code",
   "execution_count": null,
   "metadata": {
    "collapsed": false,
    "slideshow": {
     "slide_type": "-"
    }
   },
   "outputs": [],
   "source": [
    "type(vectorizer.vocabulary_)"
   ]
  },
  {
   "cell_type": "code",
   "execution_count": null,
   "metadata": {
    "collapsed": false,
    "slideshow": {
     "slide_type": "-"
    }
   },
   "outputs": [],
   "source": [
    "len(vectorizer.vocabulary_)"
   ]
  },
  {
   "cell_type": "markdown",
   "metadata": {
    "slideshow": {
     "slide_type": "subslide"
    }
   },
   "source": [
    "The keys of the `vocabulary_` attribute are also called feature names and can be accessed as a list of strings."
   ]
  },
  {
   "cell_type": "code",
   "execution_count": null,
   "metadata": {
    "collapsed": false,
    "slideshow": {
     "slide_type": "-"
    }
   },
   "outputs": [],
   "source": [
    "len(vectorizer.get_feature_names())"
   ]
  },
  {
   "cell_type": "markdown",
   "metadata": {
    "slideshow": {
     "slide_type": "fragment"
    }
   },
   "source": [
    "Here are the first 10 elements (sorted in lexicographical order):"
   ]
  },
  {
   "cell_type": "code",
   "execution_count": null,
   "metadata": {
    "collapsed": false,
    "slideshow": {
     "slide_type": "fragment"
    }
   },
   "outputs": [],
   "source": [
    "vectorizer.get_feature_names()[:10]"
   ]
  },
  {
   "cell_type": "markdown",
   "metadata": {
    "slideshow": {
     "slide_type": "subslide"
    }
   },
   "source": [
    "Let's have a look at the features from the middle:"
   ]
  },
  {
   "cell_type": "code",
   "execution_count": null,
   "metadata": {
    "collapsed": false,
    "slideshow": {
     "slide_type": "fragment"
    }
   },
   "outputs": [],
   "source": [
    "vectorizer.get_feature_names()[n_features / 2:n_features / 2 + 10]"
   ]
  },
  {
   "cell_type": "markdown",
   "metadata": {
    "slideshow": {
     "slide_type": "slide"
    }
   },
   "source": [
    "### Training a Classifier on Text Features"
   ]
  },
  {
   "cell_type": "markdown",
   "metadata": {
    "slideshow": {
     "slide_type": "subslide"
    }
   },
   "source": [
    "We have previously extracted a vector representation of the training corpus and put it into a variable name `X_train_small`. To train a supervised model, in this case a classifier, we also need "
   ]
  },
  {
   "cell_type": "code",
   "execution_count": null,
   "metadata": {
    "collapsed": false,
    "slideshow": {
     "slide_type": "-"
    }
   },
   "outputs": [],
   "source": [
    "y_train_small = twenty_train_small.target"
   ]
  },
  {
   "cell_type": "code",
   "execution_count": null,
   "metadata": {
    "collapsed": false,
    "slideshow": {
     "slide_type": "-"
    }
   },
   "outputs": [],
   "source": [
    "y_train_small.shape"
   ]
  },
  {
   "cell_type": "markdown",
   "metadata": {
    "slideshow": {
     "slide_type": "fragment"
    }
   },
   "source": [
    "We can shape that we have the same number of samples for the input data and the labels:"
   ]
  },
  {
   "cell_type": "code",
   "execution_count": null,
   "metadata": {
    "collapsed": false,
    "slideshow": {
     "slide_type": "fragment"
    }
   },
   "outputs": [],
   "source": [
    "X_train_small.shape[0] == y_train_small.shape[0]"
   ]
  },
  {
   "cell_type": "markdown",
   "metadata": {
    "slideshow": {
     "slide_type": "subslide"
    }
   },
   "source": [
    "We can now train a classifier, for instance a Multinomial Naive Bayesian classifier:"
   ]
  },
  {
   "cell_type": "code",
   "execution_count": null,
   "metadata": {
    "collapsed": false,
    "slideshow": {
     "slide_type": "-"
    }
   },
   "outputs": [],
   "source": [
    "from sklearn.naive_bayes import MultinomialNB\n",
    "\n",
    "clf = MultinomialNB(alpha=0.1)\n",
    "clf"
   ]
  },
  {
   "cell_type": "code",
   "execution_count": null,
   "metadata": {
    "collapsed": false,
    "slideshow": {
     "slide_type": "-"
    }
   },
   "outputs": [],
   "source": [
    "clf.fit(X_train_small, y_train_small)"
   ]
  },
  {
   "cell_type": "markdown",
   "metadata": {
    "slideshow": {
     "slide_type": "subslide"
    }
   },
   "source": [
    "We can now evaluate the classifier on the testing set. Let's first use the builtin score function, which is the rate of correct classification in the test set:"
   ]
  },
  {
   "cell_type": "code",
   "execution_count": null,
   "metadata": {
    "collapsed": false,
    "slideshow": {
     "slide_type": "-"
    }
   },
   "outputs": [],
   "source": [
    "X_test_small = vectorizer.transform(twenty_test_small.data)\n",
    "y_test_small = twenty_test_small.target"
   ]
  },
  {
   "cell_type": "code",
   "execution_count": null,
   "metadata": {
    "collapsed": false,
    "slideshow": {
     "slide_type": "-"
    }
   },
   "outputs": [],
   "source": [
    "X_test_small.shape"
   ]
  },
  {
   "cell_type": "code",
   "execution_count": null,
   "metadata": {
    "collapsed": false,
    "slideshow": {
     "slide_type": "-"
    }
   },
   "outputs": [],
   "source": [
    "y_test_small.shape"
   ]
  },
  {
   "cell_type": "code",
   "execution_count": null,
   "metadata": {
    "collapsed": false,
    "slideshow": {
     "slide_type": "-"
    }
   },
   "outputs": [],
   "source": [
    "clf.score(X_test_small, y_test_small)"
   ]
  },
  {
   "cell_type": "markdown",
   "metadata": {
    "slideshow": {
     "slide_type": "notes"
    }
   },
   "source": [
    "We can also compute the score on the train set and observe that the model is both overfitting and underfitting a bit at the same time:"
   ]
  },
  {
   "cell_type": "code",
   "execution_count": null,
   "metadata": {
    "collapsed": false,
    "slideshow": {
     "slide_type": "fragment"
    }
   },
   "outputs": [],
   "source": [
    "clf.score(X_train_small, y_train_small)"
   ]
  },
  {
   "cell_type": "markdown",
   "metadata": {},
   "source": [
    "### Alternative evaluation metrics"
   ]
  },
  {
   "cell_type": "markdown",
   "metadata": {},
   "source": [
    "Naïve Bayes is a probabilistic models: instead of just predicting a binary outcome (alt.atheism or talk.religion) given the input features it can also estimates the posterior probability of the outcome given the input features using the `predict_proba` method:"
   ]
  },
  {
   "cell_type": "code",
   "execution_count": null,
   "metadata": {
    "collapsed": false
   },
   "outputs": [],
   "source": [
    "target_predicted_proba = clf.predict_proba(X_test_small)\n",
    "target_predicted_proba[:5]\n",
    "pd.DataFrame(target_predicted_proba[:5], columns = twenty_train_small.target_names)"
   ]
  },
  {
   "cell_type": "markdown",
   "metadata": {},
   "source": [
    "By default the decision threshold is 0.5: if we vary the decision threshold from 0 to 1 we could generate a family of binary classifier models that address all the possible trade offs between false positive and false negative prediction errors.\n",
    "\n",
    "We can summarize the performance of a binary classifier for all the possible thresholds by plotting the ROC curves and quantifying the area under the curve (AUC):"
   ]
  },
  {
   "cell_type": "code",
   "execution_count": null,
   "metadata": {
    "collapsed": false
   },
   "outputs": [],
   "source": [
    "def plot_roc_curve(target_test, target_predicted_proba, categories):\n",
    "    from sklearn.metrics import roc_curve\n",
    "    from sklearn.metrics import auc\n",
    "    \n",
    "    for pos_label, category in enumerate(categories):\n",
    "        fpr, tpr, thresholds = roc_curve(target_test, target_predicted_proba[:, pos_label], pos_label)\n",
    "        roc_auc = auc(fpr, tpr)\n",
    "        plt.plot(fpr, tpr, label='{} ROC curve (area = {:.3f})'.format(category, roc_auc))\n",
    "    \n",
    "    plt.plot([0, 1], [0, 1], 'k--')  # random predictions curve\n",
    "    plt.xlim([0.0, 1.0])\n",
    "    plt.ylim([0.0, 1.0])\n",
    "    plt.xlabel('False Positive Rate or (1 - Specifity)')\n",
    "    plt.ylabel('True Positive Rate or (Sensitivity)')\n",
    "    plt.title('Receiver Operating Characteristic')\n",
    "    plt.legend(loc=\"lower right\")"
   ]
  },
  {
   "cell_type": "code",
   "execution_count": null,
   "metadata": {
    "collapsed": false
   },
   "outputs": [],
   "source": [
    "plot_roc_curve(y_test_small, target_predicted_proba, twenty_test_small.target_names)"
   ]
  },
  {
   "cell_type": "markdown",
   "metadata": {},
   "source": [
    "Here the area under ROC curve ranges between .963 and .974. The ROC-AUC score of a random model is expected to 0.5 on average while the accuracy score of a random model depends on the class imbalance of the data. ROC-AUC can be seen as a way to callibrate the predictive accuracy of a model against class imbalance."
   ]
  },
  {
   "cell_type": "markdown",
   "metadata": {
    "slideshow": {
     "slide_type": "slide"
    }
   },
   "source": [
    "### Introspecting the Behavior of the Text Vectorizer"
   ]
  },
  {
   "cell_type": "markdown",
   "metadata": {
    "slideshow": {
     "slide_type": "subslide"
    }
   },
   "source": [
    "The text vectorizer has many parameters to customize it's behavior, in particular how it extracts tokens:"
   ]
  },
  {
   "cell_type": "code",
   "execution_count": null,
   "metadata": {
    "collapsed": false,
    "slideshow": {
     "slide_type": "-"
    }
   },
   "outputs": [],
   "source": [
    "TfidfVectorizer()"
   ]
  },
  {
   "cell_type": "code",
   "execution_count": null,
   "metadata": {
    "collapsed": false,
    "slideshow": {
     "slide_type": "skip"
    }
   },
   "outputs": [],
   "source": [
    "print(TfidfVectorizer.__doc__)"
   ]
  },
  {
   "cell_type": "markdown",
   "metadata": {
    "slideshow": {
     "slide_type": "subslide"
    }
   },
   "source": [
    "The easiest way to introspect what the vectorizer is actually doing for a given test of parameters is call the `vectorizer.build_analyzer()` to get an instance of the text analyzer it uses to process the text:"
   ]
  },
  {
   "cell_type": "code",
   "execution_count": null,
   "metadata": {
    "collapsed": false,
    "slideshow": {
     "slide_type": "-"
    }
   },
   "outputs": [],
   "source": [
    "analyzer = TfidfVectorizer().build_analyzer()\n",
    "analyzer(\"I love scikit-learn: this is a cool Python lib!\")"
   ]
  },
  {
   "cell_type": "markdown",
   "metadata": {
    "slideshow": {
     "slide_type": "fragment"
    }
   },
   "source": [
    "You can notice that all the tokens are lowercase, that the single letter word \"I\" was dropped, and that hyphenation is used. Let's change some of that default behavior:"
   ]
  },
  {
   "cell_type": "code",
   "execution_count": null,
   "metadata": {
    "collapsed": false,
    "slideshow": {
     "slide_type": "subslide"
    }
   },
   "outputs": [],
   "source": [
    "analyzer = TfidfVectorizer(\n",
    "    preprocessor=lambda text: text,  # disable lowercasing\n",
    "    token_pattern=ur'(?u)\\b[\\w-]+\\b', # treat hyphen as a letter\n",
    "                                      # do not exclude single letter tokens\n",
    ").build_analyzer()\n",
    "\n",
    "analyzer(\"I love scikit-learn: this is a cool Python lib!\")"
   ]
  },
  {
   "cell_type": "markdown",
   "metadata": {
    "slideshow": {
     "slide_type": "subslide"
    }
   },
   "source": [
    "The analyzer name comes from the Lucene parlance: it wraps the sequential application of:\n",
    "\n",
    "- text preprocessing (processing the text documents as a whole, e.g. lowercasing)\n",
    "- text tokenization (splitting the document into a sequence of tokens)\n",
    "- token filtering and recombination (e.g. n-grams extraction, see later)\n",
    "\n",
    "The analyzer system of scikit-learn is much more basic than lucene's though."
   ]
  },
  {
   "cell_type": "markdown",
   "metadata": {},
   "source": [
    "**Exercise**:\n",
    "\n",
    "- Write a pre-processor callable (e.g. a python function) to remove the headers of the text a newsgroup post.\n",
    "- Vectorize the data again and measure the impact on performance of removing the header info from the dataset.\n",
    "- Do you expect the performance of the model to improve or decrease? What is the score of a uniform random classifier on the same dataset?\n",
    "\n",
    "Hint: the `TfidfVectorizer` class can accept python functions to customize the `preprocessor`, `tokenizer` or `analyzer` stages of the vectorizer.\n",
    "    \n",
    "- type `TfidfVectorizer()` alone in a cell to see the default value of the parameters\n",
    "\n",
    "- type `TfidfVectorizer.__doc__` to print the constructor parameters doc or `?` suffix operator on a any Python class or method to read the docstring or even the `jQuery203031440189930439577_1424627223304` operator to read the source code."
   ]
  },
  {
   "cell_type": "markdown",
   "metadata": {},
   "source": [
    "**Solution**:"
   ]
  },
  {
   "cell_type": "code",
   "execution_count": null,
   "metadata": {
    "collapsed": false
   },
   "outputs": [],
   "source": []
  },
  {
   "cell_type": "markdown",
   "metadata": {},
   "source": [
    "Let's write a Python function to strip the post headers and only retain the body (text after the first blank line):"
   ]
  },
  {
   "cell_type": "code",
   "execution_count": null,
   "metadata": {
    "collapsed": false,
    "slideshow": {
     "slide_type": "-"
    }
   },
   "outputs": [],
   "source": [
    "def strip_headers(post):\n",
    "    \"\"\"Find the first blank line and drop the headers to keep the body\"\"\"\n",
    "    if '\\n\\n' in post:\n",
    "        headers, body = post.split('\\n\\n', 1)\n",
    "        return body.lower()\n",
    "    else:\n",
    "        # Unexpected post inner-structure, be conservative\n",
    "        # and keep everything\n",
    "        return post.lower()"
   ]
  },
  {
   "cell_type": "markdown",
   "metadata": {},
   "source": [
    "Let's try it on the first post. Here is the original post content, including the headers:"
   ]
  },
  {
   "cell_type": "code",
   "execution_count": null,
   "metadata": {
    "collapsed": false
   },
   "outputs": [],
   "source": [
    "original_text = all_twenty_train.data[0]\n",
    "print(original_text)"
   ]
  },
  {
   "cell_type": "markdown",
   "metadata": {},
   "source": [
    "Here is the result of applying our header stripping function:"
   ]
  },
  {
   "cell_type": "code",
   "execution_count": null,
   "metadata": {
    "collapsed": false
   },
   "outputs": [],
   "source": [
    "text_body = strip_headers(original_text)\n",
    "print(text_body)"
   ]
  },
  {
   "cell_type": "markdown",
   "metadata": {},
   "source": [
    "Let's plug our function in the vectorizer and retrain a naive Bayes classifier (as done initially):"
   ]
  },
  {
   "cell_type": "code",
   "execution_count": null,
   "metadata": {
    "collapsed": false
   },
   "outputs": [],
   "source": [
    "strip_vectorizer = TfidfVectorizer(preprocessor=strip_headers, min_df=2)\n",
    "X_train_small_stripped = strip_vectorizer.fit_transform(\n",
    "    twenty_train_small.data)\n",
    "\n",
    "y_train_small_stripped = twenty_train_small.target\n",
    "\n",
    "classifier = MultinomialNB().fit(\n",
    "  X_train_small_stripped, y_train_small_stripped)\n",
    "\n",
    "plt.hist()\n",
    "\n",
    "print(\"Training score: {0:.1f}%\".format(\n",
    "    classifier.score(X_train_small_stripped, y_train_small_stripped) * 100))\n",
    "\n",
    "X_test_small_stripped = strip_vectorizer.transform(twenty_test_small.data)\n",
    "y_test_small_stripped = twenty_test_small.target\n",
    "print(\"Testing score: {0:.1f}%\".format(\n",
    "    classifier.score(X_test_small_stripped, y_test_small_stripped) * 100))"
   ]
  },
  {
   "cell_type": "markdown",
   "metadata": {},
   "source": [
    "So indeed the header data is making the problem easier (cheating one could say) but naive Bayes classifier can still guess 80% of the time against 1 / 4 == 25% mean score for a random guessing on the small subset with 4 target categories."
   ]
  },
  {
   "cell_type": "markdown",
   "metadata": {
    "slideshow": {
     "slide_type": "slide"
    }
   },
   "source": [
    "## Model Selection of the Naive Bayes Classifier Parameter Alone"
   ]
  },
  {
   "cell_type": "markdown",
   "metadata": {
    "slideshow": {
     "slide_type": "subslide"
    }
   },
   "source": [
    "The `MultinomialNB` class is a good baseline classifier for text as it's fast and has few parameters to tweak:"
   ]
  },
  {
   "cell_type": "code",
   "execution_count": null,
   "metadata": {
    "collapsed": false,
    "slideshow": {
     "slide_type": "-"
    }
   },
   "outputs": [],
   "source": [
    "MultinomialNB()"
   ]
  },
  {
   "cell_type": "code",
   "execution_count": null,
   "metadata": {
    "collapsed": false,
    "slideshow": {
     "slide_type": "-"
    }
   },
   "outputs": [],
   "source": [
    "print(MultinomialNB.__doc__)"
   ]
  },
  {
   "cell_type": "markdown",
   "metadata": {
    "slideshow": {
     "slide_type": "subslide"
    }
   },
   "source": [
    "By reading the doc we can see that the `alpha` parameter is a good candidate to adjust the model for the bias (underfitting) vs variance (overfitting) trade-off."
   ]
  },
  {
   "cell_type": "markdown",
   "metadata": {
    "slideshow": {
     "slide_type": "slide"
    }
   },
   "source": [
    "## Setting Up a Pipeline for Cross Validation and Model Selection of the Feature Extraction parameters"
   ]
  },
  {
   "cell_type": "markdown",
   "metadata": {
    "slideshow": {
     "slide_type": "subslide"
    }
   },
   "source": [
    "The feature extraction class has many options to customize its behavior:"
   ]
  },
  {
   "cell_type": "code",
   "execution_count": null,
   "metadata": {
    "collapsed": false,
    "slideshow": {
     "slide_type": "-"
    }
   },
   "outputs": [],
   "source": [
    "print(TfidfVectorizer.__doc__)"
   ]
  },
  {
   "cell_type": "markdown",
   "metadata": {
    "slideshow": {
     "slide_type": "subslide"
    }
   },
   "source": [
    "In order to evaluate the impact of the parameters of the feature extraction one can chain a configured feature extraction and classifier:"
   ]
  },
  {
   "cell_type": "code",
   "execution_count": null,
   "metadata": {
    "collapsed": false,
    "slideshow": {
     "slide_type": "-"
    }
   },
   "outputs": [],
   "source": [
    "from sklearn.pipeline import Pipeline\n",
    "\n",
    "pipeline = Pipeline((\n",
    "    ('vec', TfidfVectorizer()),\n",
    "    ('clf', MultinomialNB()),\n",
    "))"
   ]
  },
  {
   "cell_type": "markdown",
   "metadata": {
    "slideshow": {
     "slide_type": "fragment"
    }
   },
   "source": [
    "Such a pipeline can then be cross validated or even grid searched:"
   ]
  },
  {
   "cell_type": "code",
   "execution_count": 58,
   "metadata": {
    "collapsed": false,
    "slideshow": {
     "slide_type": "fragment"
    }
   },
   "outputs": [
    {
     "data": {
      "text/plain": [
       "(0.87461982902109792, 0.0040823205976758233)"
      ]
     },
     "execution_count": 58,
     "metadata": {},
     "output_type": "execute_result"
    }
   ],
   "source": [
    "from sklearn.cross_validation import cross_val_score\n",
    "from scipy.stats import sem\n",
    "\n",
    "scores = cross_val_score(pipeline, twenty_train_small.data,\n",
    "                         twenty_train_small.target, cv=3, n_jobs=3)\n",
    "scores.mean(), sem(scores)"
   ]
  },
  {
   "cell_type": "code",
   "execution_count": null,
   "metadata": {
    "collapsed": true
   },
   "outputs": [],
   "source": []
  },
  {
   "cell_type": "markdown",
   "metadata": {
    "slideshow": {
     "slide_type": "subslide"
    }
   },
   "source": [
    "For the grid search, the parameters names are prefixed with the name of the pipeline step using \"__\" as a separator:"
   ]
  },
  {
   "cell_type": "code",
   "execution_count": 69,
   "metadata": {
    "collapsed": false,
    "slideshow": {
     "slide_type": "-"
    }
   },
   "outputs": [
    {
     "name": "stdout",
     "output_type": "stream",
     "text": [
      "Fitting 3 folds for each of 24 candidates, totalling 72 fits\n"
     ]
    },
    {
     "name": "stderr",
     "output_type": "stream",
     "text": [
      "[Parallel(n_jobs=3)]: Done   1 jobs       | elapsed:    4.7s\n",
      "[Parallel(n_jobs=3)]: Done  41 jobs       | elapsed:  2.0min\n",
      "[Parallel(n_jobs=3)]: Done  68 out of  72 | elapsed:  3.4min remaining:   11.8s\n",
      "[Parallel(n_jobs=3)]: Done  72 out of  72 | elapsed:  3.6min finished\n"
     ]
    },
    {
     "name": "stdout",
     "output_type": "stream",
     "text": [
      "[CV] vec__max_df=0.8, vec__ngram_range=(1, 1), clf__alpha=1e-05 ......\n",
      "[CV] vec__max_df=0.8, vec__ngram_range=(1, 1), clf__alpha=1e-05 ......\n",
      "[CV] vec__max_df=0.8, vec__ngram_range=(1, 1), clf__alpha=1e-05 ......\n",
      "[CV]  vec__max_df=0.8, vec__ngram_range=(1, 1), clf__alpha=1e-05 -   4.6s[CV]  vec__max_df=0.8, vec__ngram_range=(1, 1), clf__alpha=1e-05 -   4.5s[CV]  vec__max_df=0.8, vec__ngram_range=(1, 1), clf__alpha=1e-05 -   4.5s\n",
      "\n",
      "\n",
      "[CV] vec__max_df=0.8, vec__ngram_range=(1, 2), clf__alpha=1e-05 ......[CV] vec__max_df=0.8, vec__ngram_range=(1, 2), clf__alpha=1e-05 ......[CV] vec__max_df=0.8, vec__ngram_range=(1, 2), clf__alpha=1e-05 ......\n",
      "\n",
      "\n",
      "[CV]  vec__max_df=0.8, vec__ngram_range=(1, 2), clf__alpha=1e-05 -  11.3s[CV]  vec__max_df=0.8, vec__ngram_range=(1, 2), clf__alpha=1e-05 -  11.5s[CV]  vec__max_df=0.8, vec__ngram_range=(1, 2), clf__alpha=1e-05 -  11.6s\n",
      "\n",
      "\n",
      "[CV] vec__max_df=1.0, vec__ngram_range=(1, 1), clf__alpha=1e-05 ......[CV] vec__max_df=1.0, vec__ngram_range=(1, 1), clf__alpha=1e-05 ......[CV] vec__max_df=1.0, vec__ngram_range=(1, 1), clf__alpha=1e-05 ......\n",
      "\n",
      "\n",
      "[CV]  vec__max_df=1.0, vec__ngram_range=(1, 1), clf__alpha=1e-05 -   3.1s[CV]  vec__max_df=1.0, vec__ngram_range=(1, 1), clf__alpha=1e-05 -   3.2s[CV]  vec__max_df=1.0, vec__ngram_range=(1, 1), clf__alpha=1e-05 -   3.2s\n",
      "\n",
      "\n",
      "[CV] vec__max_df=1.0, vec__ngram_range=(1, 2), clf__alpha=1e-05 ......[CV] vec__max_df=1.0, vec__ngram_range=(1, 2), clf__alpha=1e-05 ......[CV] vec__max_df=1.0, vec__ngram_range=(1, 2), clf__alpha=1e-05 ......\n",
      "\n",
      "\n",
      "[CV]  vec__max_df=1.0, vec__ngram_range=(1, 2), clf__alpha=1e-05 -  13.6s[CV]  vec__max_df=1.0, vec__ngram_range=(1, 2), clf__alpha=1e-05 -  13.9s[CV]  vec__max_df=1.0, vec__ngram_range=(1, 2), clf__alpha=1e-05 -  14.1s\n",
      "\n",
      "\n",
      "[CV] vec__max_df=0.8, vec__ngram_range=(1, 1), clf__alpha=0.0001 .....[CV] vec__max_df=0.8, vec__ngram_range=(1, 1), clf__alpha=0.0001 .....[CV] vec__max_df=0.8, vec__ngram_range=(1, 1), clf__alpha=0.0001 .....\n",
      "\n",
      "\n",
      "[CV]  vec__max_df=0.8, vec__ngram_range=(1, 1), clf__alpha=0.0001 -   3.4s[CV]  vec__max_df=0.8, vec__ngram_range=(1, 1), clf__alpha=0.0001 -   3.4s[CV]  vec__max_df=0.8, vec__ngram_range=(1, 1), clf__alpha=0.0001 -   3.7s\n",
      "\n",
      "\n",
      "[CV] vec__max_df=0.8, vec__ngram_range=(1, 2), clf__alpha=0.0001 .....[CV] vec__max_df=0.8, vec__ngram_range=(1, 2), clf__alpha=0.0001 .....[CV] vec__max_df=0.8, vec__ngram_range=(1, 2), clf__alpha=0.0001 .....\n",
      "\n",
      "\n",
      "[CV]  vec__max_df=0.8, vec__ngram_range=(1, 2), clf__alpha=0.0001 -  14.2s[CV]  vec__max_df=0.8, vec__ngram_range=(1, 2), clf__alpha=0.0001 -  14.3s[CV]  vec__max_df=0.8, vec__ngram_range=(1, 2), clf__alpha=0.0001 -  14.5s\n",
      "\n",
      "\n",
      "[CV] vec__max_df=1.0, vec__ngram_range=(1, 1), clf__alpha=0.0001 .....[CV] vec__max_df=1.0, vec__ngram_range=(1, 1), clf__alpha=0.0001 .....[CV] vec__max_df=1.0, vec__ngram_range=(1, 1), clf__alpha=0.0001 .....\n",
      "\n",
      "\n",
      "[CV]  vec__max_df=1.0, vec__ngram_range=(1, 1), clf__alpha=0.0001 -   3.4s[CV]  vec__max_df=1.0, vec__ngram_range=(1, 1), clf__alpha=0.0001 -   3.2s[CV]  vec__max_df=1.0, vec__ngram_range=(1, 1), clf__alpha=0.0001 -   3.0s\n",
      "\n",
      "\n",
      "[CV] vec__max_df=1.0, vec__ngram_range=(1, 2), clf__alpha=0.0001 .....[CV] vec__max_df=1.0, vec__ngram_range=(1, 2), clf__alpha=0.0001 .....[CV] vec__max_df=1.0, vec__ngram_range=(1, 2), clf__alpha=0.0001 .....\n",
      "\n",
      "\n",
      "[CV]  vec__max_df=1.0, vec__ngram_range=(1, 2), clf__alpha=0.0001 -  13.5s[CV]  vec__max_df=1.0, vec__ngram_range=(1, 2), clf__alpha=0.0001 -  14.3s[CV]  vec__max_df=1.0, vec__ngram_range=(1, 2), clf__alpha=0.0001 -  14.7s\n",
      "\n",
      "\n",
      "[CV] vec__max_df=0.8, vec__ngram_range=(1, 1), clf__alpha=0.001 ......[CV] vec__max_df=0.8, vec__ngram_range=(1, 1), clf__alpha=0.001 ......[CV] vec__max_df=0.8, vec__ngram_range=(1, 1), clf__alpha=0.001 ......\n",
      "\n",
      "\n",
      "[CV]  vec__max_df=0.8, vec__ngram_range=(1, 1), clf__alpha=0.001 -   3.8s[CV]  vec__max_df=0.8, vec__ngram_range=(1, 1), clf__alpha=0.001 -   3.3s[CV]  vec__max_df=0.8, vec__ngram_range=(1, 1), clf__alpha=0.001 -   3.4s\n",
      "\n",
      "\n",
      "[CV] vec__max_df=0.8, vec__ngram_range=(1, 2), clf__alpha=0.001 ......[CV] vec__max_df=0.8, vec__ngram_range=(1, 2), clf__alpha=0.001 ......[CV] vec__max_df=0.8, vec__ngram_range=(1, 2), clf__alpha=0.001 ......\n",
      "\n",
      "\n",
      "[CV]  vec__max_df=0.8, vec__ngram_range=(1, 2), clf__alpha=0.001 -  11.0s[CV]  vec__max_df=0.8, vec__ngram_range=(1, 2), clf__alpha=0.001 -  11.8s[CV]  vec__max_df=0.8, vec__ngram_range=(1, 2), clf__alpha=0.001 -  11.7s\n",
      "\n",
      "\n",
      "[CV] vec__max_df=1.0, vec__ngram_range=(1, 1), clf__alpha=0.001 ......[CV] vec__max_df=1.0, vec__ngram_range=(1, 1), clf__alpha=0.001 ......[CV] vec__max_df=1.0, vec__ngram_range=(1, 1), clf__alpha=0.001 ......\n",
      "\n",
      "\n",
      "[CV]  vec__max_df=1.0, vec__ngram_range=(1, 1), clf__alpha=0.001 -   4.4s[CV]  vec__max_df=1.0, vec__ngram_range=(1, 1), clf__alpha=0.001 -   4.3s[CV]  vec__max_df=1.0, vec__ngram_range=(1, 1), clf__alpha=0.001 -   4.0s\n",
      "\n",
      "\n",
      "[CV] vec__max_df=1.0, vec__ngram_range=(1, 2), clf__alpha=0.001 ......[CV] vec__max_df=1.0, vec__ngram_range=(1, 2), clf__alpha=0.001 ......[CV] vec__max_df=1.0, vec__ngram_range=(1, 2), clf__alpha=0.001 ......\n",
      "\n",
      "\n",
      "[CV]  vec__max_df=1.0, vec__ngram_range=(1, 2), clf__alpha=0.001 -  12.0s[CV]  vec__max_df=1.0, vec__ngram_range=(1, 2), clf__alpha=0.001 -  12.0s[CV]  vec__max_df=1.0, vec__ngram_range=(1, 2), clf__alpha=0.001 -  12.2s\n",
      "\n",
      "\n",
      "[CV] vec__max_df=0.8, vec__ngram_range=(1, 1), clf__alpha=0.01 .......[CV] vec__max_df=0.8, vec__ngram_range=(1, 1), clf__alpha=0.01 .......[CV] vec__max_df=0.8, vec__ngram_range=(1, 1), clf__alpha=0.01 .......\n",
      "\n",
      "\n",
      "[CV]  vec__max_df=0.8, vec__ngram_range=(1, 1), clf__alpha=0.01 -   3.9s[CV]  vec__max_df=0.8, vec__ngram_range=(1, 1), clf__alpha=0.01 -   4.6s[CV]  vec__max_df=0.8, vec__ngram_range=(1, 1), clf__alpha=0.01 -   5.2s\n",
      "\n",
      "\n",
      "[CV] vec__max_df=0.8, vec__ngram_range=(1, 2), clf__alpha=0.01 .......[CV] vec__max_df=0.8, vec__ngram_range=(1, 2), clf__alpha=0.01 .......[CV] vec__max_df=0.8, vec__ngram_range=(1, 2), clf__alpha=0.01 .......\n",
      "\n",
      "\n",
      "[CV]  vec__max_df=0.8, vec__ngram_range=(1, 2), clf__alpha=0.01 -  13.7s[CV]  vec__max_df=0.8, vec__ngram_range=(1, 2), clf__alpha=0.01 -  12.7s[CV]  vec__max_df=0.8, vec__ngram_range=(1, 2), clf__alpha=0.01 -  12.4s\n",
      "\n",
      "\n",
      "[CV] vec__max_df=1.0, vec__ngram_range=(1, 1), clf__alpha=0.01 .......[CV] vec__max_df=1.0, vec__ngram_range=(1, 1), clf__alpha=0.01 .......[CV] vec__max_df=1.0, vec__ngram_range=(1, 1), clf__alpha=0.01 .......\n",
      "\n",
      "\n",
      "[CV]  vec__max_df=1.0, vec__ngram_range=(1, 1), clf__alpha=0.01 -   3.1s[CV]  vec__max_df=1.0, vec__ngram_range=(1, 1), clf__alpha=0.01 -   3.8s[CV]  vec__max_df=1.0, vec__ngram_range=(1, 1), clf__alpha=0.01 -   4.3s\n",
      "\n",
      "\n",
      "[CV] vec__max_df=1.0, vec__ngram_range=(1, 2), clf__alpha=0.01 .......[CV] vec__max_df=1.0, vec__ngram_range=(1, 2), clf__alpha=0.01 .......[CV] vec__max_df=1.0, vec__ngram_range=(1, 2), clf__alpha=0.01 .......\n",
      "\n",
      "\n",
      "[CV]  vec__max_df=1.0, vec__ngram_range=(1, 2), clf__alpha=0.01 -  15.5s[CV]  vec__max_df=1.0, vec__ngram_range=(1, 2), clf__alpha=0.01 -  15.4s[CV]  vec__max_df=1.0, vec__ngram_range=(1, 2), clf__alpha=0.01 -  14.9s\n",
      "\n",
      "\n",
      "[CV] vec__max_df=0.8, vec__ngram_range=(1, 1), clf__alpha=0.1 ........[CV] vec__max_df=0.8, vec__ngram_range=(1, 1), clf__alpha=0.1 ........[CV] vec__max_df=0.8, vec__ngram_range=(1, 1), clf__alpha=0.1 ........\n",
      "\n",
      "\n",
      "[CV]  vec__max_df=0.8, vec__ngram_range=(1, 1), clf__alpha=0.1 -   3.2s[CV]  vec__max_df=0.8, vec__ngram_range=(1, 1), clf__alpha=0.1 -   3.1s[CV]  vec__max_df=0.8, vec__ngram_range=(1, 1), clf__alpha=0.1 -   3.6s\n",
      "\n",
      "\n",
      "[CV] vec__max_df=0.8, vec__ngram_range=(1, 2), clf__alpha=0.1 ........[CV] vec__max_df=0.8, vec__ngram_range=(1, 2), clf__alpha=0.1 ........[CV] vec__max_df=0.8, vec__ngram_range=(1, 2), clf__alpha=0.1 ........\n",
      "\n",
      "\n",
      "[CV]  vec__max_df=0.8, vec__ngram_range=(1, 2), clf__alpha=0.1 -  15.3s[CV]  vec__max_df=0.8, vec__ngram_range=(1, 2), clf__alpha=0.1 -  15.3s[CV]  vec__max_df=0.8, vec__ngram_range=(1, 2), clf__alpha=0.1 -  15.7s\n",
      "\n",
      "\n",
      "[CV] vec__max_df=1.0, vec__ngram_range=(1, 1), clf__alpha=0.1 ........[CV] vec__max_df=1.0, vec__ngram_range=(1, 1), clf__alpha=0.1 ........[CV] vec__max_df=1.0, vec__ngram_range=(1, 2), clf__alpha=0.1 ........\n",
      "\n",
      "\n",
      "[CV]  vec__max_df=1.0, vec__ngram_range=(1, 1), clf__alpha=0.1 -   3.4s[CV]  vec__max_df=1.0, vec__ngram_range=(1, 1), clf__alpha=0.1 -   4.2s[CV]  vec__max_df=1.0, vec__ngram_range=(1, 2), clf__alpha=0.1 -  15.7s\n",
      "\n",
      "\n",
      "[CV] vec__max_df=1.0, vec__ngram_range=(1, 1), clf__alpha=0.1 ........[CV] vec__max_df=1.0, vec__ngram_range=(1, 2), clf__alpha=0.1 ........[CV] vec__max_df=0.8, vec__ngram_range=(1, 1), clf__alpha=1.0 ........\n",
      "\n",
      "\n",
      "[CV]  vec__max_df=1.0, vec__ngram_range=(1, 1), clf__alpha=0.1 -   3.9s[CV]  vec__max_df=1.0, vec__ngram_range=(1, 2), clf__alpha=0.1 -  16.9s[CV]  vec__max_df=0.8, vec__ngram_range=(1, 1), clf__alpha=1.0 -   4.8s\n",
      "\n",
      "\n",
      "[CV] vec__max_df=1.0, vec__ngram_range=(1, 2), clf__alpha=0.1 ........[CV] vec__max_df=0.8, vec__ngram_range=(1, 1), clf__alpha=1.0 ........[CV] vec__max_df=0.8, vec__ngram_range=(1, 2), clf__alpha=1.0 ........\n",
      "\n",
      "\n",
      "[CV]  vec__max_df=1.0, vec__ngram_range=(1, 2), clf__alpha=0.1 -  17.0s[CV]  vec__max_df=0.8, vec__ngram_range=(1, 1), clf__alpha=1.0 -   3.4s[CV]  vec__max_df=0.8, vec__ngram_range=(1, 2), clf__alpha=1.0 -  13.3s\n",
      "\n",
      "\n",
      "[CV] vec__max_df=0.8, vec__ngram_range=(1, 1), clf__alpha=1.0 ........[CV] vec__max_df=0.8, vec__ngram_range=(1, 2), clf__alpha=1.0 ........[CV] vec__max_df=1.0, vec__ngram_range=(1, 1), clf__alpha=1.0 ........\n",
      "\n",
      "\n",
      "[CV]  vec__max_df=0.8, vec__ngram_range=(1, 1), clf__alpha=1.0 -   3.8s"
     ]
    }
   ],
   "source": [
    "from sklearn.grid_search import GridSearchCV\n",
    "\n",
    "parameters = {\n",
    "    'vec__max_df': [0.8, 1.0],\n",
    "    'vec__ngram_range': [(1, 1), (1, 2)],\n",
    "    'clf__alpha': np.logspace(-5, 0, 6)\n",
    "}\n",
    "\n",
    "gs = GridSearchCV(pipeline, parameters, verbose=2, refit=False, n_jobs=3)\n",
    "_ = gs.fit(twenty_train_small.data, twenty_train_small.target)"
   ]
  },
  {
   "cell_type": "code",
   "execution_count": 68,
   "metadata": {
    "collapsed": false,
    "slideshow": {
     "slide_type": "subslide"
    }
   },
   "outputs": [
    {
     "data": {
      "text/plain": [
       "0.96361848574237952"
      ]
     },
     "execution_count": 68,
     "metadata": {},
     "output_type": "execute_result"
    }
   ],
   "source": [
    "gs.best_score_"
   ]
  },
  {
   "cell_type": "code",
   "execution_count": 61,
   "metadata": {
    "collapsed": false,
    "slideshow": {
     "slide_type": "-"
    }
   },
   "outputs": [
    {
     "data": {
      "text/plain": [
       "{'clf__alpha': 0.01, 'vec__max_df': 0.8, 'vec__ngram_range': (1, 2)}"
      ]
     },
     "execution_count": 61,
     "metadata": {},
     "output_type": "execute_result"
    }
   ],
   "source": [
    "gs.best_params_"
   ]
  },
  {
   "cell_type": "markdown",
   "metadata": {
    "slideshow": {
     "slide_type": "slide"
    }
   },
   "source": [
    "## Introspecting Model Performance"
   ]
  },
  {
   "cell_type": "markdown",
   "metadata": {
    "slideshow": {
     "slide_type": "subslide"
    }
   },
   "source": [
    "### Displaying the Most Discriminative Features"
   ]
  },
  {
   "cell_type": "markdown",
   "metadata": {
    "slideshow": {
     "slide_type": "-"
    }
   },
   "source": [
    "Let's fit a model on the small dataset and collect info on the fitted components:"
   ]
  },
  {
   "cell_type": "code",
   "execution_count": 62,
   "metadata": {
    "collapsed": false,
    "slideshow": {
     "slide_type": "-"
    }
   },
   "outputs": [],
   "source": [
    "pipeline = Pipeline((\n",
    "    ('vec', TfidfVectorizer(max_df = 0.8, ngram_range = (1, 2), use_idf=True)),\n",
    "    ('clf', MultinomialNB(alpha = 0.001)),\n",
    "))\n",
    "_ = pipeline.fit(twenty_train_small.data, twenty_train_small.target)"
   ]
  },
  {
   "cell_type": "code",
   "execution_count": 63,
   "metadata": {
    "collapsed": false,
    "slideshow": {
     "slide_type": "fragment"
    }
   },
   "outputs": [
    {
     "data": {
      "text/plain": [
       "(4, 279569)"
      ]
     },
     "execution_count": 63,
     "metadata": {},
     "output_type": "execute_result"
    }
   ],
   "source": [
    "vec_name, vec = pipeline.steps[0]\n",
    "clf_name, clf = pipeline.steps[1]\n",
    "\n",
    "feature_names = vec.get_feature_names()\n",
    "target_names = twenty_train_small.target_names\n",
    "\n",
    "feature_weights = clf.coef_\n",
    "\n",
    "feature_weights.shape"
   ]
  },
  {
   "cell_type": "markdown",
   "metadata": {
    "slideshow": {
     "slide_type": "subslide"
    }
   },
   "source": [
    "By sorting the feature weights on the linear model and asking the vectorizer what their names is, one can get a clue on what the model did actually learn on the data:"
   ]
  },
  {
   "cell_type": "code",
   "execution_count": 64,
   "metadata": {
    "collapsed": false,
    "slideshow": {
     "slide_type": "-"
    }
   },
   "outputs": [
    {
     "name": "stdout",
     "output_type": "stream",
     "text": [
      "Class: alt.atheism\n",
      "\n",
      "is: -6.0027, that: -6.0312, you: -6.2511, it: -6.3314, edu: -6.4635, not: -6.5979, keith: -6.6737, are: -6.7286, god: -6.7621, be: -6.7679, this: -6.8508, have: -6.8571, as: -6.9286, for: -6.9742, com: -6.9941, was: -7.0117, if: -7.0161, what: -7.0188, caltech edu: -7.0239, caltech: -7.0395, but: -7.0456, we: -7.0484, they: -7.0532, or: -7.0633, your: -7.0776, an: -7.0856, he: -7.0863, people: -7.1103, one: -7.1105, do: -7.1638\n",
      "...\n",
      "occultic writings: -15.9805, occurred close: -15.9805, occurred long: -15.9805, ocean of: -15.9805, occurs program: -15.9805, ocean marvin: -15.9805, ocean mariner: -15.9805, ocean in: -15.9805, ocean dynamics: -15.9805, ocean dt: -15.9805, ocean and: -15.9805, ocean aleph: -15.9805, ocean after: -15.9805, ocean: -15.9805, occurs under: -15.9805, occurs this: -15.9805, occurs now: -15.9805, occurred think: -15.9805, occurs may: -15.9805, occurs in: -15.9805, occurs even: -15.9805, occurs during: -15.9805, occurs at: -15.9805, occurs as: -15.9805, occurs after: -15.9805, occurring in: -15.9805, occurring: -15.9805, occurrence in: -15.9805, occurrence based: -15.9805, laboratory nasa: -15.9805\n",
      "\n",
      "Class: comp.graphics\n",
      "\n",
      "for: -6.5232, is: -6.5246, it: -6.5456, graphics: -6.5550, edu: -6.6665, that: -6.9367, you: -6.9517, on: -6.9593, this: -7.0023, have: -7.0823, or: -7.1226, can: -7.1328, any: -7.1529, image: -7.1651, be: -7.1743, university: -7.1775, with: -7.1914, com: -7.2013, files: -7.2251, thanks: -7.2414, if: -7.2704, there: -7.3163, 3d: -7.3234, file: -7.3337, are: -7.3455, but: -7.3655, posting: -7.3922, university of: -7.3987, windows: -7.4041, host: -7.4349\n",
      "...\n",
      "occured: -15.9061, occurred to: -15.9061, occurrence: -15.9061, ocean in: -15.9061, occurs in: -15.9061, ocean dynamics: -15.9061, ocean and: -15.9061, ocean aleph: -15.9061, ocean after: -15.9061, occurs whenever: -15.9061, occurs when: -15.9061, occurs under: -15.9061, occurs or: -15.9061, occurs of: -15.9061, occurs now: -15.9061, occurs may: -15.9061, occurs even: -15.9061, occurrence based: -15.9061, occurs during: -15.9061, occurs at: -15.9061, occurs and: -15.9061, occurs after: -15.9061, occurring in: -15.9061, occurring: -15.9061, occurrences who: -15.9061, occurrences it: -15.9061, occurrences: -15.9061, occurrence of: -15.9061, occurrence in: -15.9061, laboratory nasa: -15.9061\n",
      "\n",
      "Class: sci.space\n",
      "\n",
      "space: -6.2911, is: -6.5869, that: -6.6500, it: -6.6725, edu: -6.7050, nasa: -6.7105, for: -6.8113, on: -6.8681, you: -6.9553, be: -6.9736, was: -7.0381, this: -7.0560, henry: -7.0744, of the: -7.1096, access: -7.1658, gov: -7.1702, com: -7.2087, as: -7.2198, at: -7.2211, alaska: -7.2383, are: -7.2405, they: -7.2748, toronto: -7.2751, would: -7.2767, moon: -7.2871, have: -7.3009, not: -7.3185, nasa gov: -7.3204, digex: -7.3577, access digex: -7.3577\n",
      "...\n",
      "magnificent church: -16.1294, magney cco: -16.1294, magney: -16.1294, unicorns don: -16.1294, magos: -16.1294, magos is: -16.1294, mahood: -16.1294, magu: -16.1294, unicorn if: -16.1294, unicorn nott: -16.1294, mahdi or: -16.1294, mahdi is: -16.1294, mahdi: -16.1294, maharaj sawan: -16.1294, maharaj gurinder: -16.1294, maharaj: -16.1294, mahanta for: -16.1294, mahanta: -16.1294, mahabharata the: -16.1294, mahabharata: -16.1294, magus sang: -16.1294, magus in: -16.1294, magus during: -16.1294, magus: -16.1294, magupati head: -16.1294, magupati: -16.1294, magu rendered: -16.1294, magu has: -16.1294, magu and: -16.1294, ºnd the: -16.1294\n",
      "\n",
      "Class: talk.religion.misc\n",
      "\n",
      "that: -6.1157, is: -6.2229, you: -6.3350, it: -6.6493, not: -6.6993, god: -6.8269, com: -6.8471, he: -6.8576, are: -6.8596, edu: -6.8870, sandvik: -6.8977, of the: -6.9046, as: -6.9459, this: -6.9646, jesus: -6.9714, for: -6.9743, be: -6.9748, they: -7.0126, have: -7.0412, was: -7.0674, with: -7.0833, we: -7.0838, who: -7.0931, what: -7.1481, your: -7.1744, his: -7.2007, christian: -7.2177, on: -7.2337, by: -7.2348, or: -7.2370\n",
      "...\n",
      "nature but: -15.7612, nature bill: -15.7612, nature produces: -15.7612, nature religions: -15.7612, nature second: -15.7612, nature simplicity: -15.7612, naught liberating: -15.7612, naught: -15.7612, nau edu: -15.7612, nau: -15.7612, natuur en: -15.7612, natuur: -15.7612, natures of: -15.7612, natures: -15.7612, natured the: -15.7612, natured: -15.7612, nature you: -15.7612, nature yet: -15.7612, nature yes: -15.7612, nature which: -15.7612, nature very: -15.7612, nature ve: -15.7612, nature v324: -15.7612, nature undecided: -15.7612, nature uncorruptable: -15.7612, nature to: -15.7612, nature thus: -15.7612, nature think: -15.7612, nature the: -15.7612, laboratory nasa: -15.7612\n",
      "\n"
     ]
    }
   ],
   "source": [
    "def display_important_features(feature_names, target_names, weights, n_top=30):\n",
    "    for i, target_name in enumerate(target_names):\n",
    "        print(u\"Class: \" + target_name)\n",
    "        print(u\"\")\n",
    "        \n",
    "        sorted_features_indices = weights[i].argsort()[::-1]\n",
    "        \n",
    "        most_important = sorted_features_indices[:n_top]\n",
    "        print(u\", \".join(u\"{0}: {1:.4f}\".format(feature_names[j], weights[i, j])\n",
    "                        for j in most_important))\n",
    "        print(u\"...\")\n",
    "        \n",
    "        least_important = sorted_features_indices[-n_top:]\n",
    "        print(u\", \".join(u\"{0}: {1:.4f}\".format(feature_names[j], weights[i, j])\n",
    "                        for j in least_important))\n",
    "        print(u\"\")\n",
    "        \n",
    "display_important_features(feature_names, target_names, feature_weights)"
   ]
  },
  {
   "cell_type": "markdown",
   "metadata": {
    "slideshow": {
     "slide_type": "subslide"
    }
   },
   "source": [
    "### Displaying the per-class Classification Reports"
   ]
  },
  {
   "cell_type": "code",
   "execution_count": 65,
   "metadata": {
    "collapsed": false,
    "slideshow": {
     "slide_type": "-"
    }
   },
   "outputs": [],
   "source": [
    "from sklearn.metrics import classification_report\n",
    "\n",
    "predicted = pipeline.predict(twenty_test_small.data)"
   ]
  },
  {
   "cell_type": "code",
   "execution_count": 66,
   "metadata": {
    "collapsed": false,
    "slideshow": {
     "slide_type": "-"
    }
   },
   "outputs": [
    {
     "name": "stdout",
     "output_type": "stream",
     "text": [
      "                    precision    recall  f1-score   support\n",
      "\n",
      "       alt.atheism       0.83      0.88      0.86       319\n",
      "     comp.graphics       0.94      0.95      0.94       389\n",
      "         sci.space       0.94      0.95      0.94       394\n",
      "talk.religion.misc       0.86      0.76      0.81       251\n",
      "\n",
      "       avg / total       0.90      0.90      0.90      1353\n",
      "\n"
     ]
    }
   ],
   "source": [
    "print(classification_report(twenty_test_small.target, predicted,\n",
    "                            target_names=twenty_test_small.target_names))"
   ]
  },
  {
   "cell_type": "markdown",
   "metadata": {
    "slideshow": {
     "slide_type": "subslide"
    }
   },
   "source": [
    "### Printing the Confusion Matrix"
   ]
  },
  {
   "cell_type": "markdown",
   "metadata": {
    "slideshow": {
     "slide_type": "-"
    }
   },
   "source": [
    "The confusion matrix summarize which class where by having a look at off-diagonal entries: here we can see that articles about atheism have been wrongly classified as being about religion 57 times for instance: "
   ]
  },
  {
   "cell_type": "code",
   "execution_count": 67,
   "metadata": {
    "collapsed": false,
    "slideshow": {
     "slide_type": "-"
    }
   },
   "outputs": [
    {
     "data": {
      "text/html": [
       "<div style=\"max-height:1000px;max-width:1500px;overflow:auto;\">\n",
       "<table border=\"1\" class=\"dataframe\">\n",
       "  <thead>\n",
       "    <tr>\n",
       "      <th></th>\n",
       "      <th></th>\n",
       "      <th colspan=\"4\" halign=\"left\">predicted</th>\n",
       "    </tr>\n",
       "    <tr>\n",
       "      <th></th>\n",
       "      <th></th>\n",
       "      <th>alt.atheism</th>\n",
       "      <th>comp.graphics</th>\n",
       "      <th>sci.space</th>\n",
       "      <th>talk.religion.misc</th>\n",
       "    </tr>\n",
       "  </thead>\n",
       "  <tbody>\n",
       "    <tr>\n",
       "      <th rowspan=\"4\" valign=\"top\">actual</th>\n",
       "      <th>alt.atheism</th>\n",
       "      <td> 282</td>\n",
       "      <td>   3</td>\n",
       "      <td>   5</td>\n",
       "      <td>  29</td>\n",
       "    </tr>\n",
       "    <tr>\n",
       "      <th>comp.graphics</th>\n",
       "      <td>   7</td>\n",
       "      <td> 368</td>\n",
       "      <td>  13</td>\n",
       "      <td>   1</td>\n",
       "    </tr>\n",
       "    <tr>\n",
       "      <th>sci.space</th>\n",
       "      <td>   3</td>\n",
       "      <td>  15</td>\n",
       "      <td> 375</td>\n",
       "      <td>   1</td>\n",
       "    </tr>\n",
       "    <tr>\n",
       "      <th>talk.religion.misc</th>\n",
       "      <td>  48</td>\n",
       "      <td>   4</td>\n",
       "      <td>   7</td>\n",
       "      <td> 192</td>\n",
       "    </tr>\n",
       "  </tbody>\n",
       "</table>\n",
       "</div>"
      ],
      "text/plain": [
       "                            predicted                          \\\n",
       "                          alt.atheism comp.graphics sci.space   \n",
       "actual alt.atheism                282             3         5   \n",
       "       comp.graphics                7           368        13   \n",
       "       sci.space                    3            15       375   \n",
       "       talk.religion.misc          48             4         7   \n",
       "\n",
       "                                              \n",
       "                          talk.religion.misc  \n",
       "actual alt.atheism                        29  \n",
       "       comp.graphics                       1  \n",
       "       sci.space                           1  \n",
       "       talk.religion.misc                192  "
      ]
     },
     "execution_count": 67,
     "metadata": {},
     "output_type": "execute_result"
    }
   ],
   "source": [
    "from sklearn.metrics import confusion_matrix\n",
    "\n",
    "pd.DataFrame(confusion_matrix(twenty_test_small.target, predicted), \n",
    "             index = pd.MultiIndex.from_product([['actual'], twenty_test_small.target_names]),\n",
    "             columns = pd.MultiIndex.from_product([['predicted'], twenty_test_small.target_names]))"
   ]
  },
  {
   "cell_type": "markdown",
   "metadata": {},
   "source": [
    "In Pairs\n",
    "=========\n",
    "\n",
    "```bash\n",
    "$ unzip Classification_data -d Classification_data\n",
    "```\n",
    "\n",
    "1. Load the dateset using `load_files` (hint: our `categories` are now `spam`, `easy_ham`, etc.)\n",
    "2. Write a pre-processor callable to remove the message headers.\n",
    "3. Set up a pipeline for cross validation and model selection using `spam` and `easy_ham`.\n",
    "    - Which parameters should be optimized?\n",
    "    - Do you expect the results to be different from the parameters above? Why/why not?\n",
    "    - Are there other parameters we should optimize that we haven't tested?\n",
    "4. Use `GridSearchCV` to find optimal parameters for vectorizor and classifier.\n",
    "5. Run classifier against `hard_ham`. What percentage of `hard_ham` does it correctly identify as not `spam`?\n",
    "6. Display the most discriminative features. Anything stick out?\n",
    "7. Run classifier against `spam_2`, `easy_ham_2`, `hard_ham_2`. \n",
    "    - Plot the ROC curve (along with AUC) for each case. \n",
    "    - Print the confusion matrix"
   ]
  },
  {
   "cell_type": "code",
   "execution_count": 1,
   "metadata": {
    "collapsed": false
   },
   "outputs": [
    {
     "data": {
      "text/plain": [
       "(['easy_ham', 'spam'], ['hard_ham'])"
      ]
     },
     "execution_count": 1,
     "metadata": {},
     "output_type": "execute_result"
    }
   ],
   "source": [
    "from sklearn.datasets import load_files\n",
    "from sklearn.feature_extraction.text import TfidfVectorizer\n",
    "from sklearn.naive_bayes import MultinomialNB\n",
    "\n",
    "# Load the text data\n",
    "# categories = [\n",
    "#     'spam',\n",
    "#     'hard_ham',\n",
    "#     'easy_ham'\n",
    "# ]\n",
    "train = load_files('Classification_data/data0/',\n",
    "    categories=['spam', 'easy_ham'], encoding='latin-1')\n",
    "\n",
    "test = load_files('Classification_data/data0/',\n",
    "    categories=['hard_ham'], encoding='latin-1')\n",
    "\n",
    "train.target_names, test.target_names"
   ]
  },
  {
   "cell_type": "code",
   "execution_count": 117,
   "metadata": {
    "collapsed": false
   },
   "outputs": [
    {
     "name": "stdout",
     "output_type": "stream",
     "text": [
      "From spamassassin-talk-admin@lists.sourceforge.net  Wed Jul 24 17:21:42 2002\n",
      "Return-Path: <spamassassin-talk-admin@example.sourceforge.net>\n",
      "Delivered-To: yyyy@localhost.netnoteinc.com\n",
      "Received: from localhost (localhost [127.0.0.1])\n",
      "\tby phobos.labs.netnoteinc.com (Postfix) with ESMTP id B2C7B440A8\n",
      "\tfor <jm@localhost>; Wed, 24 Jul 2002 12:21:40 -0400 (EDT)\n",
      "Received: from dogma.slashnull.org [212.17.35.15]\n",
      "\tby localhost with IMAP (fetchmail-5.9.0)\n",
      "\tfor jm@localhost (single-drop); Wed, 24 Jul 2002 17:21:40 +0100 (IST)\n",
      "Received: from usw-sf-list2.sourceforge.net (usw-sf-fw2.sourceforge.net\n",
      "    [216.136.171.252]) by dogma.slashnull.org (8.11.6/8.11.6) with ESMTP id\n",
      "    g6OGIB425651 for <jm-sa@jmason.org>; Wed, 24 Jul 2002 17:18:11 +0100\n",
      "Received: from usw-sf-list1-b.sourceforge.net ([10.3.1.13]\n",
      "    helo=usw-sf-list1.sourceforge.net) by usw-sf-list2.sourceforge.net with\n",
      "    esmtp (Exim 3.31-VA-mm2 #1 (Debian)) id 17XOo6-0004Bo-00; Wed,\n",
      "    24 Jul 2002 09:16:10 -0700\n",
      "Received: from anti.cnc.bc.ca ([142.27.70.181] helo=anti) by\n",
      "    usw-sf-list1.sourceforge.net with smtp (Exim 3.31-VA-mm2 #1 (Debian)) id\n",
      "    17XOnX-0003WJ-00 for <spamassassin-talk@lists.sourceforge.net>;\n",
      "    Wed, 24 Jul 2002 09:15:35 -0700\n",
      "Received: FROM cnc.bc.ca BY anti ; Wed Jul 24 09:25:40 2002 -0700\n",
      "Received: from cnc.bc.ca ([142.27.70.153]) by cnc.bc.ca ; Wed,\n",
      "    24 Jul 2002 09:15:33 -0800 gmt\n",
      "Message-Id: <3D3ED2B9.866CC459@cnc.bc.ca>\n",
      "From: Kevin Gagel <gagel@cnc.bc.ca>\n",
      "Reply-To: gagel@cnc.bc.ca\n",
      "Organization: College of New Caledonia\n",
      "X-Mailer: Mozilla 4.79 [en] (Windows NT 5.0; U)\n",
      "X-Accept-Language: en\n",
      "MIME-Version: 1.0\n",
      "To: Theo Van Dinter <felicity@kluge.net>,\n",
      "\t\"spamassassin-talk@lists.sourceforge.net\" <spamassassin-talk@lists.sourceforge.net>\n",
      "Subject: Re: [SAtalk] Spam through - insanefunnies - clairification of X-Spam-Status fi elds?\n",
      "References: <F9102D41F595D311ACA7009027DE2C8404E11AF0@c3po.heurikon.com>\n",
      "    <20020724152341.GE24673@kluge.net>\n",
      "Content-Type: text/plain; charset=us-ascii\n",
      "Content-Transfer-Encoding: 7bit\n",
      "X-Dsmtpfooter: true\n",
      "Sender: spamassassin-talk-admin@example.sourceforge.net\n",
      "Errors-To: spamassassin-talk-admin@example.sourceforge.net\n",
      "X-Beenthere: spamassassin-talk@example.sourceforge.net\n",
      "X-Mailman-Version: 2.0.9-sf.net\n",
      "Precedence: bulk\n",
      "List-Help: <mailto:spamassassin-talk-request@example.sourceforge.net?subject=help>\n",
      "List-Post: <mailto:spamassassin-talk@example.sourceforge.net>\n",
      "List-Subscribe: <https://example.sourceforge.net/lists/listinfo/spamassassin-talk>,\n",
      "    <mailto:spamassassin-talk-request@lists.sourceforge.net?subject=subscribe>\n",
      "List-Id: Talk about SpamAssassin <spamassassin-talk.example.sourceforge.net>\n",
      "List-Unsubscribe: <https://example.sourceforge.net/lists/listinfo/spamassassin-talk>,\n",
      "    <mailto:spamassassin-talk-request@lists.sourceforge.net?subject=unsubscribe>\n",
      "List-Archive: <http://www.geocrawler.com/redir-sf.php3?list=spamassassin-talk>\n",
      "X-Original-Date: Wed, 24 Jul 2002 09:15:53 -0700\n",
      "Date: Wed, 24 Jul 2002 09:15:53 -0700\n",
      "\n",
      "Amis-v or there is another prefs file that SA is using. I had a heck of a time\n",
      "figuring out where to find my site wide file because of my configuration.\n",
      "\n",
      "If your using spamd and you want your users to have some control using\n",
      "user_prefs then check their ~/spamassassin file.\n",
      "If your using spamd and you have a site wide only policy then make sure that\n",
      "spamd is started with the -x option.\n",
      "If you used the -x option then the only place that it should get the rules from\n",
      "would be from the local.cf in the /etc/mail/spamassassin directory. Assuming a\n",
      "default install.\n",
      "\n",
      "Theo Van Dinter wrote:\n",
      "> \n",
      "> On Wed, Jul 24, 2002 at 10:18:28AM -0500, Stewart, John wrote:\n",
      "> > X-Virus-Scanned: by amavisd-new amavisd-new-20020630\n",
      "> > X-Spam-Status: No, hits=6.5 tagged_above=5.1 required=6.9 tests=PLING,\n",
      "> > MONEY_BACK, CLICK_BELOW, POR\n",
      "> > N_14, CLICK_HERE_LINK, FREQ_SPAM_PHRASE\n",
      "> > X-Razor-id: d92173a8dfc60567e55efcf6bf264fd7f7a7369a\n",
      "> >\n",
      "> > Doesn't hits=6.5 mean that it should be tagged as spam? Why the\n",
      "> > X-Spam-Status of no then?\n",
      "> \n",
      "> required is 6.9, it only scored 6.5, so it's not spam according to SA.\n",
      "> \n",
      "> > Why is required=6.9 if I have required_hits at 5 in the local.cf? Where the\n",
      "> > heck does that number come from?\n",
      "> >\n",
      "> > Also, what is tagged_above=? I cannot find any information about it on the\n",
      "> > SpamAssassin site.\n",
      "> \n",
      "> Good questions...  \"tagged_above\" doesn't appear anywhere in SA (at\n",
      "> least according to `find`).  I would guess it's amavis doing some\n",
      "> hacking around.\n",
      "> \n",
      "> --\n",
      "> Randomly Generated Tagline:\n",
      "> D'oh!  English!  Who needs that?  I'm never going to England. Come on,\n",
      ">  let's smoke.\n",
      "> \n",
      ">                 -- Homer Simpson, talking Barney into cutting class\n",
      ">                    The Way We Was\n",
      "> \n",
      "> -------------------------------------------------------\n",
      "> This sf.net email is sponsored by:ThinkGeek\n",
      "> Welcome to geek heaven.\n",
      "> http://thinkgeek.com/sf\n",
      "> _______________________________________________\n",
      "> Spamassassin-talk mailing list\n",
      "> Spamassassin-talk@lists.sourceforge.net\n",
      "> https://lists.sourceforge.net/lists/listinfo/spamassassin-talk\n",
      "\n",
      "-- \n",
      "========================\n",
      "Kevin W. Gagel\n",
      "Network Administrator\n",
      "College of New Caledonia\n",
      "gagel@cnc.bc.ca\n",
      "postmaster@cnc.bc.ca\n",
      "(250)562-2131 loc. 448\n",
      "========================\n",
      "\n",
      "--------------------------------\n",
      "The College of New Caledonia    \n",
      "Visit us at http://www.cnc.bc.ca\n",
      "--------------------------------\n",
      "\n",
      "\n",
      "-------------------------------------------------------\n",
      "This sf.net email is sponsored by:ThinkGeek\n",
      "Welcome to geek heaven.\n",
      "http://thinkgeek.com/sf\n",
      "_______________________________________________\n",
      "Spamassassin-talk mailing list\n",
      "Spamassassin-talk@lists.sourceforge.net\n",
      "https://lists.sourceforge.net/lists/listinfo/spamassassin-talk\n",
      "\n",
      "\n",
      "\n"
     ]
    }
   ],
   "source": [
    "print train.data[0]"
   ]
  },
  {
   "cell_type": "code",
   "execution_count": 2,
   "metadata": {
    "collapsed": false
   },
   "outputs": [],
   "source": [
    "def strip_headers(post):\n",
    "    \"\"\"Find the first blank line and drop the headers to keep the body\"\"\"\n",
    "    if '\\n\\n' in post:\n",
    "        headers, body = post.split('\\n\\n', 1)\n",
    "        return body.lower()\n",
    "    else:\n",
    "        # Unexpected post inner-structure, be conservative\n",
    "        # and keep everything\n",
    "        return post.lower()"
   ]
  },
  {
   "cell_type": "code",
   "execution_count": 118,
   "metadata": {
    "collapsed": false
   },
   "outputs": [
    {
     "name": "stdout",
     "output_type": "stream",
     "text": [
      "amis-v or there is another prefs file that sa is using. i had a heck of a time\n",
      "figuring out where to find my site wide file because of my configuration.\n",
      "\n",
      "if your using spamd and you want your users to have some control using\n",
      "user_prefs then check their ~/spamassassin file.\n",
      "if your using spamd and you have a site wide only policy then make sure that\n",
      "spamd is started with the -x option.\n",
      "if you used the -x option then the only place that it should get the rules from\n",
      "would be from the local.cf in the /etc/mail/spamassassin directory. assuming a\n",
      "default install.\n",
      "\n",
      "theo van dinter wrote:\n",
      "> \n",
      "> on wed, jul 24, 2002 at 10:18:28am -0500, stewart, john wrote:\n",
      "> > x-virus-scanned: by amavisd-new amavisd-new-20020630\n",
      "> > x-spam-status: no, hits=6.5 tagged_above=5.1 required=6.9 tests=pling,\n",
      "> > money_back, click_below, por\n",
      "> > n_14, click_here_link, freq_spam_phrase\n",
      "> > x-razor-id: d92173a8dfc60567e55efcf6bf264fd7f7a7369a\n",
      "> >\n",
      "> > doesn't hits=6.5 mean that it should be tagged as spam? why the\n",
      "> > x-spam-status of no then?\n",
      "> \n",
      "> required is 6.9, it only scored 6.5, so it's not spam according to sa.\n",
      "> \n",
      "> > why is required=6.9 if i have required_hits at 5 in the local.cf? where the\n",
      "> > heck does that number come from?\n",
      "> >\n",
      "> > also, what is tagged_above=? i cannot find any information about it on the\n",
      "> > spamassassin site.\n",
      "> \n",
      "> good questions...  \"tagged_above\" doesn't appear anywhere in sa (at\n",
      "> least according to `find`).  i would guess it's amavis doing some\n",
      "> hacking around.\n",
      "> \n",
      "> --\n",
      "> randomly generated tagline:\n",
      "> d'oh!  english!  who needs that?  i'm never going to england. come on,\n",
      ">  let's smoke.\n",
      "> \n",
      ">                 -- homer simpson, talking barney into cutting class\n",
      ">                    the way we was\n",
      "> \n",
      "> -------------------------------------------------------\n",
      "> this sf.net email is sponsored by:thinkgeek\n",
      "> welcome to geek heaven.\n",
      "> http://thinkgeek.com/sf\n",
      "> _______________________________________________\n",
      "> spamassassin-talk mailing list\n",
      "> spamassassin-talk@lists.sourceforge.net\n",
      "> https://lists.sourceforge.net/lists/listinfo/spamassassin-talk\n",
      "\n",
      "-- \n",
      "========================\n",
      "kevin w. gagel\n",
      "network administrator\n",
      "college of new caledonia\n",
      "gagel@cnc.bc.ca\n",
      "postmaster@cnc.bc.ca\n",
      "(250)562-2131 loc. 448\n",
      "========================\n",
      "\n",
      "--------------------------------\n",
      "the college of new caledonia    \n",
      "visit us at http://www.cnc.bc.ca\n",
      "--------------------------------\n",
      "\n",
      "\n",
      "-------------------------------------------------------\n",
      "this sf.net email is sponsored by:thinkgeek\n",
      "welcome to geek heaven.\n",
      "http://thinkgeek.com/sf\n",
      "_______________________________________________\n",
      "spamassassin-talk mailing list\n",
      "spamassassin-talk@lists.sourceforge.net\n",
      "https://lists.sourceforge.net/lists/listinfo/spamassassin-talk\n",
      "\n",
      "\n",
      "\n"
     ]
    }
   ],
   "source": [
    "print strip_headers(train.data[0])"
   ]
  },
  {
   "cell_type": "code",
   "execution_count": null,
   "metadata": {
    "collapsed": false
   },
   "outputs": [],
   "source": [
    "def strip_html(post):\n",
    "    "
   ]
  },
  {
   "cell_type": "code",
   "execution_count": 3,
   "metadata": {
    "collapsed": false
   },
   "outputs": [],
   "source": [
    "from sklearn.pipeline import Pipeline\n",
    "\n",
    "pipeline = Pipeline((\n",
    "    ('vec', TfidfVectorizer(preprocessor = strip_headers, encoding = 'latin-1')),\n",
    "    ('clf', MultinomialNB()),\n",
    "))"
   ]
  },
  {
   "cell_type": "markdown",
   "metadata": {},
   "source": [
    "Vectorizer: min_df, max_df, stop_words, n_gram_range, \n",
    "MNB: alpha"
   ]
  },
  {
   "cell_type": "code",
   "execution_count": 123,
   "metadata": {
    "collapsed": false
   },
   "outputs": [
    {
     "data": {
      "text/plain": [
       "2799"
      ]
     },
     "execution_count": 123,
     "metadata": {},
     "output_type": "execute_result"
    }
   ],
   "source": [
    "len(train.data)"
   ]
  },
  {
   "cell_type": "code",
   "execution_count": null,
   "metadata": {
    "collapsed": false
   },
   "outputs": [],
   "source": [
    "from sklearn.grid_search import GridSearchCV\n",
    "\n",
    "parameters = {\n",
    "    # 'vec__min_df': np.linspace(1, 9, 5),\n",
    "    'vec__max_df': [0.7, 1.0],\n",
    "    'vec__ngram_range': [(1, 1), (1, 2), (2, 2)],\n",
    "    'clf__alpha': np.insert( np.logspace(-5, 0, 6), 0, 0 )\n",
    "}\n",
    "\n",
    "gs = GridSearchCV(pipeline, parameters, verbose=2, refit=False, n_jobs=3)\n",
    "_ = gs.fit(train.data, train.target)"
   ]
  },
  {
   "cell_type": "code",
   "execution_count": 126,
   "metadata": {
    "collapsed": false
   },
   "outputs": [
    {
     "name": "stdout",
     "output_type": "stream",
     "text": [
      "{'vec__max_df': 0.7, 'vec__ngram_range': (2, 2), 'clf__alpha': 1.0000000000000001e-05}\n",
      "0.994640943194\n"
     ]
    }
   ],
   "source": [
    "print gs.best_params_\n",
    "print gs.best_score_"
   ]
  },
  {
   "cell_type": "code",
   "execution_count": 4,
   "metadata": {
    "collapsed": false
   },
   "outputs": [],
   "source": [
    "pipeline2 = Pipeline((\n",
    "    ('vec', TfidfVectorizer(preprocessor = strip_headers, encoding = 'latin-1', max_df = 0.7, ngram_range = (2, 2))),\n",
    "    ('clf', MultinomialNB(alpha = 0.00001)),\n",
    "))\n",
    "\n",
    "_ = pipeline2.fit(train.data, train.target)\n",
    "preds = pipeline2.predict(test.data)"
   ]
  },
  {
   "cell_type": "code",
   "execution_count": 5,
   "metadata": {
    "collapsed": false
   },
   "outputs": [
    {
     "name": "stdout",
     "output_type": "stream",
     "text": [
      "             precision    recall  f1-score   support\n",
      "\n",
      "   easy_ham       1.00      0.24      0.38       248\n",
      "       spam       0.00      0.00      0.00         0\n",
      "\n",
      "avg / total       1.00      0.24      0.38       248\n",
      "\n"
     ]
    },
    {
     "name": "stderr",
     "output_type": "stream",
     "text": [
      "C:\\Users\\David\\Anaconda\\lib\\site-packages\\sklearn\\metrics\\metrics.py:1773: UndefinedMetricWarning: Recall and F-score are ill-defined and being set to 0.0 in labels with no true samples.\n",
      "  'recall', 'true', average, warn_for)\n"
     ]
    }
   ],
   "source": [
    "from sklearn.metrics import classification_report\n",
    "\n",
    "print(classification_report(test.target, preds,\n",
    "                            target_names=train.target_names))"
   ]
  },
  {
   "cell_type": "code",
   "execution_count": 10,
   "metadata": {
    "collapsed": false
   },
   "outputs": [
    {
     "data": {
      "text/html": [
       "<div style=\"max-height:1000px;max-width:1500px;overflow:auto;\">\n",
       "<table border=\"1\" class=\"dataframe\">\n",
       "  <thead>\n",
       "    <tr>\n",
       "      <th></th>\n",
       "      <th></th>\n",
       "      <th colspan=\"2\" halign=\"left\">predicted</th>\n",
       "    </tr>\n",
       "    <tr>\n",
       "      <th></th>\n",
       "      <th></th>\n",
       "      <th>easy_ham</th>\n",
       "      <th>spam</th>\n",
       "    </tr>\n",
       "  </thead>\n",
       "  <tbody>\n",
       "    <tr>\n",
       "      <th rowspan=\"2\" valign=\"top\">actual</th>\n",
       "      <th>ham</th>\n",
       "      <td> 59</td>\n",
       "      <td> 189</td>\n",
       "    </tr>\n",
       "    <tr>\n",
       "      <th>null</th>\n",
       "      <td>  0</td>\n",
       "      <td>   0</td>\n",
       "    </tr>\n",
       "  </tbody>\n",
       "</table>\n",
       "</div>"
      ],
      "text/plain": [
       "             predicted      \n",
       "              easy_ham  spam\n",
       "actual ham          59   189\n",
       "       null          0     0"
      ]
     },
     "execution_count": 10,
     "metadata": {},
     "output_type": "execute_result"
    }
   ],
   "source": [
    "from sklearn.metrics import confusion_matrix\n",
    "import pandas as pd\n",
    "\n",
    "pd.DataFrame(confusion_matrix(test.target, preds), \n",
    "             index = pd.MultiIndex.from_product([['actual'], ['ham', 'null']]),\n",
    "             columns = pd.MultiIndex.from_product([['predicted'], train.target_names]))"
   ]
  },
  {
   "cell_type": "code",
   "execution_count": 11,
   "metadata": {
    "collapsed": false
   },
   "outputs": [
    {
     "data": {
      "text/plain": [
       "0.23790322580645162"
      ]
     },
     "execution_count": 11,
     "metadata": {},
     "output_type": "execute_result"
    }
   ],
   "source": [
    "59/(59+189.0)"
   ]
  },
  {
   "cell_type": "code",
   "execution_count": 12,
   "metadata": {
    "collapsed": false
   },
   "outputs": [
    {
     "data": {
      "text/plain": [
       "(1L, 319282L)"
      ]
     },
     "execution_count": 12,
     "metadata": {},
     "output_type": "execute_result"
    }
   ],
   "source": [
    "vec_name, vec = pipeline2.steps[0]\n",
    "clf_name, clf = pipeline2.steps[1]\n",
    "\n",
    "feature_names = vec.get_feature_names()\n",
    "target_names = train.target_names\n",
    "\n",
    "feature_weights = clf.coef_\n",
    "\n",
    "feature_weights.shape"
   ]
  },
  {
   "cell_type": "code",
   "execution_count": 13,
   "metadata": {
    "collapsed": false
   },
   "outputs": [
    {
     "name": "stdout",
     "output_type": "stream",
     "text": [
      "Class: easy_ham\n",
      "\n",
      "br br: -5.9316, font face: -5.9325, font font: -6.1052, font size: -6.2234, color 3d: -6.2383, nbsp nbsp: -6.2789, td tr: -6.2998, size 3d: -6.3151, face 3d: -6.3737, width 3d: -6.3960, font color: -6.4436, tr td: -6.4998, arial helvetica: -6.5478, face arial: -6.5879, sans serif: -6.6577, align 3d: -6.6759, http www: -6.6854, helvetica sans: -6.6964, font td: -6.7251, td width: -6.7360, td td: -6.7668, 3d http: -6.7716, 3d arial: -6.8406, align center: -6.8449, tr tr: -6.8539, href http: -6.8639, br font: -6.8785, 3d center: -7.0002, click here: -7.0459, face verdana: -7.0464\n",
      "...\n",
      "du dirigeant: -21.3404, post by: -21.3404, post clue: -21.3404, dtlogin screen: -21.3404, post company: -21.3404, post daily: -21.3404, post description: -21.3404, post em: -21.3404, post etc: -21.3404, dteste et: -21.3404, dtek chalmers: -21.3404, post apocalyptic: -21.3404, post about: -21.3404, du2n9fwsc9jp0pps1 tg9nf06pt5nqd1efui9tp39ut3ratwcd: -21.3404, possibly producing: -21.3404, possibly not: -21.3404, possibly other: -21.3404, possibly posted: -21.3404, dub foundation: -21.3404, duane reade: -21.3404, dual system: -21.3404, possibly replace: -21.3404, du5zbqvzc2ndbqvnqostn9 h1ifmjl: -21.3404, dual port: -21.3404, dual pii350: -21.3404, possibly saturday: -21.3404, dual boot: -21.3404, dual benefit: -21.3404, du9xh0jgwe9zxwjvsod wv8tt10fxi9fp2bp7ppb4pdhz2ls: -21.3404, institutions this: -21.3404\n",
      "\n",
      "Class: spam\n",
      "\n"
     ]
    },
    {
     "ename": "IndexError",
     "evalue": "index 1 is out of bounds for axis 0 with size 1",
     "output_type": "error",
     "traceback": [
      "\u001b[1;31m---------------------------------------------------------------------------\u001b[0m\n\u001b[1;31mIndexError\u001b[0m                                Traceback (most recent call last)",
      "\u001b[1;32m<ipython-input-13-30e7677f0d21>\u001b[0m in \u001b[0;36m<module>\u001b[1;34m()\u001b[0m\n\u001b[0;32m     16\u001b[0m         \u001b[1;32mprint\u001b[0m\u001b[1;33m(\u001b[0m\u001b[1;34mu\"\"\u001b[0m\u001b[1;33m)\u001b[0m\u001b[1;33m\u001b[0m\u001b[0m\n\u001b[0;32m     17\u001b[0m \u001b[1;33m\u001b[0m\u001b[0m\n\u001b[1;32m---> 18\u001b[1;33m \u001b[0mdisplay_important_features\u001b[0m\u001b[1;33m(\u001b[0m\u001b[0mfeature_names\u001b[0m\u001b[1;33m,\u001b[0m \u001b[0mtarget_names\u001b[0m\u001b[1;33m,\u001b[0m \u001b[0mfeature_weights\u001b[0m\u001b[1;33m)\u001b[0m\u001b[1;33m\u001b[0m\u001b[0m\n\u001b[0m",
      "\u001b[1;32m<ipython-input-13-30e7677f0d21>\u001b[0m in \u001b[0;36mdisplay_important_features\u001b[1;34m(feature_names, target_names, weights, n_top)\u001b[0m\n\u001b[0;32m      4\u001b[0m         \u001b[1;32mprint\u001b[0m\u001b[1;33m(\u001b[0m\u001b[1;34mu\"\"\u001b[0m\u001b[1;33m)\u001b[0m\u001b[1;33m\u001b[0m\u001b[0m\n\u001b[0;32m      5\u001b[0m \u001b[1;33m\u001b[0m\u001b[0m\n\u001b[1;32m----> 6\u001b[1;33m         \u001b[0msorted_features_indices\u001b[0m \u001b[1;33m=\u001b[0m \u001b[0mweights\u001b[0m\u001b[1;33m[\u001b[0m\u001b[0mi\u001b[0m\u001b[1;33m]\u001b[0m\u001b[1;33m.\u001b[0m\u001b[0margsort\u001b[0m\u001b[1;33m(\u001b[0m\u001b[1;33m)\u001b[0m\u001b[1;33m[\u001b[0m\u001b[1;33m:\u001b[0m\u001b[1;33m:\u001b[0m\u001b[1;33m-\u001b[0m\u001b[1;36m1\u001b[0m\u001b[1;33m]\u001b[0m\u001b[1;33m\u001b[0m\u001b[0m\n\u001b[0m\u001b[0;32m      7\u001b[0m \u001b[1;33m\u001b[0m\u001b[0m\n\u001b[0;32m      8\u001b[0m         \u001b[0mmost_important\u001b[0m \u001b[1;33m=\u001b[0m \u001b[0msorted_features_indices\u001b[0m\u001b[1;33m[\u001b[0m\u001b[1;33m:\u001b[0m\u001b[0mn_top\u001b[0m\u001b[1;33m]\u001b[0m\u001b[1;33m\u001b[0m\u001b[0m\n",
      "\u001b[1;31mIndexError\u001b[0m: index 1 is out of bounds for axis 0 with size 1"
     ]
    }
   ],
   "source": [
    "def display_important_features(feature_names, target_names, weights, n_top=30):\n",
    "    for i, target_name in enumerate(target_names):\n",
    "        print(u\"Class: \" + target_name)\n",
    "        print(u\"\")\n",
    "        \n",
    "        sorted_features_indices = weights[i].argsort()[::-1]\n",
    "        \n",
    "        most_important = sorted_features_indices[:n_top]\n",
    "        print(u\", \".join(u\"{0}: {1:.4f}\".format(feature_names[j], weights[i, j])\n",
    "                        for j in most_important))\n",
    "        print(u\"...\")\n",
    "        \n",
    "        least_important = sorted_features_indices[-n_top:]\n",
    "        print(u\", \".join(u\"{0}: {1:.4f}\".format(feature_names[j], weights[i, j])\n",
    "                        for j in least_important))\n",
    "        print(u\"\")\n",
    "        \n",
    "display_important_features(feature_names, target_names, feature_weights)"
   ]
  },
  {
   "cell_type": "code",
   "execution_count": 14,
   "metadata": {
    "collapsed": false
   },
   "outputs": [
    {
     "data": {
      "text/plain": [
       "(['easy_ham', 'spam'], ['hard_ham'])"
      ]
     },
     "execution_count": 14,
     "metadata": {},
     "output_type": "execute_result"
    }
   ],
   "source": [
    "\n",
    "train1 = load_files('Classification_data/data1/',\n",
    "    categories=['spam', 'easy_ham'], encoding='latin-1')\n",
    "\n",
    "test1 = load_files('Classification_data/data1/',\n",
    "    categories=['hard_ham'], encoding='latin-1')\n",
    "\n",
    "train1.target_names, test1.target_names"
   ]
  },
  {
   "cell_type": "code",
   "execution_count": 18,
   "metadata": {
    "collapsed": false
   },
   "outputs": [],
   "source": [
    "_ = pipeline2.fit(train1.data, train1.target)\n",
    "preds = pipeline2.predict(test1.data)\n",
    "pred_proba = pipeline2.predict_proba(test1.data)"
   ]
  },
  {
   "cell_type": "code",
   "execution_count": 16,
   "metadata": {
    "collapsed": false
   },
   "outputs": [],
   "source": [
    "def plot_roc_curve(target_test, target_predicted_proba, categories):\n",
    "    from sklearn.metrics import roc_curve\n",
    "    from sklearn.metrics import auc\n",
    "    \n",
    "    for pos_label, category in enumerate(categories):\n",
    "        fpr, tpr, thresholds = roc_curve(target_test, target_predicted_proba[:, pos_label], pos_label)\n",
    "        roc_auc = auc(fpr, tpr)\n",
    "        plt.plot(fpr, tpr, label='{} ROC curve (area = {:.3f})'.format(category, roc_auc))\n",
    "    \n",
    "    plt.plot([0, 1], [0, 1], 'k--')  # random predictions curve\n",
    "    plt.xlim([0.0, 1.0])\n",
    "    plt.ylim([0.0, 1.0])\n",
    "    plt.xlabel('False Positive Rate or (1 - Specifity)')\n",
    "    plt.ylabel('True Positive Rate or (Sensitivity)')\n",
    "    plt.title('Receiver Operating Characteristic')\n",
    "    plt.legend(loc=\"lower right\")"
   ]
  },
  {
   "cell_type": "code",
   "execution_count": 21,
   "metadata": {
    "collapsed": false
   },
   "outputs": [
    {
     "data": {
      "image/png": "[encoded data removed]",
      "text/plain": [
       "<matplotlib.figure.Figure at 0x2000ba20>"
      ]
     },
     "metadata": {},
     "output_type": "display_data"
    }
   ],
   "source": [
    "%matplotlib inline\n",
    "from seaborn import plt\n",
    "\n",
    "plot_roc_curve(preds, pred_proba, ???)"
   ]
  },
  {
   "cell_type": "markdown",
   "metadata": {},
   "source": [
    "On Your Own\n",
    "========\n",
    "\n",
    "1. Read the Naïve Bayes documentation at [scikit-learn.org](http://scikit-learn.org/stable/modules/naive_bayes.html). There are three Naïve Bayes classifiers described. Which of the other two might also be appropriate for this task?\n",
    "2. Explain your choice and apply it to either the spam/ham dataset (if you completed the pair assignment) or the newsgroups dataset (if you didn't).\n",
    "3. Use grid search cross validation to find the best parameters for both the vectorizor and classifier.\n",
    "    - Do different parameters for the vectorizor work better for this classifier?\n",
    "4. Does this classifier do better or worse than the multinomial classifier?\n",
    "5. Advanced: consider the descriptions of the two classifiers in light of which does better for this problem. Can you posit a theory as to why one classifier should do better than the other?"
   ]
  },
  {
   "cell_type": "code",
   "execution_count": null,
   "metadata": {
    "collapsed": false
   },
   "outputs": [],
   "source": []
  }
 ],
 "metadata": {
  "kernelspec": {
   "display_name": "Python 2",
   "language": "python",
   "name": "python2"
  },
  "language_info": {
   "codemirror_mode": {
    "name": "ipython",
    "version": 2
   },
   "file_extension": ".py",
   "mimetype": "text/x-python",
   "name": "python",
   "nbconvert_exporter": "python",
   "pygments_lexer": "ipython2",
   "version": "2.7.7"
  }
 },
 "nbformat": 4,
 "nbformat_minor": 0
}
