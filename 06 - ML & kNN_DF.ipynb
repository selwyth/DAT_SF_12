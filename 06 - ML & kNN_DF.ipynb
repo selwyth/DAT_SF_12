{
 "metadata": {
  "name": "",
  "signature": "sha256:bdd19cfbd94748fe4a42d628862c76988ae3e7ff45bc3f29e332b8c3019d02d5"
 },
 "nbformat": 3,
 "nbformat_minor": 0,
 "worksheets": [
  {
   "cells": [
    {
     "cell_type": "markdown",
     "metadata": {},
     "source": [
      "# good stuff\n",
      "df['species'] = [iris.target_names[x] for x in iris.target]"
     ]
    },
    {
     "cell_type": "markdown",
     "metadata": {},
     "source": [
      "Data Science\n",
      "================================\n",
      "Intro to Machine Learning\n",
      "--------------------------------\n",
      "Alessandro D. Gagliardi"
     ]
    },
    {
     "cell_type": "markdown",
     "metadata": {},
     "source": [
      "------\n",
      "Agenda\n",
      "------\n",
      "\n",
      "1. [Data: Recap](#Data-Recap)\n",
      "2. [Science: What is Machine Learning?](#Science!!!)\n",
      "     1. [Classification](#Classification)\n",
      "        1. [*k-*Nearest Neighbor (*k*NN) Classification](#k-Nearest-Neighbor-Classification)\n",
      "4. Lab\n",
      "5. *Show and Tell*"
     ]
    },
    {
     "cell_type": "markdown",
     "metadata": {},
     "source": [
      "-------------\n",
      "Feedback Loop\n",
      "-------------\n",
      "- Pre-class materials at https://github.com/ga-students/DAT_SF_12/blob/gh-pages/README.md\n",
      "- Feedback will be provided through Github issues.\n",
      "    - (See https://help.github.com/articles/disabling-issues/ in case that's impossible.)\n",
      "- Show and Tell at the end of class"
     ]
    },
    {
     "cell_type": "heading",
     "level": 1,
     "metadata": {},
     "source": [
      "Data Recap"
     ]
    },
    {
     "cell_type": "markdown",
     "metadata": {},
     "source": [
      "1. SQL & Normalization / Structured Data\n",
      "2. APIs & NoSQL / Semi-Structured Data\n",
      "3. Big Data / Unstructured Data\n",
      "    1. IPython.parallel & StarCluster\n",
      "    2. Hadoop & Spark"
     ]
    },
    {
     "cell_type": "markdown",
     "metadata": {},
     "source": [
      "-----\n",
      "Day 1\n",
      "-----\n",
      "\n",
      "### Data Science Workflow:\n",
      "\n",
      "1. Obtain\n",
      "2. Scrub\n",
      "3. Explore\n",
      "4. Model\n",
      "5. Interpret\n",
      "\n",
      "### Relational Databases\n",
      "\n",
      "1. *\"[Every] non-key [attribute] must provide a fact about the key, the whole key, and nothing but the key (so help me Codd).\"*\n",
      "2. Natural vs. Artificial Keys"
     ]
    },
    {
     "cell_type": "markdown",
     "metadata": {},
     "source": [
      "-----\n",
      "Day 2\n",
      "-----\n",
      "\n",
      "- Relational Databases\n",
      "    - Normalization\n",
      "    - Natural vs. Artificial Keys\n",
      "    - Star Schema\n",
      "    - `JOIN`\n",
      "    - `GROUP BY`\n",
      "    - `MAX`\n",
      "- Pandas\n",
      "    - `.head()`\n",
      "    - `.join()`\n",
      "    - `.merge()`\n",
      "    - `.hist()`\n",
      "    - `.plot()`\n",
      "    - `.mean()`\n",
      "    - `.map()`\n",
      "    - `.groupby()`\n",
      "    - `.count()`\n",
      "    - `.resample()`\n",
      "\n",
      "### Munging Data with Pandas\n",
      "\n",
      "* Using Pandas you transformed and plotted Enron's email data"
     ]
    },
    {
     "cell_type": "markdown",
     "metadata": {},
     "source": [
      "-----\n",
      "Day 3\n",
      "-----\n",
      "\n",
      "### (non-relational) Database Management Systems\n",
      "\n",
      "* ACID\n",
      "    - Atomicity\n",
      "    - Consistency\n",
      "    - Isolation\n",
      "    - Durability\n",
      "* CAP\n",
      "    - Consistency\n",
      "    - Availability\n",
      "    - Partition Tolerance\n",
      "* CAP Theorem\n",
      "    - Pick two!\n",
      "\n",
      "<H3>RESTful web API HTTP methods</H3>\n",
      "<TABLE>\n",
      "<TR><TH>Resource</TH><TH>GET</TH><TH>PUT</TH><TH>POST</TH><TH>DELETE</TH></TR>\n",
      "<TR><TH>Collection URI, such as http://example.com/resources</TH><TD><B>List</B> the URIs and perhaps other details of the collection's members.</TD><TD><B>Replace</B> the entire collection with another collection.</TD><TD><B>Create</B> a new entry in the collection. The new entry's URI is assigned automatically and is usually returned by the operation.</TD><TD><B>Delete</B> the entire collection.</TD></TR>\n",
      "<TR><TH>Element URI, such as http://example.com/resources/item17</TH><TD><B>Retrieve</B> a representation of the addressed member of the collection, expressed in an appropriate Internet media type.</TD><TD><B>Replace</B> the addressed member of the collection, or if it doesn't exist, create it.</TD><TD>Not generally used. Treat the addressed member as a collection in its own right and create a new entry in it.</TD><TD><B>Delete</B> the addressed member of the collection.</TD></TR>\n",
      "</TABLE>\n",
      "\n",
      "### Twitter and Mongo\n",
      "\n",
      "* You pulled data from Twitter's API and stored it in Mongo!\n",
      "* You then queried Mongo to discover facts about Twitter data!"
     ]
    },
    {
     "cell_type": "markdown",
     "metadata": {},
     "source": [
      "-----\n",
      "Day 4\n",
      "-----\n",
      "\n",
      "### Big Data\n",
      "\n",
      "* Volume\n",
      "* Velocity\n",
      "* Variety\n",
      "\n",
      "### Amazon Web Services\n",
      "\n",
      "- IAM: Identity and Access Management\n",
      "- S3: Simple Storage Service\n",
      "- EC2: Elastic Cloud Compute\n",
      "- EMR: Elastic MapReduce\n",
      "\n",
      "### IPython.parallel and StarCluster\n",
      "\n",
      "* Bringing data to code\n",
      "* You processed 22GB of data!"
     ]
    },
    {
     "cell_type": "markdown",
     "metadata": {},
     "source": [
      "-----\n",
      "Day 5\n",
      "-----\n",
      "\n",
      "### Map/Reduce\n",
      "\n",
      "* Moving Code to Data\n",
      "* Word Count Example\n",
      "\n",
      "### Hadoop and Spark\n",
      "\n",
      "* You launched your own Spark Cluster and created a SparkSQL environment! \n",
      "\n",
      "This brings us to..."
     ]
    },
    {
     "cell_type": "heading",
     "level": 1,
     "metadata": {},
     "source": [
      "Science!!!"
     ]
    },
    {
     "cell_type": "markdown",
     "metadata": {},
     "source": [
      "but first...any questions?"
     ]
    },
    {
     "cell_type": "markdown",
     "metadata": {},
     "source": [
      "--------\n",
      "Projects\n",
      "--------\n",
      "#### Must include:\n",
      "\n",
      "- README.ml explaining your project in detail\n",
      "- data source and code to access it\n",
      "    * Code\n",
      "        * must be in Github along with at least one visualization\n",
      "    * Data\n",
      "        * If small (<1 MB) put in Github.\n",
      "        * If medium (i.e. [1, 10) MB) put in S3 with instructions on how to retrieve in Github\n",
      "        * If large, put small or medium sample in Github or S3 (your choice)"
     ]
    },
    {
     "cell_type": "heading",
     "level": 1,
     "metadata": {},
     "source": [
      "What is Machine Learning?"
     ]
    },
    {
     "cell_type": "markdown",
     "metadata": {},
     "source": [
      "from [Wikipedia](http://en.wikipedia.org/wiki/Machine_learning):\n",
      "\n",
      "> Machine learning, a branch of artificial intelligence, is about the construction and study of systems that can *learn from data*.\u201d\n",
      "\n",
      "\"The core of machine learning deals with *representation* and *generalization*...\"\n",
      "\n",
      "* *representation* \u2013 extracting structure from data\n",
      "\n",
      "* *generalization* \u2013 making predictions from data"
     ]
    },
    {
     "cell_type": "markdown",
     "metadata": {},
     "source": [
      "# Machine Learning Problems"
     ]
    },
    {
     "cell_type": "markdown",
     "metadata": {},
     "source": [
      "Supervised Learning\n",
      "-----------\n",
      "Process used for making predictions\n",
      "\n",
      "Sample data is already classified\n",
      "\n",
      "Process uses pre-classified information to predict unknown space\n",
      "\n",
      "<img src=\"assets/supervised_learning.png\" width=\"800\" />\n",
      "<p><small>Credit: Andrew Ng, \"Introduction to Machine Learning,\" Stanford</small></p>"
     ]
    },
    {
     "cell_type": "markdown",
     "metadata": {},
     "source": [
      "Unsupervised Learning\n",
      "-----------\n",
      "Process used for providing structure\n",
      "\n",
      "No data was pre \"structured\", attempts to make sense out of independent variables\n",
      "\n",
      "(you're making up, or the algorithm is making up, your dependent variable)\n",
      "\n",
      "<img src=\"assets/unsupervised_learning.png\" width=\"500\" />\n",
      "<p><small>Credit: Thomson Nguyen, \"Introduction to Machine Learning,\" Lookout</small></p>"
     ]
    },
    {
     "cell_type": "markdown",
     "metadata": {},
     "source": [
      "The space where data live is called the _feature space_.  \n",
      "\n",
      "Each point in this space is called a _record_."
     ]
    },
    {
     "cell_type": "markdown",
     "metadata": {},
     "source": [
      "# Fitting it all Together"
     ]
    },
    {
     "cell_type": "markdown",
     "metadata": {},
     "source": [
      "What's the goal?\n",
      "====\n",
      "<img src=\"assets/machine_learning1.png\" width=\"800\" />\n",
      "\n",
      "What data do we have?\n",
      "====\n",
      "<img src=\"assets/machine_learning2.png\" width=\"800\" />\n",
      "\n",
      "How do we determine the right approach?\n",
      "====\n",
      "<img src=\"assets/machine_learning3.png\" width=\"800\" />"
     ]
    },
    {
     "cell_type": "markdown",
     "metadata": {},
     "source": [
      "We will implement solutions using *models* and *algorithms*.  \n",
      "Each will fall into one of these four buckets."
     ]
    },
    {
     "cell_type": "heading",
     "level": 1,
     "metadata": {},
     "source": [
      "Classification"
     ]
    },
    {
     "cell_type": "markdown",
     "metadata": {},
     "source": [
      "<img src=\"assets/machine_learning5.png\" width=\"800\" />"
     ]
    },
    {
     "cell_type": "code",
     "collapsed": false,
     "input": [
      "%matplotlib inline\n",
      "import pandas as pd\n",
      "import numpy as np\n",
      "from seaborn import plt\n",
      "from sklearn.datasets import load_iris\n",
      "\n",
      "iris = load_iris()\n",
      "df = pd.DataFrame(iris.data, columns=iris.feature_names)\n",
      "df['species'] = [iris.target_names[x] for x in iris.target]\n",
      "df.head(10)"
     ],
     "language": "python",
     "metadata": {},
     "outputs": [
      {
       "html": [
        "<div style=\"max-height:1000px;max-width:1500px;overflow:auto;\">\n",
        "<table border=\"1\" class=\"dataframe\">\n",
        "  <thead>\n",
        "    <tr style=\"text-align: right;\">\n",
        "      <th></th>\n",
        "      <th>sepal length (cm)</th>\n",
        "      <th>sepal width (cm)</th>\n",
        "      <th>petal length (cm)</th>\n",
        "      <th>petal width (cm)</th>\n",
        "      <th>species</th>\n",
        "    </tr>\n",
        "  </thead>\n",
        "  <tbody>\n",
        "    <tr>\n",
        "      <th>0</th>\n",
        "      <td> 5.1</td>\n",
        "      <td> 3.5</td>\n",
        "      <td> 1.4</td>\n",
        "      <td> 0.2</td>\n",
        "      <td> setosa</td>\n",
        "    </tr>\n",
        "    <tr>\n",
        "      <th>1</th>\n",
        "      <td> 4.9</td>\n",
        "      <td> 3.0</td>\n",
        "      <td> 1.4</td>\n",
        "      <td> 0.2</td>\n",
        "      <td> setosa</td>\n",
        "    </tr>\n",
        "    <tr>\n",
        "      <th>2</th>\n",
        "      <td> 4.7</td>\n",
        "      <td> 3.2</td>\n",
        "      <td> 1.3</td>\n",
        "      <td> 0.2</td>\n",
        "      <td> setosa</td>\n",
        "    </tr>\n",
        "    <tr>\n",
        "      <th>3</th>\n",
        "      <td> 4.6</td>\n",
        "      <td> 3.1</td>\n",
        "      <td> 1.5</td>\n",
        "      <td> 0.2</td>\n",
        "      <td> setosa</td>\n",
        "    </tr>\n",
        "    <tr>\n",
        "      <th>4</th>\n",
        "      <td> 5.0</td>\n",
        "      <td> 3.6</td>\n",
        "      <td> 1.4</td>\n",
        "      <td> 0.2</td>\n",
        "      <td> setosa</td>\n",
        "    </tr>\n",
        "    <tr>\n",
        "      <th>5</th>\n",
        "      <td> 5.4</td>\n",
        "      <td> 3.9</td>\n",
        "      <td> 1.7</td>\n",
        "      <td> 0.4</td>\n",
        "      <td> setosa</td>\n",
        "    </tr>\n",
        "    <tr>\n",
        "      <th>6</th>\n",
        "      <td> 4.6</td>\n",
        "      <td> 3.4</td>\n",
        "      <td> 1.4</td>\n",
        "      <td> 0.3</td>\n",
        "      <td> setosa</td>\n",
        "    </tr>\n",
        "    <tr>\n",
        "      <th>7</th>\n",
        "      <td> 5.0</td>\n",
        "      <td> 3.4</td>\n",
        "      <td> 1.5</td>\n",
        "      <td> 0.2</td>\n",
        "      <td> setosa</td>\n",
        "    </tr>\n",
        "    <tr>\n",
        "      <th>8</th>\n",
        "      <td> 4.4</td>\n",
        "      <td> 2.9</td>\n",
        "      <td> 1.4</td>\n",
        "      <td> 0.2</td>\n",
        "      <td> setosa</td>\n",
        "    </tr>\n",
        "    <tr>\n",
        "      <th>9</th>\n",
        "      <td> 4.9</td>\n",
        "      <td> 3.1</td>\n",
        "      <td> 1.5</td>\n",
        "      <td> 0.1</td>\n",
        "      <td> setosa</td>\n",
        "    </tr>\n",
        "  </tbody>\n",
        "</table>\n",
        "</div>"
       ],
       "metadata": {},
       "output_type": "pyout",
       "prompt_number": 1,
       "text": [
        "   sepal length (cm)  sepal width (cm)  petal length (cm)  petal width (cm)  \\\n",
        "0                5.1               3.5                1.4               0.2   \n",
        "1                4.9               3.0                1.4               0.2   \n",
        "2                4.7               3.2                1.3               0.2   \n",
        "3                4.6               3.1                1.5               0.2   \n",
        "4                5.0               3.6                1.4               0.2   \n",
        "5                5.4               3.9                1.7               0.4   \n",
        "6                4.6               3.4                1.4               0.3   \n",
        "7                5.0               3.4                1.5               0.2   \n",
        "8                4.4               2.9                1.4               0.2   \n",
        "9                4.9               3.1                1.5               0.1   \n",
        "\n",
        "  species  \n",
        "0  setosa  \n",
        "1  setosa  \n",
        "2  setosa  \n",
        "3  setosa  \n",
        "4  setosa  \n",
        "5  setosa  \n",
        "6  setosa  \n",
        "7  setosa  \n",
        "8  setosa  \n",
        "9  setosa  "
       ]
      }
     ],
     "prompt_number": 1
    },
    {
     "cell_type": "markdown",
     "metadata": {},
     "source": [
      "### Independent Variables:"
     ]
    },
    {
     "cell_type": "code",
     "collapsed": false,
     "input": [
      "print iris.feature_names"
     ],
     "language": "python",
     "metadata": {},
     "outputs": [
      {
       "output_type": "stream",
       "stream": "stdout",
       "text": [
        "['sepal length (cm)', 'sepal width (cm)', 'petal length (cm)', 'petal width (cm)']\n"
       ]
      }
     ],
     "prompt_number": 2
    },
    {
     "cell_type": "markdown",
     "metadata": {},
     "source": [
      "### Class Labels:"
     ]
    },
    {
     "cell_type": "code",
     "collapsed": false,
     "input": [
      "print iris.target_names"
     ],
     "language": "python",
     "metadata": {},
     "outputs": [
      {
       "output_type": "stream",
       "stream": "stdout",
       "text": [
        "['setosa' 'versicolor' 'virginica']\n"
       ]
      }
     ],
     "prompt_number": 3
    },
    {
     "cell_type": "markdown",
     "metadata": {},
     "source": [
      "What does \"supervised\" mean?\n",
      "----\n",
      "We already know the labels we are attempting to classify."
     ]
    },
    {
     "cell_type": "markdown",
     "metadata": {},
     "source": [
      "How does a classification problem work?\n",
      "----\n",
      "Input data, output predicted labels.\n",
      "<img src=\"assets/classification_io.png\" width=\"800\" />\n",
      "\n",
      "What steps does a classification problem require?\n",
      "----\n",
      "1. Split the dataset\n",
      "2. Train the model\n",
      "3. Test the model\n",
      "4. Make predictions with new data\n",
      "\n",
      "### Model of breaking apart data for train, test, and output\n",
      "<img src=\"assets/test_train.png\" width=\"800\" />"
     ]
    },
    {
     "cell_type": "markdown",
     "metadata": {},
     "source": [
      "# Building Effective Classifiers"
     ]
    },
    {
     "cell_type": "markdown",
     "metadata": {},
     "source": [
      "###Goals:  \n",
      "\n",
      "* Determine types of **prediction errors**\n",
      "* Explain why we use **training and test sets**\n",
      "* Explain what **\"overfitting\"** and **\"underfitting\"** mean\n",
      "* Describe the basic process of **n-fold cross validation**\n",
      "\n",
      "Life with errors\n",
      "====\n",
      "aka \"why predictive analytics is hard\"\n",
      "\n",
      "Types of errors we'll run into\n",
      "-----\n",
      "Training error  \n",
      "Generalization error  \n",
      "Out of Sample (new data) error  "
     ]
    },
    {
     "cell_type": "markdown",
     "metadata": {},
     "source": [
      "Training error\n",
      "--------\n",
      "What happens if we had no test data and only used a training set?"
     ]
    },
    {
     "cell_type": "markdown",
     "metadata": {},
     "source": [
      "**Q: Why should we use training & test sets?**\n",
      "\n",
      "> Thought experiment:\n",
      "        \n",
      "Suppose instead, we train our model using the entire dataset.\n",
      "\n",
      "**Q: How low can we push the training error?**\n",
      "    \n",
      "> We can make the model arbitrarily complex (effectively \u201cmemorizing\u201d the entire training set).\n",
      "\n",
      "A: Down to zero! This phenomenon is called overfitting."
     ]
    },
    {
     "cell_type": "markdown",
     "metadata": {},
     "source": [
      "<img src=\"assets/overfitting_fig.png\" />\n",
      "_source: Data Analysis with Open Source Tools, by Philipp K. Janert. O\u2019Reilly Media, 2011_\n",
      "\n",
      "<img src=\"assets/under_overfit.png\" />  \n",
      "_source: [dtreg.com](http://www.dtreg.com)_\n",
      "\n",
      "<img src=\"assets/overfitting_ex.png\" width=\"600\" />  \n",
      "_source: [dtreg.com](http://www.dtreg.com)_"
     ]
    },
    {
     "cell_type": "markdown",
     "metadata": {},
     "source": [
      "#### Q: Why should we use training & test sets?\n",
      "\n",
      "*Thought experiment:  \n",
      "Suppose instead, we train our model using the entire dataset.*\n",
      "\n",
      "*Q: How low can we push the training error?*  \n",
      "\n",
      "* *We can make the model arbitrarily complex (effectively \u201cmemorizing\u201d the entire training set).*\n",
      "*A: Down to zero!*\n",
      "\n",
      "#### A: Training error is not a good estimate of OOS accuracy.\n",
      "\n",
      "Generalization Error\n",
      "-----\n",
      "How well does the model generalize to **unseen** data?\n",
      "\n",
      "Generalization Error\n",
      "----\n",
      "### Try training the model on a subset of the data:  \n",
      "\n",
      "<img src=\"assets/generalization-error-pace-subset1.png\"/>  \n",
      "\n",
      "### Does the error remain the same with different training data?\n",
      "\n",
      "Generalization Error\n",
      "-----  \n",
      "<img src=\"assets/generalization-error-pace-subset2.png\"/>  \n",
      "\n",
      "### NO!\n",
      "\n",
      "Generalization Error\n",
      "------\n",
      "* Generalization error gives a high variance estimate of OOS error\n",
      "* Insufficient training can lead to incorrect model selection\n",
      "\n",
      "Generalization Error\n",
      "------\n",
      "### Something is still missing!\n",
      "\n",
      "#### Q: How can we do better?\n",
      "\n",
      "*Thought experiment:  \n",
      "Different train/test splits will give us different generalization errors.*\n",
      "\n",
      "*Q: What if we did a bunch of these and took the average?*\n",
      "\n",
      "*A: Now you\u2019re talking!*\n",
      "\n",
      "#### A: Cross-validation.\n",
      "\n",
      "Cross Validation\n",
      "-----\n",
      "Assessing a model using different subsets of the data for training and testing\n",
      "\n",
      "#### Examples of Cross Validation\n",
      "\n",
      "* N-fold cross validation\n",
      "* Random sub-sampling validation\n",
      "* Leave-one-out cross validation\n",
      "\n",
      "N-fold cross validation\n",
      "------\n",
      "\n",
      "1. Randomly split the dataset into n equal groups\n",
      "2. Use partition 1 as test set & union of other groups as training \n",
      "3. Find generalization error\n",
      "4. Repeat steps 2-3 using different group as test set at each iteration\n",
      "5. Take average generalization error as estimate of OOS accuracy\n",
      "<img src=\"assets/cross-validation.jpg\" width=\"600\"/>"
     ]
    },
    {
     "cell_type": "heading",
     "level": 1,
     "metadata": {},
     "source": [
      "*k-*Nearest Neighbor Classification"
     ]
    },
    {
     "cell_type": "markdown",
     "metadata": {},
     "source": [
      "### What is KNN Classification?\n",
      "\n",
      "> KNN is an *non-parametric lazy* learning algorithm.\n",
      "\n",
      "#### **non-parametric**: \n",
      "does not make any assumptions on the underlying data distribution.\n",
      "\n",
      "#### **lazy**: \n",
      "does not use the training data points to do any generalization\n",
      "\n",
      "### Parametric vs. Non-parametric\n",
      "\n",
      "Say you have the following dataset:"
     ]
    },
    {
     "cell_type": "code",
     "collapsed": false,
     "input": [
      "d = [0.001, 23.4, 17.3, 26.8, 32.8, 31.3, 34.5, 7352.3]"
     ],
     "language": "python",
     "metadata": {},
     "outputs": [],
     "prompt_number": 4
    },
    {
     "cell_type": "markdown",
     "metadata": {},
     "source": [
      "Because of one outlier (7352.3), standard metrics like `mean` and `sd` become meaningless."
     ]
    },
    {
     "cell_type": "code",
     "collapsed": false,
     "input": [
      "np.mean(d)"
     ],
     "language": "python",
     "metadata": {},
     "outputs": [
      {
       "metadata": {},
       "output_type": "pyout",
       "prompt_number": 5,
       "text": [
        "939.80012500000009"
       ]
      }
     ],
     "prompt_number": 5
    },
    {
     "cell_type": "code",
     "collapsed": false,
     "input": [
      "np.std(d)"
     ],
     "language": "python",
     "metadata": {},
     "outputs": [
      {
       "metadata": {},
       "output_type": "pyout",
       "prompt_number": 6,
       "text": [
        "2423.7195578387591"
       ]
      }
     ],
     "prompt_number": 6
    },
    {
     "cell_type": "markdown",
     "metadata": {},
     "source": [
      "### Non-parametric \n",
      "\n",
      "ignore the actual value and compare only relative position, i.e. the rank.\n",
      "\n",
      "Imagine the following are the distances to eight points:\n",
      "\n",
      "    0.001, 23.4, 17.3, 26.8, 32.8, 31.3, 34.5, 7352.3\n",
      "\n",
      "is treated the same as\n",
      "\n",
      "    1, 3, 2, 4, 6, 5, 7, 8\n",
      "\n",
      "Suppose we want to predict the color of the gray dot.\n",
      "------\n",
      "* Pick value for k\n",
      "* Find colors of k nearest neighbors\n",
      "* Assign most common color to gray dot\n",
      "<img src=\"assets/knn_example.png\" width=\"400\" />\n",
      "\n",
      "Distance\n",
      "====\n",
      "\n",
      "* How we measure distance is very important in KNN.\n",
      "* By default, we use Euclidean distance: $d = \\sqrt{\\sum(x_i - p_i)^2}$\n",
      "* Any problems with this?"
     ]
    },
    {
     "cell_type": "code",
     "collapsed": false,
     "input": [
      "%load_ext rpy2.ipython"
     ],
     "language": "python",
     "metadata": {},
     "outputs": [
      {
       "ename": "ImportError",
       "evalue": "No module named rpy2.ipython",
       "output_type": "pyerr",
       "traceback": [
        "\u001b[1;31m---------------------------------------------------------------------------\u001b[0m\n\u001b[1;31mImportError\u001b[0m                               Traceback (most recent call last)",
        "\u001b[1;32m<ipython-input-2-691c6d73b073>\u001b[0m in \u001b[0;36m<module>\u001b[1;34m()\u001b[0m\n\u001b[1;32m----> 1\u001b[1;33m \u001b[0mget_ipython\u001b[0m\u001b[1;33m(\u001b[0m\u001b[1;33m)\u001b[0m\u001b[1;33m.\u001b[0m\u001b[0mmagic\u001b[0m\u001b[1;33m(\u001b[0m\u001b[1;34mu'load_ext rpy2.ipython'\u001b[0m\u001b[1;33m)\u001b[0m\u001b[1;33m\u001b[0m\u001b[0m\n\u001b[0m",
        "\u001b[1;32mC:\\Users\\David\\Anaconda\\lib\\site-packages\\IPython\\core\\interactiveshell.pyc\u001b[0m in \u001b[0;36mmagic\u001b[1;34m(self, arg_s)\u001b[0m\n\u001b[0;32m   2203\u001b[0m         \u001b[0mmagic_name\u001b[0m\u001b[1;33m,\u001b[0m \u001b[0m_\u001b[0m\u001b[1;33m,\u001b[0m \u001b[0mmagic_arg_s\u001b[0m \u001b[1;33m=\u001b[0m \u001b[0marg_s\u001b[0m\u001b[1;33m.\u001b[0m\u001b[0mpartition\u001b[0m\u001b[1;33m(\u001b[0m\u001b[1;34m' '\u001b[0m\u001b[1;33m)\u001b[0m\u001b[1;33m\u001b[0m\u001b[0m\n\u001b[0;32m   2204\u001b[0m         \u001b[0mmagic_name\u001b[0m \u001b[1;33m=\u001b[0m \u001b[0mmagic_name\u001b[0m\u001b[1;33m.\u001b[0m\u001b[0mlstrip\u001b[0m\u001b[1;33m(\u001b[0m\u001b[0mprefilter\u001b[0m\u001b[1;33m.\u001b[0m\u001b[0mESC_MAGIC\u001b[0m\u001b[1;33m)\u001b[0m\u001b[1;33m\u001b[0m\u001b[0m\n\u001b[1;32m-> 2205\u001b[1;33m         \u001b[1;32mreturn\u001b[0m \u001b[0mself\u001b[0m\u001b[1;33m.\u001b[0m\u001b[0mrun_line_magic\u001b[0m\u001b[1;33m(\u001b[0m\u001b[0mmagic_name\u001b[0m\u001b[1;33m,\u001b[0m \u001b[0mmagic_arg_s\u001b[0m\u001b[1;33m)\u001b[0m\u001b[1;33m\u001b[0m\u001b[0m\n\u001b[0m\u001b[0;32m   2206\u001b[0m \u001b[1;33m\u001b[0m\u001b[0m\n\u001b[0;32m   2207\u001b[0m     \u001b[1;31m#-------------------------------------------------------------------------\u001b[0m\u001b[1;33m\u001b[0m\u001b[1;33m\u001b[0m\u001b[0m\n",
        "\u001b[1;32mC:\\Users\\David\\Anaconda\\lib\\site-packages\\IPython\\core\\interactiveshell.pyc\u001b[0m in \u001b[0;36mrun_line_magic\u001b[1;34m(self, magic_name, line)\u001b[0m\n\u001b[0;32m   2124\u001b[0m                 \u001b[0mkwargs\u001b[0m\u001b[1;33m[\u001b[0m\u001b[1;34m'local_ns'\u001b[0m\u001b[1;33m]\u001b[0m \u001b[1;33m=\u001b[0m \u001b[0msys\u001b[0m\u001b[1;33m.\u001b[0m\u001b[0m_getframe\u001b[0m\u001b[1;33m(\u001b[0m\u001b[0mstack_depth\u001b[0m\u001b[1;33m)\u001b[0m\u001b[1;33m.\u001b[0m\u001b[0mf_locals\u001b[0m\u001b[1;33m\u001b[0m\u001b[0m\n\u001b[0;32m   2125\u001b[0m             \u001b[1;32mwith\u001b[0m \u001b[0mself\u001b[0m\u001b[1;33m.\u001b[0m\u001b[0mbuiltin_trap\u001b[0m\u001b[1;33m:\u001b[0m\u001b[1;33m\u001b[0m\u001b[0m\n\u001b[1;32m-> 2126\u001b[1;33m                 \u001b[0mresult\u001b[0m \u001b[1;33m=\u001b[0m \u001b[0mfn\u001b[0m\u001b[1;33m(\u001b[0m\u001b[1;33m*\u001b[0m\u001b[0margs\u001b[0m\u001b[1;33m,\u001b[0m\u001b[1;33m**\u001b[0m\u001b[0mkwargs\u001b[0m\u001b[1;33m)\u001b[0m\u001b[1;33m\u001b[0m\u001b[0m\n\u001b[0m\u001b[0;32m   2127\u001b[0m             \u001b[1;32mreturn\u001b[0m \u001b[0mresult\u001b[0m\u001b[1;33m\u001b[0m\u001b[0m\n\u001b[0;32m   2128\u001b[0m \u001b[1;33m\u001b[0m\u001b[0m\n",
        "\u001b[1;32mC:\\Users\\David\\Anaconda\\lib\\site-packages\\IPython\\core\\magics\\extension.pyc\u001b[0m in \u001b[0;36mload_ext\u001b[1;34m(self, module_str)\u001b[0m\n",
        "\u001b[1;32mC:\\Users\\David\\Anaconda\\lib\\site-packages\\IPython\\core\\magic.pyc\u001b[0m in \u001b[0;36m<lambda>\u001b[1;34m(f, *a, **k)\u001b[0m\n\u001b[0;32m    191\u001b[0m     \u001b[1;31m# but it's overkill for just that one bit of state.\u001b[0m\u001b[1;33m\u001b[0m\u001b[1;33m\u001b[0m\u001b[0m\n\u001b[0;32m    192\u001b[0m     \u001b[1;32mdef\u001b[0m \u001b[0mmagic_deco\u001b[0m\u001b[1;33m(\u001b[0m\u001b[0marg\u001b[0m\u001b[1;33m)\u001b[0m\u001b[1;33m:\u001b[0m\u001b[1;33m\u001b[0m\u001b[0m\n\u001b[1;32m--> 193\u001b[1;33m         \u001b[0mcall\u001b[0m \u001b[1;33m=\u001b[0m \u001b[1;32mlambda\u001b[0m \u001b[0mf\u001b[0m\u001b[1;33m,\u001b[0m \u001b[1;33m*\u001b[0m\u001b[0ma\u001b[0m\u001b[1;33m,\u001b[0m \u001b[1;33m**\u001b[0m\u001b[0mk\u001b[0m\u001b[1;33m:\u001b[0m \u001b[0mf\u001b[0m\u001b[1;33m(\u001b[0m\u001b[1;33m*\u001b[0m\u001b[0ma\u001b[0m\u001b[1;33m,\u001b[0m \u001b[1;33m**\u001b[0m\u001b[0mk\u001b[0m\u001b[1;33m)\u001b[0m\u001b[1;33m\u001b[0m\u001b[0m\n\u001b[0m\u001b[0;32m    194\u001b[0m \u001b[1;33m\u001b[0m\u001b[0m\n\u001b[0;32m    195\u001b[0m         \u001b[1;32mif\u001b[0m \u001b[0mcallable\u001b[0m\u001b[1;33m(\u001b[0m\u001b[0marg\u001b[0m\u001b[1;33m)\u001b[0m\u001b[1;33m:\u001b[0m\u001b[1;33m\u001b[0m\u001b[0m\n",
        "\u001b[1;32mC:\\Users\\David\\Anaconda\\lib\\site-packages\\IPython\\core\\magics\\extension.pyc\u001b[0m in \u001b[0;36mload_ext\u001b[1;34m(self, module_str)\u001b[0m\n\u001b[0;32m     61\u001b[0m         \u001b[1;32mif\u001b[0m \u001b[1;32mnot\u001b[0m \u001b[0mmodule_str\u001b[0m\u001b[1;33m:\u001b[0m\u001b[1;33m\u001b[0m\u001b[0m\n\u001b[0;32m     62\u001b[0m             \u001b[1;32mraise\u001b[0m \u001b[0mUsageError\u001b[0m\u001b[1;33m(\u001b[0m\u001b[1;34m'Missing module name.'\u001b[0m\u001b[1;33m)\u001b[0m\u001b[1;33m\u001b[0m\u001b[0m\n\u001b[1;32m---> 63\u001b[1;33m         \u001b[0mres\u001b[0m \u001b[1;33m=\u001b[0m \u001b[0mself\u001b[0m\u001b[1;33m.\u001b[0m\u001b[0mshell\u001b[0m\u001b[1;33m.\u001b[0m\u001b[0mextension_manager\u001b[0m\u001b[1;33m.\u001b[0m\u001b[0mload_extension\u001b[0m\u001b[1;33m(\u001b[0m\u001b[0mmodule_str\u001b[0m\u001b[1;33m)\u001b[0m\u001b[1;33m\u001b[0m\u001b[0m\n\u001b[0m\u001b[0;32m     64\u001b[0m \u001b[1;33m\u001b[0m\u001b[0m\n\u001b[0;32m     65\u001b[0m         \u001b[1;32mif\u001b[0m \u001b[0mres\u001b[0m \u001b[1;33m==\u001b[0m \u001b[1;34m'already loaded'\u001b[0m\u001b[1;33m:\u001b[0m\u001b[1;33m\u001b[0m\u001b[0m\n",
        "\u001b[1;32mC:\\Users\\David\\Anaconda\\lib\\site-packages\\IPython\\core\\extensions.pyc\u001b[0m in \u001b[0;36mload_extension\u001b[1;34m(self, module_str)\u001b[0m\n\u001b[0;32m     96\u001b[0m             \u001b[1;32mif\u001b[0m \u001b[0mmodule_str\u001b[0m \u001b[1;32mnot\u001b[0m \u001b[1;32min\u001b[0m \u001b[0msys\u001b[0m\u001b[1;33m.\u001b[0m\u001b[0mmodules\u001b[0m\u001b[1;33m:\u001b[0m\u001b[1;33m\u001b[0m\u001b[0m\n\u001b[0;32m     97\u001b[0m                 \u001b[1;32mwith\u001b[0m \u001b[0mprepended_to_syspath\u001b[0m\u001b[1;33m(\u001b[0m\u001b[0mself\u001b[0m\u001b[1;33m.\u001b[0m\u001b[0mipython_extension_dir\u001b[0m\u001b[1;33m)\u001b[0m\u001b[1;33m:\u001b[0m\u001b[1;33m\u001b[0m\u001b[0m\n\u001b[1;32m---> 98\u001b[1;33m                     \u001b[0m__import__\u001b[0m\u001b[1;33m(\u001b[0m\u001b[0mmodule_str\u001b[0m\u001b[1;33m)\u001b[0m\u001b[1;33m\u001b[0m\u001b[0m\n\u001b[0m\u001b[0;32m     99\u001b[0m             \u001b[0mmod\u001b[0m \u001b[1;33m=\u001b[0m \u001b[0msys\u001b[0m\u001b[1;33m.\u001b[0m\u001b[0mmodules\u001b[0m\u001b[1;33m[\u001b[0m\u001b[0mmodule_str\u001b[0m\u001b[1;33m]\u001b[0m\u001b[1;33m\u001b[0m\u001b[0m\n\u001b[0;32m    100\u001b[0m             \u001b[1;32mif\u001b[0m \u001b[0mself\u001b[0m\u001b[1;33m.\u001b[0m\u001b[0m_call_load_ipython_extension\u001b[0m\u001b[1;33m(\u001b[0m\u001b[0mmod\u001b[0m\u001b[1;33m)\u001b[0m\u001b[1;33m:\u001b[0m\u001b[1;33m\u001b[0m\u001b[0m\n",
        "\u001b[1;31mImportError\u001b[0m: No module named rpy2.ipython"
       ]
      }
     ],
     "prompt_number": 2
    },
    {
     "cell_type": "code",
     "collapsed": false,
     "input": [
      "%%R\n",
      "d <- data.frame(heights=c(5.42, 5.67, 5.75, 4.83), weights=c(120, 150, 110, 90))\n",
      "plot(d, pch=16)\n",
      "text(d$heights, y = d$weights + 2, labels = seq(4))\n",
      "points(x=c(4.9), y=c(101), col=2, pch=16)\n",
      "text(4.9, y = 103, labels = \"?\", col=2)"
     ],
     "language": "python",
     "metadata": {},
     "outputs": [
      {
       "output_type": "stream",
       "stream": "stderr",
       "text": [
        "ERROR: Cell magic `%%R` not found.\n"
       ]
      }
     ],
     "prompt_number": 3
    },
    {
     "cell_type": "markdown",
     "metadata": {},
     "source": [
      "### Which black dot is closest to the red one?"
     ]
    },
    {
     "cell_type": "code",
     "collapsed": false,
     "input": [
      "%%R\n",
      "sqrt((4.9 - d$heights)^2 + (101 - d$weights)^2)"
     ],
     "language": "python",
     "metadata": {},
     "outputs": [
      {
       "metadata": {},
       "output_type": "display_data",
       "text": [
        "[1] 19.00711 49.00605  9.04005 11.00022\n"
       ]
      }
     ],
     "prompt_number": 9
    },
    {
     "cell_type": "markdown",
     "metadata": {},
     "source": [
      "Moral:\n",
      "=====\n",
      "### Scale your data first!\n",
      "\n",
      "$$ x_{scaled} = \\frac{x - \\bar{x}}{\\sigma_x} $$"
     ]
    },
    {
     "cell_type": "code",
     "collapsed": false,
     "input": [
      "%%R\n",
      "d2 <- data.frame(scale(d))\n",
      "sqrt((((4.9 - mean(d$heights)) / sd(d$heights)) - d2$heights)^2 + \n",
      "     (((101 - mean(d$weights)) / sd(d$weights)) - d2$weights)^2)"
     ],
     "language": "python",
     "metadata": {},
     "outputs": [
      {
       "metadata": {},
       "output_type": "display_data",
       "text": [
        "[1] 1.4625924 2.6954840 2.0741460 0.4710603\n"
       ]
      }
     ],
     "prompt_number": 10
    },
    {
     "cell_type": "markdown",
     "metadata": {},
     "source": [
      "...or use a different distance metric (depending on the data)"
     ]
    },
    {
     "cell_type": "markdown",
     "metadata": {},
     "source": [
      "### In general, a distance measure must satisfy certain general conditions:\n",
      "\n",
      "$ d(x,y) \\ge 0$  \n",
      "$ d(x,y) \\Longleftrightarrow x = y $  \n",
      "$ d(x,y) = d(y,x) \\qquad $ (symmetry)  \n",
      "$ d(x,y) + d(y,z) \\ge d(x,z) \\quad $ (triangle inequality)\n",
      "\n",
      "Another useful property is *smoothness*.\n",
      "\n",
      "There are a number of different similarity measures to choose from, and in general the right choice depends on the problem.\n",
      "\n",
      "For data that takes values in $\\mathbb{R}^n$, the typical choice is the Euclidean distance: $d(x,y) = \\sqrt{\\sum(x_i - y_i)^2}$\n",
      "\n",
      "We can express different semantics about our data through the choice of metric."
     ]
    },
    {
     "cell_type": "markdown",
     "metadata": {},
     "source": [
      "Lab\n",
      "========\n",
      "#### [06 - Neighbors Lab](06 - Neighbors Lab.ipynb)"
     ]
    }
   ],
   "metadata": {}
  }
 ]
}