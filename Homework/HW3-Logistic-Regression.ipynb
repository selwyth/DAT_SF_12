{
 "metadata": {
  "name": "",
  "signature": "sha256:eafa702a4997d48bb962572f4de0c96f0a35f1a6ae5c7c7631a5d11801edde12"
 },
 "nbformat": 3,
 "nbformat_minor": 0,
 "worksheets": [
  {
   "cells": [
    {
     "cell_type": "markdown",
     "metadata": {},
     "source": [
      "In this homework, we'll be looking at the infamous Titanic dataset. It's become a canonical example for budding data scientists beginning machine learning and will be a good case study in using logistic regression."
     ]
    },
    {
     "cell_type": "markdown",
     "metadata": {},
     "source": [
      "From the project description on [Kaggle]('http://www.kaggle.com/c/titanic-gettingStarted'):\n",
      "###Kaggle Competition | Titanic Machine Learning from Disaster\n",
      "\n",
      ">The sinking of the RMS Titanic is one of the most infamous shipwrecks in history.  On April 15, 1912, during her maiden voyage, the Titanic sank after colliding with an iceberg, killing 1502 out of 2224 passengers and crew.  This sensational tragedy shocked the international community and led to better safety regulations for ships.\n",
      "\n",
      ">One of the reasons that the shipwreck led to such loss of life was that there were not enough lifeboats for the passengers and crew.  Although there was some element of luck involved in surviving the sinking, some groups of people were more likely to survive than others, such as women, children, and the upper-class.\n",
      "\n",
      ">In this contest, we ask you to complete the analysis of what sorts of people were likely to survive.  In particular, we ask you to apply the tools of machine learning to predict which passengers survived the tragedy.\n",
      "\n",
      ">This Kaggle Getting Started Competition provides an ideal starting place for people who may not have a lot of experience in data science and machine learning.\""
     ]
    },
    {
     "cell_type": "markdown",
     "metadata": {},
     "source": [
      "As with any start of a data science problem make sure you import your libraries!"
     ]
    },
    {
     "cell_type": "code",
     "collapsed": false,
     "input": [
      "import numpy as np\n",
      "import pandas as pd\n",
      "import statsmodels.api as sm\n",
      "import statsmodels.formula.api as smf\n",
      "#import additional libraries here if you need them"
     ],
     "language": "python",
     "metadata": {},
     "outputs": [],
     "prompt_number": 6
    },
    {
     "cell_type": "markdown",
     "metadata": {},
     "source": [
      "Kaggle has conveniently split the data already into a training set and test set. You can find them in the data folder."
     ]
    },
    {
     "cell_type": "code",
     "collapsed": false,
     "input": [
      "#load data here"
     ],
     "language": "python",
     "metadata": {},
     "outputs": [],
     "prompt_number": 7
    },
    {
     "cell_type": "markdown",
     "metadata": {},
     "source": [
      "While you could analyze this data many different ways, we'll focus on using logistic regression. For a recap of what logistic regression is look [here]('http://blog.yhathq.com/posts/logistic-regression-and-python.html')."
     ]
    },
    {
     "cell_type": "markdown",
     "metadata": {},
     "source": [
      "Before creating your model, conduct some exploratory data analysis first. Make a few plots and comment on the results. What interesting patterns do you see?"
     ]
    },
    {
     "cell_type": "code",
     "collapsed": false,
     "input": [
      "#Code for plot goes here"
     ],
     "language": "python",
     "metadata": {},
     "outputs": [],
     "prompt_number": 8
    },
    {
     "cell_type": "markdown",
     "metadata": {},
     "source": [
      "Once you have explored the dataset, begin creating your model. You may want to do several iterations of this experimenting with different combinations of features. "
     ]
    },
    {
     "cell_type": "code",
     "collapsed": false,
     "input": [
      "#Create your model here"
     ],
     "language": "python",
     "metadata": {},
     "outputs": [],
     "prompt_number": 9
    },
    {
     "cell_type": "markdown",
     "metadata": {},
     "source": [
      "#How do I test my results?\n",
      "There are a few ways to evaluate your model. One is by comparing it to the test set and calculating a prediction accuracy. This method would work if you have the outcome variable in your test set. Unfortunately for this dataset, Kaggle has withheld that, probably to prevent overfitting. You could also interpret it further by delving deeper into the summary information the model provides. This could involve looking at confidence intervals and odd ratios for the coefficients. "
     ]
    },
    {
     "cell_type": "code",
     "collapsed": false,
     "input": [
      "#Evaluate results here"
     ],
     "language": "python",
     "metadata": {},
     "outputs": [],
     "prompt_number": 10
    },
    {
     "cell_type": "markdown",
     "metadata": {},
     "source": [
      "(Optional) Another way that you can evaluate, leveraging the fact that this is a Kaggle competition, is to upload your results directly to Kaggle and see how your results stack against all the others who have competed. To submit to Kaggle, you'll have to save the output of your predictions to a CSV file and upload that to the Kaggle Titanic contest page. You'll need a Kaggle account to do this. \n",
      "\n",
      "Go to the Kaggle page [here]('http://www.kaggle.com/c/titanic-gettingStarted').\n",
      "\n",
      "If you do submit on Kaggle, post your Kaggle accuracy on Hipchat and see how you compare to your classmates!\n",
      "\n",
      "*Note that the format for submission for Kaggle competitions is very strict. Make sure you submit it the way they want it.*"
     ]
    },
    {
     "cell_type": "markdown",
     "metadata": {},
     "source": [
      "#Notes:\n",
      "- There is missing data that you may want to remove before you begin running your analysis.\n",
      "- Beware of overfitting! Sometimes a good prediction accuracy with the test set may not necessarily translate to the best result you would get on Kaggle.\n"
     ]
    },
    {
     "cell_type": "code",
     "collapsed": false,
     "input": [],
     "language": "python",
     "metadata": {},
     "outputs": []
    }
   ],
   "metadata": {}
  }
 ]
}